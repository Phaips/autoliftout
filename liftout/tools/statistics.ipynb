{
 "cells": [
  {
   "cell_type": "markdown",
   "metadata": {},
   "source": [
    "### Statistics Development Notebook\n"
   ]
  },
  {
   "cell_type": "code",
   "execution_count": 19,
   "metadata": {},
   "outputs": [
    {
     "name": "stdout",
     "output_type": "stream",
     "text": [
      "The autoreload extension is already loaded. To reload it, use:\n",
      "  %reload_ext autoreload\n"
     ]
    }
   ],
   "source": [
    "%load_ext autoreload\n",
    "%autoreload 2\n",
    "\n",
    "import glob\n",
    "import os\n",
    "from copy import deepcopy\n",
    "\n",
    "\n",
    "import liftout\n",
    "import pandas as pd\n",
    "import plotly.express as px\n",
    "import streamlit as st\n",
    "from autoscript_sdb_microscope_client.structures import AdornedImage\n",
    "from liftout.structures import (AutoLiftoutState, Lamella, Sample,\n",
    "                                load_experiment)\n",
    "from liftout.tools.data import (AutoLiftoutStatistics,\n",
    "                                calculate_statistics_dataframe,\n",
    "                                create_history_dataframe)\n",
    "pd.set_option('display.max_rows', None)\n",
    "EXPERIMENT_PATH = r\"C:\\Users\\Admin\\Github\\autoliftout\\liftout\\log\\dry-run-01-2022-11-09.01-30-41PM\"\n",
    "stats = calculate_statistics_dataframe(EXPERIMENT_PATH)"
   ]
  },
  {
   "cell_type": "code",
   "execution_count": 20,
   "metadata": {},
   "outputs": [
    {
     "data": {
      "text/html": [
       "<div>\n",
       "<style scoped>\n",
       "    .dataframe tbody tr th:only-of-type {\n",
       "        vertical-align: middle;\n",
       "    }\n",
       "\n",
       "    .dataframe tbody tr th {\n",
       "        vertical-align: top;\n",
       "    }\n",
       "\n",
       "    .dataframe thead th {\n",
       "        text-align: right;\n",
       "    }\n",
       "</style>\n",
       "<table border=\"1\" class=\"dataframe\">\n",
       "  <thead>\n",
       "    <tr style=\"text-align: right;\">\n",
       "      <th></th>\n",
       "      <th>feature</th>\n",
       "      <th>lamella</th>\n",
       "      <th>stage</th>\n",
       "      <th>step</th>\n",
       "    </tr>\n",
       "  </thead>\n",
       "  <tbody>\n",
       "    <tr>\n",
       "      <th>0</th>\n",
       "      <td>NeedleTip</td>\n",
       "      <td>01-proper-dingo</td>\n",
       "      <td>Liftout</td>\n",
       "      <td>NEEDLE_EB_DETECTION</td>\n",
       "    </tr>\n",
       "    <tr>\n",
       "      <th>1</th>\n",
       "      <td>LamellaLeftEdge</td>\n",
       "      <td>01-proper-dingo</td>\n",
       "      <td>Liftout</td>\n",
       "      <td>NEEDLE_EB_DETECTION</td>\n",
       "    </tr>\n",
       "    <tr>\n",
       "      <th>2</th>\n",
       "      <td>NeedleTip</td>\n",
       "      <td>01-proper-dingo</td>\n",
       "      <td>Liftout</td>\n",
       "      <td>NEEDLE_EB_DETECTION</td>\n",
       "    </tr>\n",
       "    <tr>\n",
       "      <th>3</th>\n",
       "      <td>LamellaLeftEdge</td>\n",
       "      <td>01-proper-dingo</td>\n",
       "      <td>Liftout</td>\n",
       "      <td>NEEDLE_IB_DETECTION</td>\n",
       "    </tr>\n",
       "    <tr>\n",
       "      <th>4</th>\n",
       "      <td>LamellaLeftEdge</td>\n",
       "      <td>01-proper-dingo</td>\n",
       "      <td>Liftout</td>\n",
       "      <td>NEEDLE_IB_DETECTION</td>\n",
       "    </tr>\n",
       "    <tr>\n",
       "      <th>5</th>\n",
       "      <td>LamellaLeftEdge</td>\n",
       "      <td>01-proper-dingo</td>\n",
       "      <td>Liftout</td>\n",
       "      <td>NEEDLE_IB_DETECTION</td>\n",
       "    </tr>\n",
       "    <tr>\n",
       "      <th>6</th>\n",
       "      <td>LamellaLeftEdge</td>\n",
       "      <td>01-proper-dingo</td>\n",
       "      <td>Liftout</td>\n",
       "      <td>NEEDLE_IB_DETECTION</td>\n",
       "    </tr>\n",
       "    <tr>\n",
       "      <th>7</th>\n",
       "      <td>LamellaRightEdge</td>\n",
       "      <td>01-proper-dingo</td>\n",
       "      <td>Liftout</td>\n",
       "      <td>NEEDLE_SEVER_LAMELLA</td>\n",
       "    </tr>\n",
       "    <tr>\n",
       "      <th>8</th>\n",
       "      <td>LamellaRightEdge</td>\n",
       "      <td>01-proper-dingo</td>\n",
       "      <td>Liftout</td>\n",
       "      <td>NEEDLE_SEVER_LAMELLA</td>\n",
       "    </tr>\n",
       "    <tr>\n",
       "      <th>9</th>\n",
       "      <td>LamellaRightEdge</td>\n",
       "      <td>01-proper-dingo</td>\n",
       "      <td>Landing</td>\n",
       "      <td>LAND_LAMELLA_ON_POST</td>\n",
       "    </tr>\n",
       "    <tr>\n",
       "      <th>10</th>\n",
       "      <td>LamellaRightEdge</td>\n",
       "      <td>01-proper-dingo</td>\n",
       "      <td>Landing</td>\n",
       "      <td>LAND_LAMELLA_WELD_TO_POST</td>\n",
       "    </tr>\n",
       "    <tr>\n",
       "      <th>11</th>\n",
       "      <td>LamellaLeftEdge</td>\n",
       "      <td>01-proper-dingo</td>\n",
       "      <td>Landing</td>\n",
       "      <td>LAND_LAMELLA_CUT_NEEDLE</td>\n",
       "    </tr>\n",
       "  </tbody>\n",
       "</table>\n",
       "</div>"
      ],
      "text/plain": [
       "             feature          lamella    stage                       step\n",
       "0          NeedleTip  01-proper-dingo  Liftout        NEEDLE_EB_DETECTION\n",
       "1    LamellaLeftEdge  01-proper-dingo  Liftout        NEEDLE_EB_DETECTION\n",
       "2          NeedleTip  01-proper-dingo  Liftout        NEEDLE_EB_DETECTION\n",
       "3    LamellaLeftEdge  01-proper-dingo  Liftout        NEEDLE_IB_DETECTION\n",
       "4    LamellaLeftEdge  01-proper-dingo  Liftout        NEEDLE_IB_DETECTION\n",
       "5    LamellaLeftEdge  01-proper-dingo  Liftout        NEEDLE_IB_DETECTION\n",
       "6    LamellaLeftEdge  01-proper-dingo  Liftout        NEEDLE_IB_DETECTION\n",
       "7   LamellaRightEdge  01-proper-dingo  Liftout       NEEDLE_SEVER_LAMELLA\n",
       "8   LamellaRightEdge  01-proper-dingo  Liftout       NEEDLE_SEVER_LAMELLA\n",
       "9   LamellaRightEdge  01-proper-dingo  Landing       LAND_LAMELLA_ON_POST\n",
       "10  LamellaRightEdge  01-proper-dingo  Landing  LAND_LAMELLA_WELD_TO_POST\n",
       "11   LamellaLeftEdge  01-proper-dingo  Landing    LAND_LAMELLA_CUT_NEEDLE"
      ]
     },
     "metadata": {},
     "output_type": "display_data"
    }
   ],
   "source": [
    "display(stats.ml)"
   ]
  },
  {
   "cell_type": "code",
   "execution_count": null,
   "metadata": {},
   "outputs": [],
   "source": []
  }
 ],
 "metadata": {
  "kernelspec": {
   "display_name": "Python 3.9.12 ('liftout')",
   "language": "python",
   "name": "python3"
  },
  "language_info": {
   "codemirror_mode": {
    "name": "ipython",
    "version": 3
   },
   "file_extension": ".py",
   "mimetype": "text/x-python",
   "name": "python",
   "nbconvert_exporter": "python",
   "pygments_lexer": "ipython3",
   "version": "3.9.12"
  },
  "orig_nbformat": 4,
  "vscode": {
   "interpreter": {
    "hash": "5cb17a689ea48522a268bdcd61b0f399058cec9c1acbad013779623d1fd2c02a"
   }
  }
 },
 "nbformat": 4,
 "nbformat_minor": 2
}
