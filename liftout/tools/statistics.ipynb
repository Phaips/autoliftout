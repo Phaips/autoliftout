{
 "cells": [
  {
   "cell_type": "markdown",
   "metadata": {},
   "source": [
    "### Statistics Development Notebook\n"
   ]
  },
  {
   "cell_type": "code",
   "execution_count": null,
   "metadata": {},
   "outputs": [],
   "source": [
    "%load_ext autoreload\n",
    "%autoreload 2\n",
    "\n",
    "import glob\n",
    "import os\n",
    "from copy import deepcopy\n",
    "\n",
    "\n",
    "import liftout\n",
    "import pandas as pd\n",
    "import plotly.express as px\n",
    "import streamlit as st\n",
    "from autoscript_sdb_microscope_client.structures import AdornedImage\n",
    "from liftout.structures import (AutoLiftoutState, Lamella, Sample,\n",
    "                                load_experiment)\n",
    "from liftout.tools.data import (AutoLiftoutStatistics,\n",
    "                                calculate_statistics_dataframe,\n",
    "                                create_history_dataframe)\n",
    "pd.set_option('display.max_rows', None)\n",
    "# EXPERIMENT_PATH = r\"C:\\Users\\Admin\\Github\\autoliftout\\liftout\\log\\dry-run-01-2022-11-09.01-30-41PM\"\n",
    "# stats = calculate_statistics_dataframe(EXPERIMENT_PATH)"
   ]
  },
  {
   "cell_type": "markdown",
   "metadata": {},
   "source": [
    "#### Aggregated Statistics"
   ]
  },
  {
   "cell_type": "code",
   "execution_count": null,
   "metadata": {},
   "outputs": [],
   "source": [
    "EXPERIMENT_PATHS = [\n",
    "    r\"C:\\Users\\Admin\\Github\\autoliftout\\liftout\\log\\Dm-E11-3Nov22-2022-11-14.01-20-47PM\", \n",
    "    r\"C:\\Users\\Admin\\Github\\autoliftout\\liftout\\log\\Dm_E11_3Nov2022_-2022-11-15.11-50-17AM\",\n",
    "    r\"C:\\Users\\Admin\\Github\\autoliftout\\liftout\\log\\dm-E11-Nov03-2022-11-17.10-16-36AM\"\n",
    "\n",
    "    ]\n",
    "\n",
    "# TODO: add experiment name / date to each dataframe? \n",
    "# add date to sample...\n",
    "\n",
    "df_clicks = None\n",
    "\n",
    "for path in EXPERIMENT_PATHS:\n",
    "    \n",
    "    stats = calculate_statistics_dataframe(path)\n",
    "    print(stats.name)\n",
    "    # display(stats.sample)\n",
    "    # display(stats.ml)\n",
    "\n",
    "    # concat stats.clicks in a single dataframe  \n",
    "    if df_clicks is None:\n",
    "        df_clicks = stats.click\n",
    "    else:\n",
    "        df_clicks = pd.concat([df_clicks, stats.click])\n",
    "\n",
    "\n",
    "display(df_clicks)"
   ]
  },
  {
   "cell_type": "code",
   "execution_count": null,
   "metadata": {},
   "outputs": [],
   "source": []
  }
 ],
 "metadata": {
  "kernelspec": {
   "display_name": "Python 3.9.12 ('liftout')",
   "language": "python",
   "name": "python3"
  },
  "language_info": {
   "codemirror_mode": {
    "name": "ipython",
    "version": 3
   },
   "file_extension": ".py",
   "mimetype": "text/x-python",
   "name": "python",
   "nbconvert_exporter": "python",
   "pygments_lexer": "ipython3",
   "version": "3.9.12"
  },
  "orig_nbformat": 4,
  "vscode": {
   "interpreter": {
    "hash": "5cb17a689ea48522a268bdcd61b0f399058cec9c1acbad013779623d1fd2c02a"
   }
  }
 },
 "nbformat": 4,
 "nbformat_minor": 2
}
