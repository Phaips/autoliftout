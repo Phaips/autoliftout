{
 "cells": [
  {
   "cell_type": "markdown",
   "metadata": {},
   "source": [
    "### Statistics Development Notebook\n"
   ]
  },
  {
   "cell_type": "code",
   "execution_count": 1,
   "metadata": {},
   "outputs": [],
   "source": [
    "%load_ext autoreload\n",
    "%autoreload 2\n",
    "\n",
    "import glob\n",
    "import os\n",
    "from copy import deepcopy\n",
    "\n",
    "\n",
    "import liftout\n",
    "import pandas as pd\n",
    "import plotly.express as px\n",
    "import streamlit as st\n",
    "from autoscript_sdb_microscope_client.structures import AdornedImage\n",
    "from liftout.structures import (AutoLiftoutState, Lamella, Sample,\n",
    "                                load_experiment)\n",
    "from liftout.tools.data import (AutoLiftoutStatistics,\n",
    "                                calculate_statistics_dataframe,\n",
    "                                create_history_dataframe)\n",
    "pd.set_option('display.max_rows', None)\n",
    "# EXPERIMENT_PATH = r\"C:\\Users\\Admin\\Github\\autoliftout\\liftout\\log\\dry-run-01-2022-11-09.01-30-41PM\"\n",
    "# stats = calculate_statistics_dataframe(EXPERIMENT_PATH)\n",
    "\n",
    "\n",
    "from liftout.config import config\n",
    "\n",
    "stats_path = os.path.join(config.LOG_DATA_PATH, \"stats\")\n",
    "\n",
    "os.makedirs(stats_path, exist_ok=True)\n"
   ]
  },
  {
   "cell_type": "markdown",
   "metadata": {},
   "source": [
    "#### Aggregated Statistics"
   ]
  },
  {
   "cell_type": "code",
   "execution_count": 13,
   "metadata": {},
   "outputs": [
    {
     "name": "stdout",
     "output_type": "stream",
     "text": [
      "['C:\\\\Users\\\\Admin\\\\Github\\\\autoliftout\\\\liftout\\\\log\\\\dm-E10-04-16Nov22-2022-12-02.10-28-08AM',\n",
      " 'C:\\\\Users\\\\Admin\\\\Github\\\\autoliftout\\\\liftout\\\\log\\\\dm-E10-16Nov22-2022-12-01.10-25-29AM',\n",
      " 'C:\\\\Users\\\\Admin\\\\Github\\\\autoliftout\\\\liftout\\\\log\\\\dm-E10-16Nov22-2022-12-06.11-07-08AM',\n",
      " 'C:\\\\Users\\\\Admin\\\\Github\\\\autoliftout\\\\liftout\\\\log\\\\dm-E10-2022-11-29.11-53-16AM',\n",
      " 'C:\\\\Users\\\\Admin\\\\Github\\\\autoliftout\\\\liftout\\\\log\\\\dm-E10-2022-11-30.10-29-04AM',\n",
      " 'C:\\\\Users\\\\Admin\\\\Github\\\\autoliftout\\\\liftout\\\\log\\\\Dm-E11-3Nov22-2022-11-14.01-20-47PM',\n",
      " 'C:\\\\Users\\\\Admin\\\\Github\\\\autoliftout\\\\liftout\\\\log\\\\dm-E11-Nov03-2022-11-17.10-16-36AM',\n",
      " 'C:\\\\Users\\\\Admin\\\\Github\\\\autoliftout\\\\liftout\\\\log\\\\dm-E11-Nov03-2022-11-22.10-17-06AM',\n",
      " 'C:\\\\Users\\\\Admin\\\\Github\\\\autoliftout\\\\liftout\\\\log\\\\dm-E2-01-16Nov22-2022-12-08.10-44-14AM',\n",
      " 'C:\\\\Users\\\\Admin\\\\Github\\\\autoliftout\\\\liftout\\\\log\\\\dm-E2-21Oct22-01-2022-12-09.10-51-59AM',\n",
      " 'C:\\\\Users\\\\Admin\\\\Github\\\\autoliftout\\\\liftout\\\\log\\\\dm-E2-21Oct22-03-2022-12-13.11-29-39AM',\n",
      " 'C:\\\\Users\\\\Admin\\\\Github\\\\autoliftout\\\\liftout\\\\log\\\\dm-E2_21Oct2022-2022-12-12.10-51-07AM']\n"
     ]
    }
   ],
   "source": [
    "# get all the directories starting with dm-E\n",
    "EXPERIMENT_PATH = r\"C:\\Users\\Admin\\Github\\autoliftout\\liftout\\log\"\n",
    "experiment_paths1 = glob.glob(os.path.join(EXPERIMENT_PATH, \"dm-E1*\"))\n",
    "experiment_paths2 = glob.glob(os.path.join(EXPERIMENT_PATH, \"dm-E2*\"))\n",
    "\n",
    "from pprint import pprint\n",
    "\n",
    "experiment_paths =  experiment_paths1 + experiment_paths2\n",
    "\n",
    "pprint(experiment_paths)"
   ]
  },
  {
   "cell_type": "code",
   "execution_count": 27,
   "metadata": {},
   "outputs": [
    {
     "name": "stdout",
     "output_type": "stream",
     "text": [
      "--------------------------------------------------------------------------------\n",
      "dm-E10-04-16Nov22-2022-12-02.10-28-08AM 2022-12-02 10:28:08\n",
      "--------------------------------------------------------------------------------\n",
      "dm-E10-16Nov22-2022-12-01.10-25-29AM 2022-12-01 10:25:29\n",
      "--------------------------------------------------------------------------------\n",
      "dm-E10-16Nov22-2022-12-06.11-07-08AM 2022-12-06 11:07:08\n",
      "--------------------------------------------------------------------------------\n",
      "dm-E10-2022-11-29.11-53-16AM 2022-11-29 11:53:16\n",
      "--------------------------------------------------------------------------------\n",
      "dm-E10-2022-11-30.10-29-04AM 2022-11-30 10:29:04\n",
      "--------------------------------------------------------------------------------\n",
      "Dm-E11-3Nov22-2022-11-14.01-20-47PM 2022-11-14 13:20:47\n",
      "--------------------------------------------------------------------------------\n",
      "dm-E11-Nov03-2022-11-17.10-16-36AM 2022-11-17 10:16:36\n",
      "--------------------------------------------------------------------------------\n",
      "dm-E11-Nov03-2022-11-22.10-17-06AM 2022-11-22 10:17:06\n",
      "--------------------------------------------------------------------------------\n",
      "dm-E2-21Oct22-01-2022-12-09.10-51-59AM 2022-12-09 10:51:59\n",
      "--------------------------------------------------------------------------------\n",
      "dm-E2-21Oct22-03-2022-12-13.11-29-39AM 2022-12-13 11:29:39\n",
      "--------------------------------------------------------------------------------\n",
      "E2_21Oct2022-2022-12-12.10-51-07AM 2022-12-12 10:51:07\n"
     ]
    }
   ],
   "source": [
    "# EXPERIMENT_PATHS = [\n",
    "#     r\"C:\\Users\\Admin\\Github\\autoliftout\\liftout\\log\\Dm-E11-3Nov22-2022-11-14.01-20-47PM\", \n",
    "#     r\"C:\\Users\\Admin\\Github\\autoliftout\\liftout\\log\\Dm_E11_3Nov2022_-2022-11-15.11-50-17AM\",\n",
    "#     r\"C:\\Users\\Admin\\Github\\autoliftout\\liftout\\log\\dm-E11-Nov03-2022-11-17.10-16-36AM\"\n",
    "\n",
    "#     ]\n",
    "\n",
    "# TODO: add experiment name / date to each dataframe? \n",
    "# add date to sample...\n",
    "\n",
    "df_ml, df_gamma, df_history, df_sample, df_clicks = None, None, None, None, None\n",
    "\n",
    "for path in experiment_paths:\n",
    "    \n",
    "    if \"dm-E2-01\" in path:\n",
    "        continue\n",
    "\n",
    "    stats = calculate_statistics_dataframe(path)\n",
    "    print(stats.name, stats.date)\n",
    "    # display(stats.sample)\n",
    "    # display(stats.ml)\n",
    "\n",
    "    # concat stats.clicks in a single dataframe  \n",
    "    if df_clicks is None:\n",
    "        df_clicks = stats.click\n",
    "    else:\n",
    "        df_clicks = pd.concat([df_clicks, stats.click])\n",
    "\n",
    "    # concat stats.ml in a single dataframe  \n",
    "    if df_ml is None:\n",
    "        df_ml = stats.ml\n",
    "    else:\n",
    "        df_ml = pd.concat([df_ml, stats.ml])\n",
    "\n",
    "    # concat stats.gamma in a single dataframe\n",
    "    if df_gamma is None:\n",
    "        df_gamma = stats.gamma\n",
    "    else:\n",
    "        df_gamma = pd.concat([df_gamma, stats.gamma])\n",
    "\n",
    "\n",
    "    # concat stats.history in a single dataframe\n",
    "    if df_history is None:\n",
    "        df_history = stats.history\n",
    "    else:\n",
    "        df_history = pd.concat([df_history, stats.history])\n",
    "\n",
    "    # concat stats.sample in a single dataframe\n",
    "    if df_sample is None:\n",
    "        df_sample = stats.sample\n",
    "    else:\n",
    "        df_sample = pd.concat([df_sample, stats.sample])\n",
    "        \n",
    "        "
   ]
  },
  {
   "cell_type": "code",
   "execution_count": 28,
   "metadata": {},
   "outputs": [
    {
     "data": {
      "application/vnd.plotly.v1+json": {
       "config": {
        "plotlyServerURL": "https://plot.ly"
       },
       "data": [
        {
         "hovertemplate": "stage=Landing<br>date=%{x}<br>clicks/stages=%{y}<extra></extra>",
         "legendgroup": "Landing",
         "line": {
          "color": "#636efa",
          "dash": "solid"
         },
         "marker": {
          "symbol": "circle"
         },
         "mode": "lines",
         "name": "Landing",
         "orientation": "v",
         "showlegend": true,
         "type": "scatter",
         "x": [
          "14-11-2022",
          "17-11-2022",
          "22-11-2022",
          "29-11-2022",
          "30-11-2022",
          "01-12-2022",
          "02-12-2022",
          "06-12-2022",
          "09-12-2022",
          "12-12-2022",
          "13-12-2022"
         ],
         "xaxis": "x",
         "y": [
          8,
          4,
          16,
          11.333333333333334,
          5.25,
          6.75,
          8.75,
          5.666666666666667,
          0,
          15,
          1
         ],
         "yaxis": "y"
        },
        {
         "hovertemplate": "stage=Liftout<br>date=%{x}<br>clicks/stages=%{y}<extra></extra>",
         "legendgroup": "Liftout",
         "line": {
          "color": "#EF553B",
          "dash": "solid"
         },
         "marker": {
          "symbol": "circle"
         },
         "mode": "lines",
         "name": "Liftout",
         "orientation": "v",
         "showlegend": true,
         "type": "scatter",
         "x": [
          "14-11-2022",
          "17-11-2022",
          "22-11-2022",
          "29-11-2022",
          "30-11-2022",
          "01-12-2022",
          "02-12-2022",
          "06-12-2022",
          "09-12-2022",
          "12-12-2022",
          "13-12-2022"
         ],
         "xaxis": "x",
         "y": [
          4,
          3.2,
          5,
          7.4,
          4,
          6,
          4,
          1.75,
          3,
          2.3333333333333335,
          1.75
         ],
         "yaxis": "y"
        },
        {
         "hovertemplate": "stage=MillJCut<br>date=%{x}<br>clicks/stages=%{y}<extra></extra>",
         "legendgroup": "MillJCut",
         "line": {
          "color": "#00cc96",
          "dash": "solid"
         },
         "marker": {
          "symbol": "circle"
         },
         "mode": "lines",
         "name": "MillJCut",
         "orientation": "v",
         "showlegend": true,
         "type": "scatter",
         "x": [
          "14-11-2022",
          "17-11-2022",
          "22-11-2022",
          "29-11-2022",
          "30-11-2022",
          "01-12-2022",
          "02-12-2022",
          "06-12-2022",
          "09-12-2022",
          "12-12-2022",
          "13-12-2022"
         ],
         "xaxis": "x",
         "y": [
          8,
          5,
          5.166666666666667,
          4.6,
          2,
          3,
          6,
          2.25,
          3,
          6,
          2.5
         ],
         "yaxis": "y"
        },
        {
         "hovertemplate": "stage=MillTrench<br>date=%{x}<br>clicks/stages=%{y}<extra></extra>",
         "legendgroup": "MillTrench",
         "line": {
          "color": "#ab63fa",
          "dash": "solid"
         },
         "marker": {
          "symbol": "circle"
         },
         "mode": "lines",
         "name": "MillTrench",
         "orientation": "v",
         "showlegend": true,
         "type": "scatter",
         "x": [
          "14-11-2022",
          "17-11-2022",
          "22-11-2022",
          "29-11-2022",
          "30-11-2022",
          "01-12-2022",
          "02-12-2022",
          "06-12-2022",
          "09-12-2022",
          "12-12-2022",
          "13-12-2022"
         ],
         "xaxis": "x",
         "y": [
          7.25,
          0,
          1.3333333333333333,
          1.2,
          2,
          3.6,
          3,
          2.25,
          1.3333333333333333,
          2.6,
          1.25
         ],
         "yaxis": "y"
        },
        {
         "hovertemplate": "stage=Polishing<br>date=%{x}<br>clicks/stages=%{y}<extra></extra>",
         "legendgroup": "Polishing",
         "line": {
          "color": "#FFA15A",
          "dash": "solid"
         },
         "marker": {
          "symbol": "circle"
         },
         "mode": "lines",
         "name": "Polishing",
         "orientation": "v",
         "showlegend": true,
         "type": "scatter",
         "x": [
          "14-11-2022",
          "17-11-2022",
          "22-11-2022",
          "29-11-2022",
          "30-11-2022",
          "01-12-2022",
          "02-12-2022",
          "06-12-2022",
          "09-12-2022",
          "12-12-2022",
          "13-12-2022"
         ],
         "xaxis": "x",
         "y": [
          5,
          2,
          4,
          3.3333333333333335,
          4.25,
          4,
          3.6666666666666665,
          3.3333333333333335,
          0,
          1,
          4.5
         ],
         "yaxis": "y"
        },
        {
         "hovertemplate": "stage=SetupPolish<br>date=%{x}<br>clicks/stages=%{y}<extra></extra>",
         "legendgroup": "SetupPolish",
         "line": {
          "color": "#19d3f3",
          "dash": "solid"
         },
         "marker": {
          "symbol": "circle"
         },
         "mode": "lines",
         "name": "SetupPolish",
         "orientation": "v",
         "showlegend": true,
         "type": "scatter",
         "x": [
          "14-11-2022",
          "17-11-2022",
          "22-11-2022",
          "29-11-2022",
          "30-11-2022",
          "01-12-2022",
          "02-12-2022",
          "06-12-2022",
          "09-12-2022",
          "12-12-2022",
          "13-12-2022"
         ],
         "xaxis": "x",
         "y": [
          0,
          0,
          0,
          4,
          3.25,
          2.75,
          2.6666666666666665,
          3,
          0,
          6,
          7
         ],
         "yaxis": "y"
        },
        {
         "hovertemplate": "stage=Thinning<br>date=%{x}<br>clicks/stages=%{y}<extra></extra>",
         "legendgroup": "Thinning",
         "line": {
          "color": "#FF6692",
          "dash": "solid"
         },
         "marker": {
          "symbol": "circle"
         },
         "mode": "lines",
         "name": "Thinning",
         "orientation": "v",
         "showlegend": true,
         "type": "scatter",
         "x": [
          "14-11-2022",
          "17-11-2022",
          "22-11-2022",
          "29-11-2022",
          "30-11-2022",
          "01-12-2022",
          "02-12-2022",
          "06-12-2022",
          "09-12-2022",
          "12-12-2022",
          "13-12-2022"
         ],
         "xaxis": "x",
         "y": [
          7.5,
          18,
          0,
          6.666666666666667,
          5,
          2.5,
          5,
          3,
          0,
          1.5,
          1
         ],
         "yaxis": "y"
        }
       ],
       "layout": {
        "legend": {
         "title": {
          "text": "stage"
         },
         "tracegroupgap": 0
        },
        "margin": {
         "t": 60
        },
        "template": {
         "data": {
          "bar": [
           {
            "error_x": {
             "color": "#2a3f5f"
            },
            "error_y": {
             "color": "#2a3f5f"
            },
            "marker": {
             "line": {
              "color": "#E5ECF6",
              "width": 0.5
             },
             "pattern": {
              "fillmode": "overlay",
              "size": 10,
              "solidity": 0.2
             }
            },
            "type": "bar"
           }
          ],
          "barpolar": [
           {
            "marker": {
             "line": {
              "color": "#E5ECF6",
              "width": 0.5
             },
             "pattern": {
              "fillmode": "overlay",
              "size": 10,
              "solidity": 0.2
             }
            },
            "type": "barpolar"
           }
          ],
          "carpet": [
           {
            "aaxis": {
             "endlinecolor": "#2a3f5f",
             "gridcolor": "white",
             "linecolor": "white",
             "minorgridcolor": "white",
             "startlinecolor": "#2a3f5f"
            },
            "baxis": {
             "endlinecolor": "#2a3f5f",
             "gridcolor": "white",
             "linecolor": "white",
             "minorgridcolor": "white",
             "startlinecolor": "#2a3f5f"
            },
            "type": "carpet"
           }
          ],
          "choropleth": [
           {
            "colorbar": {
             "outlinewidth": 0,
             "ticks": ""
            },
            "type": "choropleth"
           }
          ],
          "contour": [
           {
            "colorbar": {
             "outlinewidth": 0,
             "ticks": ""
            },
            "colorscale": [
             [
              0,
              "#0d0887"
             ],
             [
              0.1111111111111111,
              "#46039f"
             ],
             [
              0.2222222222222222,
              "#7201a8"
             ],
             [
              0.3333333333333333,
              "#9c179e"
             ],
             [
              0.4444444444444444,
              "#bd3786"
             ],
             [
              0.5555555555555556,
              "#d8576b"
             ],
             [
              0.6666666666666666,
              "#ed7953"
             ],
             [
              0.7777777777777778,
              "#fb9f3a"
             ],
             [
              0.8888888888888888,
              "#fdca26"
             ],
             [
              1,
              "#f0f921"
             ]
            ],
            "type": "contour"
           }
          ],
          "contourcarpet": [
           {
            "colorbar": {
             "outlinewidth": 0,
             "ticks": ""
            },
            "type": "contourcarpet"
           }
          ],
          "heatmap": [
           {
            "colorbar": {
             "outlinewidth": 0,
             "ticks": ""
            },
            "colorscale": [
             [
              0,
              "#0d0887"
             ],
             [
              0.1111111111111111,
              "#46039f"
             ],
             [
              0.2222222222222222,
              "#7201a8"
             ],
             [
              0.3333333333333333,
              "#9c179e"
             ],
             [
              0.4444444444444444,
              "#bd3786"
             ],
             [
              0.5555555555555556,
              "#d8576b"
             ],
             [
              0.6666666666666666,
              "#ed7953"
             ],
             [
              0.7777777777777778,
              "#fb9f3a"
             ],
             [
              0.8888888888888888,
              "#fdca26"
             ],
             [
              1,
              "#f0f921"
             ]
            ],
            "type": "heatmap"
           }
          ],
          "heatmapgl": [
           {
            "colorbar": {
             "outlinewidth": 0,
             "ticks": ""
            },
            "colorscale": [
             [
              0,
              "#0d0887"
             ],
             [
              0.1111111111111111,
              "#46039f"
             ],
             [
              0.2222222222222222,
              "#7201a8"
             ],
             [
              0.3333333333333333,
              "#9c179e"
             ],
             [
              0.4444444444444444,
              "#bd3786"
             ],
             [
              0.5555555555555556,
              "#d8576b"
             ],
             [
              0.6666666666666666,
              "#ed7953"
             ],
             [
              0.7777777777777778,
              "#fb9f3a"
             ],
             [
              0.8888888888888888,
              "#fdca26"
             ],
             [
              1,
              "#f0f921"
             ]
            ],
            "type": "heatmapgl"
           }
          ],
          "histogram": [
           {
            "marker": {
             "pattern": {
              "fillmode": "overlay",
              "size": 10,
              "solidity": 0.2
             }
            },
            "type": "histogram"
           }
          ],
          "histogram2d": [
           {
            "colorbar": {
             "outlinewidth": 0,
             "ticks": ""
            },
            "colorscale": [
             [
              0,
              "#0d0887"
             ],
             [
              0.1111111111111111,
              "#46039f"
             ],
             [
              0.2222222222222222,
              "#7201a8"
             ],
             [
              0.3333333333333333,
              "#9c179e"
             ],
             [
              0.4444444444444444,
              "#bd3786"
             ],
             [
              0.5555555555555556,
              "#d8576b"
             ],
             [
              0.6666666666666666,
              "#ed7953"
             ],
             [
              0.7777777777777778,
              "#fb9f3a"
             ],
             [
              0.8888888888888888,
              "#fdca26"
             ],
             [
              1,
              "#f0f921"
             ]
            ],
            "type": "histogram2d"
           }
          ],
          "histogram2dcontour": [
           {
            "colorbar": {
             "outlinewidth": 0,
             "ticks": ""
            },
            "colorscale": [
             [
              0,
              "#0d0887"
             ],
             [
              0.1111111111111111,
              "#46039f"
             ],
             [
              0.2222222222222222,
              "#7201a8"
             ],
             [
              0.3333333333333333,
              "#9c179e"
             ],
             [
              0.4444444444444444,
              "#bd3786"
             ],
             [
              0.5555555555555556,
              "#d8576b"
             ],
             [
              0.6666666666666666,
              "#ed7953"
             ],
             [
              0.7777777777777778,
              "#fb9f3a"
             ],
             [
              0.8888888888888888,
              "#fdca26"
             ],
             [
              1,
              "#f0f921"
             ]
            ],
            "type": "histogram2dcontour"
           }
          ],
          "mesh3d": [
           {
            "colorbar": {
             "outlinewidth": 0,
             "ticks": ""
            },
            "type": "mesh3d"
           }
          ],
          "parcoords": [
           {
            "line": {
             "colorbar": {
              "outlinewidth": 0,
              "ticks": ""
             }
            },
            "type": "parcoords"
           }
          ],
          "pie": [
           {
            "automargin": true,
            "type": "pie"
           }
          ],
          "scatter": [
           {
            "fillpattern": {
             "fillmode": "overlay",
             "size": 10,
             "solidity": 0.2
            },
            "type": "scatter"
           }
          ],
          "scatter3d": [
           {
            "line": {
             "colorbar": {
              "outlinewidth": 0,
              "ticks": ""
             }
            },
            "marker": {
             "colorbar": {
              "outlinewidth": 0,
              "ticks": ""
             }
            },
            "type": "scatter3d"
           }
          ],
          "scattercarpet": [
           {
            "marker": {
             "colorbar": {
              "outlinewidth": 0,
              "ticks": ""
             }
            },
            "type": "scattercarpet"
           }
          ],
          "scattergeo": [
           {
            "marker": {
             "colorbar": {
              "outlinewidth": 0,
              "ticks": ""
             }
            },
            "type": "scattergeo"
           }
          ],
          "scattergl": [
           {
            "marker": {
             "colorbar": {
              "outlinewidth": 0,
              "ticks": ""
             }
            },
            "type": "scattergl"
           }
          ],
          "scattermapbox": [
           {
            "marker": {
             "colorbar": {
              "outlinewidth": 0,
              "ticks": ""
             }
            },
            "type": "scattermapbox"
           }
          ],
          "scatterpolar": [
           {
            "marker": {
             "colorbar": {
              "outlinewidth": 0,
              "ticks": ""
             }
            },
            "type": "scatterpolar"
           }
          ],
          "scatterpolargl": [
           {
            "marker": {
             "colorbar": {
              "outlinewidth": 0,
              "ticks": ""
             }
            },
            "type": "scatterpolargl"
           }
          ],
          "scatterternary": [
           {
            "marker": {
             "colorbar": {
              "outlinewidth": 0,
              "ticks": ""
             }
            },
            "type": "scatterternary"
           }
          ],
          "surface": [
           {
            "colorbar": {
             "outlinewidth": 0,
             "ticks": ""
            },
            "colorscale": [
             [
              0,
              "#0d0887"
             ],
             [
              0.1111111111111111,
              "#46039f"
             ],
             [
              0.2222222222222222,
              "#7201a8"
             ],
             [
              0.3333333333333333,
              "#9c179e"
             ],
             [
              0.4444444444444444,
              "#bd3786"
             ],
             [
              0.5555555555555556,
              "#d8576b"
             ],
             [
              0.6666666666666666,
              "#ed7953"
             ],
             [
              0.7777777777777778,
              "#fb9f3a"
             ],
             [
              0.8888888888888888,
              "#fdca26"
             ],
             [
              1,
              "#f0f921"
             ]
            ],
            "type": "surface"
           }
          ],
          "table": [
           {
            "cells": {
             "fill": {
              "color": "#EBF0F8"
             },
             "line": {
              "color": "white"
             }
            },
            "header": {
             "fill": {
              "color": "#C8D4E3"
             },
             "line": {
              "color": "white"
             }
            },
            "type": "table"
           }
          ]
         },
         "layout": {
          "annotationdefaults": {
           "arrowcolor": "#2a3f5f",
           "arrowhead": 0,
           "arrowwidth": 1
          },
          "autotypenumbers": "strict",
          "coloraxis": {
           "colorbar": {
            "outlinewidth": 0,
            "ticks": ""
           }
          },
          "colorscale": {
           "diverging": [
            [
             0,
             "#8e0152"
            ],
            [
             0.1,
             "#c51b7d"
            ],
            [
             0.2,
             "#de77ae"
            ],
            [
             0.3,
             "#f1b6da"
            ],
            [
             0.4,
             "#fde0ef"
            ],
            [
             0.5,
             "#f7f7f7"
            ],
            [
             0.6,
             "#e6f5d0"
            ],
            [
             0.7,
             "#b8e186"
            ],
            [
             0.8,
             "#7fbc41"
            ],
            [
             0.9,
             "#4d9221"
            ],
            [
             1,
             "#276419"
            ]
           ],
           "sequential": [
            [
             0,
             "#0d0887"
            ],
            [
             0.1111111111111111,
             "#46039f"
            ],
            [
             0.2222222222222222,
             "#7201a8"
            ],
            [
             0.3333333333333333,
             "#9c179e"
            ],
            [
             0.4444444444444444,
             "#bd3786"
            ],
            [
             0.5555555555555556,
             "#d8576b"
            ],
            [
             0.6666666666666666,
             "#ed7953"
            ],
            [
             0.7777777777777778,
             "#fb9f3a"
            ],
            [
             0.8888888888888888,
             "#fdca26"
            ],
            [
             1,
             "#f0f921"
            ]
           ],
           "sequentialminus": [
            [
             0,
             "#0d0887"
            ],
            [
             0.1111111111111111,
             "#46039f"
            ],
            [
             0.2222222222222222,
             "#7201a8"
            ],
            [
             0.3333333333333333,
             "#9c179e"
            ],
            [
             0.4444444444444444,
             "#bd3786"
            ],
            [
             0.5555555555555556,
             "#d8576b"
            ],
            [
             0.6666666666666666,
             "#ed7953"
            ],
            [
             0.7777777777777778,
             "#fb9f3a"
            ],
            [
             0.8888888888888888,
             "#fdca26"
            ],
            [
             1,
             "#f0f921"
            ]
           ]
          },
          "colorway": [
           "#636efa",
           "#EF553B",
           "#00cc96",
           "#ab63fa",
           "#FFA15A",
           "#19d3f3",
           "#FF6692",
           "#B6E880",
           "#FF97FF",
           "#FECB52"
          ],
          "font": {
           "color": "#2a3f5f"
          },
          "geo": {
           "bgcolor": "white",
           "lakecolor": "white",
           "landcolor": "#E5ECF6",
           "showlakes": true,
           "showland": true,
           "subunitcolor": "white"
          },
          "hoverlabel": {
           "align": "left"
          },
          "hovermode": "closest",
          "mapbox": {
           "style": "light"
          },
          "paper_bgcolor": "white",
          "plot_bgcolor": "#E5ECF6",
          "polar": {
           "angularaxis": {
            "gridcolor": "white",
            "linecolor": "white",
            "ticks": ""
           },
           "bgcolor": "#E5ECF6",
           "radialaxis": {
            "gridcolor": "white",
            "linecolor": "white",
            "ticks": ""
           }
          },
          "scene": {
           "xaxis": {
            "backgroundcolor": "#E5ECF6",
            "gridcolor": "white",
            "gridwidth": 2,
            "linecolor": "white",
            "showbackground": true,
            "ticks": "",
            "zerolinecolor": "white"
           },
           "yaxis": {
            "backgroundcolor": "#E5ECF6",
            "gridcolor": "white",
            "gridwidth": 2,
            "linecolor": "white",
            "showbackground": true,
            "ticks": "",
            "zerolinecolor": "white"
           },
           "zaxis": {
            "backgroundcolor": "#E5ECF6",
            "gridcolor": "white",
            "gridwidth": 2,
            "linecolor": "white",
            "showbackground": true,
            "ticks": "",
            "zerolinecolor": "white"
           }
          },
          "shapedefaults": {
           "line": {
            "color": "#2a3f5f"
           }
          },
          "ternary": {
           "aaxis": {
            "gridcolor": "white",
            "linecolor": "white",
            "ticks": ""
           },
           "baxis": {
            "gridcolor": "white",
            "linecolor": "white",
            "ticks": ""
           },
           "bgcolor": "#E5ECF6",
           "caxis": {
            "gridcolor": "white",
            "linecolor": "white",
            "ticks": ""
           }
          },
          "title": {
           "x": 0.05
          },
          "xaxis": {
           "automargin": true,
           "gridcolor": "white",
           "linecolor": "white",
           "ticks": "",
           "title": {
            "standoff": 15
           },
           "zerolinecolor": "white",
           "zerolinewidth": 2
          },
          "yaxis": {
           "automargin": true,
           "gridcolor": "white",
           "linecolor": "white",
           "ticks": "",
           "title": {
            "standoff": 15
           },
           "zerolinecolor": "white",
           "zerolinewidth": 2
          }
         }
        },
        "title": {
         "text": "Clicks per stage"
        },
        "xaxis": {
         "anchor": "y",
         "domain": [
          0,
          1
         ],
         "title": {
          "text": "date"
         }
        },
        "yaxis": {
         "anchor": "x",
         "domain": [
          0,
          1
         ],
         "title": {
          "text": "clicks/stages"
         }
        }
       }
      }
     },
     "metadata": {},
     "output_type": "display_data"
    }
   ],
   "source": [
    "# group df_click by date and stage\n",
    "\n",
    "df_clicks[\"date\"] = pd.to_datetime(df_clicks[\"date\"])\n",
    "df_clicks[\"stage\"] = df_clicks[\"stage\"].astype(\"category\")\n",
    "df_click_group = df_clicks.groupby(by=[\"date\", \"stage\"]).count()\n",
    "df_click_group = df_click_group.reset_index()\n",
    "df_click_group[\"date\"] = df_click_group[\"date\"].dt.strftime(\"%d-%m-%Y\")\n",
    "\n",
    "# add a count column\n",
    "df_click_group[\"n_clicks\"] = df_click_group[\"x\"]\n",
    "\n",
    "# drop all columns except for date, stage and n_clicks\n",
    "df_click_group = df_click_group[[\"date\", \"stage\", \"n_clicks\"]]\n",
    "\n",
    "# display(df_click_group)\n",
    "\n",
    "# group df_history by date and stage\n",
    "\n",
    "df_history[\"date\"] = pd.to_datetime(df_history[\"date\"])\n",
    "df_history[\"stage\"] = df_history[\"stage\"].astype(\"category\")\n",
    "df_history_group = df_history.groupby(by=[\"date\", \"stage\"]).count()\n",
    "df_history_group = df_history_group.reset_index()\n",
    "df_history_group[\"date\"] = df_history_group[\"date\"].dt.strftime(\"%d-%m-%Y\")\n",
    "\n",
    "# add a count column\n",
    "df_history_group[\"n_stages\"] = df_history_group[\"duration\"]\n",
    "\n",
    "\n",
    "\n",
    "# drop all columns except for date, stage and n_stages\n",
    "df_history_group = df_history_group[[\"date\", \"stage\", \"n_stages\"]]\n",
    "# display(df_history_group)\n",
    "\n",
    "# merge df_click_group and df_history_group\n",
    "df_click_history = pd.merge(df_click_group, df_history_group, on=[\"date\", \"stage\"])\n",
    "\n",
    "# add a column with the ratio of clicks/stages\n",
    "df_click_history[\"clicks/stages\"] = df_click_history[\"n_clicks\"] / df_click_history[\"n_stages\"]\n",
    "\n",
    "# fillna 0\n",
    "df_click_history = df_click_history.fillna(0)\n",
    "\n",
    "# plot the time series with a title\n",
    "fig = px.line(df_click_history, x=\"date\", y=\"clicks/stages\", color=\"stage\")\n",
    "fig.update_layout(title=\"Clicks per stage\")\n",
    "fig.show()\n",
    "\n",
    "# fig.write_image(os.path.join(stats_path, \"clicks_per_stage.png\"))\n",
    "\n"
   ]
  },
  {
   "cell_type": "code",
   "execution_count": 25,
   "metadata": {},
   "outputs": [
    {
     "data": {
      "application/vnd.plotly.v1+json": {
       "config": {
        "plotlyServerURL": "https://plot.ly"
       },
       "data": [
        {
         "hovertemplate": "stage=Landing<br>source=DetectedFeature<br>date=%{x}<br>n_clicks=%{y}<extra></extra>",
         "legendgroup": "Landing, DetectedFeature",
         "line": {
          "color": "#636efa",
          "dash": "solid"
         },
         "marker": {
          "symbol": "circle"
         },
         "mode": "lines",
         "name": "Landing, DetectedFeature",
         "orientation": "v",
         "showlegend": true,
         "type": "scatter",
         "x": [
          "14-11-2022",
          "17-11-2022",
          "22-11-2022",
          "29-11-2022",
          "30-11-2022",
          "01-12-2022",
          "02-12-2022",
          "06-12-2022",
          "12-12-2022",
          "13-12-2022"
         ],
         "xaxis": "x",
         "y": [
          4,
          5,
          7,
          15,
          21,
          18,
          35,
          13,
          31,
          2
         ],
         "yaxis": "y"
        },
        {
         "hovertemplate": "stage=Landing<br>source=Milling<br>date=%{x}<br>n_clicks=%{y}<extra></extra>",
         "legendgroup": "Landing, Milling",
         "line": {
          "color": "#636efa",
          "dash": "dot"
         },
         "marker": {
          "symbol": "circle"
         },
         "mode": "lines",
         "name": "Landing, Milling",
         "orientation": "v",
         "showlegend": true,
         "type": "scatter",
         "x": [
          "14-11-2022",
          "29-11-2022",
          "01-12-2022",
          "12-12-2022"
         ],
         "xaxis": "x",
         "y": [
          5,
          1,
          1,
          1
         ],
         "yaxis": "y"
        },
        {
         "hovertemplate": "stage=Landing<br>source=Movement<br>date=%{x}<br>n_clicks=%{y}<extra></extra>",
         "legendgroup": "Landing, Movement",
         "line": {
          "color": "#636efa",
          "dash": "dash"
         },
         "marker": {
          "symbol": "circle"
         },
         "mode": "lines",
         "name": "Landing, Movement",
         "orientation": "v",
         "showlegend": true,
         "type": "scatter",
         "x": [
          "14-11-2022",
          "17-11-2022",
          "22-11-2022",
          "29-11-2022",
          "01-12-2022",
          "06-12-2022",
          "12-12-2022"
         ],
         "xaxis": "x",
         "y": [
          7,
          3,
          9,
          18,
          8,
          4,
          13
         ],
         "yaxis": "y"
        },
        {
         "hovertemplate": "stage=Liftout<br>source=DetectedFeature<br>date=%{x}<br>n_clicks=%{y}<extra></extra>",
         "legendgroup": "Liftout, DetectedFeature",
         "line": {
          "color": "#EF553B",
          "dash": "solid"
         },
         "marker": {
          "symbol": "circle"
         },
         "mode": "lines",
         "name": "Liftout, DetectedFeature",
         "orientation": "v",
         "showlegend": true,
         "type": "scatter",
         "x": [
          "14-11-2022",
          "17-11-2022",
          "22-11-2022",
          "29-11-2022",
          "30-11-2022",
          "01-12-2022",
          "02-12-2022",
          "06-12-2022",
          "09-12-2022",
          "12-12-2022",
          "13-12-2022"
         ],
         "xaxis": "x",
         "y": [
          6,
          7,
          14,
          18,
          15,
          27,
          17,
          5,
          6,
          5,
          2
         ],
         "yaxis": "y"
        },
        {
         "hovertemplate": "stage=Liftout<br>source=Milling<br>date=%{x}<br>n_clicks=%{y}<extra></extra>",
         "legendgroup": "Liftout, Milling",
         "line": {
          "color": "#EF553B",
          "dash": "dot"
         },
         "marker": {
          "symbol": "circle"
         },
         "mode": "lines",
         "name": "Liftout, Milling",
         "orientation": "v",
         "showlegend": true,
         "type": "scatter",
         "x": [
          "14-11-2022",
          "17-11-2022",
          "22-11-2022",
          "06-12-2022"
         ],
         "xaxis": "x",
         "y": [
          1,
          1,
          2,
          1
         ],
         "yaxis": "y"
        },
        {
         "hovertemplate": "stage=Liftout<br>source=Movement<br>date=%{x}<br>n_clicks=%{y}<extra></extra>",
         "legendgroup": "Liftout, Movement",
         "line": {
          "color": "#EF553B",
          "dash": "dash"
         },
         "marker": {
          "symbol": "circle"
         },
         "mode": "lines",
         "name": "Liftout, Movement",
         "orientation": "v",
         "showlegend": true,
         "type": "scatter",
         "x": [
          "14-11-2022",
          "17-11-2022",
          "22-11-2022",
          "29-11-2022",
          "30-11-2022",
          "01-12-2022",
          "02-12-2022",
          "06-12-2022",
          "09-12-2022",
          "12-12-2022",
          "13-12-2022"
         ],
         "xaxis": "x",
         "y": [
          5,
          8,
          14,
          19,
          1,
          3,
          3,
          1,
          3,
          2,
          5
         ],
         "yaxis": "y"
        },
        {
         "hovertemplate": "stage=MillJCut<br>source=DetectedFeature<br>date=%{x}<br>n_clicks=%{y}<extra></extra>",
         "legendgroup": "MillJCut, DetectedFeature",
         "line": {
          "color": "#00cc96",
          "dash": "solid"
         },
         "marker": {
          "symbol": "circle"
         },
         "mode": "lines",
         "name": "MillJCut, DetectedFeature",
         "orientation": "v",
         "showlegend": true,
         "type": "scatter",
         "x": [
          "14-11-2022",
          "29-11-2022",
          "30-11-2022",
          "01-12-2022",
          "02-12-2022",
          "09-12-2022",
          "12-12-2022",
          "13-12-2022"
         ],
         "xaxis": "x",
         "y": [
          1,
          1,
          3,
          1,
          3,
          5,
          1,
          1
         ],
         "yaxis": "y"
        },
        {
         "hovertemplate": "stage=MillJCut<br>source=Milling<br>date=%{x}<br>n_clicks=%{y}<extra></extra>",
         "legendgroup": "MillJCut, Milling",
         "line": {
          "color": "#00cc96",
          "dash": "dot"
         },
         "marker": {
          "symbol": "circle"
         },
         "mode": "lines",
         "name": "MillJCut, Milling",
         "orientation": "v",
         "showlegend": true,
         "type": "scatter",
         "x": [
          "14-11-2022",
          "17-11-2022",
          "22-11-2022",
          "29-11-2022",
          "02-12-2022",
          "12-12-2022",
          "13-12-2022"
         ],
         "xaxis": "x",
         "y": [
          10,
          12,
          11,
          10,
          12,
          3,
          5
         ],
         "yaxis": "y"
        },
        {
         "hovertemplate": "stage=MillJCut<br>source=Movement<br>date=%{x}<br>n_clicks=%{y}<extra></extra>",
         "legendgroup": "MillJCut, Movement",
         "line": {
          "color": "#00cc96",
          "dash": "dash"
         },
         "marker": {
          "symbol": "circle"
         },
         "mode": "lines",
         "name": "MillJCut, Movement",
         "orientation": "v",
         "showlegend": true,
         "type": "scatter",
         "x": [
          "14-11-2022",
          "17-11-2022",
          "22-11-2022",
          "29-11-2022",
          "30-11-2022",
          "01-12-2022",
          "02-12-2022",
          "06-12-2022",
          "09-12-2022",
          "12-12-2022",
          "13-12-2022"
         ],
         "xaxis": "x",
         "y": [
          13,
          13,
          20,
          12,
          5,
          14,
          15,
          9,
          4,
          20,
          4
         ],
         "yaxis": "y"
        },
        {
         "hovertemplate": "stage=MillTrench<br>source=Milling<br>date=%{x}<br>n_clicks=%{y}<extra></extra>",
         "legendgroup": "MillTrench, Milling",
         "line": {
          "color": "#ab63fa",
          "dash": "dot"
         },
         "marker": {
          "symbol": "circle"
         },
         "mode": "lines",
         "name": "MillTrench, Milling",
         "orientation": "v",
         "showlegend": true,
         "type": "scatter",
         "x": [
          "14-11-2022",
          "22-11-2022",
          "29-11-2022",
          "01-12-2022",
          "02-12-2022",
          "06-12-2022",
          "09-12-2022",
          "12-12-2022",
          "13-12-2022"
         ],
         "xaxis": "x",
         "y": [
          10,
          8,
          6,
          18,
          15,
          9,
          4,
          13,
          5
         ],
         "yaxis": "y"
        },
        {
         "hovertemplate": "stage=MillTrench<br>source=Movement<br>date=%{x}<br>n_clicks=%{y}<extra></extra>",
         "legendgroup": "MillTrench, Movement",
         "line": {
          "color": "#ab63fa",
          "dash": "dash"
         },
         "marker": {
          "symbol": "circle"
         },
         "mode": "lines",
         "name": "MillTrench, Movement",
         "orientation": "v",
         "showlegend": true,
         "type": "scatter",
         "x": [
          "14-11-2022",
          "30-11-2022"
         ],
         "xaxis": "x",
         "y": [
          19,
          8
         ],
         "yaxis": "y"
        },
        {
         "hovertemplate": "stage=Polishing<br>source=Milling<br>date=%{x}<br>n_clicks=%{y}<extra></extra>",
         "legendgroup": "Polishing, Milling",
         "line": {
          "color": "#FFA15A",
          "dash": "dot"
         },
         "marker": {
          "symbol": "circle"
         },
         "mode": "lines",
         "name": "Polishing, Milling",
         "orientation": "v",
         "showlegend": true,
         "type": "scatter",
         "x": [
          "14-11-2022",
          "17-11-2022",
          "29-11-2022",
          "30-11-2022",
          "01-12-2022",
          "02-12-2022",
          "06-12-2022",
          "12-12-2022",
          "13-12-2022"
         ],
         "xaxis": "x",
         "y": [
          10,
          4,
          9,
          15,
          6,
          10,
          8,
          2,
          9
         ],
         "yaxis": "y"
        },
        {
         "hovertemplate": "stage=Polishing<br>source=Movement<br>date=%{x}<br>n_clicks=%{y}<extra></extra>",
         "legendgroup": "Polishing, Movement",
         "line": {
          "color": "#FFA15A",
          "dash": "dash"
         },
         "marker": {
          "symbol": "circle"
         },
         "mode": "lines",
         "name": "Polishing, Movement",
         "orientation": "v",
         "showlegend": true,
         "type": "scatter",
         "x": [
          "22-11-2022",
          "29-11-2022",
          "30-11-2022",
          "01-12-2022",
          "02-12-2022",
          "06-12-2022"
         ],
         "xaxis": "x",
         "y": [
          4,
          1,
          2,
          2,
          1,
          2
         ],
         "yaxis": "y"
        },
        {
         "hovertemplate": "stage=Setup<br>source=Milling<br>date=%{x}<br>n_clicks=%{y}<extra></extra>",
         "legendgroup": "Setup, Milling",
         "line": {
          "color": "#19d3f3",
          "dash": "dot"
         },
         "marker": {
          "symbol": "circle"
         },
         "mode": "lines",
         "name": "Setup, Milling",
         "orientation": "v",
         "showlegend": true,
         "type": "scatter",
         "x": [
          "17-11-2022",
          "22-11-2022",
          "29-11-2022",
          "01-12-2022",
          "02-12-2022",
          "06-12-2022",
          "08-12-2022",
          "09-12-2022",
          "12-12-2022",
          "13-12-2022"
         ],
         "xaxis": "x",
         "y": [
          10,
          2,
          2,
          3,
          7,
          5,
          10,
          8,
          6,
          3
         ],
         "yaxis": "y"
        },
        {
         "hovertemplate": "stage=Setup<br>source=Movement<br>date=%{x}<br>n_clicks=%{y}<extra></extra>",
         "legendgroup": "Setup, Movement",
         "line": {
          "color": "#19d3f3",
          "dash": "dash"
         },
         "marker": {
          "symbol": "circle"
         },
         "mode": "lines",
         "name": "Setup, Movement",
         "orientation": "v",
         "showlegend": true,
         "type": "scatter",
         "x": [
          "14-11-2022",
          "17-11-2022",
          "22-11-2022",
          "29-11-2022",
          "30-11-2022",
          "01-12-2022",
          "02-12-2022",
          "06-12-2022",
          "08-12-2022",
          "09-12-2022",
          "12-12-2022",
          "13-12-2022"
         ],
         "xaxis": "x",
         "y": [
          17,
          45,
          31,
          20,
          16,
          19,
          17,
          20,
          30,
          11,
          17,
          16
         ],
         "yaxis": "y"
        },
        {
         "hovertemplate": "stage=Thinning<br>source=Milling<br>date=%{x}<br>n_clicks=%{y}<extra></extra>",
         "legendgroup": "Thinning, Milling",
         "line": {
          "color": "#FF6692",
          "dash": "dot"
         },
         "marker": {
          "symbol": "circle"
         },
         "mode": "lines",
         "name": "Thinning, Milling",
         "orientation": "v",
         "showlegend": true,
         "type": "scatter",
         "x": [
          "14-11-2022",
          "17-11-2022",
          "29-11-2022",
          "30-11-2022",
          "01-12-2022",
          "02-12-2022",
          "06-12-2022",
          "12-12-2022",
          "13-12-2022"
         ],
         "xaxis": "x",
         "y": [
          7,
          13,
          17,
          15,
          8,
          13,
          7,
          2,
          2
         ],
         "yaxis": "y"
        },
        {
         "hovertemplate": "stage=Thinning<br>source=Movement<br>date=%{x}<br>n_clicks=%{y}<extra></extra>",
         "legendgroup": "Thinning, Movement",
         "line": {
          "color": "#FF6692",
          "dash": "dash"
         },
         "marker": {
          "symbol": "circle"
         },
         "mode": "lines",
         "name": "Thinning, Movement",
         "orientation": "v",
         "showlegend": true,
         "type": "scatter",
         "x": [
          "14-11-2022",
          "17-11-2022",
          "29-11-2022",
          "30-11-2022",
          "01-12-2022",
          "02-12-2022",
          "06-12-2022",
          "12-12-2022"
         ],
         "xaxis": "x",
         "y": [
          8,
          23,
          3,
          5,
          2,
          2,
          2,
          1
         ],
         "yaxis": "y"
        },
        {
         "hovertemplate": "stage=SetupPolish<br>source=Movement<br>date=%{x}<br>n_clicks=%{y}<extra></extra>",
         "legendgroup": "SetupPolish, Movement",
         "line": {
          "color": "#B6E880",
          "dash": "dash"
         },
         "marker": {
          "symbol": "circle"
         },
         "mode": "lines",
         "name": "SetupPolish, Movement",
         "orientation": "v",
         "showlegend": true,
         "type": "scatter",
         "x": [
          "29-11-2022",
          "30-11-2022",
          "01-12-2022",
          "02-12-2022",
          "06-12-2022",
          "12-12-2022",
          "13-12-2022"
         ],
         "xaxis": "x",
         "y": [
          12,
          13,
          11,
          8,
          9,
          12,
          14
         ],
         "yaxis": "y"
        }
       ],
       "layout": {
        "legend": {
         "title": {
          "text": "stage, source"
         },
         "tracegroupgap": 0
        },
        "margin": {
         "t": 60
        },
        "template": {
         "data": {
          "bar": [
           {
            "error_x": {
             "color": "#2a3f5f"
            },
            "error_y": {
             "color": "#2a3f5f"
            },
            "marker": {
             "line": {
              "color": "#E5ECF6",
              "width": 0.5
             },
             "pattern": {
              "fillmode": "overlay",
              "size": 10,
              "solidity": 0.2
             }
            },
            "type": "bar"
           }
          ],
          "barpolar": [
           {
            "marker": {
             "line": {
              "color": "#E5ECF6",
              "width": 0.5
             },
             "pattern": {
              "fillmode": "overlay",
              "size": 10,
              "solidity": 0.2
             }
            },
            "type": "barpolar"
           }
          ],
          "carpet": [
           {
            "aaxis": {
             "endlinecolor": "#2a3f5f",
             "gridcolor": "white",
             "linecolor": "white",
             "minorgridcolor": "white",
             "startlinecolor": "#2a3f5f"
            },
            "baxis": {
             "endlinecolor": "#2a3f5f",
             "gridcolor": "white",
             "linecolor": "white",
             "minorgridcolor": "white",
             "startlinecolor": "#2a3f5f"
            },
            "type": "carpet"
           }
          ],
          "choropleth": [
           {
            "colorbar": {
             "outlinewidth": 0,
             "ticks": ""
            },
            "type": "choropleth"
           }
          ],
          "contour": [
           {
            "colorbar": {
             "outlinewidth": 0,
             "ticks": ""
            },
            "colorscale": [
             [
              0,
              "#0d0887"
             ],
             [
              0.1111111111111111,
              "#46039f"
             ],
             [
              0.2222222222222222,
              "#7201a8"
             ],
             [
              0.3333333333333333,
              "#9c179e"
             ],
             [
              0.4444444444444444,
              "#bd3786"
             ],
             [
              0.5555555555555556,
              "#d8576b"
             ],
             [
              0.6666666666666666,
              "#ed7953"
             ],
             [
              0.7777777777777778,
              "#fb9f3a"
             ],
             [
              0.8888888888888888,
              "#fdca26"
             ],
             [
              1,
              "#f0f921"
             ]
            ],
            "type": "contour"
           }
          ],
          "contourcarpet": [
           {
            "colorbar": {
             "outlinewidth": 0,
             "ticks": ""
            },
            "type": "contourcarpet"
           }
          ],
          "heatmap": [
           {
            "colorbar": {
             "outlinewidth": 0,
             "ticks": ""
            },
            "colorscale": [
             [
              0,
              "#0d0887"
             ],
             [
              0.1111111111111111,
              "#46039f"
             ],
             [
              0.2222222222222222,
              "#7201a8"
             ],
             [
              0.3333333333333333,
              "#9c179e"
             ],
             [
              0.4444444444444444,
              "#bd3786"
             ],
             [
              0.5555555555555556,
              "#d8576b"
             ],
             [
              0.6666666666666666,
              "#ed7953"
             ],
             [
              0.7777777777777778,
              "#fb9f3a"
             ],
             [
              0.8888888888888888,
              "#fdca26"
             ],
             [
              1,
              "#f0f921"
             ]
            ],
            "type": "heatmap"
           }
          ],
          "heatmapgl": [
           {
            "colorbar": {
             "outlinewidth": 0,
             "ticks": ""
            },
            "colorscale": [
             [
              0,
              "#0d0887"
             ],
             [
              0.1111111111111111,
              "#46039f"
             ],
             [
              0.2222222222222222,
              "#7201a8"
             ],
             [
              0.3333333333333333,
              "#9c179e"
             ],
             [
              0.4444444444444444,
              "#bd3786"
             ],
             [
              0.5555555555555556,
              "#d8576b"
             ],
             [
              0.6666666666666666,
              "#ed7953"
             ],
             [
              0.7777777777777778,
              "#fb9f3a"
             ],
             [
              0.8888888888888888,
              "#fdca26"
             ],
             [
              1,
              "#f0f921"
             ]
            ],
            "type": "heatmapgl"
           }
          ],
          "histogram": [
           {
            "marker": {
             "pattern": {
              "fillmode": "overlay",
              "size": 10,
              "solidity": 0.2
             }
            },
            "type": "histogram"
           }
          ],
          "histogram2d": [
           {
            "colorbar": {
             "outlinewidth": 0,
             "ticks": ""
            },
            "colorscale": [
             [
              0,
              "#0d0887"
             ],
             [
              0.1111111111111111,
              "#46039f"
             ],
             [
              0.2222222222222222,
              "#7201a8"
             ],
             [
              0.3333333333333333,
              "#9c179e"
             ],
             [
              0.4444444444444444,
              "#bd3786"
             ],
             [
              0.5555555555555556,
              "#d8576b"
             ],
             [
              0.6666666666666666,
              "#ed7953"
             ],
             [
              0.7777777777777778,
              "#fb9f3a"
             ],
             [
              0.8888888888888888,
              "#fdca26"
             ],
             [
              1,
              "#f0f921"
             ]
            ],
            "type": "histogram2d"
           }
          ],
          "histogram2dcontour": [
           {
            "colorbar": {
             "outlinewidth": 0,
             "ticks": ""
            },
            "colorscale": [
             [
              0,
              "#0d0887"
             ],
             [
              0.1111111111111111,
              "#46039f"
             ],
             [
              0.2222222222222222,
              "#7201a8"
             ],
             [
              0.3333333333333333,
              "#9c179e"
             ],
             [
              0.4444444444444444,
              "#bd3786"
             ],
             [
              0.5555555555555556,
              "#d8576b"
             ],
             [
              0.6666666666666666,
              "#ed7953"
             ],
             [
              0.7777777777777778,
              "#fb9f3a"
             ],
             [
              0.8888888888888888,
              "#fdca26"
             ],
             [
              1,
              "#f0f921"
             ]
            ],
            "type": "histogram2dcontour"
           }
          ],
          "mesh3d": [
           {
            "colorbar": {
             "outlinewidth": 0,
             "ticks": ""
            },
            "type": "mesh3d"
           }
          ],
          "parcoords": [
           {
            "line": {
             "colorbar": {
              "outlinewidth": 0,
              "ticks": ""
             }
            },
            "type": "parcoords"
           }
          ],
          "pie": [
           {
            "automargin": true,
            "type": "pie"
           }
          ],
          "scatter": [
           {
            "fillpattern": {
             "fillmode": "overlay",
             "size": 10,
             "solidity": 0.2
            },
            "type": "scatter"
           }
          ],
          "scatter3d": [
           {
            "line": {
             "colorbar": {
              "outlinewidth": 0,
              "ticks": ""
             }
            },
            "marker": {
             "colorbar": {
              "outlinewidth": 0,
              "ticks": ""
             }
            },
            "type": "scatter3d"
           }
          ],
          "scattercarpet": [
           {
            "marker": {
             "colorbar": {
              "outlinewidth": 0,
              "ticks": ""
             }
            },
            "type": "scattercarpet"
           }
          ],
          "scattergeo": [
           {
            "marker": {
             "colorbar": {
              "outlinewidth": 0,
              "ticks": ""
             }
            },
            "type": "scattergeo"
           }
          ],
          "scattergl": [
           {
            "marker": {
             "colorbar": {
              "outlinewidth": 0,
              "ticks": ""
             }
            },
            "type": "scattergl"
           }
          ],
          "scattermapbox": [
           {
            "marker": {
             "colorbar": {
              "outlinewidth": 0,
              "ticks": ""
             }
            },
            "type": "scattermapbox"
           }
          ],
          "scatterpolar": [
           {
            "marker": {
             "colorbar": {
              "outlinewidth": 0,
              "ticks": ""
             }
            },
            "type": "scatterpolar"
           }
          ],
          "scatterpolargl": [
           {
            "marker": {
             "colorbar": {
              "outlinewidth": 0,
              "ticks": ""
             }
            },
            "type": "scatterpolargl"
           }
          ],
          "scatterternary": [
           {
            "marker": {
             "colorbar": {
              "outlinewidth": 0,
              "ticks": ""
             }
            },
            "type": "scatterternary"
           }
          ],
          "surface": [
           {
            "colorbar": {
             "outlinewidth": 0,
             "ticks": ""
            },
            "colorscale": [
             [
              0,
              "#0d0887"
             ],
             [
              0.1111111111111111,
              "#46039f"
             ],
             [
              0.2222222222222222,
              "#7201a8"
             ],
             [
              0.3333333333333333,
              "#9c179e"
             ],
             [
              0.4444444444444444,
              "#bd3786"
             ],
             [
              0.5555555555555556,
              "#d8576b"
             ],
             [
              0.6666666666666666,
              "#ed7953"
             ],
             [
              0.7777777777777778,
              "#fb9f3a"
             ],
             [
              0.8888888888888888,
              "#fdca26"
             ],
             [
              1,
              "#f0f921"
             ]
            ],
            "type": "surface"
           }
          ],
          "table": [
           {
            "cells": {
             "fill": {
              "color": "#EBF0F8"
             },
             "line": {
              "color": "white"
             }
            },
            "header": {
             "fill": {
              "color": "#C8D4E3"
             },
             "line": {
              "color": "white"
             }
            },
            "type": "table"
           }
          ]
         },
         "layout": {
          "annotationdefaults": {
           "arrowcolor": "#2a3f5f",
           "arrowhead": 0,
           "arrowwidth": 1
          },
          "autotypenumbers": "strict",
          "coloraxis": {
           "colorbar": {
            "outlinewidth": 0,
            "ticks": ""
           }
          },
          "colorscale": {
           "diverging": [
            [
             0,
             "#8e0152"
            ],
            [
             0.1,
             "#c51b7d"
            ],
            [
             0.2,
             "#de77ae"
            ],
            [
             0.3,
             "#f1b6da"
            ],
            [
             0.4,
             "#fde0ef"
            ],
            [
             0.5,
             "#f7f7f7"
            ],
            [
             0.6,
             "#e6f5d0"
            ],
            [
             0.7,
             "#b8e186"
            ],
            [
             0.8,
             "#7fbc41"
            ],
            [
             0.9,
             "#4d9221"
            ],
            [
             1,
             "#276419"
            ]
           ],
           "sequential": [
            [
             0,
             "#0d0887"
            ],
            [
             0.1111111111111111,
             "#46039f"
            ],
            [
             0.2222222222222222,
             "#7201a8"
            ],
            [
             0.3333333333333333,
             "#9c179e"
            ],
            [
             0.4444444444444444,
             "#bd3786"
            ],
            [
             0.5555555555555556,
             "#d8576b"
            ],
            [
             0.6666666666666666,
             "#ed7953"
            ],
            [
             0.7777777777777778,
             "#fb9f3a"
            ],
            [
             0.8888888888888888,
             "#fdca26"
            ],
            [
             1,
             "#f0f921"
            ]
           ],
           "sequentialminus": [
            [
             0,
             "#0d0887"
            ],
            [
             0.1111111111111111,
             "#46039f"
            ],
            [
             0.2222222222222222,
             "#7201a8"
            ],
            [
             0.3333333333333333,
             "#9c179e"
            ],
            [
             0.4444444444444444,
             "#bd3786"
            ],
            [
             0.5555555555555556,
             "#d8576b"
            ],
            [
             0.6666666666666666,
             "#ed7953"
            ],
            [
             0.7777777777777778,
             "#fb9f3a"
            ],
            [
             0.8888888888888888,
             "#fdca26"
            ],
            [
             1,
             "#f0f921"
            ]
           ]
          },
          "colorway": [
           "#636efa",
           "#EF553B",
           "#00cc96",
           "#ab63fa",
           "#FFA15A",
           "#19d3f3",
           "#FF6692",
           "#B6E880",
           "#FF97FF",
           "#FECB52"
          ],
          "font": {
           "color": "#2a3f5f"
          },
          "geo": {
           "bgcolor": "white",
           "lakecolor": "white",
           "landcolor": "#E5ECF6",
           "showlakes": true,
           "showland": true,
           "subunitcolor": "white"
          },
          "hoverlabel": {
           "align": "left"
          },
          "hovermode": "closest",
          "mapbox": {
           "style": "light"
          },
          "paper_bgcolor": "white",
          "plot_bgcolor": "#E5ECF6",
          "polar": {
           "angularaxis": {
            "gridcolor": "white",
            "linecolor": "white",
            "ticks": ""
           },
           "bgcolor": "#E5ECF6",
           "radialaxis": {
            "gridcolor": "white",
            "linecolor": "white",
            "ticks": ""
           }
          },
          "scene": {
           "xaxis": {
            "backgroundcolor": "#E5ECF6",
            "gridcolor": "white",
            "gridwidth": 2,
            "linecolor": "white",
            "showbackground": true,
            "ticks": "",
            "zerolinecolor": "white"
           },
           "yaxis": {
            "backgroundcolor": "#E5ECF6",
            "gridcolor": "white",
            "gridwidth": 2,
            "linecolor": "white",
            "showbackground": true,
            "ticks": "",
            "zerolinecolor": "white"
           },
           "zaxis": {
            "backgroundcolor": "#E5ECF6",
            "gridcolor": "white",
            "gridwidth": 2,
            "linecolor": "white",
            "showbackground": true,
            "ticks": "",
            "zerolinecolor": "white"
           }
          },
          "shapedefaults": {
           "line": {
            "color": "#2a3f5f"
           }
          },
          "ternary": {
           "aaxis": {
            "gridcolor": "white",
            "linecolor": "white",
            "ticks": ""
           },
           "baxis": {
            "gridcolor": "white",
            "linecolor": "white",
            "ticks": ""
           },
           "bgcolor": "#E5ECF6",
           "caxis": {
            "gridcolor": "white",
            "linecolor": "white",
            "ticks": ""
           }
          },
          "title": {
           "x": 0.05
          },
          "xaxis": {
           "automargin": true,
           "gridcolor": "white",
           "linecolor": "white",
           "ticks": "",
           "title": {
            "standoff": 15
           },
           "zerolinecolor": "white",
           "zerolinewidth": 2
          },
          "yaxis": {
           "automargin": true,
           "gridcolor": "white",
           "linecolor": "white",
           "ticks": "",
           "title": {
            "standoff": 15
           },
           "zerolinecolor": "white",
           "zerolinewidth": 2
          }
         }
        },
        "title": {
         "text": "Clicks per stage, source"
        },
        "xaxis": {
         "anchor": "y",
         "domain": [
          0,
          1
         ],
         "title": {
          "text": "date"
         }
        },
        "yaxis": {
         "anchor": "x",
         "domain": [
          0,
          1
         ],
         "title": {
          "text": "n_clicks"
         }
        }
       }
      }
     },
     "metadata": {},
     "output_type": "display_data"
    }
   ],
   "source": [
    "# group df_click by date, stage and  source\n",
    "\n",
    "df_clicks[\"date\"] = pd.to_datetime(df_clicks[\"date\"])\n",
    "df_clicks[\"stage\"] = df_clicks[\"stage\"].astype(\"category\")\n",
    "df_clicks[\"source\"] = df_clicks[\"source\"].astype(\"category\")\n",
    "df_click_group = df_clicks.groupby(by=[\"date\", \"stage\", \"source\"]).count()\n",
    "df_click_group = df_click_group.reset_index()\n",
    "df_click_group[\"date\"] = df_click_group[\"date\"].dt.strftime(\"%d-%m-%Y\")\n",
    "\n",
    "# add a count column\n",
    "df_click_group[\"n_clicks\"] = df_click_group[\"x\"]\n",
    "\n",
    "# drop all columns except for date, stage and n_clicks\n",
    "df_click_group = df_click_group[[\"date\", \"stage\", \"source\", \"n_clicks\"]]\n",
    "# display(df_click_group)\n",
    "\n",
    "# drop rows with n_clicks = 0\n",
    "df_click_group = df_click_group[df_click_group[\"n_clicks\"] > 0]\n",
    "\n",
    "# sort by date\n",
    "# df_click_group = df_click_group.sort_values(by=\"date\", ascending=True)\n",
    "\n",
    "# display(df_click_group)\n",
    "# plot the time series with a title\n",
    "fig = px.line(df_click_group, x=\"date\", y=\"n_clicks\", color=\"stage\", line_dash=\"source\")\n",
    "fig.update_layout(title=\"Clicks per stage, source\")\n",
    "fig.show()\n"
   ]
  },
  {
   "cell_type": "code",
   "execution_count": 26,
   "metadata": {},
   "outputs": [
    {
     "data": {
      "application/vnd.plotly.v1+json": {
       "config": {
        "plotlyServerURL": "https://plot.ly"
       },
       "data": [
        {
         "hovertemplate": "source=DetectedFeature<br>date=%{x}<br>n_clicks=%{y}<extra></extra>",
         "legendgroup": "DetectedFeature",
         "line": {
          "color": "#636efa",
          "dash": "solid"
         },
         "marker": {
          "symbol": "circle"
         },
         "mode": "lines",
         "name": "DetectedFeature",
         "orientation": "v",
         "showlegend": true,
         "type": "scatter",
         "x": [
          "14-11-2022",
          "17-11-2022",
          "22-11-2022",
          "29-11-2022",
          "30-11-2022",
          "01-12-2022",
          "02-12-2022",
          "06-12-2022",
          "08-12-2022",
          "09-12-2022",
          "12-12-2022",
          "13-12-2022"
         ],
         "xaxis": "x",
         "y": [
          11,
          12,
          21,
          34,
          39,
          46,
          55,
          18,
          0,
          11,
          37,
          5
         ],
         "yaxis": "y"
        },
        {
         "hovertemplate": "source=Milling<br>date=%{x}<br>n_clicks=%{y}<extra></extra>",
         "legendgroup": "Milling",
         "line": {
          "color": "#EF553B",
          "dash": "solid"
         },
         "marker": {
          "symbol": "circle"
         },
         "mode": "lines",
         "name": "Milling",
         "orientation": "v",
         "showlegend": true,
         "type": "scatter",
         "x": [
          "14-11-2022",
          "17-11-2022",
          "22-11-2022",
          "29-11-2022",
          "30-11-2022",
          "01-12-2022",
          "02-12-2022",
          "06-12-2022",
          "08-12-2022",
          "09-12-2022",
          "12-12-2022",
          "13-12-2022"
         ],
         "xaxis": "x",
         "y": [
          43,
          40,
          23,
          45,
          30,
          36,
          57,
          30,
          10,
          12,
          27,
          24
         ],
         "yaxis": "y"
        },
        {
         "hovertemplate": "source=Movement<br>date=%{x}<br>n_clicks=%{y}<extra></extra>",
         "legendgroup": "Movement",
         "line": {
          "color": "#00cc96",
          "dash": "solid"
         },
         "marker": {
          "symbol": "circle"
         },
         "mode": "lines",
         "name": "Movement",
         "orientation": "v",
         "showlegend": true,
         "type": "scatter",
         "x": [
          "14-11-2022",
          "17-11-2022",
          "22-11-2022",
          "29-11-2022",
          "30-11-2022",
          "01-12-2022",
          "02-12-2022",
          "06-12-2022",
          "08-12-2022",
          "09-12-2022",
          "12-12-2022",
          "13-12-2022"
         ],
         "xaxis": "x",
         "y": [
          69,
          92,
          78,
          85,
          50,
          59,
          46,
          47,
          30,
          18,
          65,
          39
         ],
         "yaxis": "y"
        }
       ],
       "layout": {
        "legend": {
         "title": {
          "text": "source"
         },
         "tracegroupgap": 0
        },
        "margin": {
         "t": 60
        },
        "template": {
         "data": {
          "bar": [
           {
            "error_x": {
             "color": "#2a3f5f"
            },
            "error_y": {
             "color": "#2a3f5f"
            },
            "marker": {
             "line": {
              "color": "#E5ECF6",
              "width": 0.5
             },
             "pattern": {
              "fillmode": "overlay",
              "size": 10,
              "solidity": 0.2
             }
            },
            "type": "bar"
           }
          ],
          "barpolar": [
           {
            "marker": {
             "line": {
              "color": "#E5ECF6",
              "width": 0.5
             },
             "pattern": {
              "fillmode": "overlay",
              "size": 10,
              "solidity": 0.2
             }
            },
            "type": "barpolar"
           }
          ],
          "carpet": [
           {
            "aaxis": {
             "endlinecolor": "#2a3f5f",
             "gridcolor": "white",
             "linecolor": "white",
             "minorgridcolor": "white",
             "startlinecolor": "#2a3f5f"
            },
            "baxis": {
             "endlinecolor": "#2a3f5f",
             "gridcolor": "white",
             "linecolor": "white",
             "minorgridcolor": "white",
             "startlinecolor": "#2a3f5f"
            },
            "type": "carpet"
           }
          ],
          "choropleth": [
           {
            "colorbar": {
             "outlinewidth": 0,
             "ticks": ""
            },
            "type": "choropleth"
           }
          ],
          "contour": [
           {
            "colorbar": {
             "outlinewidth": 0,
             "ticks": ""
            },
            "colorscale": [
             [
              0,
              "#0d0887"
             ],
             [
              0.1111111111111111,
              "#46039f"
             ],
             [
              0.2222222222222222,
              "#7201a8"
             ],
             [
              0.3333333333333333,
              "#9c179e"
             ],
             [
              0.4444444444444444,
              "#bd3786"
             ],
             [
              0.5555555555555556,
              "#d8576b"
             ],
             [
              0.6666666666666666,
              "#ed7953"
             ],
             [
              0.7777777777777778,
              "#fb9f3a"
             ],
             [
              0.8888888888888888,
              "#fdca26"
             ],
             [
              1,
              "#f0f921"
             ]
            ],
            "type": "contour"
           }
          ],
          "contourcarpet": [
           {
            "colorbar": {
             "outlinewidth": 0,
             "ticks": ""
            },
            "type": "contourcarpet"
           }
          ],
          "heatmap": [
           {
            "colorbar": {
             "outlinewidth": 0,
             "ticks": ""
            },
            "colorscale": [
             [
              0,
              "#0d0887"
             ],
             [
              0.1111111111111111,
              "#46039f"
             ],
             [
              0.2222222222222222,
              "#7201a8"
             ],
             [
              0.3333333333333333,
              "#9c179e"
             ],
             [
              0.4444444444444444,
              "#bd3786"
             ],
             [
              0.5555555555555556,
              "#d8576b"
             ],
             [
              0.6666666666666666,
              "#ed7953"
             ],
             [
              0.7777777777777778,
              "#fb9f3a"
             ],
             [
              0.8888888888888888,
              "#fdca26"
             ],
             [
              1,
              "#f0f921"
             ]
            ],
            "type": "heatmap"
           }
          ],
          "heatmapgl": [
           {
            "colorbar": {
             "outlinewidth": 0,
             "ticks": ""
            },
            "colorscale": [
             [
              0,
              "#0d0887"
             ],
             [
              0.1111111111111111,
              "#46039f"
             ],
             [
              0.2222222222222222,
              "#7201a8"
             ],
             [
              0.3333333333333333,
              "#9c179e"
             ],
             [
              0.4444444444444444,
              "#bd3786"
             ],
             [
              0.5555555555555556,
              "#d8576b"
             ],
             [
              0.6666666666666666,
              "#ed7953"
             ],
             [
              0.7777777777777778,
              "#fb9f3a"
             ],
             [
              0.8888888888888888,
              "#fdca26"
             ],
             [
              1,
              "#f0f921"
             ]
            ],
            "type": "heatmapgl"
           }
          ],
          "histogram": [
           {
            "marker": {
             "pattern": {
              "fillmode": "overlay",
              "size": 10,
              "solidity": 0.2
             }
            },
            "type": "histogram"
           }
          ],
          "histogram2d": [
           {
            "colorbar": {
             "outlinewidth": 0,
             "ticks": ""
            },
            "colorscale": [
             [
              0,
              "#0d0887"
             ],
             [
              0.1111111111111111,
              "#46039f"
             ],
             [
              0.2222222222222222,
              "#7201a8"
             ],
             [
              0.3333333333333333,
              "#9c179e"
             ],
             [
              0.4444444444444444,
              "#bd3786"
             ],
             [
              0.5555555555555556,
              "#d8576b"
             ],
             [
              0.6666666666666666,
              "#ed7953"
             ],
             [
              0.7777777777777778,
              "#fb9f3a"
             ],
             [
              0.8888888888888888,
              "#fdca26"
             ],
             [
              1,
              "#f0f921"
             ]
            ],
            "type": "histogram2d"
           }
          ],
          "histogram2dcontour": [
           {
            "colorbar": {
             "outlinewidth": 0,
             "ticks": ""
            },
            "colorscale": [
             [
              0,
              "#0d0887"
             ],
             [
              0.1111111111111111,
              "#46039f"
             ],
             [
              0.2222222222222222,
              "#7201a8"
             ],
             [
              0.3333333333333333,
              "#9c179e"
             ],
             [
              0.4444444444444444,
              "#bd3786"
             ],
             [
              0.5555555555555556,
              "#d8576b"
             ],
             [
              0.6666666666666666,
              "#ed7953"
             ],
             [
              0.7777777777777778,
              "#fb9f3a"
             ],
             [
              0.8888888888888888,
              "#fdca26"
             ],
             [
              1,
              "#f0f921"
             ]
            ],
            "type": "histogram2dcontour"
           }
          ],
          "mesh3d": [
           {
            "colorbar": {
             "outlinewidth": 0,
             "ticks": ""
            },
            "type": "mesh3d"
           }
          ],
          "parcoords": [
           {
            "line": {
             "colorbar": {
              "outlinewidth": 0,
              "ticks": ""
             }
            },
            "type": "parcoords"
           }
          ],
          "pie": [
           {
            "automargin": true,
            "type": "pie"
           }
          ],
          "scatter": [
           {
            "fillpattern": {
             "fillmode": "overlay",
             "size": 10,
             "solidity": 0.2
            },
            "type": "scatter"
           }
          ],
          "scatter3d": [
           {
            "line": {
             "colorbar": {
              "outlinewidth": 0,
              "ticks": ""
             }
            },
            "marker": {
             "colorbar": {
              "outlinewidth": 0,
              "ticks": ""
             }
            },
            "type": "scatter3d"
           }
          ],
          "scattercarpet": [
           {
            "marker": {
             "colorbar": {
              "outlinewidth": 0,
              "ticks": ""
             }
            },
            "type": "scattercarpet"
           }
          ],
          "scattergeo": [
           {
            "marker": {
             "colorbar": {
              "outlinewidth": 0,
              "ticks": ""
             }
            },
            "type": "scattergeo"
           }
          ],
          "scattergl": [
           {
            "marker": {
             "colorbar": {
              "outlinewidth": 0,
              "ticks": ""
             }
            },
            "type": "scattergl"
           }
          ],
          "scattermapbox": [
           {
            "marker": {
             "colorbar": {
              "outlinewidth": 0,
              "ticks": ""
             }
            },
            "type": "scattermapbox"
           }
          ],
          "scatterpolar": [
           {
            "marker": {
             "colorbar": {
              "outlinewidth": 0,
              "ticks": ""
             }
            },
            "type": "scatterpolar"
           }
          ],
          "scatterpolargl": [
           {
            "marker": {
             "colorbar": {
              "outlinewidth": 0,
              "ticks": ""
             }
            },
            "type": "scatterpolargl"
           }
          ],
          "scatterternary": [
           {
            "marker": {
             "colorbar": {
              "outlinewidth": 0,
              "ticks": ""
             }
            },
            "type": "scatterternary"
           }
          ],
          "surface": [
           {
            "colorbar": {
             "outlinewidth": 0,
             "ticks": ""
            },
            "colorscale": [
             [
              0,
              "#0d0887"
             ],
             [
              0.1111111111111111,
              "#46039f"
             ],
             [
              0.2222222222222222,
              "#7201a8"
             ],
             [
              0.3333333333333333,
              "#9c179e"
             ],
             [
              0.4444444444444444,
              "#bd3786"
             ],
             [
              0.5555555555555556,
              "#d8576b"
             ],
             [
              0.6666666666666666,
              "#ed7953"
             ],
             [
              0.7777777777777778,
              "#fb9f3a"
             ],
             [
              0.8888888888888888,
              "#fdca26"
             ],
             [
              1,
              "#f0f921"
             ]
            ],
            "type": "surface"
           }
          ],
          "table": [
           {
            "cells": {
             "fill": {
              "color": "#EBF0F8"
             },
             "line": {
              "color": "white"
             }
            },
            "header": {
             "fill": {
              "color": "#C8D4E3"
             },
             "line": {
              "color": "white"
             }
            },
            "type": "table"
           }
          ]
         },
         "layout": {
          "annotationdefaults": {
           "arrowcolor": "#2a3f5f",
           "arrowhead": 0,
           "arrowwidth": 1
          },
          "autotypenumbers": "strict",
          "coloraxis": {
           "colorbar": {
            "outlinewidth": 0,
            "ticks": ""
           }
          },
          "colorscale": {
           "diverging": [
            [
             0,
             "#8e0152"
            ],
            [
             0.1,
             "#c51b7d"
            ],
            [
             0.2,
             "#de77ae"
            ],
            [
             0.3,
             "#f1b6da"
            ],
            [
             0.4,
             "#fde0ef"
            ],
            [
             0.5,
             "#f7f7f7"
            ],
            [
             0.6,
             "#e6f5d0"
            ],
            [
             0.7,
             "#b8e186"
            ],
            [
             0.8,
             "#7fbc41"
            ],
            [
             0.9,
             "#4d9221"
            ],
            [
             1,
             "#276419"
            ]
           ],
           "sequential": [
            [
             0,
             "#0d0887"
            ],
            [
             0.1111111111111111,
             "#46039f"
            ],
            [
             0.2222222222222222,
             "#7201a8"
            ],
            [
             0.3333333333333333,
             "#9c179e"
            ],
            [
             0.4444444444444444,
             "#bd3786"
            ],
            [
             0.5555555555555556,
             "#d8576b"
            ],
            [
             0.6666666666666666,
             "#ed7953"
            ],
            [
             0.7777777777777778,
             "#fb9f3a"
            ],
            [
             0.8888888888888888,
             "#fdca26"
            ],
            [
             1,
             "#f0f921"
            ]
           ],
           "sequentialminus": [
            [
             0,
             "#0d0887"
            ],
            [
             0.1111111111111111,
             "#46039f"
            ],
            [
             0.2222222222222222,
             "#7201a8"
            ],
            [
             0.3333333333333333,
             "#9c179e"
            ],
            [
             0.4444444444444444,
             "#bd3786"
            ],
            [
             0.5555555555555556,
             "#d8576b"
            ],
            [
             0.6666666666666666,
             "#ed7953"
            ],
            [
             0.7777777777777778,
             "#fb9f3a"
            ],
            [
             0.8888888888888888,
             "#fdca26"
            ],
            [
             1,
             "#f0f921"
            ]
           ]
          },
          "colorway": [
           "#636efa",
           "#EF553B",
           "#00cc96",
           "#ab63fa",
           "#FFA15A",
           "#19d3f3",
           "#FF6692",
           "#B6E880",
           "#FF97FF",
           "#FECB52"
          ],
          "font": {
           "color": "#2a3f5f"
          },
          "geo": {
           "bgcolor": "white",
           "lakecolor": "white",
           "landcolor": "#E5ECF6",
           "showlakes": true,
           "showland": true,
           "subunitcolor": "white"
          },
          "hoverlabel": {
           "align": "left"
          },
          "hovermode": "closest",
          "mapbox": {
           "style": "light"
          },
          "paper_bgcolor": "white",
          "plot_bgcolor": "#E5ECF6",
          "polar": {
           "angularaxis": {
            "gridcolor": "white",
            "linecolor": "white",
            "ticks": ""
           },
           "bgcolor": "#E5ECF6",
           "radialaxis": {
            "gridcolor": "white",
            "linecolor": "white",
            "ticks": ""
           }
          },
          "scene": {
           "xaxis": {
            "backgroundcolor": "#E5ECF6",
            "gridcolor": "white",
            "gridwidth": 2,
            "linecolor": "white",
            "showbackground": true,
            "ticks": "",
            "zerolinecolor": "white"
           },
           "yaxis": {
            "backgroundcolor": "#E5ECF6",
            "gridcolor": "white",
            "gridwidth": 2,
            "linecolor": "white",
            "showbackground": true,
            "ticks": "",
            "zerolinecolor": "white"
           },
           "zaxis": {
            "backgroundcolor": "#E5ECF6",
            "gridcolor": "white",
            "gridwidth": 2,
            "linecolor": "white",
            "showbackground": true,
            "ticks": "",
            "zerolinecolor": "white"
           }
          },
          "shapedefaults": {
           "line": {
            "color": "#2a3f5f"
           }
          },
          "ternary": {
           "aaxis": {
            "gridcolor": "white",
            "linecolor": "white",
            "ticks": ""
           },
           "baxis": {
            "gridcolor": "white",
            "linecolor": "white",
            "ticks": ""
           },
           "bgcolor": "#E5ECF6",
           "caxis": {
            "gridcolor": "white",
            "linecolor": "white",
            "ticks": ""
           }
          },
          "title": {
           "x": 0.05
          },
          "xaxis": {
           "automargin": true,
           "gridcolor": "white",
           "linecolor": "white",
           "ticks": "",
           "title": {
            "standoff": 15
           },
           "zerolinecolor": "white",
           "zerolinewidth": 2
          },
          "yaxis": {
           "automargin": true,
           "gridcolor": "white",
           "linecolor": "white",
           "ticks": "",
           "title": {
            "standoff": 15
           },
           "zerolinecolor": "white",
           "zerolinewidth": 2
          }
         }
        },
        "title": {
         "text": "Clicks per source"
        },
        "xaxis": {
         "anchor": "y",
         "domain": [
          0,
          1
         ],
         "title": {
          "text": "date"
         }
        },
        "yaxis": {
         "anchor": "x",
         "domain": [
          0,
          1
         ],
         "title": {
          "text": "n_clicks"
         }
        }
       }
      }
     },
     "metadata": {},
     "output_type": "display_data"
    }
   ],
   "source": [
    "# group df_click by date, source\n",
    "df_clicks[\"date\"] = pd.to_datetime(df_clicks[\"date\"])\n",
    "df_clicks[\"source\"] = df_clicks[\"source\"].astype(\"category\")\n",
    "df_click_group = df_clicks.groupby(by=[\"date\", \"source\"]).count()\n",
    "df_click_group = df_click_group.reset_index()\n",
    "df_click_group[\"date\"] = df_click_group[\"date\"].dt.strftime(\"%d-%m-%Y\")\n",
    "\n",
    "# add a count column\n",
    "df_click_group[\"n_clicks\"] = df_click_group[\"x\"]\n",
    "\n",
    "# drop all columns except for date, stage and n_clicks\n",
    "df_click_group = df_click_group[[\"date\", \"source\", \"n_clicks\"]]\n",
    "\n",
    "# plot the time series with a title\n",
    "fig = px.line(df_click_group, x=\"date\", y=\"n_clicks\", color=\"source\")\n",
    "fig.update_layout(title=\"Clicks per source\")\n",
    "fig.show()\n",
    "\n"
   ]
  },
  {
   "cell_type": "code",
   "execution_count": 18,
   "metadata": {},
   "outputs": [
    {
     "data": {
      "application/vnd.plotly.v1+json": {
       "config": {
        "plotlyServerURL": "https://plot.ly"
       },
       "data": [
        {
         "hovertemplate": "variable=x<br>type=Cut<br>date=%{x}<br>value=%{y}<extra></extra>",
         "legendgroup": "x, Cut",
         "line": {
          "color": "#636efa",
          "dash": "solid"
         },
         "marker": {
          "symbol": "circle"
         },
         "mode": "lines",
         "name": "x, Cut",
         "orientation": "v",
         "showlegend": true,
         "type": "scatter",
         "x": [
          "2022-11-14T13:20:47"
         ],
         "xaxis": "x",
         "y": [
          -0.000002305
         ],
         "yaxis": "y"
        },
        {
         "hovertemplate": "variable=x<br>type=Eucentric<br>date=%{x}<br>value=%{y}<extra></extra>",
         "legendgroup": "x, Eucentric",
         "line": {
          "color": "#636efa",
          "dash": "dot"
         },
         "marker": {
          "symbol": "circle"
         },
         "mode": "lines",
         "name": "x, Eucentric",
         "orientation": "v",
         "showlegend": true,
         "type": "scatter",
         "x": [
          "2022-11-14T13:20:47",
          "2022-11-17T10:16:36",
          "2022-11-22T10:17:06",
          "2022-11-29T11:53:16",
          "2022-11-30T10:29:04",
          "2022-12-01T10:25:29",
          "2022-12-02T10:28:08",
          "2022-12-06T11:07:08",
          "2022-12-08T10:44:14",
          "2022-12-09T10:51:59",
          "2022-12-12T10:51:07",
          "2022-12-13T11:29:39"
         ],
         "xaxis": "x",
         "y": [
          0.000006673914285714286,
          0.000006519913333333334,
          0.000006050353191489362,
          0.000006158392307692308,
          2.074210526315789e-7,
          0.00000658295,
          0.000006168990909090908,
          0.000002498,
          0.0000016189999999999999,
          9.745142857142857e-7,
          0.000008466666666666666,
          0.000016575325000000002
         ],
         "yaxis": "y"
        },
        {
         "hovertemplate": "variable=x<br>type=JCut<br>date=%{x}<br>value=%{y}<extra></extra>",
         "legendgroup": "x, JCut",
         "line": {
          "color": "#636efa",
          "dash": "dash"
         },
         "marker": {
          "symbol": "circle"
         },
         "mode": "lines",
         "name": "x, JCut",
         "orientation": "v",
         "showlegend": true,
         "type": "scatter",
         "x": [
          "2022-11-14T13:20:47",
          "2022-11-17T10:16:36",
          "2022-11-22T10:17:06",
          "2022-11-29T11:53:16",
          "2022-12-02T10:28:08",
          "2022-12-12T10:51:07",
          "2022-12-13T11:29:39"
         ],
         "xaxis": "x",
         "y": [
          0.0000038146000000000003,
          0.0000019743333333333333,
          0.000006370472727272728,
          -2.87e-7,
          0.0000052293333333333335,
          0.0000118,
          4.998000000000001e-7
         ],
         "yaxis": "y"
        },
        {
         "hovertemplate": "variable=x<br>type=LamellaLeftEdge<br>date=%{x}<br>value=%{y}<extra></extra>",
         "legendgroup": "x, LamellaLeftEdge",
         "line": {
          "color": "#636efa",
          "dash": "longdash"
         },
         "marker": {
          "symbol": "circle"
         },
         "mode": "lines",
         "name": "x, LamellaLeftEdge",
         "orientation": "v",
         "showlegend": true,
         "type": "scatter",
         "x": [
          "2022-11-14T13:20:47",
          "2022-11-17T10:16:36",
          "2022-11-22T10:17:06",
          "2022-11-29T11:53:16",
          "2022-11-30T10:29:04",
          "2022-12-01T10:25:29",
          "2022-12-02T10:28:08",
          "2022-12-06T11:07:08",
          "2022-12-09T10:51:59",
          "2022-12-12T10:51:07",
          "2022-12-13T11:29:39"
         ],
         "xaxis": "x",
         "y": [
          -0.000004612,
          -0.0000025624,
          -0.000007914545454545454,
          -0.000008321571428571428,
          -0.000008388909090909092,
          -0.0000019658333333333337,
          5.69e-7,
          -0.00000578125,
          0.000006455999999999999,
          0.00000173,
          0.00000129
         ],
         "yaxis": "y"
        },
        {
         "hovertemplate": "variable=x<br>type=LamellaRightEdge<br>date=%{x}<br>value=%{y}<extra></extra>",
         "legendgroup": "x, LamellaRightEdge",
         "line": {
          "color": "#636efa",
          "dash": "dashdot"
         },
         "marker": {
          "symbol": "circle"
         },
         "mode": "lines",
         "name": "x, LamellaRightEdge",
         "orientation": "v",
         "showlegend": true,
         "type": "scatter",
         "x": [
          "2022-11-14T13:20:47",
          "2022-11-17T10:16:36",
          "2022-11-22T10:17:06",
          "2022-11-29T11:53:16",
          "2022-11-30T10:29:04",
          "2022-12-01T10:25:29",
          "2022-12-02T10:28:08",
          "2022-12-06T11:07:08",
          "2022-12-09T10:51:59",
          "2022-12-12T10:51:07",
          "2022-12-13T11:29:39"
         ],
         "xaxis": "x",
         "y": [
          0.00001095,
          0.00000355,
          -1.1833333333333327e-8,
          -0.000015119285714285715,
          -0.000019699999999999998,
          -0.00001888,
          -0.000025685177419354838,
          -0.000016111000000000002,
          0.0000277,
          -0.00000621932608695652,
          0.0000108545
         ],
         "yaxis": "y"
        },
        {
         "hovertemplate": "variable=x<br>type=LandingPost<br>date=%{x}<br>value=%{y}<extra></extra>",
         "legendgroup": "x, LandingPost",
         "line": {
          "color": "#636efa",
          "dash": "longdashdot"
         },
         "marker": {
          "symbol": "circle"
         },
         "mode": "lines",
         "name": "x, LandingPost",
         "orientation": "v",
         "showlegend": true,
         "type": "scatter",
         "x": [
          "2022-11-14T13:20:47",
          "2022-11-17T10:16:36",
          "2022-11-22T10:17:06",
          "2022-11-29T11:53:16",
          "2022-12-01T10:25:29",
          "2022-12-02T10:28:08",
          "2022-12-06T11:07:08",
          "2022-12-12T10:51:07",
          "2022-12-13T11:29:39"
         ],
         "xaxis": "x",
         "y": [
          -0.0000048,
          0.000011933333333333331,
          0.0000104,
          -0.00000407,
          0.000003905,
          0.0000042786,
          0.0000022349999999999998,
          0.0000066441666666666664,
          0.00000448
         ],
         "yaxis": "y"
        },
        {
         "hovertemplate": "variable=x<br>type=NeedleTip<br>date=%{x}<br>value=%{y}<extra></extra>",
         "legendgroup": "x, NeedleTip",
         "line": {
          "color": "#636efa",
          "dash": "solid"
         },
         "marker": {
          "symbol": "circle"
         },
         "mode": "lines",
         "name": "x, NeedleTip",
         "orientation": "v",
         "showlegend": true,
         "type": "scatter",
         "x": [
          "2022-11-14T13:20:47",
          "2022-11-17T10:16:36",
          "2022-11-22T10:17:06",
          "2022-11-29T11:53:16",
          "2022-11-30T10:29:04",
          "2022-12-01T10:25:29",
          "2022-12-02T10:28:08",
          "2022-12-12T10:51:07",
          "2022-12-13T11:29:39"
         ],
         "xaxis": "x",
         "y": [
          -0.00020866,
          -0.0000143,
          -0.0000029086666666666664,
          -0.000006481999999999999,
          -0.000013695,
          -0.000004418964285714285,
          -0.000008813249999999999,
          -0.0000204,
          7.85e-7
         ],
         "yaxis": "y"
        },
        {
         "hovertemplate": "variable=x<br>type=Polish<br>date=%{x}<br>value=%{y}<extra></extra>",
         "legendgroup": "x, Polish",
         "line": {
          "color": "#636efa",
          "dash": "dot"
         },
         "marker": {
          "symbol": "circle"
         },
         "mode": "lines",
         "name": "x, Polish",
         "orientation": "v",
         "showlegend": true,
         "type": "scatter",
         "x": [
          "2022-11-14T13:20:47",
          "2022-11-17T10:16:36",
          "2022-11-29T11:53:16",
          "2022-11-30T10:29:04",
          "2022-12-01T10:25:29",
          "2022-12-02T10:28:08",
          "2022-12-06T11:07:08",
          "2022-12-12T10:51:07",
          "2022-12-13T11:29:39"
         ],
         "xaxis": "x",
         "y": [
          2.62e-7,
          0.00000425,
          -5.304444444444445e-8,
          6.199999999999999e-7,
          -0.000001454,
          7.979999999999998e-7,
          -0.00000213775,
          -0.00000242,
          3.3e-7
         ],
         "yaxis": "y"
        },
        {
         "hovertemplate": "variable=x<br>type=Sever<br>date=%{x}<br>value=%{y}<extra></extra>",
         "legendgroup": "x, Sever",
         "line": {
          "color": "#636efa",
          "dash": "dash"
         },
         "marker": {
          "symbol": "circle"
         },
         "mode": "lines",
         "name": "x, Sever",
         "orientation": "v",
         "showlegend": true,
         "type": "scatter",
         "x": [
          "2022-11-14T13:20:47",
          "2022-11-17T10:16:36",
          "2022-11-22T10:17:06",
          "2022-12-06T11:07:08"
         ],
         "xaxis": "x",
         "y": [
          0.00000106,
          2.93e-7,
          -0.00000216,
          -0.00000129
         ],
         "yaxis": "y"
        },
        {
         "hovertemplate": "variable=x<br>type=Stable<br>date=%{x}<br>value=%{y}<extra></extra>",
         "legendgroup": "x, Stable",
         "line": {
          "color": "#636efa",
          "dash": "longdash"
         },
         "marker": {
          "symbol": "circle"
         },
         "mode": "lines",
         "name": "x, Stable",
         "orientation": "v",
         "showlegend": true,
         "type": "scatter",
         "x": [
          "2022-11-14T13:20:47",
          "2022-11-17T10:16:36",
          "2022-11-22T10:17:06",
          "2022-11-29T11:53:16",
          "2022-11-30T10:29:04",
          "2022-12-01T10:25:29",
          "2022-12-02T10:28:08",
          "2022-12-06T11:07:08",
          "2022-12-08T10:44:14",
          "2022-12-09T10:51:59",
          "2022-12-12T10:51:07",
          "2022-12-13T11:29:39"
         ],
         "xaxis": "x",
         "y": [
          0.000013195841176470589,
          0.00002859385789473684,
          0.0000475188064516129,
          0.00003001785151515152,
          0.00005938554838709677,
          0.000046879615384615386,
          0.00006491791666666666,
          0.00003151559666666667,
          0.000051480392,
          0.00009146872727272727,
          0.00005821262631578947,
          0.00004775949565217391
         ],
         "yaxis": "y"
        },
        {
         "hovertemplate": "variable=x<br>type=Thin<br>date=%{x}<br>value=%{y}<extra></extra>",
         "legendgroup": "x, Thin",
         "line": {
          "color": "#636efa",
          "dash": "dashdot"
         },
         "marker": {
          "symbol": "circle"
         },
         "mode": "lines",
         "name": "x, Thin",
         "orientation": "v",
         "showlegend": true,
         "type": "scatter",
         "x": [
          "2022-11-14T13:20:47",
          "2022-11-17T10:16:36",
          "2022-11-29T11:53:16",
          "2022-11-30T10:29:04",
          "2022-12-01T10:25:29",
          "2022-12-02T10:28:08",
          "2022-12-06T11:07:08",
          "2022-12-12T10:51:07",
          "2022-12-13T11:29:39"
         ],
         "xaxis": "x",
         "y": [
          1.4342857142857145e-7,
          0.0000035115384615384612,
          -2.5064705882352942e-8,
          0.00000396,
          -0.00001209,
          0.000008320769230769231,
          0.000001237142857142857,
          -0.00000242,
          3.3e-7
         ],
         "yaxis": "y"
        },
        {
         "hovertemplate": "variable=x<br>type=Trench<br>date=%{x}<br>value=%{y}<extra></extra>",
         "legendgroup": "x, Trench",
         "line": {
          "color": "#636efa",
          "dash": "longdashdot"
         },
         "marker": {
          "symbol": "circle"
         },
         "mode": "lines",
         "name": "x, Trench",
         "orientation": "v",
         "showlegend": true,
         "type": "scatter",
         "x": [
          "2022-11-14T13:20:47",
          "2022-11-22T10:17:06",
          "2022-11-29T11:53:16",
          "2022-12-01T10:25:29",
          "2022-12-02T10:28:08",
          "2022-12-06T11:07:08",
          "2022-12-09T10:51:59",
          "2022-12-12T10:51:07",
          "2022-12-13T11:29:39"
         ],
         "xaxis": "x",
         "y": [
          0.000006507999999999999,
          0.00000867,
          0.000013253333333333336,
          0.000043133333333333336,
          0.000212,
          -0.00000632,
          0.000232,
          0.00021399999999999997,
          0.00021099999999999998
         ],
         "yaxis": "y"
        },
        {
         "hovertemplate": "variable=x<br>type=Weld<br>date=%{x}<br>value=%{y}<extra></extra>",
         "legendgroup": "x, Weld",
         "line": {
          "color": "#636efa",
          "dash": "solid"
         },
         "marker": {
          "symbol": "circle"
         },
         "mode": "lines",
         "name": "x, Weld",
         "orientation": "v",
         "showlegend": true,
         "type": "scatter",
         "x": [
          "2022-11-14T13:20:47"
         ],
         "xaxis": "x",
         "y": [
          0.00000166
         ],
         "yaxis": "y"
        },
        {
         "hovertemplate": "variable=x<br>type=Flatten<br>date=%{x}<br>value=%{y}<extra></extra>",
         "legendgroup": "x, Flatten",
         "line": {
          "color": "#636efa",
          "dash": "dot"
         },
         "marker": {
          "symbol": "circle"
         },
         "mode": "lines",
         "name": "x, Flatten",
         "orientation": "v",
         "showlegend": true,
         "type": "scatter",
         "x": [
          "2022-11-17T10:16:36",
          "2022-11-22T10:17:06",
          "2022-11-29T11:53:16",
          "2022-12-01T10:25:29",
          "2022-12-02T10:28:08",
          "2022-12-06T11:07:08",
          "2022-12-08T10:44:14",
          "2022-12-09T10:51:59",
          "2022-12-12T10:51:07",
          "2022-12-13T11:29:39"
         ],
         "xaxis": "x",
         "y": [
          0.00007054500000000001,
          0.0000231,
          0.000014016666666666669,
          0.00007677500000000001,
          0.00020414285714285714,
          0.000005053199999999999,
          0.0001332474,
          0.00022375,
          0.00014704742857142857,
          0.00021633333333333335
         ],
         "yaxis": "y"
        },
        {
         "hovertemplate": "variable=x<br>type=ImageCentre<br>date=%{x}<br>value=%{y}<extra></extra>",
         "legendgroup": "x, ImageCentre",
         "line": {
          "color": "#636efa",
          "dash": "dash"
         },
         "marker": {
          "symbol": "circle"
         },
         "mode": "lines",
         "name": "x, ImageCentre",
         "orientation": "v",
         "showlegend": true,
         "type": "scatter",
         "x": [
          "2022-11-29T11:53:16",
          "2022-12-02T10:28:08",
          "2022-12-06T11:07:08"
         ],
         "xaxis": "x",
         "y": [
          -0.000012370000000000002,
          0.0000019085,
          9.319999999999999e-7
         ],
         "yaxis": "y"
        },
        {
         "hovertemplate": "variable=y<br>type=Cut<br>date=%{x}<br>value=%{y}<extra></extra>",
         "legendgroup": "y, Cut",
         "line": {
          "color": "#EF553B",
          "dash": "solid"
         },
         "marker": {
          "symbol": "circle"
         },
         "mode": "lines",
         "name": "y, Cut",
         "orientation": "v",
         "showlegend": true,
         "type": "scatter",
         "x": [
          "2022-11-14T13:20:47"
         ],
         "xaxis": "x",
         "y": [
          -0.0000089975
         ],
         "yaxis": "y"
        },
        {
         "hovertemplate": "variable=y<br>type=Eucentric<br>date=%{x}<br>value=%{y}<extra></extra>",
         "legendgroup": "y, Eucentric",
         "line": {
          "color": "#EF553B",
          "dash": "dot"
         },
         "marker": {
          "symbol": "circle"
         },
         "mode": "lines",
         "name": "y, Eucentric",
         "orientation": "v",
         "showlegend": true,
         "type": "scatter",
         "x": [
          "2022-11-14T13:20:47",
          "2022-11-17T10:16:36",
          "2022-11-22T10:17:06",
          "2022-11-29T11:53:16",
          "2022-11-30T10:29:04",
          "2022-12-01T10:25:29",
          "2022-12-02T10:28:08",
          "2022-12-06T11:07:08",
          "2022-12-08T10:44:14",
          "2022-12-09T10:51:59",
          "2022-12-12T10:51:07",
          "2022-12-13T11:29:39"
         ],
         "xaxis": "x",
         "y": [
          0.00005058174285714286,
          0.000026008435185185183,
          0.000021991851063829785,
          0.00008292053846153846,
          0.000008066263157894736,
          0.000008965399999999999,
          -0.0000033384545454545463,
          -0.0000017735217391304344,
          0.00004608,
          -0.00001491,
          0.0000013226296296296295,
          0.000004508862499999999
         ],
         "yaxis": "y"
        },
        {
         "hovertemplate": "variable=y<br>type=JCut<br>date=%{x}<br>value=%{y}<extra></extra>",
         "legendgroup": "y, JCut",
         "line": {
          "color": "#EF553B",
          "dash": "dash"
         },
         "marker": {
          "symbol": "circle"
         },
         "mode": "lines",
         "name": "y, JCut",
         "orientation": "v",
         "showlegend": true,
         "type": "scatter",
         "x": [
          "2022-11-14T13:20:47",
          "2022-11-17T10:16:36",
          "2022-11-22T10:17:06",
          "2022-11-29T11:53:16",
          "2022-12-02T10:28:08",
          "2022-12-12T10:51:07",
          "2022-12-13T11:29:39"
         ],
         "xaxis": "x",
         "y": [
          -0.0000013752,
          0.000006467166666666667,
          -0.0000014861818181818181,
          0.00000385,
          8.648333333333333e-7,
          0.0000029400000000000002,
          -0.000023478
         ],
         "yaxis": "y"
        },
        {
         "hovertemplate": "variable=y<br>type=LamellaLeftEdge<br>date=%{x}<br>value=%{y}<extra></extra>",
         "legendgroup": "y, LamellaLeftEdge",
         "line": {
          "color": "#EF553B",
          "dash": "longdash"
         },
         "marker": {
          "symbol": "circle"
         },
         "mode": "lines",
         "name": "y, LamellaLeftEdge",
         "orientation": "v",
         "showlegend": true,
         "type": "scatter",
         "x": [
          "2022-11-14T13:20:47",
          "2022-11-17T10:16:36",
          "2022-11-22T10:17:06",
          "2022-11-29T11:53:16",
          "2022-11-30T10:29:04",
          "2022-12-01T10:25:29",
          "2022-12-02T10:28:08",
          "2022-12-06T11:07:08",
          "2022-12-09T10:51:59",
          "2022-12-12T10:51:07",
          "2022-12-13T11:29:39"
         ],
         "xaxis": "x",
         "y": [
          0.000001239,
          0.0000025626000000000002,
          1.2236363636363635e-7,
          0.0000016969285714285716,
          3.499909090909091e-7,
          0.00000112395,
          0.000003390777777777778,
          0.0000030625,
          0.000004004,
          6.97e-7,
          0.00000389
         ],
         "yaxis": "y"
        },
        {
         "hovertemplate": "variable=y<br>type=LamellaRightEdge<br>date=%{x}<br>value=%{y}<extra></extra>",
         "legendgroup": "y, LamellaRightEdge",
         "line": {
          "color": "#EF553B",
          "dash": "dashdot"
         },
         "marker": {
          "symbol": "circle"
         },
         "mode": "lines",
         "name": "y, LamellaRightEdge",
         "orientation": "v",
         "showlegend": true,
         "type": "scatter",
         "x": [
          "2022-11-14T13:20:47",
          "2022-11-17T10:16:36",
          "2022-11-22T10:17:06",
          "2022-11-29T11:53:16",
          "2022-11-30T10:29:04",
          "2022-12-01T10:25:29",
          "2022-12-02T10:28:08",
          "2022-12-06T11:07:08",
          "2022-12-09T10:51:59",
          "2022-12-12T10:51:07",
          "2022-12-13T11:29:39"
         ],
         "xaxis": "x",
         "y": [
          0.0000013466666666666668,
          9.835e-7,
          1.8969999999999998e-7,
          -0.000045893928571428566,
          -0.000026882300000000002,
          -0.00003156777777777778,
          -0.00002195908387096774,
          -0.000013911379999999999,
          0.0000023033333333333334,
          -0.000012761573913043478,
          0.000001665
         ],
         "yaxis": "y"
        },
        {
         "hovertemplate": "variable=y<br>type=LandingPost<br>date=%{x}<br>value=%{y}<extra></extra>",
         "legendgroup": "y, LandingPost",
         "line": {
          "color": "#EF553B",
          "dash": "longdashdot"
         },
         "marker": {
          "symbol": "circle"
         },
         "mode": "lines",
         "name": "y, LandingPost",
         "orientation": "v",
         "showlegend": true,
         "type": "scatter",
         "x": [
          "2022-11-14T13:20:47",
          "2022-11-17T10:16:36",
          "2022-11-22T10:17:06",
          "2022-11-29T11:53:16",
          "2022-12-01T10:25:29",
          "2022-12-02T10:28:08",
          "2022-12-06T11:07:08",
          "2022-12-12T10:51:07",
          "2022-12-13T11:29:39"
         ],
         "xaxis": "x",
         "y": [
          0.00000345,
          6.476666666666668e-7,
          0.00000113,
          -0.0000176,
          -6.08e-7,
          -0.0000011586,
          -0.000001405,
          -0.000008413333333333333,
          -0.00000119
         ],
         "yaxis": "y"
        },
        {
         "hovertemplate": "variable=y<br>type=NeedleTip<br>date=%{x}<br>value=%{y}<extra></extra>",
         "legendgroup": "y, NeedleTip",
         "line": {
          "color": "#EF553B",
          "dash": "solid"
         },
         "marker": {
          "symbol": "circle"
         },
         "mode": "lines",
         "name": "y, NeedleTip",
         "orientation": "v",
         "showlegend": true,
         "type": "scatter",
         "x": [
          "2022-11-14T13:20:47",
          "2022-11-17T10:16:36",
          "2022-11-22T10:17:06",
          "2022-11-29T11:53:16",
          "2022-11-30T10:29:04",
          "2022-12-01T10:25:29",
          "2022-12-02T10:28:08",
          "2022-12-12T10:51:07",
          "2022-12-13T11:29:39"
         ],
         "xaxis": "x",
         "y": [
          -0.000046785,
          0.0000036050000000000002,
          -0.000006643333333333334,
          -0.000010120000000000001,
          -0.000009356125,
          -0.000012627857142857142,
          -0.0000114775,
          -0.00000249,
          -5.15e-8
         ],
         "yaxis": "y"
        },
        {
         "hovertemplate": "variable=y<br>type=Polish<br>date=%{x}<br>value=%{y}<extra></extra>",
         "legendgroup": "y, Polish",
         "line": {
          "color": "#EF553B",
          "dash": "dot"
         },
         "marker": {
          "symbol": "circle"
         },
         "mode": "lines",
         "name": "y, Polish",
         "orientation": "v",
         "showlegend": true,
         "type": "scatter",
         "x": [
          "2022-11-14T13:20:47",
          "2022-11-17T10:16:36",
          "2022-11-29T11:53:16",
          "2022-11-30T10:29:04",
          "2022-12-01T10:25:29",
          "2022-12-02T10:28:08",
          "2022-12-06T11:07:08",
          "2022-12-12T10:51:07",
          "2022-12-13T11:29:39"
         ],
         "xaxis": "x",
         "y": [
          -0.000002,
          2.86e-7,
          3.676666666666667e-7,
          -0.000007055333333333334,
          -3.115e-7,
          3.140000000000001e-7,
          0.000001185,
          4.8e-7,
          7.82e-8
         ],
         "yaxis": "y"
        },
        {
         "hovertemplate": "variable=y<br>type=Sever<br>date=%{x}<br>value=%{y}<extra></extra>",
         "legendgroup": "y, Sever",
         "line": {
          "color": "#EF553B",
          "dash": "dash"
         },
         "marker": {
          "symbol": "circle"
         },
         "mode": "lines",
         "name": "y, Sever",
         "orientation": "v",
         "showlegend": true,
         "type": "scatter",
         "x": [
          "2022-11-14T13:20:47",
          "2022-11-17T10:16:36",
          "2022-11-22T10:17:06",
          "2022-12-06T11:07:08"
         ],
         "xaxis": "x",
         "y": [
          2.2e-7,
          0.00000277,
          -0.0000079535,
          0.00000973
         ],
         "yaxis": "y"
        },
        {
         "hovertemplate": "variable=y<br>type=Stable<br>date=%{x}<br>value=%{y}<extra></extra>",
         "legendgroup": "y, Stable",
         "line": {
          "color": "#EF553B",
          "dash": "longdash"
         },
         "marker": {
          "symbol": "circle"
         },
         "mode": "lines",
         "name": "y, Stable",
         "orientation": "v",
         "showlegend": true,
         "type": "scatter",
         "x": [
          "2022-11-14T13:20:47",
          "2022-11-17T10:16:36",
          "2022-11-22T10:17:06",
          "2022-11-29T11:53:16",
          "2022-11-30T10:29:04",
          "2022-12-01T10:25:29",
          "2022-12-02T10:28:08",
          "2022-12-06T11:07:08",
          "2022-12-08T10:44:14",
          "2022-12-09T10:51:59",
          "2022-12-12T10:51:07",
          "2022-12-13T11:29:39"
         ],
         "xaxis": "x",
         "y": [
          -0.000016304191176470588,
          -0.000008686394736842107,
          0.0000010445806451612909,
          -0.0000019018181818181819,
          -0.00002292641935483871,
          -0.00001541448717948718,
          -0.000006220166666666668,
          -0.000028922083333333332,
          -0.00002988704,
          -0.00001828136363636364,
          -0.000023597421052631578,
          -0.0000329800347826087
         ],
         "yaxis": "y"
        },
        {
         "hovertemplate": "variable=y<br>type=Thin<br>date=%{x}<br>value=%{y}<extra></extra>",
         "legendgroup": "y, Thin",
         "line": {
          "color": "#EF553B",
          "dash": "dashdot"
         },
         "marker": {
          "symbol": "circle"
         },
         "mode": "lines",
         "name": "y, Thin",
         "orientation": "v",
         "showlegend": true,
         "type": "scatter",
         "x": [
          "2022-11-14T13:20:47",
          "2022-11-17T10:16:36",
          "2022-11-29T11:53:16",
          "2022-11-30T10:29:04",
          "2022-12-01T10:25:29",
          "2022-12-02T10:28:08",
          "2022-12-06T11:07:08",
          "2022-12-12T10:51:07",
          "2022-12-13T11:29:39"
         ],
         "xaxis": "x",
         "y": [
          -6.942857142857142e-7,
          0.000008646307692307692,
          0.0000012970588235294118,
          -0.0000011625333333333335,
          -0.0000011555,
          5.723076923076924e-7,
          0.000003035714285714286,
          4.8e-7,
          7.82e-8
         ],
         "yaxis": "y"
        },
        {
         "hovertemplate": "variable=y<br>type=Trench<br>date=%{x}<br>value=%{y}<extra></extra>",
         "legendgroup": "y, Trench",
         "line": {
          "color": "#EF553B",
          "dash": "longdashdot"
         },
         "marker": {
          "symbol": "circle"
         },
         "mode": "lines",
         "name": "y, Trench",
         "orientation": "v",
         "showlegend": true,
         "type": "scatter",
         "x": [
          "2022-11-14T13:20:47",
          "2022-11-22T10:17:06",
          "2022-11-29T11:53:16",
          "2022-12-01T10:25:29",
          "2022-12-02T10:28:08",
          "2022-12-06T11:07:08",
          "2022-12-09T10:51:59",
          "2022-12-12T10:51:07",
          "2022-12-13T11:29:39"
         ],
         "xaxis": "x",
         "y": [
          0.0000016099999999999998,
          5.36e-7,
          -0.000011203333333333333,
          0.000004805999999999999,
          0.0000126,
          0.00000423,
          0.0000237,
          0.0000161,
          0.000052300000000000004
         ],
         "yaxis": "y"
        },
        {
         "hovertemplate": "variable=y<br>type=Weld<br>date=%{x}<br>value=%{y}<extra></extra>",
         "legendgroup": "y, Weld",
         "line": {
          "color": "#EF553B",
          "dash": "solid"
         },
         "marker": {
          "symbol": "circle"
         },
         "mode": "lines",
         "name": "y, Weld",
         "orientation": "v",
         "showlegend": true,
         "type": "scatter",
         "x": [
          "2022-11-14T13:20:47"
         ],
         "xaxis": "x",
         "y": [
          -0.0000131
         ],
         "yaxis": "y"
        },
        {
         "hovertemplate": "variable=y<br>type=Flatten<br>date=%{x}<br>value=%{y}<extra></extra>",
         "legendgroup": "y, Flatten",
         "line": {
          "color": "#EF553B",
          "dash": "dot"
         },
         "marker": {
          "symbol": "circle"
         },
         "mode": "lines",
         "name": "y, Flatten",
         "orientation": "v",
         "showlegend": true,
         "type": "scatter",
         "x": [
          "2022-11-17T10:16:36",
          "2022-11-22T10:17:06",
          "2022-11-29T11:53:16",
          "2022-12-01T10:25:29",
          "2022-12-02T10:28:08",
          "2022-12-06T11:07:08",
          "2022-12-08T10:44:14",
          "2022-12-09T10:51:59",
          "2022-12-12T10:51:07",
          "2022-12-13T11:29:39"
         ],
         "xaxis": "x",
         "y": [
          -0.000019391,
          -0.0000037650000000000004,
          0.000015063333333333334,
          0.000004992,
          0.000008903857142857143,
          0.00001958,
          0.0000240061,
          0.00001746375,
          -0.000012800000000000001,
          0.0000302
         ],
         "yaxis": "y"
        },
        {
         "hovertemplate": "variable=y<br>type=ImageCentre<br>date=%{x}<br>value=%{y}<extra></extra>",
         "legendgroup": "y, ImageCentre",
         "line": {
          "color": "#EF553B",
          "dash": "dash"
         },
         "marker": {
          "symbol": "circle"
         },
         "mode": "lines",
         "name": "y, ImageCentre",
         "orientation": "v",
         "showlegend": true,
         "type": "scatter",
         "x": [
          "2022-11-29T11:53:16",
          "2022-12-02T10:28:08",
          "2022-12-06T11:07:08"
         ],
         "xaxis": "x",
         "y": [
          -0.00008534,
          -0.000002675,
          0.00001275
         ],
         "yaxis": "y"
        }
       ],
       "layout": {
        "legend": {
         "title": {
          "text": "variable, type"
         },
         "tracegroupgap": 0
        },
        "margin": {
         "t": 60
        },
        "template": {
         "data": {
          "bar": [
           {
            "error_x": {
             "color": "#2a3f5f"
            },
            "error_y": {
             "color": "#2a3f5f"
            },
            "marker": {
             "line": {
              "color": "#E5ECF6",
              "width": 0.5
             },
             "pattern": {
              "fillmode": "overlay",
              "size": 10,
              "solidity": 0.2
             }
            },
            "type": "bar"
           }
          ],
          "barpolar": [
           {
            "marker": {
             "line": {
              "color": "#E5ECF6",
              "width": 0.5
             },
             "pattern": {
              "fillmode": "overlay",
              "size": 10,
              "solidity": 0.2
             }
            },
            "type": "barpolar"
           }
          ],
          "carpet": [
           {
            "aaxis": {
             "endlinecolor": "#2a3f5f",
             "gridcolor": "white",
             "linecolor": "white",
             "minorgridcolor": "white",
             "startlinecolor": "#2a3f5f"
            },
            "baxis": {
             "endlinecolor": "#2a3f5f",
             "gridcolor": "white",
             "linecolor": "white",
             "minorgridcolor": "white",
             "startlinecolor": "#2a3f5f"
            },
            "type": "carpet"
           }
          ],
          "choropleth": [
           {
            "colorbar": {
             "outlinewidth": 0,
             "ticks": ""
            },
            "type": "choropleth"
           }
          ],
          "contour": [
           {
            "colorbar": {
             "outlinewidth": 0,
             "ticks": ""
            },
            "colorscale": [
             [
              0,
              "#0d0887"
             ],
             [
              0.1111111111111111,
              "#46039f"
             ],
             [
              0.2222222222222222,
              "#7201a8"
             ],
             [
              0.3333333333333333,
              "#9c179e"
             ],
             [
              0.4444444444444444,
              "#bd3786"
             ],
             [
              0.5555555555555556,
              "#d8576b"
             ],
             [
              0.6666666666666666,
              "#ed7953"
             ],
             [
              0.7777777777777778,
              "#fb9f3a"
             ],
             [
              0.8888888888888888,
              "#fdca26"
             ],
             [
              1,
              "#f0f921"
             ]
            ],
            "type": "contour"
           }
          ],
          "contourcarpet": [
           {
            "colorbar": {
             "outlinewidth": 0,
             "ticks": ""
            },
            "type": "contourcarpet"
           }
          ],
          "heatmap": [
           {
            "colorbar": {
             "outlinewidth": 0,
             "ticks": ""
            },
            "colorscale": [
             [
              0,
              "#0d0887"
             ],
             [
              0.1111111111111111,
              "#46039f"
             ],
             [
              0.2222222222222222,
              "#7201a8"
             ],
             [
              0.3333333333333333,
              "#9c179e"
             ],
             [
              0.4444444444444444,
              "#bd3786"
             ],
             [
              0.5555555555555556,
              "#d8576b"
             ],
             [
              0.6666666666666666,
              "#ed7953"
             ],
             [
              0.7777777777777778,
              "#fb9f3a"
             ],
             [
              0.8888888888888888,
              "#fdca26"
             ],
             [
              1,
              "#f0f921"
             ]
            ],
            "type": "heatmap"
           }
          ],
          "heatmapgl": [
           {
            "colorbar": {
             "outlinewidth": 0,
             "ticks": ""
            },
            "colorscale": [
             [
              0,
              "#0d0887"
             ],
             [
              0.1111111111111111,
              "#46039f"
             ],
             [
              0.2222222222222222,
              "#7201a8"
             ],
             [
              0.3333333333333333,
              "#9c179e"
             ],
             [
              0.4444444444444444,
              "#bd3786"
             ],
             [
              0.5555555555555556,
              "#d8576b"
             ],
             [
              0.6666666666666666,
              "#ed7953"
             ],
             [
              0.7777777777777778,
              "#fb9f3a"
             ],
             [
              0.8888888888888888,
              "#fdca26"
             ],
             [
              1,
              "#f0f921"
             ]
            ],
            "type": "heatmapgl"
           }
          ],
          "histogram": [
           {
            "marker": {
             "pattern": {
              "fillmode": "overlay",
              "size": 10,
              "solidity": 0.2
             }
            },
            "type": "histogram"
           }
          ],
          "histogram2d": [
           {
            "colorbar": {
             "outlinewidth": 0,
             "ticks": ""
            },
            "colorscale": [
             [
              0,
              "#0d0887"
             ],
             [
              0.1111111111111111,
              "#46039f"
             ],
             [
              0.2222222222222222,
              "#7201a8"
             ],
             [
              0.3333333333333333,
              "#9c179e"
             ],
             [
              0.4444444444444444,
              "#bd3786"
             ],
             [
              0.5555555555555556,
              "#d8576b"
             ],
             [
              0.6666666666666666,
              "#ed7953"
             ],
             [
              0.7777777777777778,
              "#fb9f3a"
             ],
             [
              0.8888888888888888,
              "#fdca26"
             ],
             [
              1,
              "#f0f921"
             ]
            ],
            "type": "histogram2d"
           }
          ],
          "histogram2dcontour": [
           {
            "colorbar": {
             "outlinewidth": 0,
             "ticks": ""
            },
            "colorscale": [
             [
              0,
              "#0d0887"
             ],
             [
              0.1111111111111111,
              "#46039f"
             ],
             [
              0.2222222222222222,
              "#7201a8"
             ],
             [
              0.3333333333333333,
              "#9c179e"
             ],
             [
              0.4444444444444444,
              "#bd3786"
             ],
             [
              0.5555555555555556,
              "#d8576b"
             ],
             [
              0.6666666666666666,
              "#ed7953"
             ],
             [
              0.7777777777777778,
              "#fb9f3a"
             ],
             [
              0.8888888888888888,
              "#fdca26"
             ],
             [
              1,
              "#f0f921"
             ]
            ],
            "type": "histogram2dcontour"
           }
          ],
          "mesh3d": [
           {
            "colorbar": {
             "outlinewidth": 0,
             "ticks": ""
            },
            "type": "mesh3d"
           }
          ],
          "parcoords": [
           {
            "line": {
             "colorbar": {
              "outlinewidth": 0,
              "ticks": ""
             }
            },
            "type": "parcoords"
           }
          ],
          "pie": [
           {
            "automargin": true,
            "type": "pie"
           }
          ],
          "scatter": [
           {
            "fillpattern": {
             "fillmode": "overlay",
             "size": 10,
             "solidity": 0.2
            },
            "type": "scatter"
           }
          ],
          "scatter3d": [
           {
            "line": {
             "colorbar": {
              "outlinewidth": 0,
              "ticks": ""
             }
            },
            "marker": {
             "colorbar": {
              "outlinewidth": 0,
              "ticks": ""
             }
            },
            "type": "scatter3d"
           }
          ],
          "scattercarpet": [
           {
            "marker": {
             "colorbar": {
              "outlinewidth": 0,
              "ticks": ""
             }
            },
            "type": "scattercarpet"
           }
          ],
          "scattergeo": [
           {
            "marker": {
             "colorbar": {
              "outlinewidth": 0,
              "ticks": ""
             }
            },
            "type": "scattergeo"
           }
          ],
          "scattergl": [
           {
            "marker": {
             "colorbar": {
              "outlinewidth": 0,
              "ticks": ""
             }
            },
            "type": "scattergl"
           }
          ],
          "scattermapbox": [
           {
            "marker": {
             "colorbar": {
              "outlinewidth": 0,
              "ticks": ""
             }
            },
            "type": "scattermapbox"
           }
          ],
          "scatterpolar": [
           {
            "marker": {
             "colorbar": {
              "outlinewidth": 0,
              "ticks": ""
             }
            },
            "type": "scatterpolar"
           }
          ],
          "scatterpolargl": [
           {
            "marker": {
             "colorbar": {
              "outlinewidth": 0,
              "ticks": ""
             }
            },
            "type": "scatterpolargl"
           }
          ],
          "scatterternary": [
           {
            "marker": {
             "colorbar": {
              "outlinewidth": 0,
              "ticks": ""
             }
            },
            "type": "scatterternary"
           }
          ],
          "surface": [
           {
            "colorbar": {
             "outlinewidth": 0,
             "ticks": ""
            },
            "colorscale": [
             [
              0,
              "#0d0887"
             ],
             [
              0.1111111111111111,
              "#46039f"
             ],
             [
              0.2222222222222222,
              "#7201a8"
             ],
             [
              0.3333333333333333,
              "#9c179e"
             ],
             [
              0.4444444444444444,
              "#bd3786"
             ],
             [
              0.5555555555555556,
              "#d8576b"
             ],
             [
              0.6666666666666666,
              "#ed7953"
             ],
             [
              0.7777777777777778,
              "#fb9f3a"
             ],
             [
              0.8888888888888888,
              "#fdca26"
             ],
             [
              1,
              "#f0f921"
             ]
            ],
            "type": "surface"
           }
          ],
          "table": [
           {
            "cells": {
             "fill": {
              "color": "#EBF0F8"
             },
             "line": {
              "color": "white"
             }
            },
            "header": {
             "fill": {
              "color": "#C8D4E3"
             },
             "line": {
              "color": "white"
             }
            },
            "type": "table"
           }
          ]
         },
         "layout": {
          "annotationdefaults": {
           "arrowcolor": "#2a3f5f",
           "arrowhead": 0,
           "arrowwidth": 1
          },
          "autotypenumbers": "strict",
          "coloraxis": {
           "colorbar": {
            "outlinewidth": 0,
            "ticks": ""
           }
          },
          "colorscale": {
           "diverging": [
            [
             0,
             "#8e0152"
            ],
            [
             0.1,
             "#c51b7d"
            ],
            [
             0.2,
             "#de77ae"
            ],
            [
             0.3,
             "#f1b6da"
            ],
            [
             0.4,
             "#fde0ef"
            ],
            [
             0.5,
             "#f7f7f7"
            ],
            [
             0.6,
             "#e6f5d0"
            ],
            [
             0.7,
             "#b8e186"
            ],
            [
             0.8,
             "#7fbc41"
            ],
            [
             0.9,
             "#4d9221"
            ],
            [
             1,
             "#276419"
            ]
           ],
           "sequential": [
            [
             0,
             "#0d0887"
            ],
            [
             0.1111111111111111,
             "#46039f"
            ],
            [
             0.2222222222222222,
             "#7201a8"
            ],
            [
             0.3333333333333333,
             "#9c179e"
            ],
            [
             0.4444444444444444,
             "#bd3786"
            ],
            [
             0.5555555555555556,
             "#d8576b"
            ],
            [
             0.6666666666666666,
             "#ed7953"
            ],
            [
             0.7777777777777778,
             "#fb9f3a"
            ],
            [
             0.8888888888888888,
             "#fdca26"
            ],
            [
             1,
             "#f0f921"
            ]
           ],
           "sequentialminus": [
            [
             0,
             "#0d0887"
            ],
            [
             0.1111111111111111,
             "#46039f"
            ],
            [
             0.2222222222222222,
             "#7201a8"
            ],
            [
             0.3333333333333333,
             "#9c179e"
            ],
            [
             0.4444444444444444,
             "#bd3786"
            ],
            [
             0.5555555555555556,
             "#d8576b"
            ],
            [
             0.6666666666666666,
             "#ed7953"
            ],
            [
             0.7777777777777778,
             "#fb9f3a"
            ],
            [
             0.8888888888888888,
             "#fdca26"
            ],
            [
             1,
             "#f0f921"
            ]
           ]
          },
          "colorway": [
           "#636efa",
           "#EF553B",
           "#00cc96",
           "#ab63fa",
           "#FFA15A",
           "#19d3f3",
           "#FF6692",
           "#B6E880",
           "#FF97FF",
           "#FECB52"
          ],
          "font": {
           "color": "#2a3f5f"
          },
          "geo": {
           "bgcolor": "white",
           "lakecolor": "white",
           "landcolor": "#E5ECF6",
           "showlakes": true,
           "showland": true,
           "subunitcolor": "white"
          },
          "hoverlabel": {
           "align": "left"
          },
          "hovermode": "closest",
          "mapbox": {
           "style": "light"
          },
          "paper_bgcolor": "white",
          "plot_bgcolor": "#E5ECF6",
          "polar": {
           "angularaxis": {
            "gridcolor": "white",
            "linecolor": "white",
            "ticks": ""
           },
           "bgcolor": "#E5ECF6",
           "radialaxis": {
            "gridcolor": "white",
            "linecolor": "white",
            "ticks": ""
           }
          },
          "scene": {
           "xaxis": {
            "backgroundcolor": "#E5ECF6",
            "gridcolor": "white",
            "gridwidth": 2,
            "linecolor": "white",
            "showbackground": true,
            "ticks": "",
            "zerolinecolor": "white"
           },
           "yaxis": {
            "backgroundcolor": "#E5ECF6",
            "gridcolor": "white",
            "gridwidth": 2,
            "linecolor": "white",
            "showbackground": true,
            "ticks": "",
            "zerolinecolor": "white"
           },
           "zaxis": {
            "backgroundcolor": "#E5ECF6",
            "gridcolor": "white",
            "gridwidth": 2,
            "linecolor": "white",
            "showbackground": true,
            "ticks": "",
            "zerolinecolor": "white"
           }
          },
          "shapedefaults": {
           "line": {
            "color": "#2a3f5f"
           }
          },
          "ternary": {
           "aaxis": {
            "gridcolor": "white",
            "linecolor": "white",
            "ticks": ""
           },
           "baxis": {
            "gridcolor": "white",
            "linecolor": "white",
            "ticks": ""
           },
           "bgcolor": "#E5ECF6",
           "caxis": {
            "gridcolor": "white",
            "linecolor": "white",
            "ticks": ""
           }
          },
          "title": {
           "x": 0.05
          },
          "xaxis": {
           "automargin": true,
           "gridcolor": "white",
           "linecolor": "white",
           "ticks": "",
           "title": {
            "standoff": 15
           },
           "zerolinecolor": "white",
           "zerolinewidth": 2
          },
          "yaxis": {
           "automargin": true,
           "gridcolor": "white",
           "linecolor": "white",
           "ticks": "",
           "title": {
            "standoff": 15
           },
           "zerolinecolor": "white",
           "zerolinewidth": 2
          }
         }
        },
        "title": {
         "text": "Mean click size"
        },
        "xaxis": {
         "anchor": "y",
         "domain": [
          0,
          1
         ],
         "title": {
          "text": "date"
         }
        },
        "yaxis": {
         "anchor": "x",
         "domain": [
          0,
          1
         ],
         "title": {
          "text": "value"
         }
        }
       }
      }
     },
     "metadata": {},
     "output_type": "display_data"
    }
   ],
   "source": [
    "# calculate the mean click size x and y for each date, stage\n",
    "df_clicks[\"date\"] = pd.to_datetime(df_clicks[\"date\"])\n",
    "df_clicks[\"stage\"] = df_clicks[\"stage\"].astype(\"category\")\n",
    "df_clicks_group = df_clicks.groupby(by=[\"date\", \"type\"]).mean()\n",
    "df_clicks_group = df_clicks_group.reset_index()\n",
    "\n",
    "# fillna 0 for columns x and y\n",
    "df_clicks_group[[\"x\", \"y\"]] = df_clicks_group[[\"x\", \"y\"]].fillna(0)\n",
    "\n",
    "# plot the time series with a title\n",
    "fig = px.line(df_clicks_group, x=\"date\", y=[\"x\", \"y\"], line_dash=\"type\")\n",
    "fig.update_layout(title=\"Mean click size\")\n",
    "fig.show()"
   ]
  },
  {
   "cell_type": "code",
   "execution_count": 19,
   "metadata": {},
   "outputs": [
    {
     "data": {
      "application/vnd.plotly.v1+json": {
       "config": {
        "plotlyServerURL": "https://plot.ly"
       },
       "data": [
        {
         "hovertemplate": "stage=Landing<br>feature=ImageCentre<br>date=%{x}<br>total=%{y}<extra></extra>",
         "legendgroup": "Landing, ImageCentre",
         "line": {
          "color": "#636efa",
          "dash": "solid"
         },
         "marker": {
          "symbol": "circle"
         },
         "mode": "lines",
         "name": "Landing, ImageCentre",
         "orientation": "v",
         "showlegend": true,
         "type": "scatter",
         "x": [
          "14-11-2022",
          "17-11-2022",
          "22-11-2022",
          "29-11-2022",
          "30-11-2022",
          "01-12-2022",
          "02-12-2022",
          "06-12-2022",
          "09-12-2022",
          "12-12-2022",
          "13-12-2022"
         ],
         "xaxis": "x",
         "y": [
          4,
          4,
          3,
          11,
          12,
          12,
          16,
          28,
          6,
          20,
          10
         ],
         "yaxis": "y"
        },
        {
         "hovertemplate": "stage=Landing<br>feature=LamellaLeftEdge<br>date=%{x}<br>total=%{y}<extra></extra>",
         "legendgroup": "Landing, LamellaLeftEdge",
         "line": {
          "color": "#636efa",
          "dash": "dot"
         },
         "marker": {
          "symbol": "circle"
         },
         "mode": "lines",
         "name": "Landing, LamellaLeftEdge",
         "orientation": "v",
         "showlegend": true,
         "type": "scatter",
         "x": [
          "14-11-2022",
          "17-11-2022",
          "22-11-2022",
          "29-11-2022",
          "30-11-2022",
          "01-12-2022"
         ],
         "xaxis": "x",
         "y": [
          3,
          2,
          1,
          3,
          4,
          4
         ],
         "yaxis": "y"
        },
        {
         "hovertemplate": "stage=Landing<br>feature=LamellaRightEdge<br>date=%{x}<br>total=%{y}<extra></extra>",
         "legendgroup": "Landing, LamellaRightEdge",
         "line": {
          "color": "#636efa",
          "dash": "dash"
         },
         "marker": {
          "symbol": "circle"
         },
         "mode": "lines",
         "name": "Landing, LamellaRightEdge",
         "orientation": "v",
         "showlegend": true,
         "type": "scatter",
         "x": [
          "14-11-2022",
          "17-11-2022",
          "22-11-2022",
          "29-11-2022",
          "30-11-2022",
          "01-12-2022",
          "02-12-2022",
          "06-12-2022",
          "09-12-2022",
          "12-12-2022",
          "13-12-2022"
         ],
         "xaxis": "x",
         "y": [
          5,
          4,
          8,
          15,
          21,
          19,
          35,
          45,
          8,
          47,
          14
         ],
         "yaxis": "y"
        },
        {
         "hovertemplate": "stage=Landing<br>feature=LandingPost<br>date=%{x}<br>total=%{y}<extra></extra>",
         "legendgroup": "Landing, LandingPost",
         "line": {
          "color": "#636efa",
          "dash": "longdash"
         },
         "marker": {
          "symbol": "circle"
         },
         "mode": "lines",
         "name": "Landing, LandingPost",
         "orientation": "v",
         "showlegend": true,
         "type": "scatter",
         "x": [
          "14-11-2022",
          "17-11-2022",
          "22-11-2022",
          "29-11-2022",
          "30-11-2022",
          "01-12-2022",
          "02-12-2022",
          "06-12-2022",
          "09-12-2022",
          "12-12-2022",
          "13-12-2022"
         ],
         "xaxis": "x",
         "y": [
          3,
          3,
          3,
          3,
          4,
          7,
          10,
          15,
          2,
          22,
          4
         ],
         "yaxis": "y"
        },
        {
         "hovertemplate": "stage=Liftout<br>feature=ImageCentre<br>date=%{x}<br>total=%{y}<extra></extra>",
         "legendgroup": "Liftout, ImageCentre",
         "line": {
          "color": "#EF553B",
          "dash": "solid"
         },
         "marker": {
          "symbol": "circle"
         },
         "mode": "lines",
         "name": "Liftout, ImageCentre",
         "orientation": "v",
         "showlegend": true,
         "type": "scatter",
         "x": [
          "14-11-2022",
          "17-11-2022",
          "22-11-2022",
          "29-11-2022",
          "30-11-2022",
          "01-12-2022",
          "02-12-2022",
          "06-12-2022",
          "09-12-2022",
          "12-12-2022",
          "13-12-2022"
         ],
         "xaxis": "x",
         "y": [
          3,
          5,
          12,
          10,
          8,
          10,
          8,
          4,
          3,
          3,
          4
         ],
         "yaxis": "y"
        },
        {
         "hovertemplate": "stage=Liftout<br>feature=LamellaLeftEdge<br>date=%{x}<br>total=%{y}<extra></extra>",
         "legendgroup": "Liftout, LamellaLeftEdge",
         "line": {
          "color": "#EF553B",
          "dash": "dot"
         },
         "marker": {
          "symbol": "circle"
         },
         "mode": "lines",
         "name": "Liftout, LamellaLeftEdge",
         "orientation": "v",
         "showlegend": true,
         "type": "scatter",
         "x": [
          "14-11-2022",
          "17-11-2022",
          "22-11-2022",
          "29-11-2022",
          "30-11-2022",
          "01-12-2022",
          "02-12-2022",
          "06-12-2022",
          "09-12-2022",
          "12-12-2022",
          "13-12-2022"
         ],
         "xaxis": "x",
         "y": [
          6,
          11,
          23,
          15,
          13,
          16,
          15,
          8,
          6,
          6,
          12
         ],
         "yaxis": "y"
        },
        {
         "hovertemplate": "stage=Liftout<br>feature=LamellaRightEdge<br>date=%{x}<br>total=%{y}<extra></extra>",
         "legendgroup": "Liftout, LamellaRightEdge",
         "line": {
          "color": "#EF553B",
          "dash": "dash"
         },
         "marker": {
          "symbol": "circle"
         },
         "mode": "lines",
         "name": "Liftout, LamellaRightEdge",
         "orientation": "v",
         "showlegend": true,
         "type": "scatter",
         "x": [
          "14-11-2022",
          "17-11-2022",
          "22-11-2022",
          "29-11-2022",
          "30-11-2022",
          "01-12-2022",
          "02-12-2022",
          "06-12-2022",
          "09-12-2022",
          "12-12-2022",
          "13-12-2022"
         ],
         "xaxis": "x",
         "y": [
          4,
          5,
          6,
          5,
          4,
          6,
          7,
          4,
          6,
          4,
          4
         ],
         "yaxis": "y"
        },
        {
         "hovertemplate": "stage=Liftout<br>feature=NeedleTip<br>date=%{x}<br>total=%{y}<extra></extra>",
         "legendgroup": "Liftout, NeedleTip",
         "line": {
          "color": "#EF553B",
          "dash": "dashdot"
         },
         "marker": {
          "symbol": "circle"
         },
         "mode": "lines",
         "name": "Liftout, NeedleTip",
         "orientation": "v",
         "showlegend": true,
         "type": "scatter",
         "x": [
          "14-11-2022",
          "17-11-2022",
          "22-11-2022",
          "29-11-2022",
          "30-11-2022",
          "01-12-2022",
          "02-12-2022",
          "06-12-2022",
          "09-12-2022",
          "12-12-2022",
          "13-12-2022"
         ],
         "xaxis": "x",
         "y": [
          6,
          10,
          12,
          12,
          10,
          17,
          11,
          8,
          6,
          6,
          12
         ],
         "yaxis": "y"
        },
        {
         "hovertemplate": "stage=MillJCut<br>feature=ImageCentre<br>date=%{x}<br>total=%{y}<extra></extra>",
         "legendgroup": "MillJCut, ImageCentre",
         "line": {
          "color": "#00cc96",
          "dash": "solid"
         },
         "marker": {
          "symbol": "circle"
         },
         "mode": "lines",
         "name": "MillJCut, ImageCentre",
         "orientation": "v",
         "showlegend": true,
         "type": "scatter",
         "x": [
          "14-11-2022",
          "29-11-2022",
          "30-11-2022",
          "01-12-2022",
          "02-12-2022",
          "06-12-2022",
          "09-12-2022",
          "12-12-2022",
          "13-12-2022"
         ],
         "xaxis": "x",
         "y": [
          8,
          5,
          4,
          5,
          6,
          4,
          3,
          4,
          4
         ],
         "yaxis": "y"
        },
        {
         "hovertemplate": "stage=MillJCut<br>feature=LamellaLeftEdge<br>date=%{x}<br>total=%{y}<extra></extra>",
         "legendgroup": "MillJCut, LamellaLeftEdge",
         "line": {
          "color": "#00cc96",
          "dash": "dot"
         },
         "marker": {
          "symbol": "circle"
         },
         "mode": "lines",
         "name": "MillJCut, LamellaLeftEdge",
         "orientation": "v",
         "showlegend": true,
         "type": "scatter",
         "x": [
          "29-11-2022",
          "30-11-2022",
          "01-12-2022",
          "02-12-2022",
          "06-12-2022",
          "09-12-2022",
          "12-12-2022",
          "13-12-2022"
         ],
         "xaxis": "x",
         "y": [
          5,
          4,
          5,
          6,
          4,
          6,
          4,
          4
         ],
         "yaxis": "y"
        },
        {
         "hovertemplate": "stage=MillJCut<br>feature=NeedleTip<br>date=%{x}<br>total=%{y}<extra></extra>",
         "legendgroup": "MillJCut, NeedleTip",
         "line": {
          "color": "#00cc96",
          "dash": "dashdot"
         },
         "marker": {
          "symbol": "circle"
         },
         "mode": "lines",
         "name": "MillJCut, NeedleTip",
         "orientation": "v",
         "showlegend": true,
         "type": "scatter",
         "x": [
          "14-11-2022"
         ],
         "xaxis": "x",
         "y": [
          8
         ],
         "yaxis": "y"
        }
       ],
       "layout": {
        "legend": {
         "title": {
          "text": "stage, feature"
         },
         "tracegroupgap": 0
        },
        "margin": {
         "t": 60
        },
        "template": {
         "data": {
          "bar": [
           {
            "error_x": {
             "color": "#2a3f5f"
            },
            "error_y": {
             "color": "#2a3f5f"
            },
            "marker": {
             "line": {
              "color": "#E5ECF6",
              "width": 0.5
             },
             "pattern": {
              "fillmode": "overlay",
              "size": 10,
              "solidity": 0.2
             }
            },
            "type": "bar"
           }
          ],
          "barpolar": [
           {
            "marker": {
             "line": {
              "color": "#E5ECF6",
              "width": 0.5
             },
             "pattern": {
              "fillmode": "overlay",
              "size": 10,
              "solidity": 0.2
             }
            },
            "type": "barpolar"
           }
          ],
          "carpet": [
           {
            "aaxis": {
             "endlinecolor": "#2a3f5f",
             "gridcolor": "white",
             "linecolor": "white",
             "minorgridcolor": "white",
             "startlinecolor": "#2a3f5f"
            },
            "baxis": {
             "endlinecolor": "#2a3f5f",
             "gridcolor": "white",
             "linecolor": "white",
             "minorgridcolor": "white",
             "startlinecolor": "#2a3f5f"
            },
            "type": "carpet"
           }
          ],
          "choropleth": [
           {
            "colorbar": {
             "outlinewidth": 0,
             "ticks": ""
            },
            "type": "choropleth"
           }
          ],
          "contour": [
           {
            "colorbar": {
             "outlinewidth": 0,
             "ticks": ""
            },
            "colorscale": [
             [
              0,
              "#0d0887"
             ],
             [
              0.1111111111111111,
              "#46039f"
             ],
             [
              0.2222222222222222,
              "#7201a8"
             ],
             [
              0.3333333333333333,
              "#9c179e"
             ],
             [
              0.4444444444444444,
              "#bd3786"
             ],
             [
              0.5555555555555556,
              "#d8576b"
             ],
             [
              0.6666666666666666,
              "#ed7953"
             ],
             [
              0.7777777777777778,
              "#fb9f3a"
             ],
             [
              0.8888888888888888,
              "#fdca26"
             ],
             [
              1,
              "#f0f921"
             ]
            ],
            "type": "contour"
           }
          ],
          "contourcarpet": [
           {
            "colorbar": {
             "outlinewidth": 0,
             "ticks": ""
            },
            "type": "contourcarpet"
           }
          ],
          "heatmap": [
           {
            "colorbar": {
             "outlinewidth": 0,
             "ticks": ""
            },
            "colorscale": [
             [
              0,
              "#0d0887"
             ],
             [
              0.1111111111111111,
              "#46039f"
             ],
             [
              0.2222222222222222,
              "#7201a8"
             ],
             [
              0.3333333333333333,
              "#9c179e"
             ],
             [
              0.4444444444444444,
              "#bd3786"
             ],
             [
              0.5555555555555556,
              "#d8576b"
             ],
             [
              0.6666666666666666,
              "#ed7953"
             ],
             [
              0.7777777777777778,
              "#fb9f3a"
             ],
             [
              0.8888888888888888,
              "#fdca26"
             ],
             [
              1,
              "#f0f921"
             ]
            ],
            "type": "heatmap"
           }
          ],
          "heatmapgl": [
           {
            "colorbar": {
             "outlinewidth": 0,
             "ticks": ""
            },
            "colorscale": [
             [
              0,
              "#0d0887"
             ],
             [
              0.1111111111111111,
              "#46039f"
             ],
             [
              0.2222222222222222,
              "#7201a8"
             ],
             [
              0.3333333333333333,
              "#9c179e"
             ],
             [
              0.4444444444444444,
              "#bd3786"
             ],
             [
              0.5555555555555556,
              "#d8576b"
             ],
             [
              0.6666666666666666,
              "#ed7953"
             ],
             [
              0.7777777777777778,
              "#fb9f3a"
             ],
             [
              0.8888888888888888,
              "#fdca26"
             ],
             [
              1,
              "#f0f921"
             ]
            ],
            "type": "heatmapgl"
           }
          ],
          "histogram": [
           {
            "marker": {
             "pattern": {
              "fillmode": "overlay",
              "size": 10,
              "solidity": 0.2
             }
            },
            "type": "histogram"
           }
          ],
          "histogram2d": [
           {
            "colorbar": {
             "outlinewidth": 0,
             "ticks": ""
            },
            "colorscale": [
             [
              0,
              "#0d0887"
             ],
             [
              0.1111111111111111,
              "#46039f"
             ],
             [
              0.2222222222222222,
              "#7201a8"
             ],
             [
              0.3333333333333333,
              "#9c179e"
             ],
             [
              0.4444444444444444,
              "#bd3786"
             ],
             [
              0.5555555555555556,
              "#d8576b"
             ],
             [
              0.6666666666666666,
              "#ed7953"
             ],
             [
              0.7777777777777778,
              "#fb9f3a"
             ],
             [
              0.8888888888888888,
              "#fdca26"
             ],
             [
              1,
              "#f0f921"
             ]
            ],
            "type": "histogram2d"
           }
          ],
          "histogram2dcontour": [
           {
            "colorbar": {
             "outlinewidth": 0,
             "ticks": ""
            },
            "colorscale": [
             [
              0,
              "#0d0887"
             ],
             [
              0.1111111111111111,
              "#46039f"
             ],
             [
              0.2222222222222222,
              "#7201a8"
             ],
             [
              0.3333333333333333,
              "#9c179e"
             ],
             [
              0.4444444444444444,
              "#bd3786"
             ],
             [
              0.5555555555555556,
              "#d8576b"
             ],
             [
              0.6666666666666666,
              "#ed7953"
             ],
             [
              0.7777777777777778,
              "#fb9f3a"
             ],
             [
              0.8888888888888888,
              "#fdca26"
             ],
             [
              1,
              "#f0f921"
             ]
            ],
            "type": "histogram2dcontour"
           }
          ],
          "mesh3d": [
           {
            "colorbar": {
             "outlinewidth": 0,
             "ticks": ""
            },
            "type": "mesh3d"
           }
          ],
          "parcoords": [
           {
            "line": {
             "colorbar": {
              "outlinewidth": 0,
              "ticks": ""
             }
            },
            "type": "parcoords"
           }
          ],
          "pie": [
           {
            "automargin": true,
            "type": "pie"
           }
          ],
          "scatter": [
           {
            "fillpattern": {
             "fillmode": "overlay",
             "size": 10,
             "solidity": 0.2
            },
            "type": "scatter"
           }
          ],
          "scatter3d": [
           {
            "line": {
             "colorbar": {
              "outlinewidth": 0,
              "ticks": ""
             }
            },
            "marker": {
             "colorbar": {
              "outlinewidth": 0,
              "ticks": ""
             }
            },
            "type": "scatter3d"
           }
          ],
          "scattercarpet": [
           {
            "marker": {
             "colorbar": {
              "outlinewidth": 0,
              "ticks": ""
             }
            },
            "type": "scattercarpet"
           }
          ],
          "scattergeo": [
           {
            "marker": {
             "colorbar": {
              "outlinewidth": 0,
              "ticks": ""
             }
            },
            "type": "scattergeo"
           }
          ],
          "scattergl": [
           {
            "marker": {
             "colorbar": {
              "outlinewidth": 0,
              "ticks": ""
             }
            },
            "type": "scattergl"
           }
          ],
          "scattermapbox": [
           {
            "marker": {
             "colorbar": {
              "outlinewidth": 0,
              "ticks": ""
             }
            },
            "type": "scattermapbox"
           }
          ],
          "scatterpolar": [
           {
            "marker": {
             "colorbar": {
              "outlinewidth": 0,
              "ticks": ""
             }
            },
            "type": "scatterpolar"
           }
          ],
          "scatterpolargl": [
           {
            "marker": {
             "colorbar": {
              "outlinewidth": 0,
              "ticks": ""
             }
            },
            "type": "scatterpolargl"
           }
          ],
          "scatterternary": [
           {
            "marker": {
             "colorbar": {
              "outlinewidth": 0,
              "ticks": ""
             }
            },
            "type": "scatterternary"
           }
          ],
          "surface": [
           {
            "colorbar": {
             "outlinewidth": 0,
             "ticks": ""
            },
            "colorscale": [
             [
              0,
              "#0d0887"
             ],
             [
              0.1111111111111111,
              "#46039f"
             ],
             [
              0.2222222222222222,
              "#7201a8"
             ],
             [
              0.3333333333333333,
              "#9c179e"
             ],
             [
              0.4444444444444444,
              "#bd3786"
             ],
             [
              0.5555555555555556,
              "#d8576b"
             ],
             [
              0.6666666666666666,
              "#ed7953"
             ],
             [
              0.7777777777777778,
              "#fb9f3a"
             ],
             [
              0.8888888888888888,
              "#fdca26"
             ],
             [
              1,
              "#f0f921"
             ]
            ],
            "type": "surface"
           }
          ],
          "table": [
           {
            "cells": {
             "fill": {
              "color": "#EBF0F8"
             },
             "line": {
              "color": "white"
             }
            },
            "header": {
             "fill": {
              "color": "#C8D4E3"
             },
             "line": {
              "color": "white"
             }
            },
            "type": "table"
           }
          ]
         },
         "layout": {
          "annotationdefaults": {
           "arrowcolor": "#2a3f5f",
           "arrowhead": 0,
           "arrowwidth": 1
          },
          "autotypenumbers": "strict",
          "coloraxis": {
           "colorbar": {
            "outlinewidth": 0,
            "ticks": ""
           }
          },
          "colorscale": {
           "diverging": [
            [
             0,
             "#8e0152"
            ],
            [
             0.1,
             "#c51b7d"
            ],
            [
             0.2,
             "#de77ae"
            ],
            [
             0.3,
             "#f1b6da"
            ],
            [
             0.4,
             "#fde0ef"
            ],
            [
             0.5,
             "#f7f7f7"
            ],
            [
             0.6,
             "#e6f5d0"
            ],
            [
             0.7,
             "#b8e186"
            ],
            [
             0.8,
             "#7fbc41"
            ],
            [
             0.9,
             "#4d9221"
            ],
            [
             1,
             "#276419"
            ]
           ],
           "sequential": [
            [
             0,
             "#0d0887"
            ],
            [
             0.1111111111111111,
             "#46039f"
            ],
            [
             0.2222222222222222,
             "#7201a8"
            ],
            [
             0.3333333333333333,
             "#9c179e"
            ],
            [
             0.4444444444444444,
             "#bd3786"
            ],
            [
             0.5555555555555556,
             "#d8576b"
            ],
            [
             0.6666666666666666,
             "#ed7953"
            ],
            [
             0.7777777777777778,
             "#fb9f3a"
            ],
            [
             0.8888888888888888,
             "#fdca26"
            ],
            [
             1,
             "#f0f921"
            ]
           ],
           "sequentialminus": [
            [
             0,
             "#0d0887"
            ],
            [
             0.1111111111111111,
             "#46039f"
            ],
            [
             0.2222222222222222,
             "#7201a8"
            ],
            [
             0.3333333333333333,
             "#9c179e"
            ],
            [
             0.4444444444444444,
             "#bd3786"
            ],
            [
             0.5555555555555556,
             "#d8576b"
            ],
            [
             0.6666666666666666,
             "#ed7953"
            ],
            [
             0.7777777777777778,
             "#fb9f3a"
            ],
            [
             0.8888888888888888,
             "#fdca26"
            ],
            [
             1,
             "#f0f921"
            ]
           ]
          },
          "colorway": [
           "#636efa",
           "#EF553B",
           "#00cc96",
           "#ab63fa",
           "#FFA15A",
           "#19d3f3",
           "#FF6692",
           "#B6E880",
           "#FF97FF",
           "#FECB52"
          ],
          "font": {
           "color": "#2a3f5f"
          },
          "geo": {
           "bgcolor": "white",
           "lakecolor": "white",
           "landcolor": "#E5ECF6",
           "showlakes": true,
           "showland": true,
           "subunitcolor": "white"
          },
          "hoverlabel": {
           "align": "left"
          },
          "hovermode": "closest",
          "mapbox": {
           "style": "light"
          },
          "paper_bgcolor": "white",
          "plot_bgcolor": "#E5ECF6",
          "polar": {
           "angularaxis": {
            "gridcolor": "white",
            "linecolor": "white",
            "ticks": ""
           },
           "bgcolor": "#E5ECF6",
           "radialaxis": {
            "gridcolor": "white",
            "linecolor": "white",
            "ticks": ""
           }
          },
          "scene": {
           "xaxis": {
            "backgroundcolor": "#E5ECF6",
            "gridcolor": "white",
            "gridwidth": 2,
            "linecolor": "white",
            "showbackground": true,
            "ticks": "",
            "zerolinecolor": "white"
           },
           "yaxis": {
            "backgroundcolor": "#E5ECF6",
            "gridcolor": "white",
            "gridwidth": 2,
            "linecolor": "white",
            "showbackground": true,
            "ticks": "",
            "zerolinecolor": "white"
           },
           "zaxis": {
            "backgroundcolor": "#E5ECF6",
            "gridcolor": "white",
            "gridwidth": 2,
            "linecolor": "white",
            "showbackground": true,
            "ticks": "",
            "zerolinecolor": "white"
           }
          },
          "shapedefaults": {
           "line": {
            "color": "#2a3f5f"
           }
          },
          "ternary": {
           "aaxis": {
            "gridcolor": "white",
            "linecolor": "white",
            "ticks": ""
           },
           "baxis": {
            "gridcolor": "white",
            "linecolor": "white",
            "ticks": ""
           },
           "bgcolor": "#E5ECF6",
           "caxis": {
            "gridcolor": "white",
            "linecolor": "white",
            "ticks": ""
           }
          },
          "title": {
           "x": 0.05
          },
          "xaxis": {
           "automargin": true,
           "gridcolor": "white",
           "linecolor": "white",
           "ticks": "",
           "title": {
            "standoff": 15
           },
           "zerolinecolor": "white",
           "zerolinewidth": 2
          },
          "yaxis": {
           "automargin": true,
           "gridcolor": "white",
           "linecolor": "white",
           "ticks": "",
           "title": {
            "standoff": 15
           },
           "zerolinecolor": "white",
           "zerolinewidth": 2
          }
         }
        },
        "title": {
         "text": "Total number of predictions per feature"
        },
        "xaxis": {
         "anchor": "y",
         "domain": [
          0,
          1
         ],
         "title": {
          "text": "date"
         }
        },
        "yaxis": {
         "anchor": "x",
         "domain": [
          0,
          1
         ],
         "title": {
          "text": "total"
         }
        }
       }
      }
     },
     "metadata": {},
     "output_type": "display_data"
    },
    {
     "data": {
      "application/vnd.plotly.v1+json": {
       "config": {
        "plotlyServerURL": "https://plot.ly"
       },
       "data": [
        {
         "hovertemplate": "stage=Landing<br>feature=ImageCentre<br>date=%{x}<br>percentage_correct=%{y}<extra></extra>",
         "legendgroup": "Landing, ImageCentre",
         "line": {
          "color": "#636efa",
          "dash": "solid"
         },
         "marker": {
          "symbol": "circle"
         },
         "mode": "lines",
         "name": "Landing, ImageCentre",
         "orientation": "v",
         "showlegend": true,
         "type": "scatter",
         "x": [
          "14-11-2022",
          "17-11-2022",
          "22-11-2022",
          "29-11-2022",
          "30-11-2022",
          "01-12-2022",
          "02-12-2022",
          "06-12-2022",
          "09-12-2022",
          "12-12-2022",
          "13-12-2022"
         ],
         "xaxis": "x",
         "y": [
          100,
          100,
          100,
          81.81818181818183,
          100,
          100,
          87.5,
          92.85714285714286,
          100,
          100,
          100
         ],
         "yaxis": "y"
        },
        {
         "hovertemplate": "stage=Landing<br>feature=LamellaLeftEdge<br>date=%{x}<br>percentage_correct=%{y}<extra></extra>",
         "legendgroup": "Landing, LamellaLeftEdge",
         "line": {
          "color": "#636efa",
          "dash": "dot"
         },
         "marker": {
          "symbol": "circle"
         },
         "mode": "lines",
         "name": "Landing, LamellaLeftEdge",
         "orientation": "v",
         "showlegend": true,
         "type": "scatter",
         "x": [
          "14-11-2022",
          "17-11-2022",
          "22-11-2022",
          "29-11-2022",
          "30-11-2022",
          "01-12-2022"
         ],
         "xaxis": "x",
         "y": [
          33.33333333333333,
          50,
          100,
          100,
          0,
          50
         ],
         "yaxis": "y"
        },
        {
         "hovertemplate": "stage=Landing<br>feature=LamellaRightEdge<br>date=%{x}<br>percentage_correct=%{y}<extra></extra>",
         "legendgroup": "Landing, LamellaRightEdge",
         "line": {
          "color": "#636efa",
          "dash": "dash"
         },
         "marker": {
          "symbol": "circle"
         },
         "mode": "lines",
         "name": "Landing, LamellaRightEdge",
         "orientation": "v",
         "showlegend": true,
         "type": "scatter",
         "x": [
          "14-11-2022",
          "17-11-2022",
          "22-11-2022",
          "29-11-2022",
          "30-11-2022",
          "01-12-2022",
          "02-12-2022",
          "06-12-2022",
          "09-12-2022",
          "12-12-2022",
          "13-12-2022"
         ],
         "xaxis": "x",
         "y": [
          80,
          75,
          25,
          20,
          19.047619047619047,
          26.31578947368421,
          20,
          80,
          100,
          59.57446808510638,
          92.85714285714286
         ],
         "yaxis": "y"
        },
        {
         "hovertemplate": "stage=Landing<br>feature=LandingPost<br>date=%{x}<br>percentage_correct=%{y}<extra></extra>",
         "legendgroup": "Landing, LandingPost",
         "line": {
          "color": "#636efa",
          "dash": "longdash"
         },
         "marker": {
          "symbol": "circle"
         },
         "mode": "lines",
         "name": "Landing, LandingPost",
         "orientation": "v",
         "showlegend": true,
         "type": "scatter",
         "x": [
          "14-11-2022",
          "17-11-2022",
          "22-11-2022",
          "29-11-2022",
          "30-11-2022",
          "01-12-2022",
          "02-12-2022",
          "06-12-2022",
          "09-12-2022",
          "12-12-2022",
          "13-12-2022"
         ],
         "xaxis": "x",
         "y": [
          66.66666666666666,
          0,
          66.66666666666666,
          66.66666666666666,
          100,
          71.42857142857143,
          50,
          86.66666666666667,
          100,
          45.45454545454545,
          75
         ],
         "yaxis": "y"
        },
        {
         "hovertemplate": "stage=Liftout<br>feature=ImageCentre<br>date=%{x}<br>percentage_correct=%{y}<extra></extra>",
         "legendgroup": "Liftout, ImageCentre",
         "line": {
          "color": "#EF553B",
          "dash": "solid"
         },
         "marker": {
          "symbol": "circle"
         },
         "mode": "lines",
         "name": "Liftout, ImageCentre",
         "orientation": "v",
         "showlegend": true,
         "type": "scatter",
         "x": [
          "14-11-2022",
          "17-11-2022",
          "22-11-2022",
          "29-11-2022",
          "30-11-2022",
          "01-12-2022",
          "02-12-2022",
          "06-12-2022",
          "09-12-2022",
          "12-12-2022",
          "13-12-2022"
         ],
         "xaxis": "x",
         "y": [
          100,
          100,
          100,
          100,
          100,
          100,
          100,
          100,
          100,
          100,
          100
         ],
         "yaxis": "y"
        },
        {
         "hovertemplate": "stage=Liftout<br>feature=LamellaLeftEdge<br>date=%{x}<br>percentage_correct=%{y}<extra></extra>",
         "legendgroup": "Liftout, LamellaLeftEdge",
         "line": {
          "color": "#EF553B",
          "dash": "dot"
         },
         "marker": {
          "symbol": "circle"
         },
         "mode": "lines",
         "name": "Liftout, LamellaLeftEdge",
         "orientation": "v",
         "showlegend": true,
         "type": "scatter",
         "x": [
          "14-11-2022",
          "17-11-2022",
          "22-11-2022",
          "29-11-2022",
          "30-11-2022",
          "01-12-2022",
          "02-12-2022",
          "06-12-2022",
          "09-12-2022",
          "12-12-2022",
          "13-12-2022"
         ],
         "xaxis": "x",
         "y": [
          50,
          63.63636363636363,
          52.17391304347826,
          60,
          69.23076923076923,
          43.75,
          60,
          50,
          100,
          100,
          100
         ],
         "yaxis": "y"
        },
        {
         "hovertemplate": "stage=Liftout<br>feature=LamellaRightEdge<br>date=%{x}<br>percentage_correct=%{y}<extra></extra>",
         "legendgroup": "Liftout, LamellaRightEdge",
         "line": {
          "color": "#EF553B",
          "dash": "dash"
         },
         "marker": {
          "symbol": "circle"
         },
         "mode": "lines",
         "name": "Liftout, LamellaRightEdge",
         "orientation": "v",
         "showlegend": true,
         "type": "scatter",
         "x": [
          "14-11-2022",
          "17-11-2022",
          "22-11-2022",
          "29-11-2022",
          "30-11-2022",
          "01-12-2022",
          "02-12-2022",
          "06-12-2022",
          "09-12-2022",
          "12-12-2022",
          "13-12-2022"
         ],
         "xaxis": "x",
         "y": [
          50,
          80,
          100,
          60,
          25,
          33.33333333333333,
          57.14285714285714,
          75,
          0,
          0,
          75
         ],
         "yaxis": "y"
        },
        {
         "hovertemplate": "stage=Liftout<br>feature=NeedleTip<br>date=%{x}<br>percentage_correct=%{y}<extra></extra>",
         "legendgroup": "Liftout, NeedleTip",
         "line": {
          "color": "#EF553B",
          "dash": "dashdot"
         },
         "marker": {
          "symbol": "circle"
         },
         "mode": "lines",
         "name": "Liftout, NeedleTip",
         "orientation": "v",
         "showlegend": true,
         "type": "scatter",
         "x": [
          "14-11-2022",
          "17-11-2022",
          "22-11-2022",
          "29-11-2022",
          "30-11-2022",
          "01-12-2022",
          "02-12-2022",
          "06-12-2022",
          "09-12-2022",
          "12-12-2022",
          "13-12-2022"
         ],
         "xaxis": "x",
         "y": [
          83.33333333333334,
          80,
          75,
          16.666666666666664,
          20,
          17.647058823529413,
          27.27272727272727,
          100,
          100,
          83.33333333333334,
          91.66666666666666
         ],
         "yaxis": "y"
        },
        {
         "hovertemplate": "stage=MillJCut<br>feature=ImageCentre<br>date=%{x}<br>percentage_correct=%{y}<extra></extra>",
         "legendgroup": "MillJCut, ImageCentre",
         "line": {
          "color": "#00cc96",
          "dash": "solid"
         },
         "marker": {
          "symbol": "circle"
         },
         "mode": "lines",
         "name": "MillJCut, ImageCentre",
         "orientation": "v",
         "showlegend": true,
         "type": "scatter",
         "x": [
          "14-11-2022",
          "29-11-2022",
          "30-11-2022",
          "01-12-2022",
          "02-12-2022",
          "06-12-2022",
          "09-12-2022",
          "12-12-2022",
          "13-12-2022"
         ],
         "xaxis": "x",
         "y": [
          100,
          100,
          100,
          100,
          100,
          100,
          100,
          100,
          100
         ],
         "yaxis": "y"
        },
        {
         "hovertemplate": "stage=MillJCut<br>feature=LamellaLeftEdge<br>date=%{x}<br>percentage_correct=%{y}<extra></extra>",
         "legendgroup": "MillJCut, LamellaLeftEdge",
         "line": {
          "color": "#00cc96",
          "dash": "dot"
         },
         "marker": {
          "symbol": "circle"
         },
         "mode": "lines",
         "name": "MillJCut, LamellaLeftEdge",
         "orientation": "v",
         "showlegend": true,
         "type": "scatter",
         "x": [
          "29-11-2022",
          "30-11-2022",
          "01-12-2022",
          "02-12-2022",
          "06-12-2022",
          "09-12-2022",
          "12-12-2022",
          "13-12-2022"
         ],
         "xaxis": "x",
         "y": [
          80,
          25,
          80,
          50,
          100,
          16.666666666666664,
          75,
          75
         ],
         "yaxis": "y"
        },
        {
         "hovertemplate": "stage=MillJCut<br>feature=NeedleTip<br>date=%{x}<br>percentage_correct=%{y}<extra></extra>",
         "legendgroup": "MillJCut, NeedleTip",
         "line": {
          "color": "#00cc96",
          "dash": "dashdot"
         },
         "marker": {
          "symbol": "circle"
         },
         "mode": "lines",
         "name": "MillJCut, NeedleTip",
         "orientation": "v",
         "showlegend": true,
         "type": "scatter",
         "x": [
          "14-11-2022"
         ],
         "xaxis": "x",
         "y": [
          87.5
         ],
         "yaxis": "y"
        }
       ],
       "layout": {
        "legend": {
         "title": {
          "text": "stage, feature"
         },
         "tracegroupgap": 0
        },
        "margin": {
         "t": 60
        },
        "template": {
         "data": {
          "bar": [
           {
            "error_x": {
             "color": "#2a3f5f"
            },
            "error_y": {
             "color": "#2a3f5f"
            },
            "marker": {
             "line": {
              "color": "#E5ECF6",
              "width": 0.5
             },
             "pattern": {
              "fillmode": "overlay",
              "size": 10,
              "solidity": 0.2
             }
            },
            "type": "bar"
           }
          ],
          "barpolar": [
           {
            "marker": {
             "line": {
              "color": "#E5ECF6",
              "width": 0.5
             },
             "pattern": {
              "fillmode": "overlay",
              "size": 10,
              "solidity": 0.2
             }
            },
            "type": "barpolar"
           }
          ],
          "carpet": [
           {
            "aaxis": {
             "endlinecolor": "#2a3f5f",
             "gridcolor": "white",
             "linecolor": "white",
             "minorgridcolor": "white",
             "startlinecolor": "#2a3f5f"
            },
            "baxis": {
             "endlinecolor": "#2a3f5f",
             "gridcolor": "white",
             "linecolor": "white",
             "minorgridcolor": "white",
             "startlinecolor": "#2a3f5f"
            },
            "type": "carpet"
           }
          ],
          "choropleth": [
           {
            "colorbar": {
             "outlinewidth": 0,
             "ticks": ""
            },
            "type": "choropleth"
           }
          ],
          "contour": [
           {
            "colorbar": {
             "outlinewidth": 0,
             "ticks": ""
            },
            "colorscale": [
             [
              0,
              "#0d0887"
             ],
             [
              0.1111111111111111,
              "#46039f"
             ],
             [
              0.2222222222222222,
              "#7201a8"
             ],
             [
              0.3333333333333333,
              "#9c179e"
             ],
             [
              0.4444444444444444,
              "#bd3786"
             ],
             [
              0.5555555555555556,
              "#d8576b"
             ],
             [
              0.6666666666666666,
              "#ed7953"
             ],
             [
              0.7777777777777778,
              "#fb9f3a"
             ],
             [
              0.8888888888888888,
              "#fdca26"
             ],
             [
              1,
              "#f0f921"
             ]
            ],
            "type": "contour"
           }
          ],
          "contourcarpet": [
           {
            "colorbar": {
             "outlinewidth": 0,
             "ticks": ""
            },
            "type": "contourcarpet"
           }
          ],
          "heatmap": [
           {
            "colorbar": {
             "outlinewidth": 0,
             "ticks": ""
            },
            "colorscale": [
             [
              0,
              "#0d0887"
             ],
             [
              0.1111111111111111,
              "#46039f"
             ],
             [
              0.2222222222222222,
              "#7201a8"
             ],
             [
              0.3333333333333333,
              "#9c179e"
             ],
             [
              0.4444444444444444,
              "#bd3786"
             ],
             [
              0.5555555555555556,
              "#d8576b"
             ],
             [
              0.6666666666666666,
              "#ed7953"
             ],
             [
              0.7777777777777778,
              "#fb9f3a"
             ],
             [
              0.8888888888888888,
              "#fdca26"
             ],
             [
              1,
              "#f0f921"
             ]
            ],
            "type": "heatmap"
           }
          ],
          "heatmapgl": [
           {
            "colorbar": {
             "outlinewidth": 0,
             "ticks": ""
            },
            "colorscale": [
             [
              0,
              "#0d0887"
             ],
             [
              0.1111111111111111,
              "#46039f"
             ],
             [
              0.2222222222222222,
              "#7201a8"
             ],
             [
              0.3333333333333333,
              "#9c179e"
             ],
             [
              0.4444444444444444,
              "#bd3786"
             ],
             [
              0.5555555555555556,
              "#d8576b"
             ],
             [
              0.6666666666666666,
              "#ed7953"
             ],
             [
              0.7777777777777778,
              "#fb9f3a"
             ],
             [
              0.8888888888888888,
              "#fdca26"
             ],
             [
              1,
              "#f0f921"
             ]
            ],
            "type": "heatmapgl"
           }
          ],
          "histogram": [
           {
            "marker": {
             "pattern": {
              "fillmode": "overlay",
              "size": 10,
              "solidity": 0.2
             }
            },
            "type": "histogram"
           }
          ],
          "histogram2d": [
           {
            "colorbar": {
             "outlinewidth": 0,
             "ticks": ""
            },
            "colorscale": [
             [
              0,
              "#0d0887"
             ],
             [
              0.1111111111111111,
              "#46039f"
             ],
             [
              0.2222222222222222,
              "#7201a8"
             ],
             [
              0.3333333333333333,
              "#9c179e"
             ],
             [
              0.4444444444444444,
              "#bd3786"
             ],
             [
              0.5555555555555556,
              "#d8576b"
             ],
             [
              0.6666666666666666,
              "#ed7953"
             ],
             [
              0.7777777777777778,
              "#fb9f3a"
             ],
             [
              0.8888888888888888,
              "#fdca26"
             ],
             [
              1,
              "#f0f921"
             ]
            ],
            "type": "histogram2d"
           }
          ],
          "histogram2dcontour": [
           {
            "colorbar": {
             "outlinewidth": 0,
             "ticks": ""
            },
            "colorscale": [
             [
              0,
              "#0d0887"
             ],
             [
              0.1111111111111111,
              "#46039f"
             ],
             [
              0.2222222222222222,
              "#7201a8"
             ],
             [
              0.3333333333333333,
              "#9c179e"
             ],
             [
              0.4444444444444444,
              "#bd3786"
             ],
             [
              0.5555555555555556,
              "#d8576b"
             ],
             [
              0.6666666666666666,
              "#ed7953"
             ],
             [
              0.7777777777777778,
              "#fb9f3a"
             ],
             [
              0.8888888888888888,
              "#fdca26"
             ],
             [
              1,
              "#f0f921"
             ]
            ],
            "type": "histogram2dcontour"
           }
          ],
          "mesh3d": [
           {
            "colorbar": {
             "outlinewidth": 0,
             "ticks": ""
            },
            "type": "mesh3d"
           }
          ],
          "parcoords": [
           {
            "line": {
             "colorbar": {
              "outlinewidth": 0,
              "ticks": ""
             }
            },
            "type": "parcoords"
           }
          ],
          "pie": [
           {
            "automargin": true,
            "type": "pie"
           }
          ],
          "scatter": [
           {
            "fillpattern": {
             "fillmode": "overlay",
             "size": 10,
             "solidity": 0.2
            },
            "type": "scatter"
           }
          ],
          "scatter3d": [
           {
            "line": {
             "colorbar": {
              "outlinewidth": 0,
              "ticks": ""
             }
            },
            "marker": {
             "colorbar": {
              "outlinewidth": 0,
              "ticks": ""
             }
            },
            "type": "scatter3d"
           }
          ],
          "scattercarpet": [
           {
            "marker": {
             "colorbar": {
              "outlinewidth": 0,
              "ticks": ""
             }
            },
            "type": "scattercarpet"
           }
          ],
          "scattergeo": [
           {
            "marker": {
             "colorbar": {
              "outlinewidth": 0,
              "ticks": ""
             }
            },
            "type": "scattergeo"
           }
          ],
          "scattergl": [
           {
            "marker": {
             "colorbar": {
              "outlinewidth": 0,
              "ticks": ""
             }
            },
            "type": "scattergl"
           }
          ],
          "scattermapbox": [
           {
            "marker": {
             "colorbar": {
              "outlinewidth": 0,
              "ticks": ""
             }
            },
            "type": "scattermapbox"
           }
          ],
          "scatterpolar": [
           {
            "marker": {
             "colorbar": {
              "outlinewidth": 0,
              "ticks": ""
             }
            },
            "type": "scatterpolar"
           }
          ],
          "scatterpolargl": [
           {
            "marker": {
             "colorbar": {
              "outlinewidth": 0,
              "ticks": ""
             }
            },
            "type": "scatterpolargl"
           }
          ],
          "scatterternary": [
           {
            "marker": {
             "colorbar": {
              "outlinewidth": 0,
              "ticks": ""
             }
            },
            "type": "scatterternary"
           }
          ],
          "surface": [
           {
            "colorbar": {
             "outlinewidth": 0,
             "ticks": ""
            },
            "colorscale": [
             [
              0,
              "#0d0887"
             ],
             [
              0.1111111111111111,
              "#46039f"
             ],
             [
              0.2222222222222222,
              "#7201a8"
             ],
             [
              0.3333333333333333,
              "#9c179e"
             ],
             [
              0.4444444444444444,
              "#bd3786"
             ],
             [
              0.5555555555555556,
              "#d8576b"
             ],
             [
              0.6666666666666666,
              "#ed7953"
             ],
             [
              0.7777777777777778,
              "#fb9f3a"
             ],
             [
              0.8888888888888888,
              "#fdca26"
             ],
             [
              1,
              "#f0f921"
             ]
            ],
            "type": "surface"
           }
          ],
          "table": [
           {
            "cells": {
             "fill": {
              "color": "#EBF0F8"
             },
             "line": {
              "color": "white"
             }
            },
            "header": {
             "fill": {
              "color": "#C8D4E3"
             },
             "line": {
              "color": "white"
             }
            },
            "type": "table"
           }
          ]
         },
         "layout": {
          "annotationdefaults": {
           "arrowcolor": "#2a3f5f",
           "arrowhead": 0,
           "arrowwidth": 1
          },
          "autotypenumbers": "strict",
          "coloraxis": {
           "colorbar": {
            "outlinewidth": 0,
            "ticks": ""
           }
          },
          "colorscale": {
           "diverging": [
            [
             0,
             "#8e0152"
            ],
            [
             0.1,
             "#c51b7d"
            ],
            [
             0.2,
             "#de77ae"
            ],
            [
             0.3,
             "#f1b6da"
            ],
            [
             0.4,
             "#fde0ef"
            ],
            [
             0.5,
             "#f7f7f7"
            ],
            [
             0.6,
             "#e6f5d0"
            ],
            [
             0.7,
             "#b8e186"
            ],
            [
             0.8,
             "#7fbc41"
            ],
            [
             0.9,
             "#4d9221"
            ],
            [
             1,
             "#276419"
            ]
           ],
           "sequential": [
            [
             0,
             "#0d0887"
            ],
            [
             0.1111111111111111,
             "#46039f"
            ],
            [
             0.2222222222222222,
             "#7201a8"
            ],
            [
             0.3333333333333333,
             "#9c179e"
            ],
            [
             0.4444444444444444,
             "#bd3786"
            ],
            [
             0.5555555555555556,
             "#d8576b"
            ],
            [
             0.6666666666666666,
             "#ed7953"
            ],
            [
             0.7777777777777778,
             "#fb9f3a"
            ],
            [
             0.8888888888888888,
             "#fdca26"
            ],
            [
             1,
             "#f0f921"
            ]
           ],
           "sequentialminus": [
            [
             0,
             "#0d0887"
            ],
            [
             0.1111111111111111,
             "#46039f"
            ],
            [
             0.2222222222222222,
             "#7201a8"
            ],
            [
             0.3333333333333333,
             "#9c179e"
            ],
            [
             0.4444444444444444,
             "#bd3786"
            ],
            [
             0.5555555555555556,
             "#d8576b"
            ],
            [
             0.6666666666666666,
             "#ed7953"
            ],
            [
             0.7777777777777778,
             "#fb9f3a"
            ],
            [
             0.8888888888888888,
             "#fdca26"
            ],
            [
             1,
             "#f0f921"
            ]
           ]
          },
          "colorway": [
           "#636efa",
           "#EF553B",
           "#00cc96",
           "#ab63fa",
           "#FFA15A",
           "#19d3f3",
           "#FF6692",
           "#B6E880",
           "#FF97FF",
           "#FECB52"
          ],
          "font": {
           "color": "#2a3f5f"
          },
          "geo": {
           "bgcolor": "white",
           "lakecolor": "white",
           "landcolor": "#E5ECF6",
           "showlakes": true,
           "showland": true,
           "subunitcolor": "white"
          },
          "hoverlabel": {
           "align": "left"
          },
          "hovermode": "closest",
          "mapbox": {
           "style": "light"
          },
          "paper_bgcolor": "white",
          "plot_bgcolor": "#E5ECF6",
          "polar": {
           "angularaxis": {
            "gridcolor": "white",
            "linecolor": "white",
            "ticks": ""
           },
           "bgcolor": "#E5ECF6",
           "radialaxis": {
            "gridcolor": "white",
            "linecolor": "white",
            "ticks": ""
           }
          },
          "scene": {
           "xaxis": {
            "backgroundcolor": "#E5ECF6",
            "gridcolor": "white",
            "gridwidth": 2,
            "linecolor": "white",
            "showbackground": true,
            "ticks": "",
            "zerolinecolor": "white"
           },
           "yaxis": {
            "backgroundcolor": "#E5ECF6",
            "gridcolor": "white",
            "gridwidth": 2,
            "linecolor": "white",
            "showbackground": true,
            "ticks": "",
            "zerolinecolor": "white"
           },
           "zaxis": {
            "backgroundcolor": "#E5ECF6",
            "gridcolor": "white",
            "gridwidth": 2,
            "linecolor": "white",
            "showbackground": true,
            "ticks": "",
            "zerolinecolor": "white"
           }
          },
          "shapedefaults": {
           "line": {
            "color": "#2a3f5f"
           }
          },
          "ternary": {
           "aaxis": {
            "gridcolor": "white",
            "linecolor": "white",
            "ticks": ""
           },
           "baxis": {
            "gridcolor": "white",
            "linecolor": "white",
            "ticks": ""
           },
           "bgcolor": "#E5ECF6",
           "caxis": {
            "gridcolor": "white",
            "linecolor": "white",
            "ticks": ""
           }
          },
          "title": {
           "x": 0.05
          },
          "xaxis": {
           "automargin": true,
           "gridcolor": "white",
           "linecolor": "white",
           "ticks": "",
           "title": {
            "standoff": 15
           },
           "zerolinecolor": "white",
           "zerolinewidth": 2
          },
          "yaxis": {
           "automargin": true,
           "gridcolor": "white",
           "linecolor": "white",
           "ticks": "",
           "title": {
            "standoff": 15
           },
           "zerolinecolor": "white",
           "zerolinewidth": 2
          }
         }
        },
        "title": {
         "text": "Percentage of correct predictions per feature"
        },
        "xaxis": {
         "anchor": "y",
         "domain": [
          0,
          1
         ],
         "title": {
          "text": "date"
         }
        },
        "yaxis": {
         "anchor": "x",
         "domain": [
          0,
          1
         ],
         "title": {
          "text": "percentage_correct"
         }
        }
       }
      }
     },
     "metadata": {},
     "output_type": "display_data"
    }
   ],
   "source": [
    "# group df_ml by date, stage, feature, and correct\n",
    "df_ml[\"date\"] = pd.to_datetime(df_ml[\"date\"])\n",
    "df_ml[\"stage\"] = df_ml[\"stage\"].astype(\"category\")\n",
    "df_ml[\"feature\"] = df_ml[\"feature\"].astype(\"category\")\n",
    "df_ml_group = df_ml.groupby(by=[\"date\", \"stage\", \"feature\", \"correct\"]).count()\n",
    "df_ml_group = df_ml_group.reset_index()\n",
    "df_ml_group[\"date\"] = df_ml_group[\"date\"].dt.strftime(\"%d-%m-%Y\")\n",
    "\n",
    "# convert correct to bool\n",
    "df_ml_group[\"correct\"] = df_ml_group[\"correct\"].apply(lambda x: True if x == \"True\" else False)\n",
    "\n",
    "# add a count column \n",
    "df_ml_group[\"count\"] = df_ml_group[\"name\"]\n",
    "\n",
    "# drop all columns except date, stage, feature, correct, count\n",
    "df_ml_group = df_ml_group[[\"date\", \"stage\", \"feature\", \"correct\", \"count\"]]\n",
    "\n",
    "# calculate the percentage of correct predictions\n",
    "df_ml_group_correct = df_ml_group[df_ml_group[\"correct\"] == True]\n",
    "df_ml_group_incorrect = df_ml_group[df_ml_group[\"correct\"] == False]\n",
    "\n",
    "df_ml_group_correct = df_ml_group_correct.rename(columns={\"count\": \"correct_count\"})\n",
    "df_ml_group_incorrect = df_ml_group_incorrect.rename(columns={\"count\": \"incorrect_count\"})\n",
    "df_ml_group_correct = df_ml_group_correct[[\"date\", \"stage\", \"feature\", \"correct_count\"]]\n",
    "df_ml_group_incorrect = df_ml_group_incorrect[[\"date\", \"stage\", \"feature\", \"incorrect_count\"]]\n",
    "df_ml_group = pd.merge(df_ml_group_correct, df_ml_group_incorrect, on=[\"date\", \"stage\", \"feature\"])\n",
    "df_ml_group[\"total\"] = df_ml_group[\"correct_count\"] + df_ml_group[\"incorrect_count\"]\n",
    "df_ml_group[\"percentage_correct\"] = df_ml_group[\"correct_count\"] / df_ml_group[\"total\"] * 100\n",
    "\n",
    "# fillna with 0\n",
    "df_ml_group[\"percentage_correct\"] = df_ml_group[\"percentage_correct\"].fillna(0)\n",
    "\n",
    "# drop rows with total = 0\n",
    "df_ml_group = df_ml_group[df_ml_group[\"total\"] != 0]\n",
    "\n",
    "# plot a time series of total and percentage correct per feature with different line styles for stage\n",
    "fig = px.line(df_ml_group, x=\"date\", y=\"total\", color=\"stage\", line_dash=\"feature\")\n",
    "# title\n",
    "fig.update_layout(title=\"Total number of predictions per feature\")\n",
    "fig.show()\n",
    "\n",
    "# add a title\n",
    "fig = px.line(df_ml_group, x=\"date\", y=\"percentage_correct\", color=\"stage\", line_dash=\"feature\")\n",
    "fig.update_layout(title=\"Percentage of correct predictions per feature\")\n",
    "fig.show()\n"
   ]
  },
  {
   "cell_type": "code",
   "execution_count": 20,
   "metadata": {},
   "outputs": [
    {
     "data": {
      "application/vnd.plotly.v1+json": {
       "config": {
        "plotlyServerURL": "https://plot.ly"
       },
       "data": [
        {
         "hovertemplate": "stage=Finished<br>date=%{x}<br>duration=%{y}<extra></extra>",
         "legendgroup": "Finished",
         "line": {
          "color": "#636efa",
          "dash": "solid"
         },
         "marker": {
          "symbol": "circle"
         },
         "mode": "lines",
         "name": "Finished",
         "orientation": "v",
         "showlegend": true,
         "type": "scatter",
         "x": [
          "14-11-2022",
          "17-11-2022",
          "22-11-2022",
          "29-11-2022",
          "30-11-2022",
          "01-12-2022",
          "02-12-2022",
          "06-12-2022",
          "08-12-2022",
          "09-12-2022",
          "12-12-2022",
          "13-12-2022"
         ],
         "xaxis": "x",
         "y": [
          2175.874021053314,
          501.35336196422577,
          163.79577803611755,
          2249.595467964808,
          2154.9665907621384,
          1246.479308605194,
          2418.038891235987,
          1192.7397649288177,
          0,
          0,
          1621.3692990541458,
          2257.6110141277313
         ],
         "yaxis": "y"
        },
        {
         "hovertemplate": "stage=Landing<br>date=%{x}<br>duration=%{y}<extra></extra>",
         "legendgroup": "Landing",
         "line": {
          "color": "#EF553B",
          "dash": "solid"
         },
         "marker": {
          "symbol": "circle"
         },
         "mode": "lines",
         "name": "Landing",
         "orientation": "v",
         "showlegend": true,
         "type": "scatter",
         "x": [
          "14-11-2022",
          "17-11-2022",
          "22-11-2022",
          "29-11-2022",
          "30-11-2022",
          "01-12-2022",
          "02-12-2022",
          "06-12-2022",
          "08-12-2022",
          "09-12-2022",
          "12-12-2022",
          "13-12-2022"
         ],
         "xaxis": "x",
         "y": [
          758.6188663244247,
          934.577418923378,
          564.3428509235382,
          636.7211519877116,
          1338.8308935165405,
          906.2184716463089,
          672.0989193320274,
          828.1266820430756,
          0,
          737.4570240974426,
          1585.9098486105602,
          385.5408284664154
         ],
         "yaxis": "y"
        },
        {
         "hovertemplate": "stage=Liftout<br>date=%{x}<br>duration=%{y}<extra></extra>",
         "legendgroup": "Liftout",
         "line": {
          "color": "#00cc96",
          "dash": "solid"
         },
         "marker": {
          "symbol": "circle"
         },
         "mode": "lines",
         "name": "Liftout",
         "orientation": "v",
         "showlegend": true,
         "type": "scatter",
         "x": [
          "14-11-2022",
          "17-11-2022",
          "22-11-2022",
          "29-11-2022",
          "30-11-2022",
          "01-12-2022",
          "02-12-2022",
          "06-12-2022",
          "08-12-2022",
          "09-12-2022",
          "12-12-2022",
          "13-12-2022"
         ],
         "xaxis": "x",
         "y": [
          475.13567638397217,
          524.515969991684,
          707.0452058712641,
          492.697874546051,
          641.9519425034523,
          477.418923330307,
          949.6954845905304,
          419.8094465136528,
          0,
          622.6851146221161,
          470.47586790720624,
          391.8201012611389
         ],
         "yaxis": "y"
        },
        {
         "hovertemplate": "stage=MillJCut<br>date=%{x}<br>duration=%{y}<extra></extra>",
         "legendgroup": "MillJCut",
         "line": {
          "color": "#ab63fa",
          "dash": "solid"
         },
         "marker": {
          "symbol": "circle"
         },
         "mode": "lines",
         "name": "MillJCut",
         "orientation": "v",
         "showlegend": true,
         "type": "scatter",
         "x": [
          "14-11-2022",
          "17-11-2022",
          "22-11-2022",
          "29-11-2022",
          "30-11-2022",
          "01-12-2022",
          "02-12-2022",
          "06-12-2022",
          "08-12-2022",
          "09-12-2022",
          "12-12-2022",
          "13-12-2022"
         ],
         "xaxis": "x",
         "y": [
          456.6263169447581,
          433.3868984222412,
          453.4725546836853,
          378.02950205802915,
          431.5512982606888,
          516.2685513973236,
          619.0072655677795,
          480.7321580052376,
          0,
          411.00174657503766,
          414.9363729953766,
          386.7083583474159
         ],
         "yaxis": "y"
        },
        {
         "hovertemplate": "stage=MillTrench<br>date=%{x}<br>duration=%{y}<extra></extra>",
         "legendgroup": "MillTrench",
         "line": {
          "color": "#FFA15A",
          "dash": "solid"
         },
         "marker": {
          "symbol": "circle"
         },
         "mode": "lines",
         "name": "MillTrench",
         "orientation": "v",
         "showlegend": true,
         "type": "scatter",
         "x": [
          "14-11-2022",
          "17-11-2022",
          "22-11-2022",
          "29-11-2022",
          "30-11-2022",
          "01-12-2022",
          "02-12-2022",
          "06-12-2022",
          "08-12-2022",
          "09-12-2022",
          "12-12-2022",
          "13-12-2022"
         ],
         "xaxis": "x",
         "y": [
          1245.7397352457047,
          1386.729232788086,
          1420.733842452367,
          1352.2619862556458,
          1775.0040724873543,
          1532.0352521896361,
          1635.1597284793854,
          1578.1579754948616,
          1710.8046569824219,
          1630.8805530071259,
          1558.9179969787597,
          1497.060967028141
         ],
         "yaxis": "y"
        },
        {
         "hovertemplate": "stage=Polishing<br>date=%{x}<br>duration=%{y}<extra></extra>",
         "legendgroup": "Polishing",
         "line": {
          "color": "#19d3f3",
          "dash": "solid"
         },
         "marker": {
          "symbol": "circle"
         },
         "mode": "lines",
         "name": "Polishing",
         "orientation": "v",
         "showlegend": true,
         "type": "scatter",
         "x": [
          "14-11-2022",
          "17-11-2022",
          "22-11-2022",
          "29-11-2022",
          "30-11-2022",
          "01-12-2022",
          "02-12-2022",
          "06-12-2022",
          "08-12-2022",
          "09-12-2022",
          "12-12-2022",
          "13-12-2022"
         ],
         "xaxis": "x",
         "y": [
          1482.5920915603638,
          461.64188289642334,
          157.29277992248535,
          1129.4902665615082,
          846.7007384896278,
          810.413381934166,
          1282.770729939143,
          604.0444320042928,
          0,
          0,
          1109.4273735284805,
          1426.0748536586761
         ],
         "yaxis": "y"
        },
        {
         "hovertemplate": "stage=Reset<br>date=%{x}<br>duration=%{y}<extra></extra>",
         "legendgroup": "Reset",
         "line": {
          "color": "#FF6692",
          "dash": "solid"
         },
         "marker": {
          "symbol": "circle"
         },
         "mode": "lines",
         "name": "Reset",
         "orientation": "v",
         "showlegend": true,
         "type": "scatter",
         "x": [
          "14-11-2022",
          "17-11-2022",
          "22-11-2022",
          "29-11-2022",
          "30-11-2022",
          "01-12-2022",
          "02-12-2022",
          "06-12-2022",
          "08-12-2022",
          "09-12-2022",
          "12-12-2022",
          "13-12-2022"
         ],
         "xaxis": "x",
         "y": [
          6.865912914276123,
          2.5143790245056152,
          3.2845048904418945,
          6.042701959609985,
          9.767412900924683,
          2.382628321647644,
          2.668543020884196,
          1.495003382364909,
          0,
          3.9005730152130127,
          1.842572569847107,
          3.6133389472961426
         ],
         "yaxis": "y"
        },
        {
         "hovertemplate": "stage=SetupPolish<br>date=%{x}<br>duration=%{y}<extra></extra>",
         "legendgroup": "SetupPolish",
         "line": {
          "color": "#B6E880",
          "dash": "solid"
         },
         "marker": {
          "symbol": "circle"
         },
         "mode": "lines",
         "name": "SetupPolish",
         "orientation": "v",
         "showlegend": true,
         "type": "scatter",
         "x": [
          "14-11-2022",
          "17-11-2022",
          "22-11-2022",
          "29-11-2022",
          "30-11-2022",
          "01-12-2022",
          "02-12-2022",
          "06-12-2022",
          "08-12-2022",
          "09-12-2022",
          "12-12-2022",
          "13-12-2022"
         ],
         "xaxis": "x",
         "y": [
          0,
          0,
          0,
          152.43336470921835,
          119.27561819553375,
          149.33434402942657,
          130.88028836250305,
          134.82703598340353,
          0,
          0,
          217.41717100143433,
          209.5861805677414
         ],
         "yaxis": "y"
        },
        {
         "hovertemplate": "stage=Thinning<br>date=%{x}<br>duration=%{y}<extra></extra>",
         "legendgroup": "Thinning",
         "line": {
          "color": "#FF97FF",
          "dash": "solid"
         },
         "marker": {
          "symbol": "circle"
         },
         "mode": "lines",
         "name": "Thinning",
         "orientation": "v",
         "showlegend": true,
         "type": "scatter",
         "x": [
          "14-11-2022",
          "17-11-2022",
          "22-11-2022",
          "29-11-2022",
          "30-11-2022",
          "01-12-2022",
          "02-12-2022",
          "06-12-2022",
          "08-12-2022",
          "09-12-2022",
          "12-12-2022",
          "13-12-2022"
         ],
         "xaxis": "x",
         "y": [
          1130.6471059322357,
          1831.09749853611,
          0,
          1295.188460747401,
          1241.1515772938728,
          663.0430802702904,
          821.5176610151926,
          997.715012550354,
          0,
          0,
          1277.2867674827576,
          1386.463788509369
         ],
         "yaxis": "y"
        }
       ],
       "layout": {
        "legend": {
         "title": {
          "text": "stage"
         },
         "tracegroupgap": 0
        },
        "margin": {
         "t": 60
        },
        "template": {
         "data": {
          "bar": [
           {
            "error_x": {
             "color": "#2a3f5f"
            },
            "error_y": {
             "color": "#2a3f5f"
            },
            "marker": {
             "line": {
              "color": "#E5ECF6",
              "width": 0.5
             },
             "pattern": {
              "fillmode": "overlay",
              "size": 10,
              "solidity": 0.2
             }
            },
            "type": "bar"
           }
          ],
          "barpolar": [
           {
            "marker": {
             "line": {
              "color": "#E5ECF6",
              "width": 0.5
             },
             "pattern": {
              "fillmode": "overlay",
              "size": 10,
              "solidity": 0.2
             }
            },
            "type": "barpolar"
           }
          ],
          "carpet": [
           {
            "aaxis": {
             "endlinecolor": "#2a3f5f",
             "gridcolor": "white",
             "linecolor": "white",
             "minorgridcolor": "white",
             "startlinecolor": "#2a3f5f"
            },
            "baxis": {
             "endlinecolor": "#2a3f5f",
             "gridcolor": "white",
             "linecolor": "white",
             "minorgridcolor": "white",
             "startlinecolor": "#2a3f5f"
            },
            "type": "carpet"
           }
          ],
          "choropleth": [
           {
            "colorbar": {
             "outlinewidth": 0,
             "ticks": ""
            },
            "type": "choropleth"
           }
          ],
          "contour": [
           {
            "colorbar": {
             "outlinewidth": 0,
             "ticks": ""
            },
            "colorscale": [
             [
              0,
              "#0d0887"
             ],
             [
              0.1111111111111111,
              "#46039f"
             ],
             [
              0.2222222222222222,
              "#7201a8"
             ],
             [
              0.3333333333333333,
              "#9c179e"
             ],
             [
              0.4444444444444444,
              "#bd3786"
             ],
             [
              0.5555555555555556,
              "#d8576b"
             ],
             [
              0.6666666666666666,
              "#ed7953"
             ],
             [
              0.7777777777777778,
              "#fb9f3a"
             ],
             [
              0.8888888888888888,
              "#fdca26"
             ],
             [
              1,
              "#f0f921"
             ]
            ],
            "type": "contour"
           }
          ],
          "contourcarpet": [
           {
            "colorbar": {
             "outlinewidth": 0,
             "ticks": ""
            },
            "type": "contourcarpet"
           }
          ],
          "heatmap": [
           {
            "colorbar": {
             "outlinewidth": 0,
             "ticks": ""
            },
            "colorscale": [
             [
              0,
              "#0d0887"
             ],
             [
              0.1111111111111111,
              "#46039f"
             ],
             [
              0.2222222222222222,
              "#7201a8"
             ],
             [
              0.3333333333333333,
              "#9c179e"
             ],
             [
              0.4444444444444444,
              "#bd3786"
             ],
             [
              0.5555555555555556,
              "#d8576b"
             ],
             [
              0.6666666666666666,
              "#ed7953"
             ],
             [
              0.7777777777777778,
              "#fb9f3a"
             ],
             [
              0.8888888888888888,
              "#fdca26"
             ],
             [
              1,
              "#f0f921"
             ]
            ],
            "type": "heatmap"
           }
          ],
          "heatmapgl": [
           {
            "colorbar": {
             "outlinewidth": 0,
             "ticks": ""
            },
            "colorscale": [
             [
              0,
              "#0d0887"
             ],
             [
              0.1111111111111111,
              "#46039f"
             ],
             [
              0.2222222222222222,
              "#7201a8"
             ],
             [
              0.3333333333333333,
              "#9c179e"
             ],
             [
              0.4444444444444444,
              "#bd3786"
             ],
             [
              0.5555555555555556,
              "#d8576b"
             ],
             [
              0.6666666666666666,
              "#ed7953"
             ],
             [
              0.7777777777777778,
              "#fb9f3a"
             ],
             [
              0.8888888888888888,
              "#fdca26"
             ],
             [
              1,
              "#f0f921"
             ]
            ],
            "type": "heatmapgl"
           }
          ],
          "histogram": [
           {
            "marker": {
             "pattern": {
              "fillmode": "overlay",
              "size": 10,
              "solidity": 0.2
             }
            },
            "type": "histogram"
           }
          ],
          "histogram2d": [
           {
            "colorbar": {
             "outlinewidth": 0,
             "ticks": ""
            },
            "colorscale": [
             [
              0,
              "#0d0887"
             ],
             [
              0.1111111111111111,
              "#46039f"
             ],
             [
              0.2222222222222222,
              "#7201a8"
             ],
             [
              0.3333333333333333,
              "#9c179e"
             ],
             [
              0.4444444444444444,
              "#bd3786"
             ],
             [
              0.5555555555555556,
              "#d8576b"
             ],
             [
              0.6666666666666666,
              "#ed7953"
             ],
             [
              0.7777777777777778,
              "#fb9f3a"
             ],
             [
              0.8888888888888888,
              "#fdca26"
             ],
             [
              1,
              "#f0f921"
             ]
            ],
            "type": "histogram2d"
           }
          ],
          "histogram2dcontour": [
           {
            "colorbar": {
             "outlinewidth": 0,
             "ticks": ""
            },
            "colorscale": [
             [
              0,
              "#0d0887"
             ],
             [
              0.1111111111111111,
              "#46039f"
             ],
             [
              0.2222222222222222,
              "#7201a8"
             ],
             [
              0.3333333333333333,
              "#9c179e"
             ],
             [
              0.4444444444444444,
              "#bd3786"
             ],
             [
              0.5555555555555556,
              "#d8576b"
             ],
             [
              0.6666666666666666,
              "#ed7953"
             ],
             [
              0.7777777777777778,
              "#fb9f3a"
             ],
             [
              0.8888888888888888,
              "#fdca26"
             ],
             [
              1,
              "#f0f921"
             ]
            ],
            "type": "histogram2dcontour"
           }
          ],
          "mesh3d": [
           {
            "colorbar": {
             "outlinewidth": 0,
             "ticks": ""
            },
            "type": "mesh3d"
           }
          ],
          "parcoords": [
           {
            "line": {
             "colorbar": {
              "outlinewidth": 0,
              "ticks": ""
             }
            },
            "type": "parcoords"
           }
          ],
          "pie": [
           {
            "automargin": true,
            "type": "pie"
           }
          ],
          "scatter": [
           {
            "fillpattern": {
             "fillmode": "overlay",
             "size": 10,
             "solidity": 0.2
            },
            "type": "scatter"
           }
          ],
          "scatter3d": [
           {
            "line": {
             "colorbar": {
              "outlinewidth": 0,
              "ticks": ""
             }
            },
            "marker": {
             "colorbar": {
              "outlinewidth": 0,
              "ticks": ""
             }
            },
            "type": "scatter3d"
           }
          ],
          "scattercarpet": [
           {
            "marker": {
             "colorbar": {
              "outlinewidth": 0,
              "ticks": ""
             }
            },
            "type": "scattercarpet"
           }
          ],
          "scattergeo": [
           {
            "marker": {
             "colorbar": {
              "outlinewidth": 0,
              "ticks": ""
             }
            },
            "type": "scattergeo"
           }
          ],
          "scattergl": [
           {
            "marker": {
             "colorbar": {
              "outlinewidth": 0,
              "ticks": ""
             }
            },
            "type": "scattergl"
           }
          ],
          "scattermapbox": [
           {
            "marker": {
             "colorbar": {
              "outlinewidth": 0,
              "ticks": ""
             }
            },
            "type": "scattermapbox"
           }
          ],
          "scatterpolar": [
           {
            "marker": {
             "colorbar": {
              "outlinewidth": 0,
              "ticks": ""
             }
            },
            "type": "scatterpolar"
           }
          ],
          "scatterpolargl": [
           {
            "marker": {
             "colorbar": {
              "outlinewidth": 0,
              "ticks": ""
             }
            },
            "type": "scatterpolargl"
           }
          ],
          "scatterternary": [
           {
            "marker": {
             "colorbar": {
              "outlinewidth": 0,
              "ticks": ""
             }
            },
            "type": "scatterternary"
           }
          ],
          "surface": [
           {
            "colorbar": {
             "outlinewidth": 0,
             "ticks": ""
            },
            "colorscale": [
             [
              0,
              "#0d0887"
             ],
             [
              0.1111111111111111,
              "#46039f"
             ],
             [
              0.2222222222222222,
              "#7201a8"
             ],
             [
              0.3333333333333333,
              "#9c179e"
             ],
             [
              0.4444444444444444,
              "#bd3786"
             ],
             [
              0.5555555555555556,
              "#d8576b"
             ],
             [
              0.6666666666666666,
              "#ed7953"
             ],
             [
              0.7777777777777778,
              "#fb9f3a"
             ],
             [
              0.8888888888888888,
              "#fdca26"
             ],
             [
              1,
              "#f0f921"
             ]
            ],
            "type": "surface"
           }
          ],
          "table": [
           {
            "cells": {
             "fill": {
              "color": "#EBF0F8"
             },
             "line": {
              "color": "white"
             }
            },
            "header": {
             "fill": {
              "color": "#C8D4E3"
             },
             "line": {
              "color": "white"
             }
            },
            "type": "table"
           }
          ]
         },
         "layout": {
          "annotationdefaults": {
           "arrowcolor": "#2a3f5f",
           "arrowhead": 0,
           "arrowwidth": 1
          },
          "autotypenumbers": "strict",
          "coloraxis": {
           "colorbar": {
            "outlinewidth": 0,
            "ticks": ""
           }
          },
          "colorscale": {
           "diverging": [
            [
             0,
             "#8e0152"
            ],
            [
             0.1,
             "#c51b7d"
            ],
            [
             0.2,
             "#de77ae"
            ],
            [
             0.3,
             "#f1b6da"
            ],
            [
             0.4,
             "#fde0ef"
            ],
            [
             0.5,
             "#f7f7f7"
            ],
            [
             0.6,
             "#e6f5d0"
            ],
            [
             0.7,
             "#b8e186"
            ],
            [
             0.8,
             "#7fbc41"
            ],
            [
             0.9,
             "#4d9221"
            ],
            [
             1,
             "#276419"
            ]
           ],
           "sequential": [
            [
             0,
             "#0d0887"
            ],
            [
             0.1111111111111111,
             "#46039f"
            ],
            [
             0.2222222222222222,
             "#7201a8"
            ],
            [
             0.3333333333333333,
             "#9c179e"
            ],
            [
             0.4444444444444444,
             "#bd3786"
            ],
            [
             0.5555555555555556,
             "#d8576b"
            ],
            [
             0.6666666666666666,
             "#ed7953"
            ],
            [
             0.7777777777777778,
             "#fb9f3a"
            ],
            [
             0.8888888888888888,
             "#fdca26"
            ],
            [
             1,
             "#f0f921"
            ]
           ],
           "sequentialminus": [
            [
             0,
             "#0d0887"
            ],
            [
             0.1111111111111111,
             "#46039f"
            ],
            [
             0.2222222222222222,
             "#7201a8"
            ],
            [
             0.3333333333333333,
             "#9c179e"
            ],
            [
             0.4444444444444444,
             "#bd3786"
            ],
            [
             0.5555555555555556,
             "#d8576b"
            ],
            [
             0.6666666666666666,
             "#ed7953"
            ],
            [
             0.7777777777777778,
             "#fb9f3a"
            ],
            [
             0.8888888888888888,
             "#fdca26"
            ],
            [
             1,
             "#f0f921"
            ]
           ]
          },
          "colorway": [
           "#636efa",
           "#EF553B",
           "#00cc96",
           "#ab63fa",
           "#FFA15A",
           "#19d3f3",
           "#FF6692",
           "#B6E880",
           "#FF97FF",
           "#FECB52"
          ],
          "font": {
           "color": "#2a3f5f"
          },
          "geo": {
           "bgcolor": "white",
           "lakecolor": "white",
           "landcolor": "#E5ECF6",
           "showlakes": true,
           "showland": true,
           "subunitcolor": "white"
          },
          "hoverlabel": {
           "align": "left"
          },
          "hovermode": "closest",
          "mapbox": {
           "style": "light"
          },
          "paper_bgcolor": "white",
          "plot_bgcolor": "#E5ECF6",
          "polar": {
           "angularaxis": {
            "gridcolor": "white",
            "linecolor": "white",
            "ticks": ""
           },
           "bgcolor": "#E5ECF6",
           "radialaxis": {
            "gridcolor": "white",
            "linecolor": "white",
            "ticks": ""
           }
          },
          "scene": {
           "xaxis": {
            "backgroundcolor": "#E5ECF6",
            "gridcolor": "white",
            "gridwidth": 2,
            "linecolor": "white",
            "showbackground": true,
            "ticks": "",
            "zerolinecolor": "white"
           },
           "yaxis": {
            "backgroundcolor": "#E5ECF6",
            "gridcolor": "white",
            "gridwidth": 2,
            "linecolor": "white",
            "showbackground": true,
            "ticks": "",
            "zerolinecolor": "white"
           },
           "zaxis": {
            "backgroundcolor": "#E5ECF6",
            "gridcolor": "white",
            "gridwidth": 2,
            "linecolor": "white",
            "showbackground": true,
            "ticks": "",
            "zerolinecolor": "white"
           }
          },
          "shapedefaults": {
           "line": {
            "color": "#2a3f5f"
           }
          },
          "ternary": {
           "aaxis": {
            "gridcolor": "white",
            "linecolor": "white",
            "ticks": ""
           },
           "baxis": {
            "gridcolor": "white",
            "linecolor": "white",
            "ticks": ""
           },
           "bgcolor": "#E5ECF6",
           "caxis": {
            "gridcolor": "white",
            "linecolor": "white",
            "ticks": ""
           }
          },
          "title": {
           "x": 0.05
          },
          "xaxis": {
           "automargin": true,
           "gridcolor": "white",
           "linecolor": "white",
           "ticks": "",
           "title": {
            "standoff": 15
           },
           "zerolinecolor": "white",
           "zerolinewidth": 2
          },
          "yaxis": {
           "automargin": true,
           "gridcolor": "white",
           "linecolor": "white",
           "ticks": "",
           "title": {
            "standoff": 15
           },
           "zerolinecolor": "white",
           "zerolinewidth": 2
          }
         }
        },
        "title": {
         "text": "Average duration per stage"
        },
        "xaxis": {
         "anchor": "y",
         "domain": [
          0,
          1
         ],
         "title": {
          "text": "date"
         }
        },
        "yaxis": {
         "anchor": "x",
         "domain": [
          0,
          1
         ],
         "title": {
          "text": "duration"
         }
        }
       }
      }
     },
     "metadata": {},
     "output_type": "display_data"
    }
   ],
   "source": [
    "# group df_history by date and stage\n",
    "df_history[\"date\"] = pd.to_datetime(df_history[\"date\"])\n",
    "df_history[\"stage\"] = df_history[\"stage\"].astype(\"category\")\n",
    "df_history_group = df_history.groupby(by=[\"date\", \"stage\"]).mean()\n",
    "df_history_group = df_history_group.reset_index()\n",
    "df_history_group[\"date\"] = df_history_group[\"date\"].dt.strftime(\"%d-%m-%Y\")\n",
    "\n",
    "# drop all columns except date, stage, duration\n",
    "df_history_group = df_history_group[[\"date\", \"stage\", \"duration\"]]\n",
    "df_history_group[\"duration\"] = df_history_group[\"duration\"].astype(\"float\")\n",
    "\n",
    "# fillna 0\n",
    "df_history_group[\"duration\"] = df_history_group[\"duration\"].fillna(0)\n",
    "\n",
    "# plot a time series of duration per stage\n",
    "fig = px.line(df_history_group, x=\"date\", y=\"duration\", color=\"stage\")\n",
    "fig.update_layout(title=\"Average duration per stage\")\n",
    "fig.show()\n"
   ]
  },
  {
   "cell_type": "code",
   "execution_count": 21,
   "metadata": {},
   "outputs": [
    {
     "name": "stderr",
     "output_type": "stream",
     "text": [
      "C:\\Users\\Admin\\AppData\\Local\\Temp\\ipykernel_8688\\1857523922.py:34: FutureWarning:\n",
      "\n",
      "Passing 'suffixes' which cause duplicate columns {'stage_x'} in the result is deprecated and will raise a MergeError in a future version.\n",
      "\n"
     ]
    },
    {
     "data": {
      "application/vnd.plotly.v1+json": {
       "config": {
        "plotlyServerURL": "https://plot.ly"
       },
       "data": [
        {
         "hovertemplate": "variable=milltrench_completetion_rate<br>date=%{x}<br>value=%{y}<extra></extra>",
         "legendgroup": "milltrench_completetion_rate",
         "line": {
          "color": "#636efa",
          "dash": "solid"
         },
         "marker": {
          "symbol": "circle"
         },
         "mode": "lines",
         "name": "milltrench_completetion_rate",
         "orientation": "v",
         "showlegend": true,
         "type": "scatter",
         "x": [
          "14-11-2022",
          "17-11-2022",
          "22-11-2022",
          "29-11-2022",
          "30-11-2022",
          "01-12-2022",
          "02-12-2022",
          "06-12-2022",
          "08-12-2022",
          "09-12-2022",
          "12-12-2022",
          "13-12-2022"
         ],
         "xaxis": "x",
         "y": [
          100,
          100,
          100,
          100,
          100,
          100,
          100,
          100,
          100,
          100,
          100,
          100
         ],
         "yaxis": "y"
        },
        {
         "hovertemplate": "variable=liftout_completion_rate<br>date=%{x}<br>value=%{y}<extra></extra>",
         "legendgroup": "liftout_completion_rate",
         "line": {
          "color": "#EF553B",
          "dash": "solid"
         },
         "marker": {
          "symbol": "circle"
         },
         "mode": "lines",
         "name": "liftout_completion_rate",
         "orientation": "v",
         "showlegend": true,
         "type": "scatter",
         "x": [
          "14-11-2022",
          "17-11-2022",
          "22-11-2022",
          "29-11-2022",
          "30-11-2022",
          "01-12-2022",
          "02-12-2022",
          "06-12-2022",
          "08-12-2022",
          "09-12-2022",
          "12-12-2022",
          "13-12-2022"
         ],
         "xaxis": "x",
         "y": [
          75,
          100,
          100,
          100,
          100,
          100,
          100,
          100,
          0,
          100,
          60,
          100
         ],
         "yaxis": "y"
        },
        {
         "hovertemplate": "variable=landing_completion_rate<br>date=%{x}<br>value=%{y}<extra></extra>",
         "legendgroup": "landing_completion_rate",
         "line": {
          "color": "#00cc96",
          "dash": "solid"
         },
         "marker": {
          "symbol": "circle"
         },
         "mode": "lines",
         "name": "landing_completion_rate",
         "orientation": "v",
         "showlegend": true,
         "type": "scatter",
         "x": [
          "14-11-2022",
          "17-11-2022",
          "22-11-2022",
          "29-11-2022",
          "30-11-2022",
          "01-12-2022",
          "02-12-2022",
          "06-12-2022",
          "08-12-2022",
          "09-12-2022",
          "12-12-2022",
          "13-12-2022"
         ],
         "xaxis": "x",
         "y": [
          50,
          40,
          16.666666666666664,
          60,
          100,
          80,
          80,
          75,
          0,
          33.33333333333333,
          60,
          50
         ],
         "yaxis": "y"
        },
        {
         "hovertemplate": "variable=finish_completion_rate<br>date=%{x}<br>value=%{y}<extra></extra>",
         "legendgroup": "finish_completion_rate",
         "line": {
          "color": "#ab63fa",
          "dash": "solid"
         },
         "marker": {
          "symbol": "circle"
         },
         "mode": "lines",
         "name": "finish_completion_rate",
         "orientation": "v",
         "showlegend": true,
         "type": "scatter",
         "x": [
          "14-11-2022",
          "17-11-2022",
          "22-11-2022",
          "29-11-2022",
          "30-11-2022",
          "01-12-2022",
          "02-12-2022",
          "06-12-2022",
          "08-12-2022",
          "09-12-2022",
          "12-12-2022",
          "13-12-2022"
         ],
         "xaxis": "x",
         "y": [
          50,
          40,
          16.666666666666664,
          60,
          100,
          40,
          60,
          75,
          0,
          0,
          40,
          50
         ],
         "yaxis": "y"
        }
       ],
       "layout": {
        "legend": {
         "title": {
          "text": "variable"
         },
         "tracegroupgap": 0
        },
        "margin": {
         "t": 60
        },
        "template": {
         "data": {
          "bar": [
           {
            "error_x": {
             "color": "#2a3f5f"
            },
            "error_y": {
             "color": "#2a3f5f"
            },
            "marker": {
             "line": {
              "color": "#E5ECF6",
              "width": 0.5
             },
             "pattern": {
              "fillmode": "overlay",
              "size": 10,
              "solidity": 0.2
             }
            },
            "type": "bar"
           }
          ],
          "barpolar": [
           {
            "marker": {
             "line": {
              "color": "#E5ECF6",
              "width": 0.5
             },
             "pattern": {
              "fillmode": "overlay",
              "size": 10,
              "solidity": 0.2
             }
            },
            "type": "barpolar"
           }
          ],
          "carpet": [
           {
            "aaxis": {
             "endlinecolor": "#2a3f5f",
             "gridcolor": "white",
             "linecolor": "white",
             "minorgridcolor": "white",
             "startlinecolor": "#2a3f5f"
            },
            "baxis": {
             "endlinecolor": "#2a3f5f",
             "gridcolor": "white",
             "linecolor": "white",
             "minorgridcolor": "white",
             "startlinecolor": "#2a3f5f"
            },
            "type": "carpet"
           }
          ],
          "choropleth": [
           {
            "colorbar": {
             "outlinewidth": 0,
             "ticks": ""
            },
            "type": "choropleth"
           }
          ],
          "contour": [
           {
            "colorbar": {
             "outlinewidth": 0,
             "ticks": ""
            },
            "colorscale": [
             [
              0,
              "#0d0887"
             ],
             [
              0.1111111111111111,
              "#46039f"
             ],
             [
              0.2222222222222222,
              "#7201a8"
             ],
             [
              0.3333333333333333,
              "#9c179e"
             ],
             [
              0.4444444444444444,
              "#bd3786"
             ],
             [
              0.5555555555555556,
              "#d8576b"
             ],
             [
              0.6666666666666666,
              "#ed7953"
             ],
             [
              0.7777777777777778,
              "#fb9f3a"
             ],
             [
              0.8888888888888888,
              "#fdca26"
             ],
             [
              1,
              "#f0f921"
             ]
            ],
            "type": "contour"
           }
          ],
          "contourcarpet": [
           {
            "colorbar": {
             "outlinewidth": 0,
             "ticks": ""
            },
            "type": "contourcarpet"
           }
          ],
          "heatmap": [
           {
            "colorbar": {
             "outlinewidth": 0,
             "ticks": ""
            },
            "colorscale": [
             [
              0,
              "#0d0887"
             ],
             [
              0.1111111111111111,
              "#46039f"
             ],
             [
              0.2222222222222222,
              "#7201a8"
             ],
             [
              0.3333333333333333,
              "#9c179e"
             ],
             [
              0.4444444444444444,
              "#bd3786"
             ],
             [
              0.5555555555555556,
              "#d8576b"
             ],
             [
              0.6666666666666666,
              "#ed7953"
             ],
             [
              0.7777777777777778,
              "#fb9f3a"
             ],
             [
              0.8888888888888888,
              "#fdca26"
             ],
             [
              1,
              "#f0f921"
             ]
            ],
            "type": "heatmap"
           }
          ],
          "heatmapgl": [
           {
            "colorbar": {
             "outlinewidth": 0,
             "ticks": ""
            },
            "colorscale": [
             [
              0,
              "#0d0887"
             ],
             [
              0.1111111111111111,
              "#46039f"
             ],
             [
              0.2222222222222222,
              "#7201a8"
             ],
             [
              0.3333333333333333,
              "#9c179e"
             ],
             [
              0.4444444444444444,
              "#bd3786"
             ],
             [
              0.5555555555555556,
              "#d8576b"
             ],
             [
              0.6666666666666666,
              "#ed7953"
             ],
             [
              0.7777777777777778,
              "#fb9f3a"
             ],
             [
              0.8888888888888888,
              "#fdca26"
             ],
             [
              1,
              "#f0f921"
             ]
            ],
            "type": "heatmapgl"
           }
          ],
          "histogram": [
           {
            "marker": {
             "pattern": {
              "fillmode": "overlay",
              "size": 10,
              "solidity": 0.2
             }
            },
            "type": "histogram"
           }
          ],
          "histogram2d": [
           {
            "colorbar": {
             "outlinewidth": 0,
             "ticks": ""
            },
            "colorscale": [
             [
              0,
              "#0d0887"
             ],
             [
              0.1111111111111111,
              "#46039f"
             ],
             [
              0.2222222222222222,
              "#7201a8"
             ],
             [
              0.3333333333333333,
              "#9c179e"
             ],
             [
              0.4444444444444444,
              "#bd3786"
             ],
             [
              0.5555555555555556,
              "#d8576b"
             ],
             [
              0.6666666666666666,
              "#ed7953"
             ],
             [
              0.7777777777777778,
              "#fb9f3a"
             ],
             [
              0.8888888888888888,
              "#fdca26"
             ],
             [
              1,
              "#f0f921"
             ]
            ],
            "type": "histogram2d"
           }
          ],
          "histogram2dcontour": [
           {
            "colorbar": {
             "outlinewidth": 0,
             "ticks": ""
            },
            "colorscale": [
             [
              0,
              "#0d0887"
             ],
             [
              0.1111111111111111,
              "#46039f"
             ],
             [
              0.2222222222222222,
              "#7201a8"
             ],
             [
              0.3333333333333333,
              "#9c179e"
             ],
             [
              0.4444444444444444,
              "#bd3786"
             ],
             [
              0.5555555555555556,
              "#d8576b"
             ],
             [
              0.6666666666666666,
              "#ed7953"
             ],
             [
              0.7777777777777778,
              "#fb9f3a"
             ],
             [
              0.8888888888888888,
              "#fdca26"
             ],
             [
              1,
              "#f0f921"
             ]
            ],
            "type": "histogram2dcontour"
           }
          ],
          "mesh3d": [
           {
            "colorbar": {
             "outlinewidth": 0,
             "ticks": ""
            },
            "type": "mesh3d"
           }
          ],
          "parcoords": [
           {
            "line": {
             "colorbar": {
              "outlinewidth": 0,
              "ticks": ""
             }
            },
            "type": "parcoords"
           }
          ],
          "pie": [
           {
            "automargin": true,
            "type": "pie"
           }
          ],
          "scatter": [
           {
            "fillpattern": {
             "fillmode": "overlay",
             "size": 10,
             "solidity": 0.2
            },
            "type": "scatter"
           }
          ],
          "scatter3d": [
           {
            "line": {
             "colorbar": {
              "outlinewidth": 0,
              "ticks": ""
             }
            },
            "marker": {
             "colorbar": {
              "outlinewidth": 0,
              "ticks": ""
             }
            },
            "type": "scatter3d"
           }
          ],
          "scattercarpet": [
           {
            "marker": {
             "colorbar": {
              "outlinewidth": 0,
              "ticks": ""
             }
            },
            "type": "scattercarpet"
           }
          ],
          "scattergeo": [
           {
            "marker": {
             "colorbar": {
              "outlinewidth": 0,
              "ticks": ""
             }
            },
            "type": "scattergeo"
           }
          ],
          "scattergl": [
           {
            "marker": {
             "colorbar": {
              "outlinewidth": 0,
              "ticks": ""
             }
            },
            "type": "scattergl"
           }
          ],
          "scattermapbox": [
           {
            "marker": {
             "colorbar": {
              "outlinewidth": 0,
              "ticks": ""
             }
            },
            "type": "scattermapbox"
           }
          ],
          "scatterpolar": [
           {
            "marker": {
             "colorbar": {
              "outlinewidth": 0,
              "ticks": ""
             }
            },
            "type": "scatterpolar"
           }
          ],
          "scatterpolargl": [
           {
            "marker": {
             "colorbar": {
              "outlinewidth": 0,
              "ticks": ""
             }
            },
            "type": "scatterpolargl"
           }
          ],
          "scatterternary": [
           {
            "marker": {
             "colorbar": {
              "outlinewidth": 0,
              "ticks": ""
             }
            },
            "type": "scatterternary"
           }
          ],
          "surface": [
           {
            "colorbar": {
             "outlinewidth": 0,
             "ticks": ""
            },
            "colorscale": [
             [
              0,
              "#0d0887"
             ],
             [
              0.1111111111111111,
              "#46039f"
             ],
             [
              0.2222222222222222,
              "#7201a8"
             ],
             [
              0.3333333333333333,
              "#9c179e"
             ],
             [
              0.4444444444444444,
              "#bd3786"
             ],
             [
              0.5555555555555556,
              "#d8576b"
             ],
             [
              0.6666666666666666,
              "#ed7953"
             ],
             [
              0.7777777777777778,
              "#fb9f3a"
             ],
             [
              0.8888888888888888,
              "#fdca26"
             ],
             [
              1,
              "#f0f921"
             ]
            ],
            "type": "surface"
           }
          ],
          "table": [
           {
            "cells": {
             "fill": {
              "color": "#EBF0F8"
             },
             "line": {
              "color": "white"
             }
            },
            "header": {
             "fill": {
              "color": "#C8D4E3"
             },
             "line": {
              "color": "white"
             }
            },
            "type": "table"
           }
          ]
         },
         "layout": {
          "annotationdefaults": {
           "arrowcolor": "#2a3f5f",
           "arrowhead": 0,
           "arrowwidth": 1
          },
          "autotypenumbers": "strict",
          "coloraxis": {
           "colorbar": {
            "outlinewidth": 0,
            "ticks": ""
           }
          },
          "colorscale": {
           "diverging": [
            [
             0,
             "#8e0152"
            ],
            [
             0.1,
             "#c51b7d"
            ],
            [
             0.2,
             "#de77ae"
            ],
            [
             0.3,
             "#f1b6da"
            ],
            [
             0.4,
             "#fde0ef"
            ],
            [
             0.5,
             "#f7f7f7"
            ],
            [
             0.6,
             "#e6f5d0"
            ],
            [
             0.7,
             "#b8e186"
            ],
            [
             0.8,
             "#7fbc41"
            ],
            [
             0.9,
             "#4d9221"
            ],
            [
             1,
             "#276419"
            ]
           ],
           "sequential": [
            [
             0,
             "#0d0887"
            ],
            [
             0.1111111111111111,
             "#46039f"
            ],
            [
             0.2222222222222222,
             "#7201a8"
            ],
            [
             0.3333333333333333,
             "#9c179e"
            ],
            [
             0.4444444444444444,
             "#bd3786"
            ],
            [
             0.5555555555555556,
             "#d8576b"
            ],
            [
             0.6666666666666666,
             "#ed7953"
            ],
            [
             0.7777777777777778,
             "#fb9f3a"
            ],
            [
             0.8888888888888888,
             "#fdca26"
            ],
            [
             1,
             "#f0f921"
            ]
           ],
           "sequentialminus": [
            [
             0,
             "#0d0887"
            ],
            [
             0.1111111111111111,
             "#46039f"
            ],
            [
             0.2222222222222222,
             "#7201a8"
            ],
            [
             0.3333333333333333,
             "#9c179e"
            ],
            [
             0.4444444444444444,
             "#bd3786"
            ],
            [
             0.5555555555555556,
             "#d8576b"
            ],
            [
             0.6666666666666666,
             "#ed7953"
            ],
            [
             0.7777777777777778,
             "#fb9f3a"
            ],
            [
             0.8888888888888888,
             "#fdca26"
            ],
            [
             1,
             "#f0f921"
            ]
           ]
          },
          "colorway": [
           "#636efa",
           "#EF553B",
           "#00cc96",
           "#ab63fa",
           "#FFA15A",
           "#19d3f3",
           "#FF6692",
           "#B6E880",
           "#FF97FF",
           "#FECB52"
          ],
          "font": {
           "color": "#2a3f5f"
          },
          "geo": {
           "bgcolor": "white",
           "lakecolor": "white",
           "landcolor": "#E5ECF6",
           "showlakes": true,
           "showland": true,
           "subunitcolor": "white"
          },
          "hoverlabel": {
           "align": "left"
          },
          "hovermode": "closest",
          "mapbox": {
           "style": "light"
          },
          "paper_bgcolor": "white",
          "plot_bgcolor": "#E5ECF6",
          "polar": {
           "angularaxis": {
            "gridcolor": "white",
            "linecolor": "white",
            "ticks": ""
           },
           "bgcolor": "#E5ECF6",
           "radialaxis": {
            "gridcolor": "white",
            "linecolor": "white",
            "ticks": ""
           }
          },
          "scene": {
           "xaxis": {
            "backgroundcolor": "#E5ECF6",
            "gridcolor": "white",
            "gridwidth": 2,
            "linecolor": "white",
            "showbackground": true,
            "ticks": "",
            "zerolinecolor": "white"
           },
           "yaxis": {
            "backgroundcolor": "#E5ECF6",
            "gridcolor": "white",
            "gridwidth": 2,
            "linecolor": "white",
            "showbackground": true,
            "ticks": "",
            "zerolinecolor": "white"
           },
           "zaxis": {
            "backgroundcolor": "#E5ECF6",
            "gridcolor": "white",
            "gridwidth": 2,
            "linecolor": "white",
            "showbackground": true,
            "ticks": "",
            "zerolinecolor": "white"
           }
          },
          "shapedefaults": {
           "line": {
            "color": "#2a3f5f"
           }
          },
          "ternary": {
           "aaxis": {
            "gridcolor": "white",
            "linecolor": "white",
            "ticks": ""
           },
           "baxis": {
            "gridcolor": "white",
            "linecolor": "white",
            "ticks": ""
           },
           "bgcolor": "#E5ECF6",
           "caxis": {
            "gridcolor": "white",
            "linecolor": "white",
            "ticks": ""
           }
          },
          "title": {
           "x": 0.05
          },
          "xaxis": {
           "automargin": true,
           "gridcolor": "white",
           "linecolor": "white",
           "ticks": "",
           "title": {
            "standoff": 15
           },
           "zerolinecolor": "white",
           "zerolinewidth": 2
          },
          "yaxis": {
           "automargin": true,
           "gridcolor": "white",
           "linecolor": "white",
           "ticks": "",
           "title": {
            "standoff": 15
           },
           "zerolinecolor": "white",
           "zerolinewidth": 2
          }
         }
        },
        "title": {
         "text": "Completion rate"
        },
        "xaxis": {
         "anchor": "y",
         "domain": [
          0,
          1
         ],
         "title": {
          "text": "date"
         }
        },
        "yaxis": {
         "anchor": "x",
         "domain": [
          0,
          1
         ],
         "title": {
          "text": "value"
         }
        }
       }
      }
     },
     "metadata": {},
     "output_type": "display_data"
    }
   ],
   "source": [
    "# group df_history by date and stage\n",
    "df_history[\"date\"] = pd.to_datetime(df_history[\"date\"])\n",
    "df_history[\"stage\"] = df_history[\"stage\"].astype(\"category\")\n",
    "df_history_group = df_history.groupby(by=[\"date\", \"stage\"]).count()\n",
    "df_history_group = df_history_group.reset_index()\n",
    "df_history_group[\"date\"] = df_history_group[\"date\"].dt.strftime(\"%d-%m-%Y\")\n",
    "\n",
    "# drop all columns except date, stage, duration\n",
    "\n",
    "df_history_group = df_history_group[[\"date\", \"stage\", \"duration\"]]\n",
    "\n",
    "# fillna 0\n",
    "df_history_group[\"duration\"] = df_history_group[\"duration\"].fillna(0)\n",
    "\n",
    "# get how many stage = MillTrench for each date\n",
    "df_history_group_milltrench = df_history_group[df_history_group[\"stage\"] == \"MillTrench\"]\n",
    "\n",
    "# get how many stage = Liftout for each date\n",
    "df_history_group_liftout = df_history_group[df_history_group[\"stage\"] == \"Liftout\"]\n",
    "\n",
    "# get how many stage = Landing for each date\n",
    "df_history_group_landing = df_history_group[df_history_group[\"stage\"] == \"Landing\"]\n",
    "\n",
    "# get how many stage = Finished for each date\n",
    "df_history_group_finished = df_history_group[df_history_group[\"stage\"] == \"Finished\"]\n",
    "\n",
    "# merge all the  dataframes\n",
    "df_history_group = pd.merge(df_history_group_milltrench, df_history_group_liftout, on=\"date\")\n",
    "\n",
    "# rename columns\n",
    "df_history_group = df_history_group.rename(columns={\"duration_x\": \"milltrench\", \"duration_y\": \"liftout\"})\n",
    "\n",
    "df_history_group = pd.merge(df_history_group, df_history_group_landing, on=\"date\")\n",
    "df_history_group = pd.merge(df_history_group, df_history_group_finished, on=\"date\")\n",
    "\n",
    "# rename columns\n",
    "df_history_group = df_history_group.rename(columns={\"duration_x\": \"landing\", \"duration_y\": \"finished\"})\n",
    "\n",
    "# drop\n",
    "df_history_group = df_history_group[[\"date\", \"milltrench\", \"liftout\", \"landing\", \"finished\"]]\n",
    "\n",
    "\n",
    "# display(df_history_group)\n",
    "\n",
    "# calculate completion rate milltrench / milltrench\n",
    "df_history_group[\"milltrench_completetion_rate\"] = df_history_group[\"milltrench\"] / df_history_group[\"milltrench\"] * 100\n",
    "\n",
    "# calculate completion rate finished / milltrench\n",
    "df_history_group[\"finish_completion_rate\"] = df_history_group[\"finished\"] / df_history_group[\"milltrench\"] * 100\n",
    "\n",
    "# calculate completion rate landing / milltrench\n",
    "df_history_group[\"landing_completion_rate\"] = df_history_group[\"landing\"] / df_history_group[\"milltrench\"] * 100\n",
    "\n",
    "# calculate completion rate liftout / milltrench\n",
    "df_history_group[\"liftout_completion_rate\"] = df_history_group[\"liftout\"] / df_history_group[\"milltrench\"] * 100\n",
    "\n",
    "# plot a time series of completion rate with dashed lines\n",
    "fig = px.line(df_history_group, x=\"date\", y=[\"milltrench_completetion_rate\", \n",
    "    \"liftout_completion_rate\", \n",
    "    \"landing_completion_rate\", \"finish_completion_rate\"])\n",
    "fig.update_layout(title=\"Completion rate\")\n",
    "fig.show()\n"
   ]
  },
  {
   "cell_type": "code",
   "execution_count": 22,
   "metadata": {},
   "outputs": [
    {
     "data": {
      "application/vnd.plotly.v1+json": {
       "config": {
        "plotlyServerURL": "https://plot.ly"
       },
       "data": [
        {
         "hovertemplate": "beam_type=Electron<br>date=%{x}<br>gamma=%{y}<extra></extra>",
         "legendgroup": "Electron",
         "line": {
          "color": "#636efa",
          "dash": "solid"
         },
         "marker": {
          "symbol": "circle"
         },
         "mode": "lines",
         "name": "Electron",
         "orientation": "v",
         "showlegend": true,
         "type": "scatter",
         "x": [
          "14-11-2022",
          "17-11-2022",
          "22-11-2022",
          "29-11-2022",
          "30-11-2022",
          "01-12-2022",
          "02-12-2022",
          "06-12-2022",
          "08-12-2022",
          "09-12-2022",
          "12-12-2022",
          "13-12-2022"
         ],
         "xaxis": "x",
         "y": [
          0.9351908396946566,
          0.7092559366754617,
          0.9784532967032966,
          0.7178081534772183,
          0.8590701219512195,
          0.8486292134831461,
          0.8948142076502732,
          0.8821292875989446,
          0.9532650602409638,
          0.9324423076923077,
          0.8858602150537634,
          0.8095343511450382
         ],
         "yaxis": "y"
        },
        {
         "hovertemplate": "beam_type=Ion<br>date=%{x}<br>gamma=%{y}<extra></extra>",
         "legendgroup": "Ion",
         "line": {
          "color": "#EF553B",
          "dash": "solid"
         },
         "marker": {
          "symbol": "circle"
         },
         "mode": "lines",
         "name": "Ion",
         "orientation": "v",
         "showlegend": true,
         "type": "scatter",
         "x": [
          "14-11-2022",
          "17-11-2022",
          "22-11-2022",
          "29-11-2022",
          "30-11-2022",
          "01-12-2022",
          "02-12-2022",
          "06-12-2022",
          "08-12-2022",
          "09-12-2022",
          "12-12-2022",
          "13-12-2022"
         ],
         "xaxis": "x",
         "y": [
          0.6499883040935672,
          0.6283963553530751,
          1.006420323325635,
          1.109799283154122,
          0.9902803180914512,
          0.6715296367112811,
          0.7753142857142857,
          0.9169138943248533,
          0.49407291666666664,
          0.910253807106599,
          0.887051282051282,
          0.9318833333333334
         ],
         "yaxis": "y"
        }
       ],
       "layout": {
        "legend": {
         "title": {
          "text": "beam_type"
         },
         "tracegroupgap": 0
        },
        "margin": {
         "t": 60
        },
        "template": {
         "data": {
          "bar": [
           {
            "error_x": {
             "color": "#2a3f5f"
            },
            "error_y": {
             "color": "#2a3f5f"
            },
            "marker": {
             "line": {
              "color": "#E5ECF6",
              "width": 0.5
             },
             "pattern": {
              "fillmode": "overlay",
              "size": 10,
              "solidity": 0.2
             }
            },
            "type": "bar"
           }
          ],
          "barpolar": [
           {
            "marker": {
             "line": {
              "color": "#E5ECF6",
              "width": 0.5
             },
             "pattern": {
              "fillmode": "overlay",
              "size": 10,
              "solidity": 0.2
             }
            },
            "type": "barpolar"
           }
          ],
          "carpet": [
           {
            "aaxis": {
             "endlinecolor": "#2a3f5f",
             "gridcolor": "white",
             "linecolor": "white",
             "minorgridcolor": "white",
             "startlinecolor": "#2a3f5f"
            },
            "baxis": {
             "endlinecolor": "#2a3f5f",
             "gridcolor": "white",
             "linecolor": "white",
             "minorgridcolor": "white",
             "startlinecolor": "#2a3f5f"
            },
            "type": "carpet"
           }
          ],
          "choropleth": [
           {
            "colorbar": {
             "outlinewidth": 0,
             "ticks": ""
            },
            "type": "choropleth"
           }
          ],
          "contour": [
           {
            "colorbar": {
             "outlinewidth": 0,
             "ticks": ""
            },
            "colorscale": [
             [
              0,
              "#0d0887"
             ],
             [
              0.1111111111111111,
              "#46039f"
             ],
             [
              0.2222222222222222,
              "#7201a8"
             ],
             [
              0.3333333333333333,
              "#9c179e"
             ],
             [
              0.4444444444444444,
              "#bd3786"
             ],
             [
              0.5555555555555556,
              "#d8576b"
             ],
             [
              0.6666666666666666,
              "#ed7953"
             ],
             [
              0.7777777777777778,
              "#fb9f3a"
             ],
             [
              0.8888888888888888,
              "#fdca26"
             ],
             [
              1,
              "#f0f921"
             ]
            ],
            "type": "contour"
           }
          ],
          "contourcarpet": [
           {
            "colorbar": {
             "outlinewidth": 0,
             "ticks": ""
            },
            "type": "contourcarpet"
           }
          ],
          "heatmap": [
           {
            "colorbar": {
             "outlinewidth": 0,
             "ticks": ""
            },
            "colorscale": [
             [
              0,
              "#0d0887"
             ],
             [
              0.1111111111111111,
              "#46039f"
             ],
             [
              0.2222222222222222,
              "#7201a8"
             ],
             [
              0.3333333333333333,
              "#9c179e"
             ],
             [
              0.4444444444444444,
              "#bd3786"
             ],
             [
              0.5555555555555556,
              "#d8576b"
             ],
             [
              0.6666666666666666,
              "#ed7953"
             ],
             [
              0.7777777777777778,
              "#fb9f3a"
             ],
             [
              0.8888888888888888,
              "#fdca26"
             ],
             [
              1,
              "#f0f921"
             ]
            ],
            "type": "heatmap"
           }
          ],
          "heatmapgl": [
           {
            "colorbar": {
             "outlinewidth": 0,
             "ticks": ""
            },
            "colorscale": [
             [
              0,
              "#0d0887"
             ],
             [
              0.1111111111111111,
              "#46039f"
             ],
             [
              0.2222222222222222,
              "#7201a8"
             ],
             [
              0.3333333333333333,
              "#9c179e"
             ],
             [
              0.4444444444444444,
              "#bd3786"
             ],
             [
              0.5555555555555556,
              "#d8576b"
             ],
             [
              0.6666666666666666,
              "#ed7953"
             ],
             [
              0.7777777777777778,
              "#fb9f3a"
             ],
             [
              0.8888888888888888,
              "#fdca26"
             ],
             [
              1,
              "#f0f921"
             ]
            ],
            "type": "heatmapgl"
           }
          ],
          "histogram": [
           {
            "marker": {
             "pattern": {
              "fillmode": "overlay",
              "size": 10,
              "solidity": 0.2
             }
            },
            "type": "histogram"
           }
          ],
          "histogram2d": [
           {
            "colorbar": {
             "outlinewidth": 0,
             "ticks": ""
            },
            "colorscale": [
             [
              0,
              "#0d0887"
             ],
             [
              0.1111111111111111,
              "#46039f"
             ],
             [
              0.2222222222222222,
              "#7201a8"
             ],
             [
              0.3333333333333333,
              "#9c179e"
             ],
             [
              0.4444444444444444,
              "#bd3786"
             ],
             [
              0.5555555555555556,
              "#d8576b"
             ],
             [
              0.6666666666666666,
              "#ed7953"
             ],
             [
              0.7777777777777778,
              "#fb9f3a"
             ],
             [
              0.8888888888888888,
              "#fdca26"
             ],
             [
              1,
              "#f0f921"
             ]
            ],
            "type": "histogram2d"
           }
          ],
          "histogram2dcontour": [
           {
            "colorbar": {
             "outlinewidth": 0,
             "ticks": ""
            },
            "colorscale": [
             [
              0,
              "#0d0887"
             ],
             [
              0.1111111111111111,
              "#46039f"
             ],
             [
              0.2222222222222222,
              "#7201a8"
             ],
             [
              0.3333333333333333,
              "#9c179e"
             ],
             [
              0.4444444444444444,
              "#bd3786"
             ],
             [
              0.5555555555555556,
              "#d8576b"
             ],
             [
              0.6666666666666666,
              "#ed7953"
             ],
             [
              0.7777777777777778,
              "#fb9f3a"
             ],
             [
              0.8888888888888888,
              "#fdca26"
             ],
             [
              1,
              "#f0f921"
             ]
            ],
            "type": "histogram2dcontour"
           }
          ],
          "mesh3d": [
           {
            "colorbar": {
             "outlinewidth": 0,
             "ticks": ""
            },
            "type": "mesh3d"
           }
          ],
          "parcoords": [
           {
            "line": {
             "colorbar": {
              "outlinewidth": 0,
              "ticks": ""
             }
            },
            "type": "parcoords"
           }
          ],
          "pie": [
           {
            "automargin": true,
            "type": "pie"
           }
          ],
          "scatter": [
           {
            "fillpattern": {
             "fillmode": "overlay",
             "size": 10,
             "solidity": 0.2
            },
            "type": "scatter"
           }
          ],
          "scatter3d": [
           {
            "line": {
             "colorbar": {
              "outlinewidth": 0,
              "ticks": ""
             }
            },
            "marker": {
             "colorbar": {
              "outlinewidth": 0,
              "ticks": ""
             }
            },
            "type": "scatter3d"
           }
          ],
          "scattercarpet": [
           {
            "marker": {
             "colorbar": {
              "outlinewidth": 0,
              "ticks": ""
             }
            },
            "type": "scattercarpet"
           }
          ],
          "scattergeo": [
           {
            "marker": {
             "colorbar": {
              "outlinewidth": 0,
              "ticks": ""
             }
            },
            "type": "scattergeo"
           }
          ],
          "scattergl": [
           {
            "marker": {
             "colorbar": {
              "outlinewidth": 0,
              "ticks": ""
             }
            },
            "type": "scattergl"
           }
          ],
          "scattermapbox": [
           {
            "marker": {
             "colorbar": {
              "outlinewidth": 0,
              "ticks": ""
             }
            },
            "type": "scattermapbox"
           }
          ],
          "scatterpolar": [
           {
            "marker": {
             "colorbar": {
              "outlinewidth": 0,
              "ticks": ""
             }
            },
            "type": "scatterpolar"
           }
          ],
          "scatterpolargl": [
           {
            "marker": {
             "colorbar": {
              "outlinewidth": 0,
              "ticks": ""
             }
            },
            "type": "scatterpolargl"
           }
          ],
          "scatterternary": [
           {
            "marker": {
             "colorbar": {
              "outlinewidth": 0,
              "ticks": ""
             }
            },
            "type": "scatterternary"
           }
          ],
          "surface": [
           {
            "colorbar": {
             "outlinewidth": 0,
             "ticks": ""
            },
            "colorscale": [
             [
              0,
              "#0d0887"
             ],
             [
              0.1111111111111111,
              "#46039f"
             ],
             [
              0.2222222222222222,
              "#7201a8"
             ],
             [
              0.3333333333333333,
              "#9c179e"
             ],
             [
              0.4444444444444444,
              "#bd3786"
             ],
             [
              0.5555555555555556,
              "#d8576b"
             ],
             [
              0.6666666666666666,
              "#ed7953"
             ],
             [
              0.7777777777777778,
              "#fb9f3a"
             ],
             [
              0.8888888888888888,
              "#fdca26"
             ],
             [
              1,
              "#f0f921"
             ]
            ],
            "type": "surface"
           }
          ],
          "table": [
           {
            "cells": {
             "fill": {
              "color": "#EBF0F8"
             },
             "line": {
              "color": "white"
             }
            },
            "header": {
             "fill": {
              "color": "#C8D4E3"
             },
             "line": {
              "color": "white"
             }
            },
            "type": "table"
           }
          ]
         },
         "layout": {
          "annotationdefaults": {
           "arrowcolor": "#2a3f5f",
           "arrowhead": 0,
           "arrowwidth": 1
          },
          "autotypenumbers": "strict",
          "coloraxis": {
           "colorbar": {
            "outlinewidth": 0,
            "ticks": ""
           }
          },
          "colorscale": {
           "diverging": [
            [
             0,
             "#8e0152"
            ],
            [
             0.1,
             "#c51b7d"
            ],
            [
             0.2,
             "#de77ae"
            ],
            [
             0.3,
             "#f1b6da"
            ],
            [
             0.4,
             "#fde0ef"
            ],
            [
             0.5,
             "#f7f7f7"
            ],
            [
             0.6,
             "#e6f5d0"
            ],
            [
             0.7,
             "#b8e186"
            ],
            [
             0.8,
             "#7fbc41"
            ],
            [
             0.9,
             "#4d9221"
            ],
            [
             1,
             "#276419"
            ]
           ],
           "sequential": [
            [
             0,
             "#0d0887"
            ],
            [
             0.1111111111111111,
             "#46039f"
            ],
            [
             0.2222222222222222,
             "#7201a8"
            ],
            [
             0.3333333333333333,
             "#9c179e"
            ],
            [
             0.4444444444444444,
             "#bd3786"
            ],
            [
             0.5555555555555556,
             "#d8576b"
            ],
            [
             0.6666666666666666,
             "#ed7953"
            ],
            [
             0.7777777777777778,
             "#fb9f3a"
            ],
            [
             0.8888888888888888,
             "#fdca26"
            ],
            [
             1,
             "#f0f921"
            ]
           ],
           "sequentialminus": [
            [
             0,
             "#0d0887"
            ],
            [
             0.1111111111111111,
             "#46039f"
            ],
            [
             0.2222222222222222,
             "#7201a8"
            ],
            [
             0.3333333333333333,
             "#9c179e"
            ],
            [
             0.4444444444444444,
             "#bd3786"
            ],
            [
             0.5555555555555556,
             "#d8576b"
            ],
            [
             0.6666666666666666,
             "#ed7953"
            ],
            [
             0.7777777777777778,
             "#fb9f3a"
            ],
            [
             0.8888888888888888,
             "#fdca26"
            ],
            [
             1,
             "#f0f921"
            ]
           ]
          },
          "colorway": [
           "#636efa",
           "#EF553B",
           "#00cc96",
           "#ab63fa",
           "#FFA15A",
           "#19d3f3",
           "#FF6692",
           "#B6E880",
           "#FF97FF",
           "#FECB52"
          ],
          "font": {
           "color": "#2a3f5f"
          },
          "geo": {
           "bgcolor": "white",
           "lakecolor": "white",
           "landcolor": "#E5ECF6",
           "showlakes": true,
           "showland": true,
           "subunitcolor": "white"
          },
          "hoverlabel": {
           "align": "left"
          },
          "hovermode": "closest",
          "mapbox": {
           "style": "light"
          },
          "paper_bgcolor": "white",
          "plot_bgcolor": "#E5ECF6",
          "polar": {
           "angularaxis": {
            "gridcolor": "white",
            "linecolor": "white",
            "ticks": ""
           },
           "bgcolor": "#E5ECF6",
           "radialaxis": {
            "gridcolor": "white",
            "linecolor": "white",
            "ticks": ""
           }
          },
          "scene": {
           "xaxis": {
            "backgroundcolor": "#E5ECF6",
            "gridcolor": "white",
            "gridwidth": 2,
            "linecolor": "white",
            "showbackground": true,
            "ticks": "",
            "zerolinecolor": "white"
           },
           "yaxis": {
            "backgroundcolor": "#E5ECF6",
            "gridcolor": "white",
            "gridwidth": 2,
            "linecolor": "white",
            "showbackground": true,
            "ticks": "",
            "zerolinecolor": "white"
           },
           "zaxis": {
            "backgroundcolor": "#E5ECF6",
            "gridcolor": "white",
            "gridwidth": 2,
            "linecolor": "white",
            "showbackground": true,
            "ticks": "",
            "zerolinecolor": "white"
           }
          },
          "shapedefaults": {
           "line": {
            "color": "#2a3f5f"
           }
          },
          "ternary": {
           "aaxis": {
            "gridcolor": "white",
            "linecolor": "white",
            "ticks": ""
           },
           "baxis": {
            "gridcolor": "white",
            "linecolor": "white",
            "ticks": ""
           },
           "bgcolor": "#E5ECF6",
           "caxis": {
            "gridcolor": "white",
            "linecolor": "white",
            "ticks": ""
           }
          },
          "title": {
           "x": 0.05
          },
          "xaxis": {
           "automargin": true,
           "gridcolor": "white",
           "linecolor": "white",
           "ticks": "",
           "title": {
            "standoff": 15
           },
           "zerolinecolor": "white",
           "zerolinewidth": 2
          },
          "yaxis": {
           "automargin": true,
           "gridcolor": "white",
           "linecolor": "white",
           "ticks": "",
           "title": {
            "standoff": 15
           },
           "zerolinecolor": "white",
           "zerolinewidth": 2
          }
         }
        },
        "title": {
         "text": "Average gamma per beam type"
        },
        "xaxis": {
         "anchor": "y",
         "domain": [
          0,
          1
         ],
         "title": {
          "text": "date"
         }
        },
        "yaxis": {
         "anchor": "x",
         "domain": [
          0,
          1
         ],
         "title": {
          "text": "gamma"
         }
        }
       }
      }
     },
     "metadata": {},
     "output_type": "display_data"
    }
   ],
   "source": [
    "# group df_gamma by date, and beam_type\n",
    "df_gamma[\"date\"] = pd.to_datetime(df_gamma[\"date\"])\n",
    "df_gamma[\"beam_type\"] = df_gamma[\"beam_type\"].astype(\"category\")\n",
    "df_gamma_group = df_gamma.groupby(by=[\"date\", \"beam_type\"]).mean()\n",
    "df_gamma_group = df_gamma_group.reset_index()\n",
    "df_gamma_group[\"date\"] = df_gamma_group[\"date\"].dt.strftime(\"%d-%m-%Y\")\n",
    "\n",
    "# drop all columns except date, beam_type, gamma\n",
    "df_gamma_group = df_gamma_group[[\"date\", \"beam_type\", \"gamma\"]]\n",
    "df_gamma_group[\"gamma\"] = df_gamma_group[\"gamma\"].astype(\"float\")\n",
    "\n",
    "# fillna 0\n",
    "df_gamma_group[\"gamma\"] = df_gamma_group[\"gamma\"].fillna(0)\n",
    "\n",
    "# plot a time series of gamma per beam_type\n",
    "fig = px.line(df_gamma_group, x=\"date\", y=\"gamma\", color=\"beam_type\")\n",
    "fig.update_layout(title=\"Average gamma per beam type\")\n",
    "fig.show()\n"
   ]
  },
  {
   "cell_type": "code",
   "execution_count": null,
   "metadata": {},
   "outputs": [],
   "source": []
  },
  {
   "cell_type": "code",
   "execution_count": null,
   "metadata": {},
   "outputs": [],
   "source": []
  },
  {
   "cell_type": "code",
   "execution_count": null,
   "metadata": {},
   "outputs": [],
   "source": []
  }
 ],
 "metadata": {
  "kernelspec": {
   "display_name": "autoliftout",
   "language": "python",
   "name": "python3"
  },
  "language_info": {
   "codemirror_mode": {
    "name": "ipython",
    "version": 3
   },
   "file_extension": ".py",
   "mimetype": "text/x-python",
   "name": "python",
   "nbconvert_exporter": "python",
   "pygments_lexer": "ipython3",
   "version": "3.9.13"
  },
  "orig_nbformat": 4,
  "vscode": {
   "interpreter": {
    "hash": "ea78b76b2c840a5577de64ec81812954f7a3177bd4e73b9895b7933ce81940d2"
   }
  }
 },
 "nbformat": 4,
 "nbformat_minor": 2
}
