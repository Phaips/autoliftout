{
 "cells": [
  {
   "cell_type": "code",
   "execution_count": null,
   "metadata": {},
   "outputs": [],
   "source": [
    "%load_ext autoreload\n",
    "%autoreload 2\n",
    "\n",
    "import os\n",
    "\n",
    "\n",
    "from fibsem import utils, alignment\n",
    "from liftout import utils as liftout_utils\n",
    "\n",
    "from fibsem.imaging import masks\n",
    "from fibsem.imaging import utils as image_utils\n",
    "\n",
    "import matplotlib.pyplot as plt\n",
    "import numpy as np\n",
    "\n",
    "\n"
   ]
  },
  {
   "cell_type": "code",
   "execution_count": null,
   "metadata": {},
   "outputs": [],
   "source": [
    "# inverse masks\n",
    "\n",
    "# more granualar mask control\n",
    "\n",
    "# create a circular mask\n",
    "arr = np.zeros((1024, 1536))\n",
    "\n",
    "mask_info = {\n",
    "    \"type\": \"circle\",\n",
    "    \"radius\": 256,\n",
    "    \"sigma\": 0,\n",
    "    \"invert\": True\n",
    "}\n",
    "\n",
    "# mask_info = {\n",
    "#     \"type\": \"rect\",\n",
    "#     \"pt\": None,\n",
    "#     \"w\": 500, \n",
    "#     \"h\": 500,\n",
    "#     \"sigma\": 3,\n",
    "#     \"invert\": True\n",
    "# }\n",
    "\n",
    "mask = masks.create_mask(arr, mask_info)\n",
    "\n",
    "plt.imshow(mask)\n",
    "plt.show()\n",
    "\n"
   ]
  },
  {
   "cell_type": "code",
   "execution_count": null,
   "metadata": {},
   "outputs": [],
   "source": [
    "# path = r\"C:\\Users\\pcle0002\\Documents\\repos\\data\\autoliftout\\Dm_E11_3Nov2022_-2022-11-15.11-50-17AM\\01-exact-quagga\"\n",
    "# path = r\"C:\\Users\\pcle0002\\Documents\\repos\\data\\autoliftout\\Dm_E11_3Nov2022_-2022-11-15.11-50-17AM\\02-caring-rat\"\n",
    "# path = r\"C:\\Users\\pcle0002\\Documents\\repos\\data\\autoliftout\\Dm_E11_3Nov2022_-2022-11-15.11-50-17AM\\03-tender-salmon\"\n",
    "# path = r\"C:\\Users\\pcle0002\\Documents\\repos\\data\\autoliftout\\Dm_E11_3Nov2022_-2022-11-15.11-50-17AM\\04-cool-monkey\"\n",
    "\n",
    "from autoscript_sdb_microscope_client.structures import AdornedImage\n",
    "\n",
    "ref_eb = AdornedImage.load(os.path.join(path, \"ref_trench_jcut_low_res_eb.tif\"))\n",
    "target_eb = AdornedImage.load(os.path.join(path, \"ref_jcut_low_res_ib.tif\"))\n",
    "\n",
    "# ref_eb = AdornedImage.load(os.path.join(path, \"ref_trench_high_res_eb.tif\"))\n",
    "# target_eb = AdornedImage.load(os.path.join(path, \"ref_jcut_high_res_ib.tif\"))\n",
    "\n",
    "\n",
    "# plot both with filename as title\n",
    "\n",
    "# fig, ax = plt.subplots(1, 2, figsize=(30, 30))\n",
    "# ax[0].imshow(ref_eb.data, cmap=\"gray\")\n",
    "# ax[0].set_title(\"ref_eb\")\n",
    "# ax[1].imshow(image_utils.rotate_image(target_eb).data, cmap=\"gray\")\n",
    "# ax[1].set_title(\"target_eb\")\n",
    "\n",
    "# plt.show()\n",
    "\n",
    "\n"
   ]
  },
  {
   "cell_type": "code",
   "execution_count": null,
   "metadata": {},
   "outputs": [],
   "source": [
    "from liftout.utils import crosscorrelate_and_plot\n",
    "from autoscript_sdb_microscope_client.structures import AdornedImage\n",
    "\n",
    "base_path = r\"C:\\Users\\pcle0002\\Documents\\repos\\data\\autoliftout\\Dm_E11_3Nov2022_-2022-11-15.11-50-17AM\"\n",
    "paths = [\"01-exact-quagga\", \"02-caring-rat\", \"03-tender-salmon\", \"04-cool-monkey\"]\n",
    "\n",
    "for path in paths:\n",
    "    print(path)\n",
    "    path = os.path.join(base_path, path)\n",
    "    ref_eb = AdornedImage.load(os.path.join(path, \"ref_trench_jcut_low_res_eb.tif\"))\n",
    "    target_eb = AdornedImage.load(os.path.join(path, \"ref_jcut_low_res_ib.tif\"))\n",
    "\n",
    "    dx, dy, xcorr = crosscorrelate_and_plot(ref_eb, target_eb, rotate=True, lp=128, hp=8, sigma=6, ref_mask=None, xcorr_limit=100)"
   ]
  },
  {
   "cell_type": "code",
   "execution_count": null,
   "metadata": {},
   "outputs": [],
   "source": [
    "import glob\n",
    "\n",
    "# get list of directories\n",
    "\n",
    "base_path = r\"C:\\Users\\pcle0002\\Documents\\repos\\data\\autoliftout\"\n",
    "\n",
    "paths = glob.glob(os.path.join(base_path, \"*\"))\n",
    "\n",
    "for path in paths:\n",
    "    print(path)\n",
    "    paths = glob.glob(os.path.join(path, \"*\"))\n",
    "    try:\n",
    "        for path in paths:\n",
    "            print(path)\n",
    "            ref_eb = AdornedImage.load(os.path.join(path, \"ref_trench_jcut_low_res_eb.tif\"))\n",
    "            target_eb = AdornedImage.load(os.path.join(path, \"ref_jcut_low_res_ib.tif\"))\n",
    "\n",
    "            # ref_eb = AdornedImage.load(os.path.join(path, \"ref_trench_jcut_high_res_ib.tif\"))\n",
    "            # target_eb = AdornedImage.load(os.path.join(path, \"ref_jcut_high_res_eb.tif\"))\n",
    "\n",
    "            # ref_eb = AdornedImage.load(os.path.join(path, \"ref_trench_low_res_eb.tif\"))\n",
    "            # target_eb = AdornedImage.load(os.path.join(path, \"ref_trench_jcut_low_res_eb.tif\")) # rotate = False\n",
    "\n",
    "            # ref_eb = AdornedImage.load(os.path.join(path, \"ref_trench_high_res_ib.tif\"))\n",
    "            # target_eb = AdornedImage.load(os.path.join(path, \"ref_trench_jcut_high_res_ib.tif\")) # rotate = False\n",
    "\n",
    "\n",
    "            dx, dy, xcorr = crosscorrelate_and_plot(ref_eb, target_eb, rotate=True, lp=128, hp=8, sigma=6, ref_mask=None, xcorr_limit=250)\n",
    "    except Exception as e:\n",
    "        print(f\"error: {e}\")\n",
    "        pass"
   ]
  },
  {
   "cell_type": "code",
   "execution_count": null,
   "metadata": {},
   "outputs": [],
   "source": []
  }
 ],
 "metadata": {
  "kernelspec": {
   "display_name": "Python 3.9.12 ('liftout')",
   "language": "python",
   "name": "python3"
  },
  "language_info": {
   "codemirror_mode": {
    "name": "ipython",
    "version": 3
   },
   "file_extension": ".py",
   "mimetype": "text/x-python",
   "name": "python",
   "nbconvert_exporter": "python",
   "pygments_lexer": "ipython3",
   "version": "3.9.12"
  },
  "orig_nbformat": 4,
  "vscode": {
   "interpreter": {
    "hash": "5cb17a689ea48522a268bdcd61b0f399058cec9c1acbad013779623d1fd2c02a"
   }
  }
 },
 "nbformat": 4,
 "nbformat_minor": 2
}
