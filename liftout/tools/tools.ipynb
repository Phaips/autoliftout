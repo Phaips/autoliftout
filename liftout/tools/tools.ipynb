{
 "cells": [
  {
   "cell_type": "code",
   "execution_count": 3,
   "metadata": {},
   "outputs": [
    {
     "name": "stdout",
     "output_type": "stream",
     "text": [
      "The autoreload extension is already loaded. To reload it, use:\n",
      "  %reload_ext autoreload\n"
     ]
    }
   ],
   "source": [
    "%load_ext autoreload\n",
    "%autoreload 2\n",
    "\n",
    "\n",
    "from liftout.structures import Sample, load_experiment\n",
    "\n",
    "\n",
    "import os \n",
    "import numpy as np\n",
    "import matplotlib.pyplot as plt\n",
    "\n",
    "\n",
    "\n",
    "\n"
   ]
  },
  {
   "cell_type": "code",
   "execution_count": 4,
   "metadata": {},
   "outputs": [],
   "source": [
    "# path = r\"C:\\Users\\Admin\\Github\\autoliftout\\liftout\\log\\dm-embryo-05_2022-08-29.11-57-03AM\" # 6\n",
    "path = r\"C:\\Users\\Admin\\Github\\autoliftout\\liftout\\log\\dm-embryo-06_2022-08-30.03-26-27PM\" # 3\n",
    "\n",
    "\n",
    "sample = load_experiment(path)"
   ]
  },
  {
   "cell_type": "code",
   "execution_count": 5,
   "metadata": {},
   "outputs": [
    {
     "data": {
      "text/html": [
       "<div>\n",
       "<style scoped>\n",
       "    .dataframe tbody tr th:only-of-type {\n",
       "        vertical-align: middle;\n",
       "    }\n",
       "\n",
       "    .dataframe tbody tr th {\n",
       "        vertical-align: top;\n",
       "    }\n",
       "\n",
       "    .dataframe thead th {\n",
       "        text-align: right;\n",
       "    }\n",
       "</style>\n",
       "<table border=\"1\" class=\"dataframe\">\n",
       "  <thead>\n",
       "    <tr style=\"text-align: right;\">\n",
       "      <th></th>\n",
       "      <th>experiment_name</th>\n",
       "      <th>experiment_path</th>\n",
       "      <th>number</th>\n",
       "      <th>petname</th>\n",
       "      <th>path</th>\n",
       "      <th>lamella.x</th>\n",
       "      <th>lamella.y</th>\n",
       "      <th>lamella.z</th>\n",
       "      <th>lamella.r</th>\n",
       "      <th>lamella.t</th>\n",
       "      <th>...</th>\n",
       "      <th>landing.x</th>\n",
       "      <th>landing.y</th>\n",
       "      <th>landing.z</th>\n",
       "      <th>landing.r</th>\n",
       "      <th>landing.t</th>\n",
       "      <th>landing.coordinate_system</th>\n",
       "      <th>landing_selected</th>\n",
       "      <th>current_stage</th>\n",
       "      <th>last_timestamp</th>\n",
       "      <th>history:</th>\n",
       "    </tr>\n",
       "  </thead>\n",
       "  <tbody>\n",
       "    <tr>\n",
       "      <th>0</th>\n",
       "      <td>dm-embryo-06_2022-08-30.03-26-27PM</td>\n",
       "      <td>c:\\users\\admin\\github\\autoliftout\\liftout\\log\\...</td>\n",
       "      <td>1</td>\n",
       "      <td>01-polite-weasel</td>\n",
       "      <td>c:\\users\\admin\\github\\autoliftout\\liftout\\log\\...</td>\n",
       "      <td>0.002313</td>\n",
       "      <td>-0.001863</td>\n",
       "      <td>0.031508</td>\n",
       "      <td>-2.268909</td>\n",
       "      <td>0.436325</td>\n",
       "      <td>...</td>\n",
       "      <td>-0.003916</td>\n",
       "      <td>-0.002634</td>\n",
       "      <td>0.031351</td>\n",
       "      <td>-2.268875</td>\n",
       "      <td>0.698120</td>\n",
       "      <td>Raw</td>\n",
       "      <td>True</td>\n",
       "      <td>Failure</td>\n",
       "      <td>1.661843e+09</td>\n",
       "      <td>3</td>\n",
       "    </tr>\n",
       "    <tr>\n",
       "      <th>1</th>\n",
       "      <td>dm-embryo-06_2022-08-30.03-26-27PM</td>\n",
       "      <td>c:\\users\\admin\\github\\autoliftout\\liftout\\log\\...</td>\n",
       "      <td>2</td>\n",
       "      <td>02-fluent-swine</td>\n",
       "      <td>c:\\users\\admin\\github\\autoliftout\\liftout\\log\\...</td>\n",
       "      <td>0.002182</td>\n",
       "      <td>-0.001876</td>\n",
       "      <td>0.031501</td>\n",
       "      <td>-2.268909</td>\n",
       "      <td>0.436325</td>\n",
       "      <td>...</td>\n",
       "      <td>-0.003696</td>\n",
       "      <td>-0.002626</td>\n",
       "      <td>0.031354</td>\n",
       "      <td>-2.268875</td>\n",
       "      <td>0.698120</td>\n",
       "      <td>Raw</td>\n",
       "      <td>True</td>\n",
       "      <td>Reset</td>\n",
       "      <td>1.661845e+09</td>\n",
       "      <td>5</td>\n",
       "    </tr>\n",
       "    <tr>\n",
       "      <th>2</th>\n",
       "      <td>dm-embryo-06_2022-08-30.03-26-27PM</td>\n",
       "      <td>c:\\users\\admin\\github\\autoliftout\\liftout\\log\\...</td>\n",
       "      <td>3</td>\n",
       "      <td>03-decent-mako</td>\n",
       "      <td>c:\\users\\admin\\github\\autoliftout\\liftout\\log\\...</td>\n",
       "      <td>0.002427</td>\n",
       "      <td>-0.001839</td>\n",
       "      <td>0.031538</td>\n",
       "      <td>-2.268875</td>\n",
       "      <td>0.436325</td>\n",
       "      <td>...</td>\n",
       "      <td>-0.003913</td>\n",
       "      <td>-0.002618</td>\n",
       "      <td>0.031350</td>\n",
       "      <td>-2.268875</td>\n",
       "      <td>0.698119</td>\n",
       "      <td>Raw</td>\n",
       "      <td>True</td>\n",
       "      <td>MillJCut</td>\n",
       "      <td>1.661847e+09</td>\n",
       "      <td>2</td>\n",
       "    </tr>\n",
       "  </tbody>\n",
       "</table>\n",
       "<p>3 rows × 21 columns</p>\n",
       "</div>"
      ],
      "text/plain": [
       "                      experiment_name  \\\n",
       "0  dm-embryo-06_2022-08-30.03-26-27PM   \n",
       "1  dm-embryo-06_2022-08-30.03-26-27PM   \n",
       "2  dm-embryo-06_2022-08-30.03-26-27PM   \n",
       "\n",
       "                                     experiment_path  number  \\\n",
       "0  c:\\users\\admin\\github\\autoliftout\\liftout\\log\\...       1   \n",
       "1  c:\\users\\admin\\github\\autoliftout\\liftout\\log\\...       2   \n",
       "2  c:\\users\\admin\\github\\autoliftout\\liftout\\log\\...       3   \n",
       "\n",
       "            petname                                               path  \\\n",
       "0  01-polite-weasel  c:\\users\\admin\\github\\autoliftout\\liftout\\log\\...   \n",
       "1   02-fluent-swine  c:\\users\\admin\\github\\autoliftout\\liftout\\log\\...   \n",
       "2    03-decent-mako  c:\\users\\admin\\github\\autoliftout\\liftout\\log\\...   \n",
       "\n",
       "   lamella.x  lamella.y  lamella.z  lamella.r  lamella.t  ... landing.x  \\\n",
       "0   0.002313  -0.001863   0.031508  -2.268909   0.436325  ... -0.003916   \n",
       "1   0.002182  -0.001876   0.031501  -2.268909   0.436325  ... -0.003696   \n",
       "2   0.002427  -0.001839   0.031538  -2.268875   0.436325  ... -0.003913   \n",
       "\n",
       "   landing.y  landing.z  landing.r  landing.t  landing.coordinate_system  \\\n",
       "0  -0.002634   0.031351  -2.268875   0.698120                        Raw   \n",
       "1  -0.002626   0.031354  -2.268875   0.698120                        Raw   \n",
       "2  -0.002618   0.031350  -2.268875   0.698119                        Raw   \n",
       "\n",
       "  landing_selected  current_stage last_timestamp  history:   \n",
       "0             True        Failure   1.661843e+09          3  \n",
       "1             True          Reset   1.661845e+09          5  \n",
       "2             True       MillJCut   1.661847e+09          2  \n",
       "\n",
       "[3 rows x 21 columns]"
      ]
     },
     "execution_count": 5,
     "metadata": {},
     "output_type": "execute_result"
    }
   ],
   "source": [
    "sample.__to_dataframe__()"
   ]
  },
  {
   "cell_type": "markdown",
   "metadata": {},
   "source": [
    "### Log Parsing (new)"
   ]
  },
  {
   "cell_type": "code",
   "execution_count": 32,
   "metadata": {},
   "outputs": [
    {
     "name": "stdout",
     "output_type": "stream",
     "text": [
      "The autoreload extension is already loaded. To reload it, use:\n",
      "  %reload_ext autoreload\n"
     ]
    }
   ],
   "source": [
    "%load_ext autoreload\n",
    "%autoreload 2\n",
    "import pandas as pd\n",
    "from copy import deepcopy\n",
    "from dataclasses import dataclass\n",
    "\n",
    "from pathlib import Path\n",
    "\n",
    "from liftout.tools.data import calculate_statistics_dataframe, AutoLiftoutStatistics, calculate_aggregated_statistics\n",
    "\n",
    "\n",
    "paths = [\n",
    "    r\"C:\\Users\\Admin\\Github\\autoliftout\\liftout\\log\\dm-embryo-05_2022-08-29.11-57-03AM\",\n",
    "    r\"C:\\Users\\Admin\\Github\\autoliftout\\liftout\\log\\dm-embryo-06_2022-08-30.03-26-27PM\"\n",
    "]\n",
    "\n",
    "\n",
    "\n"
   ]
  },
  {
   "cell_type": "code",
   "execution_count": 33,
   "metadata": {},
   "outputs": [
    {
     "data": {
      "text/html": [
       "<div>\n",
       "<style scoped>\n",
       "    .dataframe tbody tr th:only-of-type {\n",
       "        vertical-align: middle;\n",
       "    }\n",
       "\n",
       "    .dataframe tbody tr th {\n",
       "        vertical-align: top;\n",
       "    }\n",
       "\n",
       "    .dataframe thead th {\n",
       "        text-align: right;\n",
       "    }\n",
       "</style>\n",
       "<table border=\"1\" class=\"dataframe\">\n",
       "  <thead>\n",
       "    <tr style=\"text-align: right;\">\n",
       "      <th></th>\n",
       "      <th>name</th>\n",
       "      <th>lamella</th>\n",
       "      <th>clicks</th>\n",
       "      <th>gamma</th>\n",
       "    </tr>\n",
       "  </thead>\n",
       "  <tbody>\n",
       "    <tr>\n",
       "      <th>0</th>\n",
       "      <td>dm-embryo-05_2022-08-29.11-57-03AM</td>\n",
       "      <td>5</td>\n",
       "      <td>124</td>\n",
       "      <td>0.814587</td>\n",
       "    </tr>\n",
       "    <tr>\n",
       "      <th>1</th>\n",
       "      <td>dm-embryo-06_2022-08-30.03-26-27PM</td>\n",
       "      <td>3</td>\n",
       "      <td>112</td>\n",
       "      <td>0.630506</td>\n",
       "    </tr>\n",
       "  </tbody>\n",
       "</table>\n",
       "</div>"
      ],
      "text/plain": [
       "                                 name  lamella  clicks     gamma\n",
       "0  dm-embryo-05_2022-08-29.11-57-03AM        5     124  0.814587\n",
       "1  dm-embryo-06_2022-08-30.03-26-27PM        3     112  0.630506"
      ]
     },
     "metadata": {},
     "output_type": "display_data"
    }
   ],
   "source": [
    "df = calculate_aggregated_statistics(paths)\n",
    "display(df)"
   ]
  },
  {
   "cell_type": "code",
   "execution_count": null,
   "metadata": {},
   "outputs": [],
   "source": []
  },
  {
   "cell_type": "code",
   "execution_count": 7,
   "metadata": {},
   "outputs": [
    {
     "name": "stderr",
     "output_type": "stream",
     "text": [
      "2022-10-05 18:03:41,627 — root — INFO — connect_to_microscope:28 — Microscope client connecting to [10.0.0.1]\n",
      "2022-10-05 18:03:41,632 — root — INFO — connect_to_microscope:31 — Microscope client connected to [10.0.0.1]\n",
      "2022-10-05 18:03:41,633 — root — INFO — setup_session:241 — Finished setup for session: demo_2022-10-05.06-03-41PM\n"
     ]
    },
    {
     "name": "stdout",
     "output_type": "stream",
     "text": [
      "Client connecting to [10.0.0.1:7520]...\n",
      "Client connected to [10.0.0.1:7520]\n"
     ]
    }
   ],
   "source": [
    "from fibsem import utils\n",
    "\n",
    "microscope, settings = utils.setup_session()"
   ]
  },
  {
   "cell_type": "code",
   "execution_count": 18,
   "metadata": {},
   "outputs": [
    {
     "data": {
      "text/plain": [
       "True"
      ]
     },
     "execution_count": 18,
     "metadata": {},
     "output_type": "execute_result"
    }
   ],
   "source": [
    "# specimen current\n",
    "microscope.state.specimen_current.value"
   ]
  },
  {
   "cell_type": "code",
   "execution_count": null,
   "metadata": {},
   "outputs": [],
   "source": []
  }
 ],
 "metadata": {
  "kernelspec": {
   "display_name": "Python 3.9.12 ('liftout')",
   "language": "python",
   "name": "python3"
  },
  "language_info": {
   "codemirror_mode": {
    "name": "ipython",
    "version": 3
   },
   "file_extension": ".py",
   "mimetype": "text/x-python",
   "name": "python",
   "nbconvert_exporter": "python",
   "pygments_lexer": "ipython3",
   "version": "3.9.12"
  },
  "orig_nbformat": 4,
  "vscode": {
   "interpreter": {
    "hash": "5cb17a689ea48522a268bdcd61b0f399058cec9c1acbad013779623d1fd2c02a"
   }
  }
 },
 "nbformat": 4,
 "nbformat_minor": 2
}
