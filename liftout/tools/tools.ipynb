{
 "cells": [
  {
   "cell_type": "code",
   "execution_count": null,
   "metadata": {},
   "outputs": [],
   "source": [
    "%load_ext autoreload\n",
    "%autoreload 2\n",
    "\n",
    "\n",
    "from liftout.structures import Sample, load_experiment\n",
    "\n",
    "\n",
    "import os \n",
    "import numpy as np\n",
    "import matplotlib.pyplot as plt\n",
    "\n"
   ]
  },
  {
   "cell_type": "code",
   "execution_count": null,
   "metadata": {},
   "outputs": [],
   "source": [
    "# path = r\"C:\\Users\\Admin\\Github\\autoliftout\\liftout\\log\\dm-embryo-05_2022-08-29.11-57-03AM\" # 6\n",
    "path = r\"C:\\Users\\Admin\\Github\\autoliftout\\liftout\\log\\dm-embryo-06_2022-08-30.03-26-27PM\" # 3\n",
    "\n",
    "sample = load_experiment(path)\n",
    "sample.__to_dataframe__()"
   ]
  },
  {
   "cell_type": "code",
   "execution_count": null,
   "metadata": {},
   "outputs": [],
   "source": []
  },
  {
   "cell_type": "markdown",
   "metadata": {},
   "source": [
    "### Log Parsing (new)"
   ]
  },
  {
   "cell_type": "code",
   "execution_count": null,
   "metadata": {},
   "outputs": [],
   "source": [
    "%load_ext autoreload\n",
    "%autoreload 2\n",
    "import pandas as pd\n",
    "from copy import deepcopy\n",
    "from dataclasses import dataclass\n",
    "\n",
    "from pathlib import Path\n",
    "\n",
    "from liftout.tools.data import calculate_statistics_dataframe, AutoLiftoutStatistics, calculate_aggregated_statistics\n",
    "\n",
    "\n",
    "# paths = [\n",
    "#     r\"C:\\Users\\Admin\\Github\\autoliftout\\liftout\\log\\dm-embryo-05_2022-08-29.11-57-03AM\",\n",
    "#     r\"C:\\Users\\Admin\\Github\\autoliftout\\liftout\\log\\dm-embryo-06_2022-08-30.03-26-27PM\"\n",
    "# ]\n",
    "\n",
    "path = r\"C:\\Users\\Admin\\Github\\autoliftout\\liftout\\log\\dm-embryo-08-2022-10-18.10-39-45AM\"\n",
    "df = calculate_statistics_dataframe(path)\n",
    "\n",
    "\n",
    "df.click"
   ]
  },
  {
   "cell_type": "code",
   "execution_count": null,
   "metadata": {},
   "outputs": [],
   "source": [
    "df = calculate_aggregated_statistics(paths)\n",
    "display(df)"
   ]
  },
  {
   "cell_type": "code",
   "execution_count": null,
   "metadata": {},
   "outputs": [],
   "source": []
  },
  {
   "cell_type": "code",
   "execution_count": null,
   "metadata": {},
   "outputs": [],
   "source": []
  },
  {
   "cell_type": "code",
   "execution_count": null,
   "metadata": {},
   "outputs": [],
   "source": [
    "# specimen current\n",
    "microscope.state.specimen_current.value"
   ]
  },
  {
   "cell_type": "code",
   "execution_count": null,
   "metadata": {},
   "outputs": [],
   "source": []
  },
  {
   "cell_type": "code",
   "execution_count": null,
   "metadata": {},
   "outputs": [],
   "source": []
  },
  {
   "cell_type": "markdown",
   "metadata": {},
   "source": [
    "## System Settings\n",
    "Set / Restore system settings\n"
   ]
  },
  {
   "cell_type": "code",
   "execution_count": null,
   "metadata": {},
   "outputs": [],
   "source": [
    "%load_ext autoreload\n",
    "%autoreload 2\n",
    "from fibsem import utils, calibration\n",
    "from fibsem.structures import BeamSystemSettings, SystemSettings, BeamType\n",
    "\n",
    "from autoscript_sdb_microscope_client import SdbMicroscopeClient\n",
    "\n",
    "from pprint import pprint "
   ]
  },
  {
   "cell_type": "code",
   "execution_count": null,
   "metadata": {},
   "outputs": [],
   "source": [
    "microscope, settings = utils.setup_session()"
   ]
  },
  {
   "cell_type": "code",
   "execution_count": null,
   "metadata": {},
   "outputs": [],
   "source": [
    "eb_settings = calibration.get_current_beam_system_state(microscope, BeamType.ELECTRON)\n",
    "ib_settings = calibration.get_current_beam_system_state(microscope, BeamType.ION)\n",
    "pprint(eb_settings)\n",
    "pprint(ib_settings)"
   ]
  },
  {
   "cell_type": "code",
   "execution_count": null,
   "metadata": {},
   "outputs": [],
   "source": [
    "from dataclasses import asdict\n",
    "# check if settings are different\n",
    "for i, (a, b) in enumerate(list(zip(asdict(eb_settings).values(), asdict(settings.system.electron).values()))):\n",
    "\n",
    "    if a != b:\n",
    "        k = list(asdict(eb_settings).keys())[i]\n",
    "        print(\"not equal: \", k, a, b)"
   ]
  },
  {
   "cell_type": "code",
   "execution_count": null,
   "metadata": {},
   "outputs": [],
   "source": []
  },
  {
   "cell_type": "markdown",
   "metadata": {},
   "source": [
    "## History Bug"
   ]
  },
  {
   "cell_type": "code",
   "execution_count": null,
   "metadata": {},
   "outputs": [],
   "source": [
    "%load_ext autoreload\n",
    "%autoreload 2\n",
    "\n",
    "from liftout.structures import create_experiment, Lamella, AutoLiftoutStage\n",
    "from liftout.autoliftout import update_sample_lamella_data\n",
    "from fibsem import utils\n",
    "from pprint import pprint\n",
    "from liftout import autoliftout\n",
    "\n",
    "\n",
    "microscope, settings = utils.setup_session()\n",
    "os.makedirs(\"test\", exist_ok=True)\n",
    "sample = create_experiment(\"test-history\", \"test\")\n"
   ]
  },
  {
   "cell_type": "code",
   "execution_count": null,
   "metadata": {},
   "outputs": [],
   "source": [
    "lamella = Lamella(sample.path, 1)\n",
    "sample = update_sample_lamella_data(sample, lamella)\n",
    "\n",
    "stages = [stage for stage in AutoLiftoutStage][2:]\n",
    "\n",
    "for stage in stages:\n",
    "    print(stage)\n",
    "    pprint(sample)\n",
    "    pprint(sample.positions[1])\n",
    "\n",
    "    lamella.current_state.stage = stage\n",
    "    sample = autoliftout.end_of_stage_update(microscope, sample, lamella, )\n",
    "    \n",
    "    pprint(sample)\n",
    "    pprint(sample.positions[1])\n",
    "    pprint([state.stage.name for state in sample.positions[1].history])\n",
    "    print(\"-\"*50)"
   ]
  },
  {
   "cell_type": "code",
   "execution_count": null,
   "metadata": {},
   "outputs": [],
   "source": []
  },
  {
   "cell_type": "markdown",
   "metadata": {},
   "source": [
    "## Initial Calibration\n",
    "\n",
    "Set the initial grid states \n",
    "\n",
    "set the initial calibration (eucentric, horizontal shift, needle)"
   ]
  },
  {
   "cell_type": "code",
   "execution_count": null,
   "metadata": {},
   "outputs": [],
   "source": []
  },
  {
   "cell_type": "markdown",
   "metadata": {},
   "source": [
    "## New AutoLiftout UI\n",
    "\n",
    "autoliftout ui in napari\n"
   ]
  },
  {
   "cell_type": "code",
   "execution_count": null,
   "metadata": {},
   "outputs": [],
   "source": [
    "%load_ext autoreload\n",
    "%autoreload 2\n",
    "\n",
    "from liftout.structures import load_experiment, Sample\n",
    "from autoscript_sdb_microscope_client.structures import AdornedImage\n",
    "import numpy as np\n",
    "import matplotlib.pyplot as plt\n",
    "import scipy.ndimage as ndi\n",
    "import napari\n",
    "from liftout import autoliftout\n",
    "\n",
    "# pprint(sample)\n"
   ]
  },
  {
   "cell_type": "code",
   "execution_count": null,
   "metadata": {},
   "outputs": [],
   "source": [
    "DISPLAY_REFERENCE_FNAMES = [\n",
    "    \"ref_lamella_low_res_ib\",\n",
    "    \"ref_trench_high_res_ib\",\n",
    "    \"ref_jcut_high_res_ib\",\n",
    "    \"ref_liftout_ib\",\n",
    "    \"ref_landing_lamella_high_res_ib\",\n",
    "    \"ref_reset_high_res_ib\",\n",
    "    \"ref_thin_lamella_post_superres_ib\",\n",
    "    \"ref_polish_lamella_post_superres_ib\",\n",
    "]\n",
    "\n",
    "headers = [\n",
    "    \"Sample No\",\n",
    "    \"Position\",\n",
    "    \"Reference\",\n",
    "    \"Milling\",\n",
    "    \"J-Cut\",\n",
    "    \"Liftout\",\n",
    "    \"Landing\",\n",
    "    \"Reset\",\n",
    "    \"Thinning\",\n",
    "    \"Polishing\",\n",
    "]"
   ]
  },
  {
   "cell_type": "code",
   "execution_count": null,
   "metadata": {},
   "outputs": [],
   "source": [
    "\n",
    "\n"
   ]
  },
  {
   "cell_type": "code",
   "execution_count": null,
   "metadata": {},
   "outputs": [],
   "source": [
    "plt.figure(figsize=(15, 15))\n",
    "plt.imshow(overview_image, cmap=\"gray\")\n",
    "plt.show()"
   ]
  },
  {
   "cell_type": "code",
   "execution_count": null,
   "metadata": {},
   "outputs": [],
   "source": [
    "path = r\"C:\\Users\\Admin\\Github\\autoliftout\\liftout\\log\\dm-embryo-05_2022-08-29.11-57-03AM\" # 6\n",
    "# path = r\"C:\\Users\\Admin\\Github\\autoliftout\\liftout\\log\\dm-embryo-06_2022-08-30.03-26-27PM\" # 3\n",
    "\n",
    "from liftout.gui.utils import create_overview_image\n",
    "sample = load_experiment(path)\n",
    "\n",
    "# TODO: stage labels, lamella labels\n",
    "\n",
    "overview_image = create_overview_image(sample)\n",
    "viewer = napari.Viewer()\n",
    "viewer.add_image(overview_image, name=\"AutoLiftout\")"
   ]
  },
  {
   "cell_type": "code",
   "execution_count": null,
   "metadata": {},
   "outputs": [],
   "source": [
    "\n",
    "%load_ext autoreload\n",
    "%autoreload 2\n",
    "\n",
    "from fibsem import utils\n",
    "\n",
    "microscope, settings = utils.setup_session(session_path = \"xyz\")"
   ]
  },
  {
   "cell_type": "code",
   "execution_count": null,
   "metadata": {},
   "outputs": [],
   "source": [
    "settings.image.save_path"
   ]
  },
  {
   "cell_type": "code",
   "execution_count": null,
   "metadata": {},
   "outputs": [],
   "source": [
    "from gc import is_finalized\n",
    "from liftout.structures import AutoLiftoutStage, load_experiment, Lamella, Sample\n",
    "\n",
    "path = r\"C:\\Users\\Admin\\Github\\autoliftout\\liftout\\log\\dm-embryo-05_2022-08-29.11-57-03AM\" # 6\n",
    "# path = r\"C:\\Users\\Admin\\Github\\autoliftout\\liftout\\log\\dm-embryo-06_2022-08-30.03-26-27PM\" # 3\n",
    "\n",
    "from liftout.gui.utils import create_overview_image\n",
    "sample = load_experiment(path)\n",
    "\n",
    "\n",
    "def get_completion_stats(sample: Sample) -> tuple:\n",
    "    \"\"\"Get the current completetion stats for lifout\"\"\"    \n",
    "    n_stages = AutoLiftoutStage.Polishing.value # init and failure dont count\n",
    "\n",
    "    lam: Lamella\n",
    "    active_lam = 0\n",
    "    completed_stages = 0\n",
    "    for lam in sample.positions.values():\n",
    "\n",
    "        # dont count failure\n",
    "        if lam.is_failure or lam.current_state.stage.value == 99:\n",
    "            continue\n",
    "        \n",
    "        active_lam += 1\n",
    "        completed_stages += lam.current_state.stage.value\n",
    "\n",
    "    total_stages = n_stages * active_lam\n",
    "    perc_complete = completed_stages / total_stages\n",
    "\n",
    "\n",
    "    return n_stages, active_lam, completed_stages, total_stages, perc_complete\n",
    "\n",
    "\n",
    "n_stages, active_lam, completed_stages, total_stages, perc_complete = get_completion_stats(sample)\n",
    "\n",
    "print(completed_stages, active_lam, total_stages, perc_complete)\n"
   ]
  },
  {
   "cell_type": "code",
   "execution_count": null,
   "metadata": {},
   "outputs": [],
   "source": []
  },
  {
   "cell_type": "code",
   "execution_count": null,
   "metadata": {},
   "outputs": [],
   "source": []
  },
  {
   "cell_type": "code",
   "execution_count": null,
   "metadata": {},
   "outputs": [],
   "source": [
    "settings.default"
   ]
  },
  {
   "cell_type": "code",
   "execution_count": null,
   "metadata": {},
   "outputs": [],
   "source": [
    "%load_ext autoreload\n",
    "%autoreload 2\n",
    "\n",
    "from fibsem import utils, acquire\n",
    "import matplotlib.pyplot as plt\n",
    "from liftout import actions\n",
    "from fibsem import movement, acquire\n",
    "\n",
    "microscope, settings = utils.setup_session()"
   ]
  },
  {
   "cell_type": "code",
   "execution_count": null,
   "metadata": {},
   "outputs": [],
   "source": [
    "\n",
    "\n",
    "actions.move_needle_to_reset_position(microscope)\n",
    "acquire.take_reference_images(microscope, settings.image)\n"
   ]
  },
  {
   "cell_type": "code",
   "execution_count": null,
   "metadata": {},
   "outputs": [],
   "source": [
    "movement.retract_needle(microscope)"
   ]
  },
  {
   "cell_type": "code",
   "execution_count": null,
   "metadata": {},
   "outputs": [],
   "source": [
    "\n",
    "%load_ext autoreload\n",
    "%autoreload 2\n",
    "\n",
    "from liftout.utils import crosscorrelate_and_plot\n",
    "from autoscript_sdb_microscope_client.structures import AdornedImage\n",
    "import matplotlib.pyplot as plt\n",
    "\n",
    "p1 = r\"C:\\Users\\Admin\\Github\\autoliftout\\liftout\\log\\dm-embryo-08-2022-10-18.10-39-45AM\\02-next-bison/2022-10-18.02-10-48PM_eb.tif\"\n",
    "p2 = r\"C:\\Users\\Admin\\Github\\autoliftout\\liftout\\log\\dm-embryo-08-2022-10-18.10-39-45AM\\02-next-bison/ref_trench_low_res_ib.tif\"\n",
    "\n",
    "img1 = AdornedImage.load(p1)\n",
    "img2 = AdornedImage.load(p2)\n",
    "\n",
    "\n",
    "fig, ax = plt.subplots(1, 2, figsize=(10, 5))\n",
    "ax[0].imshow(img1.data)\n",
    "ax[1].imshow(img2.data)\n",
    "plt.show()\n",
    "\n"
   ]
  },
  {
   "cell_type": "code",
   "execution_count": null,
   "metadata": {},
   "outputs": [],
   "source": [
    "from fibsem.utils import setup_session, load_settings_from_config\n",
    "from liftout.config import config\n",
    "from fibsem.imaging import masks\n",
    "from fibsem.imaging import utils as image_utils\n",
    "\n",
    "settings = load_settings_from_config(\n",
    "    config_path = config.config_path,\n",
    "    protocol_path = config.protocol_path\n",
    ")\n",
    "\n",
    "\n",
    "plt.imshow(image_utils.rotate_image(img2).data)\n",
    "plt.show()\n",
    "\n",
    "# ref_mask = masks.create_lamella_mask(image_utils.rotate_image(img2), settings.protocol[\"lamella\"], scale = 4, use_trench_height=True) # TODO: refactor, liftout specific\n",
    "\n",
    "crosscorrelate_and_plot(img2, img1, rotate=True)"
   ]
  },
  {
   "cell_type": "code",
   "execution_count": null,
   "metadata": {},
   "outputs": [],
   "source": [
    "from fibsem import alignment\n",
    "\n",
    "\n",
    "# rotate \n",
    "img1_r = image_utils.rotate_image(img1)\n",
    "\n",
    "\n",
    "# normalise images\n",
    "img1_norm = image_utils.normalise_image(img1_r.data)\n",
    "img2_norm = image_utils.normalise_image(img2.data)\n",
    "\n",
    "# create bandpass\n",
    "lp=128\n",
    "hp=6\n",
    "sigma =6\n",
    "bandpass = masks.create_bandpass_mask(shape=img1_norm.shape, lp=lp, hp=hp, sigma=sigma)\n",
    "\n",
    "fig, ax = plt.subplots(1, 2, figsize=(10, 5))\n",
    "ax[0].imshow(img1_norm, cmap=\"gray\")\n",
    "ax[1].imshow(img1_norm, cmap=\"gray\")\n",
    "plt.show()\n",
    "\n",
    "plt.imshow(bandpass)\n",
    "plt.show()\n",
    "\n",
    "# crosscorrelation\n",
    "xcorr = alignment.crosscorrelation_v2(img1_norm, img2_norm, bandpass=bandpass)\n",
    "plt.imshow(xcorr)\n",
    "plt.show()\n",
    "\n",
    "xcorr = masks.apply_circular_mask(xcorr, 512)\n",
    "plt.imshow(xcorr)\n",
    "plt.show()\n",
    "\n"
   ]
  },
  {
   "cell_type": "code",
   "execution_count": null,
   "metadata": {},
   "outputs": [],
   "source": [
    "# lamella freq\n",
    "\n",
    "from fibsem import conversions\n",
    "\n",
    "import os\n",
    "path = r\"C:\\Users\\Admin\\Github\\autoliftout\\liftout\\log\\dm-embryo-08-2022-10-18.10-39-45AM\\02-next-bison\"\n",
    "\n",
    "\n",
    "low_res_ib = AdornedImage.load(os.path.join(path, \"ref_trench_low_res_ib.tif\"))\n",
    "high_res_ib = AdornedImage.load(os.path.join(path, \"ref_trench_high_res_ib.tif\"))\n",
    "\n",
    "h, w = conversions.get_lamella_size_in_pixels(low_res_ib, settings.protocol[\"lamella\"], use_trench_height=True)\n",
    "print(f\"h: {h}, w:{w}\")\n",
    "\n",
    "h, w = conversions.get_lamella_size_in_pixels(high_res_ib, settings.protocol[\"lamella\"], use_trench_height=True)\n",
    "print(f\"h: {h}, w:{w}\")\n",
    "\n",
    "fig, ax = plt.subplots(1, 2, figsize=(10, 5))\n",
    "ax[0].imshow(low_res_ib.data, cmap=\"gray\")\n",
    "ax[1].imshow(high_res_ib.data, cmap=\"gray\")\n",
    "plt.show()\n",
    "\n",
    "# TODO: convert these sizes to lp, hp values"
   ]
  },
  {
   "cell_type": "code",
   "execution_count": null,
   "metadata": {},
   "outputs": [],
   "source": [
    "protocol = {\"width\": 2e-6, \"height\": 1e-6, \"depth\": 2e-6, \n",
    "    \"number\": 3, \"offset\": 1e-6, \n",
    "    \"scan_direction\": \"RightToLeft\", \n",
    "    \"cleaning_cross_section\": False,\n",
    "    \"milling_current\": 2e-9}\n",
    "\n",
    "\n",
    "from liftout import patterning \n",
    "microscope.patterning.clear_patterns()\n",
    "\n",
    "from fibsem.structures import Point\n",
    "\n",
    "patterning.spot_weld_pattern(microscope, protocol, Point(5e-6, -2e-6))\n",
    "\n"
   ]
  },
  {
   "cell_type": "code",
   "execution_count": null,
   "metadata": {},
   "outputs": [],
   "source": [
    "%load_ext autoreload\n",
    "%autoreload 2\n",
    "\n",
    "from fibsem.utils import setup_session, load_settings_from_config\n",
    "from liftout.config import config\n",
    "from fibsem.imaging import masks\n",
    "from fibsem.imaging import utils as image_utils\n",
    "\n",
    "from liftout.utils import crosscorrelate_and_plot\n",
    "from autoscript_sdb_microscope_client.structures import AdornedImage\n",
    "import matplotlib.pyplot as plt\n",
    "\n",
    "settings = load_settings_from_config(\n",
    "    config_path = config.config_path,\n",
    "    protocol_path = config.protocol_path\n",
    ")\n",
    "\n",
    "ref_path = r\"C:\\Users\\Admin\\Github\\autoliftout\\liftout\\log\\dm-embryo-09-2022-10-21.11-32-09AM\\01-fast-bedbug/ref_trench_jcut_low_res_ib.tif\"\n",
    "target_path = r\"C:\\Users\\Admin\\Github\\autoliftout\\liftout\\log\\dm-embryo-09-2022-10-21.11-32-09AM\\01-fast-bedbug/2022-10-21.01-35-09PM_eb.tif\"\n",
    "# target_path = r\"C:\\Users\\Admin\\Github\\autoliftout\\liftout\\log\\dm-embryo-09-2022-10-21.11-32-09AM\\01-fast-bedbug/2022-10-21.01-30-34PM_eb.tif\"\n",
    "\n",
    "\n",
    "ref_path = r\"C:\\Users\\Admin\\Github\\autoliftout\\liftout\\log\\dm-embryo-09-2022-10-21.11-32-09AM\\01-fast-bedbug/ref_trench_jcut_high_res_ib.tif\"\n",
    "target_path = r\"C:\\Users\\Admin\\Github\\autoliftout\\liftout\\log\\dm-embryo-09-2022-10-21.11-32-09AM\\01-fast-bedbug/2022-10-21.01-17-38PM_eb.tif\"\n",
    "\n",
    "\n",
    "ref_image = AdornedImage.load(ref_path)\n",
    "target_image = AdornedImage.load(target_path)\n",
    "\n",
    "ref_mask = masks.create_lamella_mask(\n",
    "    ref_image, settings.protocol[\"lamella\"], scale=4, use_trench_height=True\n",
    ")  # TODO: refactor, liftout specific\n",
    "\n",
    "crosscorrelate_and_plot(ref_image, target_image, ref_mask=ref_mask,\n",
    "    rotate=True, xcorr_limit=250)\n"
   ]
  },
  {
   "cell_type": "code",
   "execution_count": null,
   "metadata": {},
   "outputs": [],
   "source": [
    "%load_ext autoreload\n",
    "%autoreload 2\n",
    "\n",
    "from fibsem import alignment, acquire, utils, calibration\n",
    "from liftout.utils import take_reference_images_and_plot\n",
    "\n",
    "microscope, settings = utils.setup_session()\n",
    "\n",
    "# take_reference_images_and_plot(microscope, settings.image)\n",
    "\n",
    "\n"
   ]
  },
  {
   "cell_type": "code",
   "execution_count": null,
   "metadata": {},
   "outputs": [],
   "source": [
    "\n",
    "alignment.auto_eucentric_correction(microscope, settings.image)\n",
    "\n",
    "take_reference_images_and_plot(microscope, settings.image)\n"
   ]
  },
  {
   "cell_type": "markdown",
   "metadata": {},
   "source": [
    "##  Needle Testing"
   ]
  },
  {
   "cell_type": "code",
   "execution_count": null,
   "metadata": {},
   "outputs": [],
   "source": [
    "%load_ext autoreload\n",
    "%autoreload 2\n",
    "from liftout import actions\n",
    "from fibsem import movement\n",
    "\n",
    "\n",
    "movement.retract_needle(microscope)\n",
    "\n",
    "actions.move_needle_to_reset_position(microscope)\n",
    "# actions.move_needle_to_liftout_position(microscope)\n",
    "# actions.move_needle_to_landing_position(microscope)\n",
    "# movement.move_needle_to_position_offset(microscope, None, dz=10e-6)\n",
    "# movement.insert_needle(microscope)\n",
    "\n",
    "take_reference_images_and_plot(microscope, settings.image)\n",
    "\n",
    "# from autoscript_sdb_microscope_client.structures import (\n",
    "#     ManipulatorPosition,\n",
    "#     MoveSettings,\n",
    "#     StagePosition,\n",
    "# )\n",
    "\n",
    "# from autoscript_sdb_microscope_client.enumerations import (\n",
    "#     ManipulatorCoordinateSystem,\n",
    "#     ManipulatorSavedPosition,\n",
    "# )\n",
    "\n",
    "# microscope.specimen.manipulator.insert()\n",
    "# movement.insert_needle(microscope, ManipulatorSavedPosition.EUCENTRIC)"
   ]
  },
  {
   "cell_type": "code",
   "execution_count": null,
   "metadata": {},
   "outputs": [],
   "source": [
    "take_reference_images_and_plot(microscope, settings.image)"
   ]
  },
  {
   "cell_type": "code",
   "execution_count": null,
   "metadata": {},
   "outputs": [],
   "source": [
    "from fibsem.detection import detection\n",
    "from fibsem.detection.detection import Feature, FeatureType\n",
    "\n",
    "from fibsem.detection import utils as det_utils\n",
    "\n",
    "from fibsem.structures import BeamType\n",
    "\n",
    "settings.image.beam_type = BeamType.ELECTRON\n",
    "settings.image.hfw = 400e-6\n",
    "\n",
    "image = acquire.new_image(microscope, settings.image)\n",
    "det = detection.locate_shift_between_features(\n",
    "    image,\n",
    "    features=[\n",
    "        Feature(FeatureType.NeedleTip, None),\n",
    "        Feature(FeatureType.ImageCentre, None),\n",
    "    ],\n",
    ")\n",
    "\n",
    "det_utils.plot_detection_result(det)"
   ]
  },
  {
   "cell_type": "markdown",
   "metadata": {},
   "source": [
    "## Auto Home and Link\n",
    "\n",
    "Steps:\n",
    "1. Home the stage\n",
    "2. Restore state\n",
    "3. Focus and Link\n",
    "\n",
    "Questions:\n",
    "what is the initial state?"
   ]
  },
  {
   "cell_type": "code",
   "execution_count": null,
   "metadata": {},
   "outputs": [],
   "source": [
    "%load_ext autoreload\n",
    "%autoreload 2\n",
    "\n",
    "from fibsem import calibration\n",
    "from fibsem.structures import MicroscopeState\n",
    "from fibsem.utils import save_yaml, load_yaml\n",
    "from fibsem import config \n",
    "from pathlib import Path\n",
    "\n",
    "# state = calibration.get_current_microscope_state(microscope)\n",
    "\n",
    "from fibsem import alignment, acquire, utils, calibration\n",
    "from liftout.utils import take_reference_images_and_plot\n",
    "\n",
    "microscope, settings = utils.setup_session()\n",
    "path = os.path.join(config.CONFIG_PATH, \"calibrated_state.yaml\")\n",
    "# save_state_yaml(path, state)\n",
    "\n",
    "state = MicroscopeState.__from_dict__(load_yaml(path))\n",
    "\n",
    "calibration.auto_home_and_link(microscope)\n"
   ]
  },
  {
   "cell_type": "code",
   "execution_count": null,
   "metadata": {},
   "outputs": [],
   "source": []
  },
  {
   "cell_type": "code",
   "execution_count": null,
   "metadata": {},
   "outputs": [],
   "source": [
    "\n"
   ]
  },
  {
   "cell_type": "code",
   "execution_count": null,
   "metadata": {},
   "outputs": [],
   "source": []
  },
  {
   "cell_type": "code",
   "execution_count": null,
   "metadata": {},
   "outputs": [],
   "source": []
  },
  {
   "cell_type": "markdown",
   "metadata": {},
   "source": [
    "### Needle Calibration Correction\n",
    "\n",
    "1. Calibrate Needle\n",
    "2. Take Reference Image at eucentric point\n",
    "3. Do stuff\n",
    "4. Before liftout\n",
    "5. move stage out\n",
    "6. Insert needle to eucentric point\n",
    "7. cross correlate to reference\n",
    "8. get 'drift' dx, dy, dz \n",
    "9. apply as correction to initial needle insertion?\n",
    "    e.g. position + offset + correction\n",
    "    therefore it should go to the desired position. "
   ]
  },
  {
   "cell_type": "code",
   "execution_count": null,
   "metadata": {},
   "outputs": [],
   "source": [
    "%load_ext autoreload\n",
    "%autoreload 2\n",
    "\n",
    "\n",
    "from fibsem import alignment, calibration, acquire, movement, utils\n",
    "from fibsem.structures import AdornedImage, ImageSettings\n",
    "from liftout import actions\n",
    "\n",
    "import matplotlib.pyplot as plt\n",
    "\n",
    "import os\n",
    "# alignment could be cross correlation, edge detection or ml?\n",
    "\n"
   ]
  },
  {
   "cell_type": "code",
   "execution_count": null,
   "metadata": {},
   "outputs": [],
   "source": [
    "microscope, settings = utils.setup_session()\n"
   ]
  },
  {
   "cell_type": "code",
   "execution_count": null,
   "metadata": {},
   "outputs": [],
   "source": [
    "# after calibration take ref images\n",
    "from autoscript_sdb_microscope_client.enumerations import ManipulatorSavedPosition, ManipulatorCoordinateSystem\n",
    "\n",
    "# position = microscope.specimen.manipulator.get_saved_position(\n",
    "#         ManipulatorSavedPosition.EUCENTRIC, ManipulatorCoordinateSystem.STAGE\n",
    "# )\n",
    "movement.retract_needle(microscope)\n",
    "movement.insert_needle(microscope)\n",
    "movement.move_needle_to_position_offset(microscope)\n",
    "# movement.move_needle_to_position_offset(microscope, dx=10e-6, dy=5e-6, dz=-5e-6)\n",
    "\n",
    "# actions.move_needle_to_reset_position(microscope)\n",
    "# movement.insert_needle(microscope)\n",
    "\n",
    "# microscope.specimen.manipulator.absolute_move(position)\n",
    "\n",
    "settings.image.label = \"ref_needle_calibration\"\n",
    "settings.image.save = True\n",
    "acquire.take_reference_images(microscope, settings.image)\n"
   ]
  },
  {
   "cell_type": "code",
   "execution_count": null,
   "metadata": {},
   "outputs": [],
   "source": [
    "# cross-correlate and calibrate\n",
    "\n",
    "ref_eb = AdornedImage.load(os.path.join(settings.image.save_path, \"ref_needle_calibration_eb.tif\"))\n",
    "ref_ib = AdornedImage.load(os.path.join(settings.image.save_path, \"ref_needle_calibration_ib.tif\"))\n",
    "\n",
    "# insert needle to eucentric\n",
    "movement.move_needle_to_position_offset(microscope, dx=10e-6, dy=10e-6, dz=-5e-6)\n",
    "\n",
    "settings.image.label = \"ref_needle_insert_eucentric\"\n",
    "eb_image, ib_image = acquire.take_reference_images(microscope, settings.image)\n",
    "\n",
    "# eb_image = AdornedImage.load(\"/home/patrick/github/data/dm-embryo-08-2022-10-18.10-39-45AM/03-great-kiwi/jcut_sever_eb.tif\")\n",
    "# ib_image = AdornedImage.load(\"/home/patrick/github/data/dm-embryo-08-2022-10-18.10-39-45AM/03-great-kiwi/jcut_sever_ib.tif\")\n",
    "\n",
    "# eb (x, y)\n",
    "dx, dy, xcorr = alignment.shift_from_crosscorrelation(ref_eb, eb_image, \n",
    "    lowpass=128, highpass=8, sigma=6, ref_mask = None, xcorr_limit=128)\n",
    "\n",
    "fig, ax = plt.subplots(1, 3, figsize=(10, 7))\n",
    "ax[0].imshow(ref_eb.data, cmap=\"gray\")\n",
    "ax[1].imshow(eb_image.data, cmap=\"gray\")\n",
    "ax[2].imshow(xcorr)\n",
    "plt.show()\n",
    "\n",
    "_, dz, xcorrz = alignment.shift_from_crosscorrelation(ref_ib, ib_image, \n",
    "    lowpass=128, highpass=8, sigma=6, ref_mask = None, xcorr_limit=128)\n",
    "\n",
    "fig, ax = plt.subplots(1, 3, figsize=(10, 7))\n",
    "ax[0].imshow(ref_ib.data, cmap=\"gray\")\n",
    "ax[1].imshow(ib_image.data, cmap=\"gray\")\n",
    "ax[2].imshow(xcorrz)\n",
    "plt.show()\n",
    "\n",
    "print(\"-\"*50)\n",
    "print(f\"dx: {dx:.2e}, dy:{dy:.2e}, dz:{dz:.2e}\")\n",
    "\n"
   ]
  },
  {
   "cell_type": "code",
   "execution_count": null,
   "metadata": {},
   "outputs": [],
   "source": [
    "# move needle to eucentric + calibration\n",
    "\n",
    "# TODO:check directions?\n",
    "# movement.retract_needle(microscope)\n",
    "# movement.insert_needle(microscope)\n",
    "movement.move_needle_to_position_offset(microscope, dx=dx, dy=dy, dz=-dz)\n",
    "eb1, ib2 = liftout_utils.take_reference_images_and_plot(microscope, settings.image)"
   ]
  },
  {
   "cell_type": "code",
   "execution_count": null,
   "metadata": {},
   "outputs": [],
   "source": [
    "fig, ax =plt.subplots(1,2, figsize=(15, 7))\n",
    "import numpy as np\n",
    "cy, cx = np.asarray(ref_eb.data.shape)//2\n",
    "ax[0].imshow(ref_eb.data, cmap=\"gray\")\n",
    "ax[0].plot(cx, cy, \"y+\", ms=20)\n",
    "ax[1].imshow(ref_ib.data, cmap=\"gray\")\n",
    "ax[0].plot(cx, cy, \"y+\", ms=20)\n",
    "plt.show()"
   ]
  },
  {
   "cell_type": "code",
   "execution_count": null,
   "metadata": {},
   "outputs": [],
   "source": [
    "from liftout import utils as liftout_utils\n",
    "from fibsem.structures import BeamType\n",
    "\n",
    "movement.move_needle_relative_with_corrected_movement(microscope, dx=dx, dy=dy, beam_type=BeamType.ELECTRON)\n",
    "movement.move_needle_relative_with_corrected_movement(microscope, dx=0, dy=dz, beam_type=BeamType.ION)\n",
    "\n",
    "liftout_utils.take_reference_images_and_plot(microscope, settings.image)"
   ]
  },
  {
   "cell_type": "code",
   "execution_count": null,
   "metadata": {},
   "outputs": [],
   "source": [
    "import numpy as np\n",
    "\n",
    "from fibsem.imaging import utils, masks\n",
    "import matplotlib.pyplot as plt\n",
    "\n",
    "\n",
    "\n",
    "mask = masks.create_bandpass_mask(shape=(300, 500), hp=32, lp=128, sigma=0)\n",
    "\n",
    "\n",
    "plt.imshow(mask)\n",
    "plt.show()\n",
    "\n",
    "\n",
    "\n",
    "np.save(\"profile.npy\", mask)\n"
   ]
  },
  {
   "cell_type": "code",
   "execution_count": null,
   "metadata": {},
   "outputs": [],
   "source": [
    "%load_ext autoreload\n",
    "%autoreload 2\n",
    "\n",
    "from fibsem import conversions\n",
    "import numpy as np\n",
    "from fibsem.structures import Point"
   ]
  },
  {
   "cell_type": "code",
   "execution_count": null,
   "metadata": {},
   "outputs": [],
   "source": [
    "arr = np.zeros(shape=(1024, 1536))\n",
    "pt = Point(768, 0)\n",
    "conversions.image_to_microscope_image_coordinates(pt, arr, pixelsize=10e-6)"
   ]
  },
  {
   "cell_type": "code",
   "execution_count": null,
   "metadata": {},
   "outputs": [],
   "source": []
  },
  {
   "cell_type": "markdown",
   "metadata": {},
   "source": [
    "#### Working Distance Corrected Movements\n",
    "\n"
   ]
  },
  {
   "cell_type": "code",
   "execution_count": null,
   "metadata": {},
   "outputs": [],
   "source": [
    "%load_ext autoreload\n",
    "%autoreload 2\n",
    "\n",
    "from fibsem import utils, movement\n",
    "from liftout import utils as liftout_utils\n",
    "from fibsem.structures import BeamType\n",
    "\n",
    "\n",
    "microscope, settings = utils.setup_session()\n",
    "\n"
   ]
  },
  {
   "cell_type": "code",
   "execution_count": null,
   "metadata": {},
   "outputs": [],
   "source": [
    "# take image\n",
    "import logging\n",
    "\n",
    "settings.image.hfw = 400e-6\n",
    "\n",
    "liftout_utils.take_reference_images_and_plot(microscope, settings.image)\n",
    "\n",
    "# get wd\n",
    "eb_wd1 = microscope.beams.electron_beam.working_distance.value\n",
    "ib_wd1 = microscope.beams.ion_beam.working_distance.value\n",
    "\n",
    "print(f\"BEFORE MOVE EB: {eb_wd1:.6f}, IB: {ib_wd1:.6f}\")\n",
    "\n",
    "pos1 = microscope.specimen.stage.current_position\n",
    "\n",
    "# move\n",
    "movement.move_stage_relative_with_corrected_movement(\n",
    "    microscope, settings,\n",
    "    dx=0, dy=400e-6, beam_type=BeamType.ELECTRON\n",
    "    )\n",
    "\n",
    "pos2 = microscope.specimen.stage.current_position\n",
    "\n",
    "liftout_utils.take_reference_images_and_plot(microscope, settings.image)\n",
    "\n",
    "# get wd\n",
    "eb_wd = microscope.beams.electron_beam.working_distance.value\n",
    "ib_wd = microscope.beams.ion_beam.working_distance.value\n",
    "\n",
    "print(f\"AFTER MOVE  EB: {eb_wd:.6f}, IB: {ib_wd:.6f}\")\n",
    "print(f\"Z_DIFF: {pos1.z:.6f}, {pos2.z:.6f}, {pos2.z - pos1.z:.6f}\")\n",
    "print(f\"DIFF: {eb_wd-eb_wd1:.2e}, {ib_wd-ib_wd1:.2e}\")"
   ]
  },
  {
   "cell_type": "code",
   "execution_count": null,
   "metadata": {},
   "outputs": [],
   "source": []
  },
  {
   "cell_type": "markdown",
   "metadata": {},
   "source": [
    "#### STats"
   ]
  },
  {
   "cell_type": "code",
   "execution_count": null,
   "metadata": {},
   "outputs": [],
   "source": [
    "\n"
   ]
  },
  {
   "cell_type": "markdown",
   "metadata": {},
   "source": [
    "### Change Logging Level\n"
   ]
  },
  {
   "cell_type": "code",
   "execution_count": 8,
   "metadata": {},
   "outputs": [
    {
     "name": "stdout",
     "output_type": "stream",
     "text": [
      "The autoreload extension is already loaded. To reload it, use:\n",
      "  %reload_ext autoreload\n",
      "2022-11-09 18:49:06,011 — root — INFO — connect_to_microscope:32 — Microscope client connecting to [10.0.0.1:7520]\n",
      "Client connecting to [10.0.0.1:7520]...\n",
      "Client connected to [10.0.0.1:7520]\n",
      "2022-11-09 18:49:06,021 — root — INFO — connect_to_microscope:35 — Microscope client connected to [10.0.0.1:7520]\n",
      "2022-11-09 18:49:06,021 — root — INFO — setup_session:270 — Finished setup for session: demo_2022-11-09.06-49-06PM\n",
      "2022-11-09 18:49:06,637 — root — INFO — acquire_image:186 — acquiring new ELECTRON image.\n",
      "2022-11-09 18:49:09,162 — root — INFO — acquire_image:186 — acquiring new ION image.\n"
     ]
    }
   ],
   "source": [
    "%load_ext autoreload\n",
    "%autoreload 2\n",
    "\n",
    "from fibsem import utils, acquire\n",
    "\n",
    "microscope, settings = utils.setup_session()\n",
    "\n",
    "eb_image, ib_image = acquire.take_reference_images(microscope, settings.image)\n",
    "\n"
   ]
  },
  {
   "cell_type": "code",
   "execution_count": 2,
   "metadata": {},
   "outputs": [
    {
     "data": {
      "text/plain": [
       "'c:\\\\Users\\\\Admin\\\\Github\\\\autoliftout\\\\liftout\\\\tools'"
      ]
     },
     "execution_count": 2,
     "metadata": {},
     "output_type": "execute_result"
    }
   ],
   "source": [
    "%pwd"
   ]
  },
  {
   "cell_type": "code",
   "execution_count": null,
   "metadata": {},
   "outputs": [],
   "source": []
  }
 ],
 "metadata": {
  "kernelspec": {
   "display_name": "Python 3.9.12 ('liftout')",
   "language": "python",
   "name": "python3"
  },
  "language_info": {
   "codemirror_mode": {
    "name": "ipython",
    "version": 3
   },
   "file_extension": ".py",
   "mimetype": "text/x-python",
   "name": "python",
   "nbconvert_exporter": "python",
   "pygments_lexer": "ipython3",
   "version": "3.9.12"
  },
  "orig_nbformat": 4,
  "vscode": {
   "interpreter": {
    "hash": "5cb17a689ea48522a268bdcd61b0f399058cec9c1acbad013779623d1fd2c02a"
   }
  }
 },
 "nbformat": 4,
 "nbformat_minor": 2
}
