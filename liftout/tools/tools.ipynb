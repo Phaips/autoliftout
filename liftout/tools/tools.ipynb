{
 "cells": [
  {
   "cell_type": "code",
   "execution_count": null,
   "metadata": {},
   "outputs": [],
   "source": [
    "%load_ext autoreload\n",
    "%autoreload 2\n",
    "\n",
    "\n",
    "from liftout.structures import Sample, load_experiment\n",
    "\n",
    "\n",
    "import os \n",
    "import numpy as np\n",
    "import matplotlib.pyplot as plt\n",
    "\n"
   ]
  },
  {
   "cell_type": "code",
   "execution_count": null,
   "metadata": {},
   "outputs": [],
   "source": [
    "# path = r\"C:\\Users\\Admin\\Github\\autoliftout\\liftout\\log\\dm-embryo-05_2022-08-29.11-57-03AM\" # 6\n",
    "path = r\"C:\\Users\\Admin\\Github\\autoliftout\\liftout\\log\\dm-embryo-06_2022-08-30.03-26-27PM\" # 3\n",
    "\n",
    "sample = load_experiment(path)\n",
    "sample.__to_dataframe__()"
   ]
  },
  {
   "cell_type": "code",
   "execution_count": null,
   "metadata": {},
   "outputs": [],
   "source": []
  },
  {
   "cell_type": "markdown",
   "metadata": {},
   "source": [
    "### Log Parsing (new)"
   ]
  },
  {
   "cell_type": "code",
   "execution_count": null,
   "metadata": {},
   "outputs": [],
   "source": [
    "%load_ext autoreload\n",
    "%autoreload 2\n",
    "import pandas as pd\n",
    "from copy import deepcopy\n",
    "from dataclasses import dataclass\n",
    "\n",
    "from pathlib import Path\n",
    "\n",
    "from liftout.tools.data import calculate_statistics_dataframe, AutoLiftoutStatistics, calculate_aggregated_statistics\n",
    "\n",
    "\n",
    "paths = [\n",
    "    r\"C:\\Users\\Admin\\Github\\autoliftout\\liftout\\log\\dm-embryo-05_2022-08-29.11-57-03AM\",\n",
    "    r\"C:\\Users\\Admin\\Github\\autoliftout\\liftout\\log\\dm-embryo-06_2022-08-30.03-26-27PM\"\n",
    "]\n",
    "\n",
    "\n",
    "\n"
   ]
  },
  {
   "cell_type": "code",
   "execution_count": null,
   "metadata": {},
   "outputs": [],
   "source": [
    "df = calculate_aggregated_statistics(paths)\n",
    "display(df)"
   ]
  },
  {
   "cell_type": "code",
   "execution_count": null,
   "metadata": {},
   "outputs": [],
   "source": []
  },
  {
   "cell_type": "code",
   "execution_count": null,
   "metadata": {},
   "outputs": [],
   "source": []
  },
  {
   "cell_type": "code",
   "execution_count": null,
   "metadata": {},
   "outputs": [],
   "source": [
    "# specimen current\n",
    "microscope.state.specimen_current.value"
   ]
  },
  {
   "cell_type": "code",
   "execution_count": null,
   "metadata": {},
   "outputs": [],
   "source": []
  },
  {
   "cell_type": "code",
   "execution_count": null,
   "metadata": {},
   "outputs": [],
   "source": []
  },
  {
   "cell_type": "markdown",
   "metadata": {},
   "source": [
    "## System Settings\n",
    "Set / Restore system settings\n"
   ]
  },
  {
   "cell_type": "code",
   "execution_count": null,
   "metadata": {},
   "outputs": [],
   "source": [
    "%load_ext autoreload\n",
    "%autoreload 2\n",
    "from fibsem import utils, calibration\n",
    "from fibsem.structures import BeamSystemSettings, SystemSettings, BeamType\n",
    "\n",
    "from autoscript_sdb_microscope_client import SdbMicroscopeClient\n",
    "\n",
    "from pprint import pprint "
   ]
  },
  {
   "cell_type": "code",
   "execution_count": null,
   "metadata": {},
   "outputs": [],
   "source": [
    "microscope, settings = utils.setup_session()"
   ]
  },
  {
   "cell_type": "code",
   "execution_count": null,
   "metadata": {},
   "outputs": [],
   "source": [
    "eb_settings = calibration.get_current_beam_system_state(microscope, BeamType.ELECTRON)\n",
    "ib_settings = calibration.get_current_beam_system_state(microscope, BeamType.ION)\n",
    "pprint(eb_settings)\n",
    "pprint(ib_settings)"
   ]
  },
  {
   "cell_type": "code",
   "execution_count": null,
   "metadata": {},
   "outputs": [],
   "source": [
    "from dataclasses import asdict\n",
    "# check if settings are different\n",
    "for i, (a, b) in enumerate(list(zip(asdict(eb_settings).values(), asdict(settings.system.electron).values()))):\n",
    "\n",
    "    if a != b:\n",
    "        k = list(asdict(eb_settings).keys())[i]\n",
    "        print(\"not equal: \", k, a, b)"
   ]
  },
  {
   "cell_type": "code",
   "execution_count": null,
   "metadata": {},
   "outputs": [],
   "source": []
  },
  {
   "cell_type": "markdown",
   "metadata": {},
   "source": [
    "## History Bug"
   ]
  },
  {
   "cell_type": "code",
   "execution_count": null,
   "metadata": {},
   "outputs": [],
   "source": [
    "%load_ext autoreload\n",
    "%autoreload 2\n",
    "\n",
    "from liftout.structures import create_experiment, Lamella, AutoLiftoutStage\n",
    "from liftout.autoliftout import update_sample_lamella_data\n",
    "from fibsem import utils\n",
    "from pprint import pprint\n",
    "from liftout import autoliftout\n",
    "\n",
    "\n",
    "microscope, settings = utils.setup_session()\n",
    "os.makedirs(\"test\", exist_ok=True)\n",
    "sample = create_experiment(\"test-history\", \"test\")\n"
   ]
  },
  {
   "cell_type": "code",
   "execution_count": null,
   "metadata": {},
   "outputs": [],
   "source": [
    "lamella = Lamella(sample.path, 1)\n",
    "sample = update_sample_lamella_data(sample, lamella)\n",
    "\n",
    "stages = [stage for stage in AutoLiftoutStage][2:]\n",
    "\n",
    "for stage in stages:\n",
    "    print(stage)\n",
    "    pprint(sample)\n",
    "    pprint(sample.positions[1])\n",
    "\n",
    "    lamella.current_state.stage = stage\n",
    "    sample = autoliftout.end_of_stage_update(microscope, sample, lamella, )\n",
    "    \n",
    "    pprint(sample)\n",
    "    pprint(sample.positions[1])\n",
    "    pprint([state.stage.name for state in sample.positions[1].history])\n",
    "    print(\"-\"*50)"
   ]
  },
  {
   "cell_type": "code",
   "execution_count": null,
   "metadata": {},
   "outputs": [],
   "source": []
  },
  {
   "cell_type": "markdown",
   "metadata": {},
   "source": [
    "## Initial Calibration\n",
    "\n",
    "Set the initial grid states \n",
    "\n",
    "set the initial calibration (eucentric, horizontal shift, needle)"
   ]
  },
  {
   "cell_type": "code",
   "execution_count": null,
   "metadata": {},
   "outputs": [],
   "source": []
  },
  {
   "cell_type": "markdown",
   "metadata": {},
   "source": [
    "## New AutoLiftout UI\n",
    "\n",
    "autoliftout ui in napari\n"
   ]
  },
  {
   "cell_type": "code",
   "execution_count": null,
   "metadata": {},
   "outputs": [],
   "source": [
    "%load_ext autoreload\n",
    "%autoreload 2\n",
    "\n",
    "from liftout.structures import load_experiment, Sample\n",
    "from autoscript_sdb_microscope_client.structures import AdornedImage\n",
    "import numpy as np\n",
    "import matplotlib.pyplot as plt\n",
    "import scipy.ndimage as ndi\n",
    "import napari\n",
    "from liftout import autoliftout\n",
    "\n",
    "# pprint(sample)\n"
   ]
  },
  {
   "cell_type": "code",
   "execution_count": null,
   "metadata": {},
   "outputs": [],
   "source": [
    "DISPLAY_REFERENCE_FNAMES = [\n",
    "    \"ref_lamella_low_res_ib\",\n",
    "    \"ref_trench_high_res_ib\",\n",
    "    \"ref_jcut_high_res_ib\",\n",
    "    \"ref_liftout_ib\",\n",
    "    \"ref_landing_lamella_high_res_ib\",\n",
    "    \"ref_reset_high_res_ib\",\n",
    "    \"ref_thin_lamella_post_superres_ib\",\n",
    "    \"ref_polish_lamella_post_superres_ib\",\n",
    "]\n",
    "\n",
    "headers = [\n",
    "    \"Sample No\",\n",
    "    \"Position\",\n",
    "    \"Reference\",\n",
    "    \"Milling\",\n",
    "    \"J-Cut\",\n",
    "    \"Liftout\",\n",
    "    \"Landing\",\n",
    "    \"Reset\",\n",
    "    \"Thinning\",\n",
    "    \"Polishing\",\n",
    "]"
   ]
  },
  {
   "cell_type": "code",
   "execution_count": null,
   "metadata": {},
   "outputs": [],
   "source": [
    "\n",
    "\n"
   ]
  },
  {
   "cell_type": "code",
   "execution_count": null,
   "metadata": {},
   "outputs": [],
   "source": [
    "plt.figure(figsize=(15, 15))\n",
    "plt.imshow(overview_image, cmap=\"gray\")\n",
    "plt.show()"
   ]
  },
  {
   "cell_type": "code",
   "execution_count": null,
   "metadata": {},
   "outputs": [],
   "source": [
    "path = r\"C:\\Users\\Admin\\Github\\autoliftout\\liftout\\log\\dm-embryo-05_2022-08-29.11-57-03AM\" # 6\n",
    "# path = r\"C:\\Users\\Admin\\Github\\autoliftout\\liftout\\log\\dm-embryo-06_2022-08-30.03-26-27PM\" # 3\n",
    "\n",
    "from liftout.gui.utils import create_overview_image\n",
    "sample = load_experiment(path)\n",
    "\n",
    "# TODO: stage labels, lamella labels\n",
    "\n",
    "overview_image = create_overview_image(sample)\n",
    "viewer = napari.Viewer()\n",
    "viewer.add_image(overview_image, name=\"AutoLiftout\")"
   ]
  },
  {
   "cell_type": "code",
   "execution_count": 7,
   "metadata": {},
   "outputs": [
    {
     "name": "stderr",
     "output_type": "stream",
     "text": [
      "2022-10-06 11:01:26,777 — root — INFO — connect_to_microscope:31 — Microscope client connecting to [10.0.0.1]\n",
      "2022-10-06 11:01:26,782 — root — INFO — connect_to_microscope:34 — Microscope client connected to [10.0.0.1]\n",
      "2022-10-06 11:01:26,783 — root — INFO — setup_session:252 — Finished setup for session: demo_2022-10-06.11-01-26AM\n"
     ]
    },
    {
     "name": "stdout",
     "output_type": "stream",
     "text": [
      "The autoreload extension is already loaded. To reload it, use:\n",
      "  %reload_ext autoreload\n",
      "Client connecting to [10.0.0.1:7520]...\n",
      "Client connected to [10.0.0.1:7520]\n"
     ]
    }
   ],
   "source": [
    "\n",
    "%load_ext autoreload\n",
    "%autoreload 2\n",
    "\n",
    "from fibsem import utils\n",
    "\n",
    "microscope, settings = utils.setup_session(session_path = \"xyz\")"
   ]
  },
  {
   "cell_type": "code",
   "execution_count": 6,
   "metadata": {},
   "outputs": [
    {
     "data": {
      "text/plain": [
       "'abc'"
      ]
     },
     "execution_count": 6,
     "metadata": {},
     "output_type": "execute_result"
    }
   ],
   "source": [
    "settings.image.save_path"
   ]
  },
  {
   "cell_type": "code",
   "execution_count": 20,
   "metadata": {},
   "outputs": [
    {
     "name": "stdout",
     "output_type": "stream",
     "text": [
      "5 2 14 0.35714285714285715\n"
     ]
    }
   ],
   "source": [
    "from gc import is_finalized\n",
    "from liftout.structures import AutoLiftoutStage, load_experiment, Lamella, Sample\n",
    "\n",
    "path = r\"C:\\Users\\Admin\\Github\\autoliftout\\liftout\\log\\dm-embryo-05_2022-08-29.11-57-03AM\" # 6\n",
    "# path = r\"C:\\Users\\Admin\\Github\\autoliftout\\liftout\\log\\dm-embryo-06_2022-08-30.03-26-27PM\" # 3\n",
    "\n",
    "from liftout.gui.utils import create_overview_image\n",
    "sample = load_experiment(path)\n",
    "\n",
    "\n",
    "def get_completion_stats(sample: Sample) -> tuple:\n",
    "    \"\"\"Get the current completetion stats for lifout\"\"\"    \n",
    "    n_stages = AutoLiftoutStage.Polishing.value # init and failure dont count\n",
    "\n",
    "    lam: Lamella\n",
    "    active_lam = 0\n",
    "    completed_stages = 0\n",
    "    for lam in sample.positions.values():\n",
    "\n",
    "        # dont count failure\n",
    "        if lam.is_failure or lam.current_state.stage.value == 99:\n",
    "            continue\n",
    "        \n",
    "        active_lam += 1\n",
    "        completed_stages += lam.current_state.stage.value\n",
    "\n",
    "    total_stages = n_stages * active_lam\n",
    "    perc_complete = completed_stages / total_stages\n",
    "\n",
    "\n",
    "    return n_stages, active_lam, completed_stages, total_stages, perc_complete\n",
    "\n",
    "\n",
    "n_stages, active_lam, completed_stages, total_stages, perc_complete = get_completion_stats(sample)\n",
    "\n",
    "print(completed_stages, active_lam, total_stages, perc_complete)\n"
   ]
  },
  {
   "cell_type": "code",
   "execution_count": null,
   "metadata": {},
   "outputs": [],
   "source": []
  },
  {
   "cell_type": "code",
   "execution_count": null,
   "metadata": {},
   "outputs": [],
   "source": []
  }
 ],
 "metadata": {
  "kernelspec": {
   "display_name": "Python 3.9.12 ('liftout')",
   "language": "python",
   "name": "python3"
  },
  "language_info": {
   "codemirror_mode": {
    "name": "ipython",
    "version": 3
   },
   "file_extension": ".py",
   "mimetype": "text/x-python",
   "name": "python",
   "nbconvert_exporter": "python",
   "pygments_lexer": "ipython3",
   "version": "3.9.12"
  },
  "orig_nbformat": 4,
  "vscode": {
   "interpreter": {
    "hash": "5cb17a689ea48522a268bdcd61b0f399058cec9c1acbad013779623d1fd2c02a"
   }
  }
 },
 "nbformat": 4,
 "nbformat_minor": 2
}
