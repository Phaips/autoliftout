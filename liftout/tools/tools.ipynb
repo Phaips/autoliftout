{
 "cells": [
  {
   "cell_type": "code",
   "execution_count": null,
   "metadata": {},
   "outputs": [],
   "source": [
    "%load_ext autoreload\n",
    "%autoreload 2\n",
    "\n",
    "\n",
    "from liftout.structures import Sample, load_experiment\n",
    "\n",
    "\n",
    "import os \n",
    "import numpy as np\n",
    "import matplotlib.pyplot as plt\n",
    "\n"
   ]
  },
  {
   "cell_type": "code",
   "execution_count": null,
   "metadata": {},
   "outputs": [],
   "source": [
    "# path = r\"C:\\Users\\Admin\\Github\\autoliftout\\liftout\\log\\dm-embryo-05_2022-08-29.11-57-03AM\" # 6\n",
    "path = r\"C:\\Users\\Admin\\Github\\autoliftout\\liftout\\log\\dm-embryo-06_2022-08-30.03-26-27PM\" # 3\n",
    "\n",
    "sample = load_experiment(path)\n",
    "sample.__to_dataframe__()"
   ]
  },
  {
   "cell_type": "code",
   "execution_count": null,
   "metadata": {},
   "outputs": [],
   "source": []
  },
  {
   "cell_type": "markdown",
   "metadata": {},
   "source": [
    "### Log Parsing (new)"
   ]
  },
  {
   "cell_type": "code",
   "execution_count": null,
   "metadata": {},
   "outputs": [],
   "source": [
    "%load_ext autoreload\n",
    "%autoreload 2\n",
    "import pandas as pd\n",
    "from copy import deepcopy\n",
    "from dataclasses import dataclass\n",
    "\n",
    "from pathlib import Path\n",
    "\n",
    "from liftout.tools.data import calculate_statistics_dataframe, AutoLiftoutStatistics, calculate_aggregated_statistics\n",
    "\n",
    "\n",
    "# paths = [\n",
    "#     r\"C:\\Users\\Admin\\Github\\autoliftout\\liftout\\log\\dm-embryo-05_2022-08-29.11-57-03AM\",\n",
    "#     r\"C:\\Users\\Admin\\Github\\autoliftout\\liftout\\log\\dm-embryo-06_2022-08-30.03-26-27PM\"\n",
    "# ]\n",
    "\n",
    "path = r\"C:\\Users\\Admin\\Github\\autoliftout\\liftout\\log\\dm-embryo-08-2022-10-18.10-39-45AM\"\n",
    "df = calculate_statistics_dataframe(path)\n",
    "\n",
    "\n",
    "df.click"
   ]
  },
  {
   "cell_type": "code",
   "execution_count": null,
   "metadata": {},
   "outputs": [],
   "source": [
    "df = calculate_aggregated_statistics(paths)\n",
    "display(df)"
   ]
  },
  {
   "cell_type": "code",
   "execution_count": null,
   "metadata": {},
   "outputs": [],
   "source": []
  },
  {
   "cell_type": "code",
   "execution_count": null,
   "metadata": {},
   "outputs": [],
   "source": []
  },
  {
   "cell_type": "code",
   "execution_count": null,
   "metadata": {},
   "outputs": [],
   "source": [
    "# specimen current\n",
    "microscope.state.specimen_current.value"
   ]
  },
  {
   "cell_type": "code",
   "execution_count": null,
   "metadata": {},
   "outputs": [],
   "source": []
  },
  {
   "cell_type": "code",
   "execution_count": null,
   "metadata": {},
   "outputs": [],
   "source": []
  },
  {
   "cell_type": "markdown",
   "metadata": {},
   "source": [
    "## System Settings\n",
    "Set / Restore system settings\n"
   ]
  },
  {
   "cell_type": "code",
   "execution_count": null,
   "metadata": {},
   "outputs": [],
   "source": [
    "%load_ext autoreload\n",
    "%autoreload 2\n",
    "from fibsem import utils, calibration\n",
    "from fibsem.structures import BeamSystemSettings, SystemSettings, BeamType\n",
    "\n",
    "from autoscript_sdb_microscope_client import SdbMicroscopeClient\n",
    "\n",
    "from pprint import pprint "
   ]
  },
  {
   "cell_type": "code",
   "execution_count": null,
   "metadata": {},
   "outputs": [],
   "source": [
    "microscope, settings = utils.setup_session()"
   ]
  },
  {
   "cell_type": "code",
   "execution_count": null,
   "metadata": {},
   "outputs": [],
   "source": [
    "eb_settings = calibration.get_current_beam_system_state(microscope, BeamType.ELECTRON)\n",
    "ib_settings = calibration.get_current_beam_system_state(microscope, BeamType.ION)\n",
    "pprint(eb_settings)\n",
    "pprint(ib_settings)"
   ]
  },
  {
   "cell_type": "code",
   "execution_count": null,
   "metadata": {},
   "outputs": [],
   "source": [
    "from dataclasses import asdict\n",
    "# check if settings are different\n",
    "for i, (a, b) in enumerate(list(zip(asdict(eb_settings).values(), asdict(settings.system.electron).values()))):\n",
    "\n",
    "    if a != b:\n",
    "        k = list(asdict(eb_settings).keys())[i]\n",
    "        print(\"not equal: \", k, a, b)"
   ]
  },
  {
   "cell_type": "code",
   "execution_count": null,
   "metadata": {},
   "outputs": [],
   "source": []
  },
  {
   "cell_type": "markdown",
   "metadata": {},
   "source": [
    "## History Bug"
   ]
  },
  {
   "cell_type": "code",
   "execution_count": null,
   "metadata": {},
   "outputs": [],
   "source": [
    "%load_ext autoreload\n",
    "%autoreload 2\n",
    "\n",
    "from liftout.structures import create_experiment, Lamella, AutoLiftoutStage\n",
    "from liftout.autoliftout import update_sample_lamella_data\n",
    "from fibsem import utils\n",
    "from pprint import pprint\n",
    "from liftout import autoliftout\n",
    "\n",
    "\n",
    "microscope, settings = utils.setup_session()\n",
    "os.makedirs(\"test\", exist_ok=True)\n",
    "sample = create_experiment(\"test-history\", \"test\")\n"
   ]
  },
  {
   "cell_type": "code",
   "execution_count": null,
   "metadata": {},
   "outputs": [],
   "source": [
    "lamella = Lamella(sample.path, 1)\n",
    "sample = update_sample_lamella_data(sample, lamella)\n",
    "\n",
    "stages = [stage for stage in AutoLiftoutStage][2:]\n",
    "\n",
    "for stage in stages:\n",
    "    print(stage)\n",
    "    pprint(sample)\n",
    "    pprint(sample.positions[1])\n",
    "\n",
    "    lamella.current_state.stage = stage\n",
    "    sample = autoliftout.end_of_stage_update(microscope, sample, lamella, )\n",
    "    \n",
    "    pprint(sample)\n",
    "    pprint(sample.positions[1])\n",
    "    pprint([state.stage.name for state in sample.positions[1].history])\n",
    "    print(\"-\"*50)"
   ]
  },
  {
   "cell_type": "code",
   "execution_count": null,
   "metadata": {},
   "outputs": [],
   "source": []
  },
  {
   "cell_type": "markdown",
   "metadata": {},
   "source": [
    "## Initial Calibration\n",
    "\n",
    "Set the initial grid states \n",
    "\n",
    "set the initial calibration (eucentric, horizontal shift, needle)"
   ]
  },
  {
   "cell_type": "code",
   "execution_count": null,
   "metadata": {},
   "outputs": [],
   "source": []
  },
  {
   "cell_type": "markdown",
   "metadata": {},
   "source": [
    "## New AutoLiftout UI\n",
    "\n",
    "autoliftout ui in napari\n"
   ]
  },
  {
   "cell_type": "code",
   "execution_count": null,
   "metadata": {},
   "outputs": [],
   "source": [
    "%load_ext autoreload\n",
    "%autoreload 2\n",
    "\n",
    "from liftout.structures import load_experiment, Sample\n",
    "from autoscript_sdb_microscope_client.structures import AdornedImage\n",
    "import numpy as np\n",
    "import matplotlib.pyplot as plt\n",
    "import scipy.ndimage as ndi\n",
    "import napari\n",
    "from liftout import autoliftout\n",
    "\n",
    "# pprint(sample)\n"
   ]
  },
  {
   "cell_type": "code",
   "execution_count": null,
   "metadata": {},
   "outputs": [],
   "source": [
    "DISPLAY_REFERENCE_FNAMES = [\n",
    "    \"ref_lamella_low_res_ib\",\n",
    "    \"ref_trench_high_res_ib\",\n",
    "    \"ref_jcut_high_res_ib\",\n",
    "    \"ref_liftout_ib\",\n",
    "    \"ref_landing_lamella_high_res_ib\",\n",
    "    \"ref_reset_high_res_ib\",\n",
    "    \"ref_thin_lamella_post_superres_ib\",\n",
    "    \"ref_polish_lamella_post_superres_ib\",\n",
    "]\n",
    "\n",
    "headers = [\n",
    "    \"Sample No\",\n",
    "    \"Position\",\n",
    "    \"Reference\",\n",
    "    \"Milling\",\n",
    "    \"J-Cut\",\n",
    "    \"Liftout\",\n",
    "    \"Landing\",\n",
    "    \"Reset\",\n",
    "    \"Thinning\",\n",
    "    \"Polishing\",\n",
    "]"
   ]
  },
  {
   "cell_type": "code",
   "execution_count": null,
   "metadata": {},
   "outputs": [],
   "source": [
    "\n",
    "\n"
   ]
  },
  {
   "cell_type": "code",
   "execution_count": null,
   "metadata": {},
   "outputs": [],
   "source": [
    "plt.figure(figsize=(15, 15))\n",
    "plt.imshow(overview_image, cmap=\"gray\")\n",
    "plt.show()"
   ]
  },
  {
   "cell_type": "code",
   "execution_count": null,
   "metadata": {},
   "outputs": [],
   "source": [
    "path = r\"C:\\Users\\Admin\\Github\\autoliftout\\liftout\\log\\dm-embryo-05_2022-08-29.11-57-03AM\" # 6\n",
    "# path = r\"C:\\Users\\Admin\\Github\\autoliftout\\liftout\\log\\dm-embryo-06_2022-08-30.03-26-27PM\" # 3\n",
    "\n",
    "from liftout.gui.utils import create_overview_image\n",
    "sample = load_experiment(path)\n",
    "\n",
    "# TODO: stage labels, lamella labels\n",
    "\n",
    "overview_image = create_overview_image(sample)\n",
    "viewer = napari.Viewer()\n",
    "viewer.add_image(overview_image, name=\"AutoLiftout\")"
   ]
  },
  {
   "cell_type": "code",
   "execution_count": null,
   "metadata": {},
   "outputs": [],
   "source": [
    "\n",
    "%load_ext autoreload\n",
    "%autoreload 2\n",
    "\n",
    "from fibsem import utils\n",
    "\n",
    "microscope, settings = utils.setup_session(session_path = \"xyz\")"
   ]
  },
  {
   "cell_type": "code",
   "execution_count": null,
   "metadata": {},
   "outputs": [],
   "source": [
    "settings.image.save_path"
   ]
  },
  {
   "cell_type": "code",
   "execution_count": null,
   "metadata": {},
   "outputs": [],
   "source": [
    "from gc import is_finalized\n",
    "from liftout.structures import AutoLiftoutStage, load_experiment, Lamella, Sample\n",
    "\n",
    "path = r\"C:\\Users\\Admin\\Github\\autoliftout\\liftout\\log\\dm-embryo-05_2022-08-29.11-57-03AM\" # 6\n",
    "# path = r\"C:\\Users\\Admin\\Github\\autoliftout\\liftout\\log\\dm-embryo-06_2022-08-30.03-26-27PM\" # 3\n",
    "\n",
    "from liftout.gui.utils import create_overview_image\n",
    "sample = load_experiment(path)\n",
    "\n",
    "\n",
    "def get_completion_stats(sample: Sample) -> tuple:\n",
    "    \"\"\"Get the current completetion stats for lifout\"\"\"    \n",
    "    n_stages = AutoLiftoutStage.Polishing.value # init and failure dont count\n",
    "\n",
    "    lam: Lamella\n",
    "    active_lam = 0\n",
    "    completed_stages = 0\n",
    "    for lam in sample.positions.values():\n",
    "\n",
    "        # dont count failure\n",
    "        if lam.is_failure or lam.current_state.stage.value == 99:\n",
    "            continue\n",
    "        \n",
    "        active_lam += 1\n",
    "        completed_stages += lam.current_state.stage.value\n",
    "\n",
    "    total_stages = n_stages * active_lam\n",
    "    perc_complete = completed_stages / total_stages\n",
    "\n",
    "\n",
    "    return n_stages, active_lam, completed_stages, total_stages, perc_complete\n",
    "\n",
    "\n",
    "n_stages, active_lam, completed_stages, total_stages, perc_complete = get_completion_stats(sample)\n",
    "\n",
    "print(completed_stages, active_lam, total_stages, perc_complete)\n"
   ]
  },
  {
   "cell_type": "code",
   "execution_count": null,
   "metadata": {},
   "outputs": [],
   "source": []
  },
  {
   "cell_type": "code",
   "execution_count": null,
   "metadata": {},
   "outputs": [],
   "source": []
  },
  {
   "cell_type": "code",
   "execution_count": null,
   "metadata": {},
   "outputs": [],
   "source": [
    "settings.default"
   ]
  },
  {
   "cell_type": "code",
   "execution_count": null,
   "metadata": {},
   "outputs": [],
   "source": [
    "%load_ext autoreload\n",
    "%autoreload 2\n",
    "\n",
    "from fibsem import utils, acquire\n",
    "import matplotlib.pyplot as plt\n",
    "from liftout import actions\n",
    "from fibsem import movement, acquire\n",
    "\n",
    "microscope, settings = utils.setup_session()"
   ]
  },
  {
   "cell_type": "code",
   "execution_count": null,
   "metadata": {},
   "outputs": [],
   "source": [
    "\n",
    "\n",
    "actions.move_needle_to_reset_position(microscope)\n",
    "acquire.take_reference_images(microscope, settings.image)\n"
   ]
  },
  {
   "cell_type": "code",
   "execution_count": null,
   "metadata": {},
   "outputs": [],
   "source": [
    "movement.retract_needle(microscope)"
   ]
  },
  {
   "cell_type": "code",
   "execution_count": null,
   "metadata": {},
   "outputs": [],
   "source": [
    "\n",
    "%load_ext autoreload\n",
    "%autoreload 2\n",
    "\n",
    "from liftout.utils import crosscorrelate_and_plot\n",
    "from autoscript_sdb_microscope_client.structures import AdornedImage\n",
    "import matplotlib.pyplot as plt\n",
    "\n",
    "p1 = r\"C:\\Users\\Admin\\Github\\autoliftout\\liftout\\log\\dm-embryo-08-2022-10-18.10-39-45AM\\02-next-bison/2022-10-18.02-10-48PM_eb.tif\"\n",
    "p2 = r\"C:\\Users\\Admin\\Github\\autoliftout\\liftout\\log\\dm-embryo-08-2022-10-18.10-39-45AM\\02-next-bison/ref_trench_low_res_ib.tif\"\n",
    "\n",
    "img1 = AdornedImage.load(p1)\n",
    "img2 = AdornedImage.load(p2)\n",
    "\n",
    "\n",
    "fig, ax = plt.subplots(1, 2, figsize=(10, 5))\n",
    "ax[0].imshow(img1.data)\n",
    "ax[1].imshow(img2.data)\n",
    "plt.show()\n",
    "\n"
   ]
  },
  {
   "cell_type": "code",
   "execution_count": null,
   "metadata": {},
   "outputs": [],
   "source": [
    "from fibsem.utils import setup_session, load_settings_from_config\n",
    "from liftout.config import config\n",
    "from fibsem.imaging import masks\n",
    "from fibsem.imaging import utils as image_utils\n",
    "\n",
    "settings = load_settings_from_config(\n",
    "    config_path = config.config_path,\n",
    "    protocol_path = config.protocol_path\n",
    ")\n",
    "\n",
    "\n",
    "plt.imshow(image_utils.rotate_image(img2).data)\n",
    "plt.show()\n",
    "\n",
    "# ref_mask = masks.create_lamella_mask(image_utils.rotate_image(img2), settings.protocol[\"lamella\"], scale = 4, use_trench_height=True) # TODO: refactor, liftout specific\n",
    "\n",
    "crosscorrelate_and_plot(img2, img1, rotate=True)"
   ]
  },
  {
   "cell_type": "code",
   "execution_count": null,
   "metadata": {},
   "outputs": [],
   "source": [
    "from fibsem import alignment\n",
    "\n",
    "\n",
    "# rotate \n",
    "img1_r = image_utils.rotate_image(img1)\n",
    "\n",
    "\n",
    "# normalise images\n",
    "img1_norm = image_utils.normalise_image(img1_r.data)\n",
    "img2_norm = image_utils.normalise_image(img2.data)\n",
    "\n",
    "# create bandpass\n",
    "lp=128\n",
    "hp=6\n",
    "sigma =6\n",
    "bandpass = masks.create_bandpass_mask(shape=img1_norm.shape, lp=lp, hp=hp, sigma=sigma)\n",
    "\n",
    "fig, ax = plt.subplots(1, 2, figsize=(10, 5))\n",
    "ax[0].imshow(img1_norm, cmap=\"gray\")\n",
    "ax[1].imshow(img1_norm, cmap=\"gray\")\n",
    "plt.show()\n",
    "\n",
    "plt.imshow(bandpass)\n",
    "plt.show()\n",
    "\n",
    "# crosscorrelation\n",
    "xcorr = alignment.crosscorrelation_v2(img1_norm, img2_norm, bandpass=bandpass)\n",
    "plt.imshow(xcorr)\n",
    "plt.show()\n",
    "\n",
    "xcorr = masks.apply_circular_mask(xcorr, 512)\n",
    "plt.imshow(xcorr)\n",
    "plt.show()\n",
    "\n"
   ]
  },
  {
   "cell_type": "code",
   "execution_count": null,
   "metadata": {},
   "outputs": [],
   "source": [
    "# lamella freq\n",
    "\n",
    "from fibsem import conversions\n",
    "\n",
    "import os\n",
    "path = r\"C:\\Users\\Admin\\Github\\autoliftout\\liftout\\log\\dm-embryo-08-2022-10-18.10-39-45AM\\02-next-bison\"\n",
    "\n",
    "\n",
    "low_res_ib = AdornedImage.load(os.path.join(path, \"ref_trench_low_res_ib.tif\"))\n",
    "high_res_ib = AdornedImage.load(os.path.join(path, \"ref_trench_high_res_ib.tif\"))\n",
    "\n",
    "h, w = conversions.get_lamella_size_in_pixels(low_res_ib, settings.protocol[\"lamella\"], use_trench_height=True)\n",
    "print(f\"h: {h}, w:{w}\")\n",
    "\n",
    "h, w = conversions.get_lamella_size_in_pixels(high_res_ib, settings.protocol[\"lamella\"], use_trench_height=True)\n",
    "print(f\"h: {h}, w:{w}\")\n",
    "\n",
    "fig, ax = plt.subplots(1, 2, figsize=(10, 5))\n",
    "ax[0].imshow(low_res_ib.data, cmap=\"gray\")\n",
    "ax[1].imshow(high_res_ib.data, cmap=\"gray\")\n",
    "plt.show()\n",
    "\n",
    "# TODO: convert these sizes to lp, hp values"
   ]
  },
  {
   "cell_type": "code",
   "execution_count": null,
   "metadata": {},
   "outputs": [],
   "source": [
    "protocol = {\"width\": 2e-6, \"height\": 1e-6, \"depth\": 2e-6, \n",
    "    \"number\": 3, \"offset\": 1e-6, \n",
    "    \"scan_direction\": \"RightToLeft\", \n",
    "    \"cleaning_cross_section\": False,\n",
    "    \"milling_current\": 2e-9}\n",
    "\n",
    "\n",
    "from liftout import patterning \n",
    "microscope.patterning.clear_patterns()\n",
    "\n",
    "from fibsem.structures import Point\n",
    "\n",
    "patterning.spot_weld_pattern(microscope, protocol, Point(5e-6, -2e-6))\n",
    "\n"
   ]
  },
  {
   "cell_type": "code",
   "execution_count": null,
   "metadata": {},
   "outputs": [],
   "source": [
    "%load_ext autoreload\n",
    "%autoreload 2\n",
    "\n",
    "from fibsem.utils import setup_session, load_settings_from_config\n",
    "from liftout.config import config\n",
    "from fibsem.imaging import masks\n",
    "from fibsem.imaging import utils as image_utils\n",
    "\n",
    "from liftout.utils import crosscorrelate_and_plot\n",
    "from autoscript_sdb_microscope_client.structures import AdornedImage\n",
    "import matplotlib.pyplot as plt\n",
    "\n",
    "settings = load_settings_from_config(\n",
    "    config_path = config.config_path,\n",
    "    protocol_path = config.protocol_path\n",
    ")\n",
    "\n",
    "ref_path = r\"C:\\Users\\Admin\\Github\\autoliftout\\liftout\\log\\dm-embryo-09-2022-10-21.11-32-09AM\\01-fast-bedbug/ref_trench_jcut_low_res_ib.tif\"\n",
    "target_path = r\"C:\\Users\\Admin\\Github\\autoliftout\\liftout\\log\\dm-embryo-09-2022-10-21.11-32-09AM\\01-fast-bedbug/2022-10-21.01-35-09PM_eb.tif\"\n",
    "# target_path = r\"C:\\Users\\Admin\\Github\\autoliftout\\liftout\\log\\dm-embryo-09-2022-10-21.11-32-09AM\\01-fast-bedbug/2022-10-21.01-30-34PM_eb.tif\"\n",
    "\n",
    "\n",
    "ref_path = r\"C:\\Users\\Admin\\Github\\autoliftout\\liftout\\log\\dm-embryo-09-2022-10-21.11-32-09AM\\01-fast-bedbug/ref_trench_jcut_high_res_ib.tif\"\n",
    "target_path = r\"C:\\Users\\Admin\\Github\\autoliftout\\liftout\\log\\dm-embryo-09-2022-10-21.11-32-09AM\\01-fast-bedbug/2022-10-21.01-17-38PM_eb.tif\"\n",
    "\n",
    "\n",
    "ref_image = AdornedImage.load(ref_path)\n",
    "target_image = AdornedImage.load(target_path)\n",
    "\n",
    "ref_mask = masks.create_lamella_mask(\n",
    "    ref_image, settings.protocol[\"lamella\"], scale=4, use_trench_height=True\n",
    ")  # TODO: refactor, liftout specific\n",
    "\n",
    "crosscorrelate_and_plot(ref_image, target_image, ref_mask=ref_mask,\n",
    "    rotate=True, xcorr_limit=250)\n"
   ]
  },
  {
   "cell_type": "code",
   "execution_count": null,
   "metadata": {},
   "outputs": [],
   "source": [
    "%load_ext autoreload\n",
    "%autoreload 2\n",
    "\n",
    "from fibsem import alignment, acquire, utils, calibration\n",
    "from liftout.utils import take_reference_images_and_plot\n",
    "\n",
    "microscope, settings = utils.setup_session()\n",
    "\n",
    "# take_reference_images_and_plot(microscope, settings.image)\n",
    "\n",
    "\n"
   ]
  },
  {
   "cell_type": "code",
   "execution_count": null,
   "metadata": {},
   "outputs": [],
   "source": [
    "\n",
    "alignment.auto_eucentric_correction(microscope, settings.image)\n",
    "\n",
    "take_reference_images_and_plot(microscope, settings.image)\n"
   ]
  },
  {
   "cell_type": "code",
   "execution_count": null,
   "metadata": {},
   "outputs": [],
   "source": [
    "%load_ext autoreload\n",
    "%autoreload 2\n",
    "from liftout import actions\n",
    "from fibsem import movement\n",
    "\n",
    "\n",
    "movement.retract_needle(microscope)\n",
    "\n",
    "actions.move_needle_to_liftout_position(microscope)\n",
    "\n",
    "take_reference_images_and_plot(microscope, settings.image)\n",
    "\n",
    "from autoscript_sdb_microscope_client.structures import (\n",
    "    ManipulatorPosition,\n",
    "    MoveSettings,\n",
    "    StagePosition,\n",
    ")\n",
    "\n",
    "from autoscript_sdb_microscope_client.enumerations import (\n",
    "    ManipulatorCoordinateSystem,\n",
    "    ManipulatorSavedPosition,\n",
    ")\n",
    "\n",
    "# microscope.specimen.manipulator.insert()\n",
    "# movement.insert_needle(microscope, ManipulatorSavedPosition.EUCENTRIC)"
   ]
  },
  {
   "cell_type": "code",
   "execution_count": null,
   "metadata": {},
   "outputs": [],
   "source": [
    "take_reference_images_and_plot(microscope, settings.image)"
   ]
  },
  {
   "cell_type": "code",
   "execution_count": null,
   "metadata": {},
   "outputs": [],
   "source": [
    "from fibsem.detection import detection\n",
    "from fibsem.detection.detection import DetectionFeature, DetectionType\n",
    "\n",
    "from fibsem.detection import utils as det_utils\n",
    "\n",
    "from fibsem.structures import BeamType\n",
    "\n",
    "settings.image.beam_type = BeamType.ELECTRON\n",
    "settings.image.hfw = 400e-6\n",
    "\n",
    "image = acquire.new_image(microscope, settings.image)\n",
    "det = detection.locate_shift_between_features(\n",
    "    image,\n",
    "    features=[\n",
    "        DetectionFeature(DetectionType.NeedleTip, None),\n",
    "        DetectionFeature(DetectionType.ImageCentre, None),\n",
    "    ],\n",
    ")\n",
    "\n",
    "\n",
    "det_utils.plot_detection_result(det)"
   ]
  },
  {
   "cell_type": "code",
   "execution_count": null,
   "metadata": {},
   "outputs": [],
   "source": [
    "state = calibration.get_current_microscope_state(microscope)"
   ]
  },
  {
   "cell_type": "code",
   "execution_count": null,
   "metadata": {},
   "outputs": [],
   "source": [
    "state"
   ]
  },
  {
   "cell_type": "code",
   "execution_count": null,
   "metadata": {},
   "outputs": [],
   "source": []
  },
  {
   "cell_type": "markdown",
   "metadata": {},
   "source": [
    "## Auto Home and Link\n",
    "\n",
    "Steps:\n",
    "1. Home the stage\n",
    "2. Restore state\n",
    "3. Focus and Link\n",
    "\n",
    "Questions:\n",
    "what is the initial state?"
   ]
  },
  {
   "cell_type": "code",
   "execution_count": 4,
   "metadata": {},
   "outputs": [
    {
     "name": "stdout",
     "output_type": "stream",
     "text": [
      "The autoreload extension is already loaded. To reload it, use:\n",
      "  %reload_ext autoreload\n",
      "MicroscopeState(timestamp=1666335913.457053, absolute_position=StagePosition(x=0.0065565, y=-0.00739075, z=0.023155639, t=-7.80505e-07, r=0.85529431, coordinate_system=Raw), eb_settings=BeamSettings(beam_type=<BeamType.ELECTRON: 1>, working_distance=0.014370575043736882, beam_current=5e-11, hfw=0.0004, resolution='1536x1024', dwell_time=5e-07), ib_settings=BeamSettings(beam_type=<BeamType.ION: 2>, working_distance=0.016544666950390034, beam_current=2e-11, hfw=0.0004, resolution='1536x1024', dwell_time=2e-07))\n"
     ]
    }
   ],
   "source": [
    "%load_ext autoreload\n",
    "%autoreload 2\n",
    "\n",
    "from fibsem import calibration\n",
    "from fibsem.structures import MicroscopeState\n",
    "from fibsem.utils import save_yaml, load_yaml\n",
    "from fibsem import config \n",
    "\n",
    "from pathlib import Path\n",
    "\n",
    "# state = calibration.get_current_microscope_state(microscope)\n",
    "\n",
    "from fibsem import alignment, acquire, utils, calibration\n",
    "from liftout.utils import take_reference_images_and_plot\n",
    "\n",
    "# microscope, settings = utils.setup_session()\n",
    "path = os.path.join(config.CONFIG_PATH, \"calibrated_state.yaml\")\n",
    "# save_state_yaml(path, state)\n",
    "\n",
    "state = MicroscopeState.__from_dict__(load_yaml(path))\n",
    "print(state)\n",
    "\n",
    "# calibration.auto_home_and_link(microscope, state)\n",
    "\n",
    "\n",
    "\n",
    "\n"
   ]
  },
  {
   "cell_type": "code",
   "execution_count": null,
   "metadata": {},
   "outputs": [],
   "source": []
  },
  {
   "cell_type": "code",
   "execution_count": null,
   "metadata": {},
   "outputs": [],
   "source": [
    "\n"
   ]
  },
  {
   "cell_type": "code",
   "execution_count": null,
   "metadata": {},
   "outputs": [],
   "source": []
  },
  {
   "cell_type": "code",
   "execution_count": null,
   "metadata": {},
   "outputs": [],
   "source": []
  }
 ],
 "metadata": {
  "kernelspec": {
   "display_name": "Python 3.9.13 ('autoliftout')",
   "language": "python",
   "name": "python3"
  },
  "language_info": {
   "codemirror_mode": {
    "name": "ipython",
    "version": 3
   },
   "file_extension": ".py",
   "mimetype": "text/x-python",
   "name": "python",
   "nbconvert_exporter": "python",
   "pygments_lexer": "ipython3",
   "version": "3.9.13"
  },
  "orig_nbformat": 4,
  "vscode": {
   "interpreter": {
    "hash": "ea78b76b2c840a5577de64ec81812954f7a3177bd4e73b9895b7933ce81940d2"
   }
  }
 },
 "nbformat": 4,
 "nbformat_minor": 2
}
