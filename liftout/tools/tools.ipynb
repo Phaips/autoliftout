{
 "cells": [
  {
   "cell_type": "code",
   "execution_count": null,
   "metadata": {},
   "outputs": [],
   "source": [
    "%load_ext autoreload\n",
    "%autoreload 2\n",
    "\n",
    "\n",
    "from liftout.structures import Sample, load_experiment\n",
    "\n",
    "\n",
    "import os \n",
    "import numpy as np\n",
    "import matplotlib.pyplot as plt\n",
    "\n"
   ]
  },
  {
   "cell_type": "code",
   "execution_count": null,
   "metadata": {},
   "outputs": [],
   "source": [
    "# path = r\"C:\\Users\\Admin\\Github\\autoliftout\\liftout\\log\\dm-embryo-05_2022-08-29.11-57-03AM\" # 6\n",
    "path = r\"C:\\Users\\Admin\\Github\\autoliftout\\liftout\\log\\dm-embryo-06_2022-08-30.03-26-27PM\" # 3\n",
    "\n",
    "sample = load_experiment(path)\n",
    "sample.__to_dataframe__()"
   ]
  },
  {
   "cell_type": "code",
   "execution_count": null,
   "metadata": {},
   "outputs": [],
   "source": []
  },
  {
   "cell_type": "markdown",
   "metadata": {},
   "source": [
    "### Log Parsing (new)"
   ]
  },
  {
   "cell_type": "code",
   "execution_count": null,
   "metadata": {},
   "outputs": [],
   "source": [
    "%load_ext autoreload\n",
    "%autoreload 2\n",
    "import pandas as pd\n",
    "from copy import deepcopy\n",
    "from dataclasses import dataclass\n",
    "\n",
    "from pathlib import Path\n",
    "\n",
    "from liftout.tools.data import calculate_statistics_dataframe, AutoLiftoutStatistics, calculate_aggregated_statistics\n",
    "\n",
    "\n",
    "paths = [\n",
    "    r\"C:\\Users\\Admin\\Github\\autoliftout\\liftout\\log\\dm-embryo-05_2022-08-29.11-57-03AM\",\n",
    "    r\"C:\\Users\\Admin\\Github\\autoliftout\\liftout\\log\\dm-embryo-06_2022-08-30.03-26-27PM\"\n",
    "]\n",
    "\n",
    "\n",
    "\n"
   ]
  },
  {
   "cell_type": "code",
   "execution_count": null,
   "metadata": {},
   "outputs": [],
   "source": [
    "df = calculate_aggregated_statistics(paths)\n",
    "display(df)"
   ]
  },
  {
   "cell_type": "code",
   "execution_count": null,
   "metadata": {},
   "outputs": [],
   "source": []
  },
  {
   "cell_type": "code",
   "execution_count": null,
   "metadata": {},
   "outputs": [],
   "source": []
  },
  {
   "cell_type": "code",
   "execution_count": null,
   "metadata": {},
   "outputs": [],
   "source": [
    "# specimen current\n",
    "microscope.state.specimen_current.value"
   ]
  },
  {
   "cell_type": "code",
   "execution_count": null,
   "metadata": {},
   "outputs": [],
   "source": []
  },
  {
   "cell_type": "code",
   "execution_count": null,
   "metadata": {},
   "outputs": [],
   "source": []
  },
  {
   "cell_type": "markdown",
   "metadata": {},
   "source": [
    "## System Settings\n",
    "Set / Restore system settings\n"
   ]
  },
  {
   "cell_type": "code",
   "execution_count": null,
   "metadata": {},
   "outputs": [],
   "source": [
    "%load_ext autoreload\n",
    "%autoreload 2\n",
    "from fibsem import utils, calibration\n",
    "from fibsem.structures import BeamSystemSettings, SystemSettings, BeamType\n",
    "\n",
    "from autoscript_sdb_microscope_client import SdbMicroscopeClient\n",
    "\n",
    "from pprint import pprint "
   ]
  },
  {
   "cell_type": "code",
   "execution_count": null,
   "metadata": {},
   "outputs": [],
   "source": [
    "microscope, settings = utils.setup_session()"
   ]
  },
  {
   "cell_type": "code",
   "execution_count": null,
   "metadata": {},
   "outputs": [],
   "source": [
    "eb_settings = calibration.get_current_beam_system_state(microscope, BeamType.ELECTRON)\n",
    "ib_settings = calibration.get_current_beam_system_state(microscope, BeamType.ION)\n",
    "pprint(eb_settings)\n",
    "pprint(ib_settings)"
   ]
  },
  {
   "cell_type": "code",
   "execution_count": null,
   "metadata": {},
   "outputs": [],
   "source": [
    "from dataclasses import asdict\n",
    "# check if settings are different\n",
    "for i, (a, b) in enumerate(list(zip(asdict(eb_settings).values(), asdict(settings.system.electron).values()))):\n",
    "\n",
    "    if a != b:\n",
    "        k = list(asdict(eb_settings).keys())[i]\n",
    "        print(\"not equal: \", k, a, b)"
   ]
  },
  {
   "cell_type": "code",
   "execution_count": null,
   "metadata": {},
   "outputs": [],
   "source": []
  },
  {
   "cell_type": "markdown",
   "metadata": {},
   "source": [
    "## History Bug"
   ]
  },
  {
   "cell_type": "code",
   "execution_count": 5,
   "metadata": {},
   "outputs": [
    {
     "name": "stderr",
     "output_type": "stream",
     "text": [
      "2022-10-05 19:08:25,367 — root — INFO — connect_to_microscope:28 — Microscope client connecting to [10.0.0.1]\n",
      "2022-10-05 19:08:25,372 — root — INFO — connect_to_microscope:31 — Microscope client connected to [10.0.0.1]\n",
      "2022-10-05 19:08:25,373 — root — INFO — setup_session:241 — Finished setup for session: demo_2022-10-05.07-08-25PM\n"
     ]
    },
    {
     "name": "stdout",
     "output_type": "stream",
     "text": [
      "The autoreload extension is already loaded. To reload it, use:\n",
      "  %reload_ext autoreload\n",
      "Client connecting to [10.0.0.1:7520]...\n",
      "Client connected to [10.0.0.1:7520]\n"
     ]
    }
   ],
   "source": [
    "%load_ext autoreload\n",
    "%autoreload 2\n",
    "\n",
    "from liftout.structures import create_experiment, Lamella, AutoLiftoutStage\n",
    "from liftout.autoliftout import update_sample_lamella_data\n",
    "from fibsem import utils\n",
    "from pprint import pprint\n",
    "from liftout import autoliftout\n",
    "\n",
    "\n",
    "microscope, settings = utils.setup_session()\n",
    "os.makedirs(\"test\", exist_ok=True)\n",
    "sample = create_experiment(\"test-history\", \"test\")\n"
   ]
  },
  {
   "cell_type": "code",
   "execution_count": 14,
   "metadata": {},
   "outputs": [
    {
     "name": "stdout",
     "output_type": "stream",
     "text": [
      "\n",
      "        Lamella 1 (01-active-horse). \n",
      "        Lamella Coordinates: StagePosition(), \n",
      "        Landing Coordinates: StagePosition(), \n",
      "        Current Stage: AutoLiftoutStage.Setup,\n",
      "        History: 0 stages completed ([]).\n",
      "        \n",
      "Sample: \n",
      "        Path: test\\test-history-2022-10-05.07-08-25PM\n",
      "        State: None\n",
      "        Lamella: 1\n",
      "        \n"
     ]
    }
   ],
   "source": []
  },
  {
   "cell_type": "code",
   "execution_count": 23,
   "metadata": {},
   "outputs": [
    {
     "name": "stderr",
     "output_type": "stream",
     "text": [
      "2022-10-05 19:19:52,801 — root — INFO — end_of_stage_update:980 — 01-in-moth | AutoLiftoutStage.MillTrench | FINISHED\n",
      "2022-10-05 19:19:52,828 — root — INFO — end_of_stage_update:980 — 01-in-moth | AutoLiftoutStage.MillJCut | FINISHED\n",
      "2022-10-05 19:19:52,851 — root — INFO — end_of_stage_update:980 — 01-in-moth | AutoLiftoutStage.Liftout | FINISHED\n",
      "2022-10-05 19:19:52,878 — root — INFO — end_of_stage_update:980 — 01-in-moth | AutoLiftoutStage.Landing | FINISHED\n",
      "2022-10-05 19:19:52,908 — root — INFO — end_of_stage_update:980 — 01-in-moth | AutoLiftoutStage.Reset | FINISHED\n",
      "2022-10-05 19:19:52,936 — root — INFO — end_of_stage_update:980 — 01-in-moth | AutoLiftoutStage.Thinning | FINISHED\n",
      "2022-10-05 19:19:52,969 — root — INFO — end_of_stage_update:980 — 01-in-moth | AutoLiftoutStage.Polishing | FINISHED\n"
     ]
    },
    {
     "name": "stdout",
     "output_type": "stream",
     "text": [
      "AutoLiftoutStage.MillTrench\n",
      "Sample: \n",
      "        Path: test\\test-history-2022-10-05.07-08-25PM\n",
      "        State: None\n",
      "        Lamella: 1\n",
      "        \n",
      "\n",
      "        Lamella 1 (01-in-moth). \n",
      "        Lamella Coordinates: StagePosition(), \n",
      "        Landing Coordinates: StagePosition(), \n",
      "        Current Stage: AutoLiftoutStage.Setup,\n",
      "        History: 0 stages completed ([]).\n",
      "        \n",
      "Sample: \n",
      "        Path: test\\test-history-2022-10-05.07-08-25PM\n",
      "        State: None\n",
      "        Lamella: 1\n",
      "        \n",
      "\n",
      "        Lamella 1 (01-in-moth). \n",
      "        Lamella Coordinates: StagePosition(), \n",
      "        Landing Coordinates: StagePosition(), \n",
      "        Current Stage: AutoLiftoutStage.MillTrench,\n",
      "        History: 1 stages completed (['MillTrench']).\n",
      "        \n",
      "['MillTrench']\n",
      "--------------------------------------------------\n",
      "AutoLiftoutStage.MillJCut\n",
      "Sample: \n",
      "        Path: test\\test-history-2022-10-05.07-08-25PM\n",
      "        State: None\n",
      "        Lamella: 1\n",
      "        \n",
      "\n",
      "        Lamella 1 (01-in-moth). \n",
      "        Lamella Coordinates: StagePosition(), \n",
      "        Landing Coordinates: StagePosition(), \n",
      "        Current Stage: AutoLiftoutStage.MillTrench,\n",
      "        History: 1 stages completed (['MillTrench']).\n",
      "        \n",
      "Sample: \n",
      "        Path: test\\test-history-2022-10-05.07-08-25PM\n",
      "        State: None\n",
      "        Lamella: 1\n",
      "        \n",
      "\n",
      "        Lamella 1 (01-in-moth). \n",
      "        Lamella Coordinates: StagePosition(), \n",
      "        Landing Coordinates: StagePosition(), \n",
      "        Current Stage: AutoLiftoutStage.MillJCut,\n",
      "        History: 2 stages completed (['MillTrench', 'MillJCut']).\n",
      "        \n",
      "['MillTrench', 'MillJCut']\n",
      "--------------------------------------------------\n",
      "AutoLiftoutStage.Liftout\n",
      "Sample: \n",
      "        Path: test\\test-history-2022-10-05.07-08-25PM\n",
      "        State: None\n",
      "        Lamella: 1\n",
      "        \n",
      "\n",
      "        Lamella 1 (01-in-moth). \n",
      "        Lamella Coordinates: StagePosition(), \n",
      "        Landing Coordinates: StagePosition(), \n",
      "        Current Stage: AutoLiftoutStage.MillJCut,\n",
      "        History: 2 stages completed (['MillTrench', 'MillJCut']).\n",
      "        \n",
      "Sample: \n",
      "        Path: test\\test-history-2022-10-05.07-08-25PM\n",
      "        State: None\n",
      "        Lamella: 1\n",
      "        \n",
      "\n",
      "        Lamella 1 (01-in-moth). \n",
      "        Lamella Coordinates: StagePosition(), \n",
      "        Landing Coordinates: StagePosition(), \n",
      "        Current Stage: AutoLiftoutStage.Liftout,\n",
      "        History: 3 stages completed (['MillTrench', 'MillJCut', 'Liftout']).\n",
      "        \n",
      "['MillTrench', 'MillJCut', 'Liftout']\n",
      "--------------------------------------------------\n",
      "AutoLiftoutStage.Landing\n",
      "Sample: \n",
      "        Path: test\\test-history-2022-10-05.07-08-25PM\n",
      "        State: None\n",
      "        Lamella: 1\n",
      "        \n",
      "\n",
      "        Lamella 1 (01-in-moth). \n",
      "        Lamella Coordinates: StagePosition(), \n",
      "        Landing Coordinates: StagePosition(), \n",
      "        Current Stage: AutoLiftoutStage.Liftout,\n",
      "        History: 3 stages completed (['MillTrench', 'MillJCut', 'Liftout']).\n",
      "        \n",
      "Sample: \n",
      "        Path: test\\test-history-2022-10-05.07-08-25PM\n",
      "        State: None\n",
      "        Lamella: 1\n",
      "        \n",
      "\n",
      "        Lamella 1 (01-in-moth). \n",
      "        Lamella Coordinates: StagePosition(), \n",
      "        Landing Coordinates: StagePosition(), \n",
      "        Current Stage: AutoLiftoutStage.Landing,\n",
      "        History: 4 stages completed (['MillTrench', 'MillJCut', 'Liftout', 'Landing']).\n",
      "        \n",
      "['MillTrench', 'MillJCut', 'Liftout', 'Landing']\n",
      "--------------------------------------------------\n",
      "AutoLiftoutStage.Reset\n",
      "Sample: \n",
      "        Path: test\\test-history-2022-10-05.07-08-25PM\n",
      "        State: None\n",
      "        Lamella: 1\n",
      "        \n",
      "\n",
      "        Lamella 1 (01-in-moth). \n",
      "        Lamella Coordinates: StagePosition(), \n",
      "        Landing Coordinates: StagePosition(), \n",
      "        Current Stage: AutoLiftoutStage.Landing,\n",
      "        History: 4 stages completed (['MillTrench', 'MillJCut', 'Liftout', 'Landing']).\n",
      "        \n",
      "Sample: \n",
      "        Path: test\\test-history-2022-10-05.07-08-25PM\n",
      "        State: None\n",
      "        Lamella: 1\n",
      "        \n",
      "\n",
      "        Lamella 1 (01-in-moth). \n",
      "        Lamella Coordinates: StagePosition(), \n",
      "        Landing Coordinates: StagePosition(), \n",
      "        Current Stage: AutoLiftoutStage.Reset,\n",
      "        History: 5 stages completed (['MillTrench', 'MillJCut', 'Liftout', 'Landing', 'Reset']).\n",
      "        \n",
      "['MillTrench', 'MillJCut', 'Liftout', 'Landing', 'Reset']\n",
      "--------------------------------------------------\n",
      "AutoLiftoutStage.Thinning\n",
      "Sample: \n",
      "        Path: test\\test-history-2022-10-05.07-08-25PM\n",
      "        State: None\n",
      "        Lamella: 1\n",
      "        \n",
      "\n",
      "        Lamella 1 (01-in-moth). \n",
      "        Lamella Coordinates: StagePosition(), \n",
      "        Landing Coordinates: StagePosition(), \n",
      "        Current Stage: AutoLiftoutStage.Reset,\n",
      "        History: 5 stages completed (['MillTrench', 'MillJCut', 'Liftout', 'Landing', 'Reset']).\n",
      "        \n",
      "Sample: \n",
      "        Path: test\\test-history-2022-10-05.07-08-25PM\n",
      "        State: None\n",
      "        Lamella: 1\n",
      "        \n",
      "\n",
      "        Lamella 1 (01-in-moth). \n",
      "        Lamella Coordinates: StagePosition(), \n",
      "        Landing Coordinates: StagePosition(), \n",
      "        Current Stage: AutoLiftoutStage.Thinning,\n",
      "        History: 6 stages completed (['MillTrench', 'MillJCut', 'Liftout', 'Landing', 'Reset', 'Thinning']).\n",
      "        \n",
      "['MillTrench', 'MillJCut', 'Liftout', 'Landing', 'Reset', 'Thinning']\n",
      "--------------------------------------------------\n",
      "AutoLiftoutStage.Polishing\n",
      "Sample: \n",
      "        Path: test\\test-history-2022-10-05.07-08-25PM\n",
      "        State: None\n",
      "        Lamella: 1\n",
      "        \n",
      "\n",
      "        Lamella 1 (01-in-moth). \n",
      "        Lamella Coordinates: StagePosition(), \n",
      "        Landing Coordinates: StagePosition(), \n",
      "        Current Stage: AutoLiftoutStage.Thinning,\n",
      "        History: 6 stages completed (['MillTrench', 'MillJCut', 'Liftout', 'Landing', 'Reset', 'Thinning']).\n",
      "        \n"
     ]
    },
    {
     "name": "stderr",
     "output_type": "stream",
     "text": [
      "2022-10-05 19:19:53,010 — root — INFO — end_of_stage_update:980 — 01-in-moth | AutoLiftoutStage.Finished | FINISHED\n",
      "2022-10-05 19:19:53,050 — root — INFO — end_of_stage_update:980 — 01-in-moth | AutoLiftoutStage.Failure | FINISHED\n"
     ]
    },
    {
     "name": "stdout",
     "output_type": "stream",
     "text": [
      "Sample: \n",
      "        Path: test\\test-history-2022-10-05.07-08-25PM\n",
      "        State: None\n",
      "        Lamella: 1\n",
      "        \n",
      "\n",
      "        Lamella 1 (01-in-moth). \n",
      "        Lamella Coordinates: StagePosition(), \n",
      "        Landing Coordinates: StagePosition(), \n",
      "        Current Stage: AutoLiftoutStage.Polishing,\n",
      "        History: 7 stages completed (['MillTrench', 'MillJCut', 'Liftout', 'Landing', 'Reset', 'Thinning', 'Polishing']).\n",
      "        \n",
      "['MillTrench',\n",
      " 'MillJCut',\n",
      " 'Liftout',\n",
      " 'Landing',\n",
      " 'Reset',\n",
      " 'Thinning',\n",
      " 'Polishing']\n",
      "--------------------------------------------------\n",
      "AutoLiftoutStage.Finished\n",
      "Sample: \n",
      "        Path: test\\test-history-2022-10-05.07-08-25PM\n",
      "        State: None\n",
      "        Lamella: 1\n",
      "        \n",
      "\n",
      "        Lamella 1 (01-in-moth). \n",
      "        Lamella Coordinates: StagePosition(), \n",
      "        Landing Coordinates: StagePosition(), \n",
      "        Current Stage: AutoLiftoutStage.Polishing,\n",
      "        History: 7 stages completed (['MillTrench', 'MillJCut', 'Liftout', 'Landing', 'Reset', 'Thinning', 'Polishing']).\n",
      "        \n",
      "Sample: \n",
      "        Path: test\\test-history-2022-10-05.07-08-25PM\n",
      "        State: None\n",
      "        Lamella: 1\n",
      "        \n",
      "\n",
      "        Lamella 1 (01-in-moth). \n",
      "        Lamella Coordinates: StagePosition(), \n",
      "        Landing Coordinates: StagePosition(), \n",
      "        Current Stage: AutoLiftoutStage.Finished,\n",
      "        History: 8 stages completed (['MillTrench', 'MillJCut', 'Liftout', 'Landing', 'Reset', 'Thinning', 'Polishing', 'Finished']).\n",
      "        \n",
      "['MillTrench',\n",
      " 'MillJCut',\n",
      " 'Liftout',\n",
      " 'Landing',\n",
      " 'Reset',\n",
      " 'Thinning',\n",
      " 'Polishing',\n",
      " 'Finished']\n",
      "--------------------------------------------------\n",
      "AutoLiftoutStage.Failure\n",
      "Sample: \n",
      "        Path: test\\test-history-2022-10-05.07-08-25PM\n",
      "        State: None\n",
      "        Lamella: 1\n",
      "        \n",
      "\n",
      "        Lamella 1 (01-in-moth). \n",
      "        Lamella Coordinates: StagePosition(), \n",
      "        Landing Coordinates: StagePosition(), \n",
      "        Current Stage: AutoLiftoutStage.Finished,\n",
      "        History: 8 stages completed (['MillTrench', 'MillJCut', 'Liftout', 'Landing', 'Reset', 'Thinning', 'Polishing', 'Finished']).\n",
      "        \n",
      "Sample: \n",
      "        Path: test\\test-history-2022-10-05.07-08-25PM\n",
      "        State: None\n",
      "        Lamella: 1\n",
      "        \n",
      "\n",
      "        Lamella 1 (01-in-moth). \n",
      "        Lamella Coordinates: StagePosition(), \n",
      "        Landing Coordinates: StagePosition(), \n",
      "        Current Stage: AutoLiftoutStage.Failure,\n",
      "        History: 9 stages completed (['MillTrench', 'MillJCut', 'Liftout', 'Landing', 'Reset', 'Thinning', 'Polishing', 'Finished', 'Failure']).\n",
      "        \n",
      "['MillTrench',\n",
      " 'MillJCut',\n",
      " 'Liftout',\n",
      " 'Landing',\n",
      " 'Reset',\n",
      " 'Thinning',\n",
      " 'Polishing',\n",
      " 'Finished',\n",
      " 'Failure']\n",
      "--------------------------------------------------\n"
     ]
    }
   ],
   "source": [
    "lamella = Lamella(sample.path, 1)\n",
    "sample = update_sample_lamella_data(sample, lamella)\n",
    "\n",
    "\n",
    "stages = [stage for stage in AutoLiftoutStage][2:]\n",
    "\n",
    "for stage in stages:\n",
    "    print(stage)\n",
    "    pprint(sample)\n",
    "    pprint(sample.positions[1])\n",
    "\n",
    "    lamella.current_state.stage = stage\n",
    "    sample = autoliftout.end_of_stage_update(microscope, sample, lamella, )\n",
    "    \n",
    "    pprint(sample)\n",
    "    pprint(sample.positions[1])\n",
    "    pprint([state.stage.name for state in sample.positions[1].history])\n",
    "    print(\"-\"*50)"
   ]
  },
  {
   "cell_type": "code",
   "execution_count": 25,
   "metadata": {},
   "outputs": [
    {
     "data": {
      "text/plain": [
       "[AutoLiftoutState(stage=<AutoLiftoutStage.MillTrench: 1>, microscope_state=MicroscopeState(timestamp=1664957992.78096, absolute_position=StagePosition(x=-0.015512917, y=0.052503333, z=0.023157247, t=0, r=0.8553286, coordinate_system=Raw), eb_settings=BeamSettings(beam_type=<BeamType.ELECTRON: 1>, working_distance=0.00495, beam_current=5e-11, hfw=4.9899091826437944e-05, resolution='1536x1024', dwell_time=1e-06), ib_settings=BeamSettings(beam_type=<BeamType.ION: 2>, working_distance=0.0165, beam_current=3e-11, hfw=0.00015, resolution='1536x1024', dwell_time=5e-07)), start_timestamp=None, end_timestamp=1664957992.792929),\n",
       " AutoLiftoutState(stage=<AutoLiftoutStage.MillJCut: 2>, microscope_state=MicroscopeState(timestamp=1664957992.802902, absolute_position=StagePosition(x=-0.015512917, y=0.052503333, z=0.023157247, t=0, r=0.8553286, coordinate_system=Raw), eb_settings=BeamSettings(beam_type=<BeamType.ELECTRON: 1>, working_distance=0.00495, beam_current=5e-11, hfw=4.9899091826437944e-05, resolution='1536x1024', dwell_time=1e-06), ib_settings=BeamSettings(beam_type=<BeamType.ION: 2>, working_distance=0.0165, beam_current=3e-11, hfw=0.00015, resolution='1536x1024', dwell_time=5e-07)), start_timestamp=None, end_timestamp=1664957992.817974),\n",
       " AutoLiftoutState(stage=<AutoLiftoutStage.Liftout: 3>, microscope_state=MicroscopeState(timestamp=1664957992.828946, absolute_position=StagePosition(x=-0.015512917, y=0.052503333, z=0.023157247, t=0, r=0.8553286, coordinate_system=Raw), eb_settings=BeamSettings(beam_type=<BeamType.ELECTRON: 1>, working_distance=0.00495, beam_current=5e-11, hfw=4.9899091826437944e-05, resolution='1536x1024', dwell_time=1e-06), ib_settings=BeamSettings(beam_type=<BeamType.ION: 2>, working_distance=0.0165, beam_current=3e-11, hfw=0.00015, resolution='1536x1024', dwell_time=5e-07)), start_timestamp=None, end_timestamp=1664957992.83892),\n",
       " AutoLiftoutState(stage=<AutoLiftoutStage.Landing: 4>, microscope_state=MicroscopeState(timestamp=1664957992.852881, absolute_position=StagePosition(x=-0.015512917, y=0.052503333, z=0.023157247, t=0, r=0.8553286, coordinate_system=Raw), eb_settings=BeamSettings(beam_type=<BeamType.ELECTRON: 1>, working_distance=0.00495, beam_current=5e-11, hfw=4.9899091826437944e-05, resolution='1536x1024', dwell_time=1e-06), ib_settings=BeamSettings(beam_type=<BeamType.ION: 2>, working_distance=0.0165, beam_current=3e-11, hfw=0.00015, resolution='1536x1024', dwell_time=5e-07)), start_timestamp=None, end_timestamp=1664957992.863851),\n",
       " AutoLiftoutState(stage=<AutoLiftoutStage.Reset: 5>, microscope_state=MicroscopeState(timestamp=1664957992.879809, absolute_position=StagePosition(x=-0.015512917, y=0.052503333, z=0.023157247, t=0, r=0.8553286, coordinate_system=Raw), eb_settings=BeamSettings(beam_type=<BeamType.ELECTRON: 1>, working_distance=0.00495, beam_current=5e-11, hfw=4.9899091826437944e-05, resolution='1536x1024', dwell_time=1e-06), ib_settings=BeamSettings(beam_type=<BeamType.ION: 2>, working_distance=0.0165, beam_current=3e-11, hfw=0.00015, resolution='1536x1024', dwell_time=5e-07)), start_timestamp=None, end_timestamp=1664957992.891777),\n",
       " AutoLiftoutState(stage=<AutoLiftoutStage.Thinning: 6>, microscope_state=MicroscopeState(timestamp=1664957992.910726, absolute_position=StagePosition(x=-0.015512917, y=0.052503333, z=0.023157247, t=0, r=0.8553286, coordinate_system=Raw), eb_settings=BeamSettings(beam_type=<BeamType.ELECTRON: 1>, working_distance=0.00495, beam_current=5e-11, hfw=4.9899091826437944e-05, resolution='1536x1024', dwell_time=1e-06), ib_settings=BeamSettings(beam_type=<BeamType.ION: 2>, working_distance=0.0165, beam_current=3e-11, hfw=0.00015, resolution='1536x1024', dwell_time=5e-07)), start_timestamp=None, end_timestamp=1664957992.917707),\n",
       " AutoLiftoutState(stage=<AutoLiftoutStage.Polishing: 7>, microscope_state=MicroscopeState(timestamp=1664957992.937654, absolute_position=StagePosition(x=-0.015512917, y=0.052503333, z=0.023157247, t=0, r=0.8553286, coordinate_system=Raw), eb_settings=BeamSettings(beam_type=<BeamType.ELECTRON: 1>, working_distance=0.00495, beam_current=5e-11, hfw=4.9899091826437944e-05, resolution='1536x1024', dwell_time=1e-06), ib_settings=BeamSettings(beam_type=<BeamType.ION: 2>, working_distance=0.0165, beam_current=3e-11, hfw=0.00015, resolution='1536x1024', dwell_time=5e-07)), start_timestamp=None, end_timestamp=1664957992.946631),\n",
       " AutoLiftoutState(stage=<AutoLiftoutStage.Finished: 8>, microscope_state=MicroscopeState(timestamp=1664957992.975552, absolute_position=StagePosition(x=-0.015512917, y=0.052503333, z=0.023157247, t=0, r=0.8553286, coordinate_system=Raw), eb_settings=BeamSettings(beam_type=<BeamType.ELECTRON: 1>, working_distance=0.00495, beam_current=5e-11, hfw=4.9899091826437944e-05, resolution='1536x1024', dwell_time=1e-06), ib_settings=BeamSettings(beam_type=<BeamType.ION: 2>, working_distance=0.0165, beam_current=3e-11, hfw=0.00015, resolution='1536x1024', dwell_time=5e-07)), start_timestamp=None, end_timestamp=1664957992.986522),\n",
       " AutoLiftoutState(stage=<AutoLiftoutStage.Failure: 99>, microscope_state=MicroscopeState(timestamp=1664957993.012454, absolute_position=StagePosition(x=-0.015512917, y=0.052503333, z=0.023157247, t=0, r=0.8553286, coordinate_system=Raw), eb_settings=BeamSettings(beam_type=<BeamType.ELECTRON: 1>, working_distance=0.00495, beam_current=5e-11, hfw=4.9899091826437944e-05, resolution='1536x1024', dwell_time=1e-06), ib_settings=BeamSettings(beam_type=<BeamType.ION: 2>, working_distance=0.0165, beam_current=3e-11, hfw=0.00015, resolution='1536x1024', dwell_time=5e-07)), start_timestamp=None, end_timestamp=1664957993.022429)]"
      ]
     },
     "execution_count": 25,
     "metadata": {},
     "output_type": "execute_result"
    }
   ],
   "source": []
  },
  {
   "cell_type": "code",
   "execution_count": null,
   "metadata": {},
   "outputs": [],
   "source": []
  }
 ],
 "metadata": {
  "kernelspec": {
   "display_name": "Python 3.9.12 ('liftout')",
   "language": "python",
   "name": "python3"
  },
  "language_info": {
   "codemirror_mode": {
    "name": "ipython",
    "version": 3
   },
   "file_extension": ".py",
   "mimetype": "text/x-python",
   "name": "python",
   "nbconvert_exporter": "python",
   "pygments_lexer": "ipython3",
   "version": "3.9.12"
  },
  "orig_nbformat": 4,
  "vscode": {
   "interpreter": {
    "hash": "5cb17a689ea48522a268bdcd61b0f399058cec9c1acbad013779623d1fd2c02a"
   }
  }
 },
 "nbformat": 4,
 "nbformat_minor": 2
}
