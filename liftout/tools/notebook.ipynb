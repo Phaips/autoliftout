{
 "cells": [
  {
   "cell_type": "markdown",
   "metadata": {},
   "source": [
    "# Log Parser Notebook\n",
    "Exploratory notebook for testing out parsing the logs for workflow statistics\n"
   ]
  },
  {
   "cell_type": "code",
   "execution_count": null,
   "metadata": {},
   "outputs": [],
   "source": [
    "%load_ext autoreload\n",
    "%autoreload 2\n",
    "import logging\n",
    "import datetime\n",
    "import time\n",
    "import glob\n",
    "\n",
    "import os\n",
    "filenames = sorted(glob.glob(os.path.join(os.path.dirname(os.getcwd()), \"log/run/**/*.log\")))\n",
    "\n",
    "# log_path = configure_logging(os.path.join(os.path.dirname(os.getcwd()), \"log/run/123456.789\"))"
   ]
  },
  {
   "cell_type": "code",
   "execution_count": null,
   "metadata": {},
   "outputs": [],
   "source": [
    "# TODO: better logs: https://www.toptal.com/python/in-depth-python-logging\n",
    "def configure_logging(save_path='', log_filename='logfile', log_level=logging.INFO):\n",
    "    \"\"\"Log to the terminal and to file simultaneously.\"\"\"\n",
    "    timestamp = datetime.datetime.fromtimestamp(time.time()).strftime(\n",
    "        '%Y%m%d.%H%M%S')  # datetime.now().strftime(\"_%Y-%m-%d_%H-%M-%S\")\n",
    "    logging.basicConfig(\n",
    "        format=\"%(asctime)s — %(name)s — %(levelname)s — %(funcName)s:%(lineno)d — %(message)s\", #\"%(asctime)s %(levelname)s %(message)s\",\n",
    "        level=log_level,\n",
    "        # Multiple handlers can be added to your logging configuration.\n",
    "        # By default log messages are appended to the file if it exists already\n",
    "        handlers=[\n",
    "            logging.FileHandler(save_path+'/'+log_filename+timestamp+'.log'),\n",
    "            logging.StreamHandler(),\n",
    "        ])\n",
    "    return save_path+'/'+log_filename+timestamp+'.log'\n"
   ]
  },
  {
   "cell_type": "markdown",
   "metadata": {},
   "source": [
    "### Fake Log Generator"
   ]
  },
  {
   "cell_type": "code",
   "execution_count": null,
   "metadata": {},
   "outputs": [],
   "source": [
    "import random\n",
    "# generate random log messages\n",
    "supported_feature_types = [\"image_centre\", \"lamella_centre\", \"needle_tip\", \"lamella_edge\", \"landing_post\"]\n",
    "for i in range(100):\n",
    "\n",
    "\n",
    "    RANDOM_NUM = random.randint(0, 5)\n",
    "\n",
    "    if RANDOM_NUM > 4:\n",
    "        feature_type = random.choice(supported_feature_types)\n",
    "        response = random.choice([True, False])\n",
    "        logging.info(f\"ml_detection: {feature_type}: {response}\")\n",
    "    elif RANDOM_NUM > 3:\n",
    "        diff = random.randint(-120, 120)\n",
    "        gam = random.random() * 2.0\n",
    "        logging.info(f\"gamma_correction: diff: {diff:.3f}: gam: {gam:.3f} \")\n",
    "    \n",
    "    else:\n",
    "        logging.info(f\"random other log message not with the same structure {random.random():.2f}\")\n"
   ]
  },
  {
   "cell_type": "markdown",
   "metadata": {},
   "source": [
    "## Log Parser"
   ]
  },
  {
   "cell_type": "code",
   "execution_count": null,
   "metadata": {},
   "outputs": [],
   "source": [
    "\n",
    "from LogParser import parse_log_file, plot_ml_data, plot_gamma_data\n",
    "from pprint import pprint\n",
    "\n",
    "filenames = sorted(glob.glob(os.path.join(os.path.dirname(os.getcwd()), \"log/run/**/*.log\")))\n",
    "log_path = filenames[-1]\n",
    "# log_path = r\"C:\\Users\\Admin\\Github\\autoliftout\\liftout\\log\\run\\20211020.155258\\logfile_20211020.155258.log\"\n",
    "log_path = r\"C:\\Users\\Admin\\Github\\autoliftout\\liftout\\log\\run\\20211027.160458/logfile_20211027.160458.log\"\n",
    "# log_path = r\"C:\\Users\\Admin\\Github\\autoliftout\\liftout\\log\\run\\20211027.165108/logfile_20211027.165108.log\"\n",
    "print(log_path)\n",
    "score_dict, gamma_dict, stage_dict = parse_log_file(log_path)\n",
    "pprint(score_dict)\n",
    "# pprint(gamma_dict)\n",
    "# pprint(stage_dict)"
   ]
  },
  {
   "cell_type": "markdown",
   "metadata": {},
   "source": [
    "## Machine Learning Evaluation"
   ]
  },
  {
   "cell_type": "code",
   "execution_count": null,
   "metadata": {},
   "outputs": [],
   "source": [
    "# eval\n",
    "import matplotlib.pyplot as plt\n",
    "%matplotlib inline\n",
    "\n",
    "# TODO: better plots and analysis\n",
    "\n",
    "plot_ml_data(score_dict)\n"
   ]
  },
  {
   "cell_type": "code",
   "execution_count": null,
   "metadata": {},
   "outputs": [],
   "source": [
    "plot_gamma_data(gamma_dict)"
   ]
  },
  {
   "cell_type": "markdown",
   "metadata": {},
   "source": [
    "## Gamma Correction Evaluation\n",
    "evaluate the average gamma correction\n"
   ]
  },
  {
   "cell_type": "code",
   "execution_count": null,
   "metadata": {},
   "outputs": [],
   "source": [
    "\n",
    "# pprint(gamma_dict)\n",
    "# df_gamma = pd.DataFrame(gamma_dict)\n",
    "# print(df_gamma)\n",
    "\n",
    "# df_gamma[\"gamma\"].plot.hist(bins=5, alpha=0.5, title=\"Gamma Correction Distribution\")"
   ]
  },
  {
   "cell_type": "markdown",
   "metadata": {},
   "source": [
    "### Status Evaluation"
   ]
  },
  {
   "cell_type": "code",
   "execution_count": null,
   "metadata": {},
   "outputs": [],
   "source": [
    "# pprint(stage_dict)\n",
    "\n",
    "state_duration_dict = {}\n",
    "for state in stage_dict.keys():\n",
    "#     print(stage_dict[state])\n",
    "    if stage_dict[state][\"FINISHED\"] and stage_dict[state][\"STARTED\"]:\n",
    "        state_duration = stage_dict[state][\"FINISHED\"] - stage_dict[state][\"STARTED\"]\n",
    "        print(f\"{state}: {state_duration}\") \n",
    "        state_duration_dict[state] = state_duration.total_seconds()\n",
    "        \n",
    "        \n",
    "import pandas as pd\n",
    "\n",
    "print(state_duration_dict)\n",
    "df = pd.DataFrame([state_duration_dict])\n",
    "df.plot.bar(title=\"State Duration\")"
   ]
  },
  {
   "cell_type": "code",
   "execution_count": null,
   "metadata": {},
   "outputs": [],
   "source": [
    "\n"
   ]
  },
  {
   "cell_type": "code",
   "execution_count": null,
   "metadata": {},
   "outputs": [],
   "source": []
  },
  {
   "cell_type": "code",
   "execution_count": null,
   "metadata": {},
   "outputs": [],
   "source": []
  },
  {
   "cell_type": "code",
   "execution_count": null,
   "metadata": {},
   "outputs": [],
   "source": []
  },
  {
   "cell_type": "code",
   "execution_count": null,
   "metadata": {},
   "outputs": [],
   "source": [
    "# TODO: read sample.yaml and plot the coordinates\n",
    "log_dir = r\"C:\\Users\\Admin\\Github\\autoliftout\\liftout\\log\\run\\20211027.160458\"\n",
    "yaml_file = os.path.join(log_dir, \"sample.yaml\")\n",
    "print(yaml_file)\n",
    "\n",
    "%matplotlib inline\n",
    "import yaml\n",
    "with open(yaml_file, 'r') as f:\n",
    "    sample_yaml = yaml.safe_load(f)\n",
    "\n",
    "\n",
    "for sample_no in sample_yaml[\"sample\"].keys():\n",
    "    lamella_coords = sample_yaml[\"sample\"][sample_no][\"lamella_coordinates\"]\n",
    "    x, y = lamella_coords[\"x\"], lamella_coords[\"y\"]\n",
    "    print(x, y)\n",
    "    plt.scatter(x, y, label=sample_no)\n",
    "\n",
    "plt.legend(loc=\"best\")\n",
    "plt.ylim(-0.005, 0)\n",
    "plt.xlim(0.002, 0.005)\n",
    "# plt.scatter(plot_coords_x, plot_coords_y, label=\"hello\")\n",
    "plt.show()"
   ]
  },
  {
   "cell_type": "markdown",
   "metadata": {},
   "source": [
    "# Extract data for labelling\n"
   ]
  },
  {
   "cell_type": "code",
   "execution_count": null,
   "metadata": {},
   "outputs": [],
   "source": [
    "from liftout.detection import utils"
   ]
  },
  {
   "cell_type": "code",
   "execution_count": null,
   "metadata": {},
   "outputs": [],
   "source": [
    "%matplotlib inline\n",
    "log_dir = os.path.dirname(os.path.dirname(log_path))\n",
    "utils.extract_img_for_labelling(log_dir)"
   ]
  },
  {
   "cell_type": "code",
   "execution_count": null,
   "metadata": {},
   "outputs": [],
   "source": []
  },
  {
   "cell_type": "markdown",
   "metadata": {},
   "source": [
    "# Report Generation\n",
    "Automatically generate a report summarising the liftout run\n"
   ]
  },
  {
   "cell_type": "code",
   "execution_count": 1,
   "metadata": {},
   "outputs": [
    {
     "name": "stdout",
     "output_type": "stream",
     "text": [
      "['/Users/patrickcleeve/Documents/university/bio/demarco/autoliftout/liftout/log/run/123456.789/logfile20211026.135808.log', '/Users/patrickcleeve/Documents/university/bio/demarco/autoliftout/liftout/log/run/123456.789/logfile20211026.175840.log', '/Users/patrickcleeve/Documents/university/bio/demarco/autoliftout/liftout/log/run/123456.789/logfile20211026.180929.log', '/Users/patrickcleeve/Documents/university/bio/demarco/autoliftout/liftout/log/run/123456.789/logfile20211026.181128.log', '/Users/patrickcleeve/Documents/university/bio/demarco/autoliftout/liftout/log/run/20211027.160458/logfile_20211027.160458.log']\n"
     ]
    }
   ],
   "source": [
    "import os\n",
    "import glob\n",
    "\n",
    "filenames = sorted(glob.glob(os.path.join(os.path.dirname(os.getcwd()), \"log/run/**/*.log\")))\n",
    "\n",
    "print(filenames)"
   ]
  },
  {
   "cell_type": "code",
   "execution_count": 11,
   "metadata": {},
   "outputs": [
    {
     "name": "stdout",
     "output_type": "stream",
     "text": [
      "   a  b  c\n",
      "0  1  2  3\n",
      "1  4  5  6\n",
      "2  7  8  9\n"
     ]
    },
    {
     "data": {
      "image/png": "[encoded data removed]",
      "text/plain": [
       "<Figure size 432x288 with 1 Axes>"
      ]
     },
     "metadata": {
      "needs_background": "light"
     },
     "output_type": "display_data"
    }
   ],
   "source": [
    "\n",
    "\n",
    "# https://www.justintodata.com/generate-reports-with-python/\n",
    "# https://www.xlwings.org/blog/reporting-with-python\n",
    "\n",
    "# CSS\n",
    "# https://pythonhow.com/python-tutorial/flask/Adding-CSS-styling-to-your-website/\n",
    "\n",
    "import matplotlib.pyplot as plt\n",
    "# import seaborn as sns\n",
    "import numpy as np\n",
    "\n",
    "import pandas as pd\n",
    "\n",
    "df = pd.DataFrame(np.array([[1, 2, 3], [4, 5, 6], [7, 8, 9]]),\n",
    "                   columns=['a', 'b', 'c'])\n",
    "\n",
    "print(df)\n",
    "\n",
    "xs = np.array([1, 2, 3, 4, 5, 6])\n",
    "ys = 2*xs\n",
    "plt.plot(xs, ys)\n",
    "# # sns.relplot(data=sp500_history[['Close', 'Close_200ma']], kind='line', height=3, aspect=2.0)\n",
    "plt.savefig('chart.png')\n",
    "# html report \n",
    "\n",
    "# 1. Set up multiple variables to store the titles, text within the report\n",
    "page_title_text='My report'\n",
    "title_text = 'Daily S&P 500 prices report'\n",
    "text = 'Hello, welcome to your report!'\n",
    "prices_text = 'Historical prices of S&P 500'\n",
    "stats_text = 'Historical prices summary statistics'\n",
    "\n",
    "\n",
    "# 2. Combine them together using a long f-string\n",
    "html = f'''\n",
    "    <html>\n",
    "        <head>\n",
    "            <title>{page_title_text}</title>\n",
    "        </head>\n",
    "        <body>\n",
    "            <h1>{title_text}</h1>\n",
    "            <p>{text}</p>\n",
    "            <img src='chart.png' width=\"700\">\n",
    "            <h2>{prices_text}</h2>\n",
    "            {df.to_html()}\n",
    "            <h2>{stats_text}</h2>\n",
    "            {df.describe().to_html()}\n",
    "        </body>\n",
    "    </html>\n",
    "    '''\n",
    "# 3. Write the html string as an HTML file\n",
    "with open('html_report.html', 'w') as f:\n",
    "    f.write(html)"
   ]
  },
  {
   "cell_type": "code",
   "execution_count": null,
   "metadata": {},
   "outputs": [],
   "source": []
  }
 ],
 "metadata": {
  "interpreter": {
   "hash": "80d3c5160377edce05faa4296a2895bfa812f63b1849e1d79e316b2e2d68124d"
  },
  "kernelspec": {
   "display_name": "Python 3.8.8 64-bit ('liftout': conda)",
   "name": "python3"
  },
  "language_info": {
   "codemirror_mode": {
    "name": "ipython",
    "version": 3
   },
   "file_extension": ".py",
   "mimetype": "text/x-python",
   "name": "python",
   "nbconvert_exporter": "python",
   "pygments_lexer": "ipython3",
   "version": "3.8.8"
  }
 },
 "nbformat": 4,
 "nbformat_minor": 2
}
