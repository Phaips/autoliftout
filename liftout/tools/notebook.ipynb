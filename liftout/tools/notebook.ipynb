{
 "cells": [
  {
   "cell_type": "markdown",
   "metadata": {},
   "source": [
    "# Log Parser Notebook\n",
    "Exploratory notebook for testing out parsing the logs for workflow statistics\n"
   ]
  },
  {
   "cell_type": "code",
   "execution_count": null,
   "metadata": {},
   "outputs": [],
   "source": [
    "%load_ext autoreload\n",
    "%autoreload 2\n",
    "import logging\n",
    "import datetime\n",
    "import time\n",
    "import glob\n",
    "\n",
    "import os\n",
    "filenames = sorted(glob.glob(os.path.join(os.path.dirname(os.getcwd()), \"log/run/**/*.log\")))\n",
    "\n",
    "# log_path = configure_logging(os.path.join(os.path.dirname(os.getcwd()), \"log/run/123456.789\"))"
   ]
  },
  {
   "cell_type": "code",
   "execution_count": null,
   "metadata": {},
   "outputs": [],
   "source": [
    "# TODO: better logs: https://www.toptal.com/python/in-depth-python-logging\n",
    "def configure_logging(save_path='', log_filename='logfile', log_level=logging.INFO):\n",
    "    \"\"\"Log to the terminal and to file simultaneously.\"\"\"\n",
    "    timestamp = datetime.datetime.fromtimestamp(time.time()).strftime(\n",
    "        '%Y%m%d.%H%M%S')  # datetime.now().strftime(\"_%Y-%m-%d_%H-%M-%S\")\n",
    "    logging.basicConfig(\n",
    "        format=\"%(asctime)s — %(name)s — %(levelname)s — %(funcName)s:%(lineno)d — %(message)s\", #\"%(asctime)s %(levelname)s %(message)s\",\n",
    "        level=log_level,\n",
    "        # Multiple handlers can be added to your logging configuration.\n",
    "        # By default log messages are appended to the file if it exists already\n",
    "        handlers=[\n",
    "            logging.FileHandler(save_path+'/'+log_filename+timestamp+'.log'),\n",
    "            logging.StreamHandler(),\n",
    "        ])\n",
    "    return save_path+'/'+log_filename+timestamp+'.log'\n"
   ]
  },
  {
   "cell_type": "markdown",
   "metadata": {},
   "source": [
    "### Fake Log Generator"
   ]
  },
  {
   "cell_type": "code",
   "execution_count": null,
   "metadata": {},
   "outputs": [],
   "source": [
    "import random\n",
    "# generate random log messages\n",
    "supported_feature_types = [\"image_centre\", \"lamella_centre\", \"needle_tip\", \"lamella_edge\", \"landing_post\"]\n",
    "for i in range(100):\n",
    "\n",
    "\n",
    "    RANDOM_NUM = random.randint(0, 5)\n",
    "\n",
    "    if RANDOM_NUM > 4:\n",
    "        feature_type = random.choice(supported_feature_types)\n",
    "        response = random.choice([True, False])\n",
    "        logging.info(f\"ml_detection: {feature_type}: {response}\")\n",
    "    elif RANDOM_NUM > 3:\n",
    "        diff = random.randint(-120, 120)\n",
    "        gam = random.random() * 2.0\n",
    "        logging.info(f\"gamma_correction: diff: {diff:.3f}: gam: {gam:.3f} \")\n",
    "    \n",
    "    else:\n",
    "        logging.info(f\"random other log message not with the same structure {random.random():.2f}\")\n"
   ]
  },
  {
   "cell_type": "markdown",
   "metadata": {},
   "source": [
    "## Log Parser"
   ]
  },
  {
   "cell_type": "code",
   "execution_count": 37,
   "metadata": {},
   "outputs": [
    {
     "name": "stdout",
     "output_type": "stream",
     "text": [
      "C:\\Users\\Admin\\Github\\autoliftout\\liftout\\log\\run\\20211020.155258\\logfile_20211020.155258.log\n",
      "2021-10-20 15:52:58 2021-10-20 15:52:58 Initialisation STARTED\n",
      "2021-10-20 15:52:58 2021-10-20 15:52:58 Initialisation FINISHED\n",
      "2021-10-20 15:53:09 2021-10-20 15:53:09 Setup STARTED\n",
      "2021-10-20 16:01:04 2021-10-20 16:01:04 Setup FINISHED\n",
      "Perform Milling: True\n",
      "2021-10-20 16:02:01 2021-10-20 16:02:01 Milling STARTED\n",
      "Perform Liftout: True\n",
      "2021-10-20 16:18:15 2021-10-20 16:18:15 Liftout STARTED\n",
      "Perform Landing: True\n",
      "Perform Reset: True\n",
      "2021-10-20 16:46:13 2021-10-20 16:46:13 Reset FINISHED\n",
      "Perform Thinning: True\n",
      "{'image_centre': {'False': 0, 'True': 0},\n",
      " 'lamella_centre': {'False': 0, 'True': 0},\n",
      " 'lamella_edge': {'False': 0, 'True': 0},\n",
      " 'landing_post': {'False': 0, 'True': 0},\n",
      " 'needle_tip': {'False': 0, 'True': 0}}\n",
      "{'diff': [], 'gamma': []}\n",
      "{'Finished': {'FINISHED': None, 'STARTED': None},\n",
      " 'Initialisation': {'FINISHED': datetime.datetime(2021, 10, 20, 15, 52, 58),\n",
      "                    'STARTED': datetime.datetime(2021, 10, 20, 15, 52, 58)},\n",
      " 'Landing': {'FINISHED': None, 'STARTED': None},\n",
      " 'Liftout': {'FINISHED': None,\n",
      "             'STARTED': datetime.datetime(2021, 10, 20, 16, 18, 15)},\n",
      " 'Milling': {'FINISHED': None,\n",
      "             'STARTED': datetime.datetime(2021, 10, 20, 16, 2, 1)},\n",
      " 'Reset': {'FINISHED': datetime.datetime(2021, 10, 20, 16, 46, 13),\n",
      "           'STARTED': None},\n",
      " 'Setup': {'FINISHED': datetime.datetime(2021, 10, 20, 16, 1, 4),\n",
      "           'STARTED': datetime.datetime(2021, 10, 20, 15, 53, 9)},\n",
      " 'Thinning': {'FINISHED': None, 'STARTED': None}}\n"
     ]
    }
   ],
   "source": [
    "\n",
    "from LogParser import parse_log_file, plot_ml_data, plot_gamma_data\n",
    "from pprint import pprint\n",
    "\n",
    "filenames = sorted(glob.glob(os.path.join(os.path.dirname(os.getcwd()), \"log/run/**/*.log\")))\n",
    "log_path = filenames[-1]\n",
    "log_path = r\"C:\\Users\\Admin\\Github\\autoliftout\\liftout\\log\\run\\20211020.155258\\logfile_20211020.155258.log\"\n",
    "print(log_path)\n",
    "score_dict, gamma_dict, stage_dict = parse_log_file(log_path)\n",
    "pprint(score_dict)\n",
    "pprint(gamma_dict)\n",
    "pprint(stage_dict)"
   ]
  },
  {
   "cell_type": "markdown",
   "metadata": {},
   "source": [
    "## Machine Learning Evaluation"
   ]
  },
  {
   "cell_type": "code",
   "execution_count": 35,
   "metadata": {},
   "outputs": [
    {
     "data": {
      "text/plain": [
       "<matplotlib.axes._subplots.AxesSubplot at 0x25997229748>"
      ]
     },
     "execution_count": 35,
     "metadata": {},
     "output_type": "execute_result"
    },
    {
     "data": {
      "image/png": "[encoded data removed]",
      "text/plain": [
       "<Figure size 432x288 with 1 Axes>"
      ]
     },
     "metadata": {
      "needs_background": "light"
     },
     "output_type": "display_data"
    }
   ],
   "source": [
    "# eval\n",
    "import matplotlib.pyplot as plt\n",
    "%matplotlib inline\n",
    "\n",
    "# TODO: better plots and analysis\n",
    "\n",
    "plot_ml_data(score_dict)\n"
   ]
  },
  {
   "cell_type": "code",
   "execution_count": 36,
   "metadata": {},
   "outputs": [
    {
     "data": {
      "text/plain": [
       "<matplotlib.axes._subplots.AxesSubplot at 0x25996aad4a8>"
      ]
     },
     "execution_count": 36,
     "metadata": {},
     "output_type": "execute_result"
    },
    {
     "data": {
      "image/png": "[encoded data removed]",
      "text/plain": [
       "<Figure size 432x288 with 1 Axes>"
      ]
     },
     "metadata": {
      "needs_background": "light"
     },
     "output_type": "display_data"
    }
   ],
   "source": [
    "plot_gamma_data(gamma_dict)"
   ]
  },
  {
   "cell_type": "markdown",
   "metadata": {},
   "source": [
    "## Gamma Correction Evaluation\n",
    "evaluate the average gamma correction\n"
   ]
  },
  {
   "cell_type": "code",
   "execution_count": null,
   "metadata": {},
   "outputs": [],
   "source": [
    "\n",
    "# pprint(gamma_dict)\n",
    "# df_gamma = pd.DataFrame(gamma_dict)\n",
    "# print(df_gamma)\n",
    "\n",
    "# df_gamma[\"gamma\"].plot.hist(bins=5, alpha=0.5, title=\"Gamma Correction Distribution\")"
   ]
  },
  {
   "cell_type": "markdown",
   "metadata": {},
   "source": [
    "### Status Evaluation"
   ]
  },
  {
   "cell_type": "code",
   "execution_count": 39,
   "metadata": {},
   "outputs": [
    {
     "name": "stdout",
     "output_type": "stream",
     "text": [
      "Initialisation: 0:00:00\n",
      "Setup: 0:07:55\n"
     ]
    }
   ],
   "source": [
    "# pprint(stage_dict)\n",
    "\n",
    "for state in stage_dict.keys():\n",
    "    \n",
    "    if stage_dict[state][\"FINISHED\"] and stage_dict[state][\"STARTED\"]:\n",
    "        state_duration = stage_dict[state][\"FINISHED\"] - stage_dict[state][\"STARTED\"]\n",
    "        print(f\"{state}: {state_duration}\") "
   ]
  },
  {
   "cell_type": "code",
   "execution_count": null,
   "metadata": {},
   "outputs": [],
   "source": []
  }
 ],
 "metadata": {
  "interpreter": {
   "hash": "80d3c5160377edce05faa4296a2895bfa812f63b1849e1d79e316b2e2d68124d"
  },
  "kernelspec": {
   "display_name": "Python 3",
   "language": "python",
   "name": "python3"
  },
  "language_info": {
   "codemirror_mode": {
    "name": "ipython",
    "version": 3
   },
   "file_extension": ".py",
   "mimetype": "text/x-python",
   "name": "python",
   "nbconvert_exporter": "python",
   "pygments_lexer": "ipython3",
   "version": "3.6.7"
  }
 },
 "nbformat": 4,
 "nbformat_minor": 2
}
