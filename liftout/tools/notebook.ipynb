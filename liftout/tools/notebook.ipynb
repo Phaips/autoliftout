{
 "cells": [
  {
   "cell_type": "markdown",
   "metadata": {},
   "source": [
    "# Log Parser Notebook\n",
    "Exploratory notebook for testing out parsing the logs for workflow statistics\n"
   ]
  },
  {
   "cell_type": "code",
   "execution_count": 1,
   "metadata": {},
   "outputs": [],
   "source": [
    "import logging\n",
    "import datetime\n",
    "import time\n",
    "\n",
    "# TODO: better logs: https://www.toptal.com/python/in-depth-python-logging\n",
    "def configure_logging(save_path='', log_filename='logfile', log_level=logging.INFO):\n",
    "    \"\"\"Log to the terminal and to file simultaneously.\"\"\"\n",
    "    timestamp = datetime.datetime.fromtimestamp(time.time()).strftime(\n",
    "        '%Y%m%d.%H%M%S')  # datetime.now().strftime(\"_%Y-%m-%d_%H-%M-%S\")\n",
    "    logging.basicConfig(\n",
    "        format=\"%(asctime)s — %(name)s — %(levelname)s — %(funcName)s:%(lineno)d — %(message)s\", #\"%(asctime)s %(levelname)s %(message)s\",\n",
    "        level=log_level,\n",
    "        # Multiple handlers can be added to your logging configuration.\n",
    "        # By default log messages are appended to the file if it exists already\n",
    "        handlers=[\n",
    "            logging.FileHandler(save_path+'/'+log_filename+timestamp+'.log'),\n",
    "            logging.StreamHandler(),\n",
    "        ])\n",
    "    return save_path+'/'+log_filename+timestamp+'.log'\n",
    "\n",
    "\n",
    "import os\n",
    "log_path = configure_logging(os.path.join(os.path.dirname(os.getcwd()), \"log/run/123456.789\"))"
   ]
  },
  {
   "cell_type": "markdown",
   "metadata": {},
   "source": [
    "### Fake Log Generator"
   ]
  },
  {
   "cell_type": "code",
   "execution_count": 2,
   "metadata": {},
   "outputs": [
    {
     "name": "stderr",
     "output_type": "stream",
     "text": [
      "2021-10-26 18:11:28,549 — root — INFO — <module>:19 — random other log message not with the same structure 0.63\n",
      "2021-10-26 18:11:28,551 — root — INFO — <module>:19 — random other log message not with the same structure 0.95\n",
      "2021-10-26 18:11:28,552 — root — INFO — <module>:19 — random other log message not with the same structure 0.89\n",
      "2021-10-26 18:11:28,553 — root — INFO — <module>:12 — ml_detection: image_centre: True\n",
      "2021-10-26 18:11:28,553 — root — INFO — <module>:19 — random other log message not with the same structure 0.20\n",
      "2021-10-26 18:11:28,554 — root — INFO — <module>:19 — random other log message not with the same structure 0.47\n",
      "2021-10-26 18:11:28,555 — root — INFO — <module>:19 — random other log message not with the same structure 0.77\n",
      "2021-10-26 18:11:28,555 — root — INFO — <module>:16 — gamma_correction: diff: 81.000: gam: 1.470 \n",
      "2021-10-26 18:11:28,557 — root — INFO — <module>:19 — random other log message not with the same structure 0.37\n",
      "2021-10-26 18:11:28,558 — root — INFO — <module>:19 — random other log message not with the same structure 0.86\n",
      "2021-10-26 18:11:28,559 — root — INFO — <module>:16 — gamma_correction: diff: -65.000: gam: 1.508 \n",
      "2021-10-26 18:11:28,560 — root — INFO — <module>:19 — random other log message not with the same structure 0.63\n",
      "2021-10-26 18:11:28,562 — root — INFO — <module>:19 — random other log message not with the same structure 0.27\n",
      "2021-10-26 18:11:28,563 — root — INFO — <module>:19 — random other log message not with the same structure 0.48\n",
      "2021-10-26 18:11:28,564 — root — INFO — <module>:19 — random other log message not with the same structure 0.57\n",
      "2021-10-26 18:11:28,565 — root — INFO — <module>:19 — random other log message not with the same structure 0.95\n",
      "2021-10-26 18:11:28,566 — root — INFO — <module>:19 — random other log message not with the same structure 0.72\n",
      "2021-10-26 18:11:28,567 — root — INFO — <module>:16 — gamma_correction: diff: -85.000: gam: 1.965 \n",
      "2021-10-26 18:11:28,568 — root — INFO — <module>:19 — random other log message not with the same structure 0.46\n",
      "2021-10-26 18:11:28,569 — root — INFO — <module>:16 — gamma_correction: diff: 114.000: gam: 1.784 \n",
      "2021-10-26 18:11:28,570 — root — INFO — <module>:16 — gamma_correction: diff: 60.000: gam: 1.647 \n",
      "2021-10-26 18:11:28,571 — root — INFO — <module>:19 — random other log message not with the same structure 0.46\n",
      "2021-10-26 18:11:28,571 — root — INFO — <module>:12 — ml_detection: landing_post: False\n",
      "2021-10-26 18:11:28,572 — root — INFO — <module>:12 — ml_detection: landing_post: True\n",
      "2021-10-26 18:11:28,573 — root — INFO — <module>:19 — random other log message not with the same structure 0.64\n",
      "2021-10-26 18:11:28,574 — root — INFO — <module>:16 — gamma_correction: diff: -6.000: gam: 0.753 \n",
      "2021-10-26 18:11:28,575 — root — INFO — <module>:19 — random other log message not with the same structure 0.97\n",
      "2021-10-26 18:11:28,576 — root — INFO — <module>:16 — gamma_correction: diff: -100.000: gam: 0.427 \n",
      "2021-10-26 18:11:28,576 — root — INFO — <module>:19 — random other log message not with the same structure 0.28\n",
      "2021-10-26 18:11:28,578 — root — INFO — <module>:19 — random other log message not with the same structure 0.44\n",
      "2021-10-26 18:11:28,579 — root — INFO — <module>:19 — random other log message not with the same structure 0.38\n",
      "2021-10-26 18:11:28,580 — root — INFO — <module>:12 — ml_detection: lamella_edge: True\n",
      "2021-10-26 18:11:28,581 — root — INFO — <module>:19 — random other log message not with the same structure 0.13\n",
      "2021-10-26 18:11:28,583 — root — INFO — <module>:19 — random other log message not with the same structure 0.07\n",
      "2021-10-26 18:11:28,584 — root — INFO — <module>:19 — random other log message not with the same structure 0.27\n",
      "2021-10-26 18:11:28,586 — root — INFO — <module>:19 — random other log message not with the same structure 0.15\n",
      "2021-10-26 18:11:28,587 — root — INFO — <module>:19 — random other log message not with the same structure 0.35\n",
      "2021-10-26 18:11:28,588 — root — INFO — <module>:19 — random other log message not with the same structure 0.04\n",
      "2021-10-26 18:11:28,589 — root — INFO — <module>:19 — random other log message not with the same structure 0.83\n",
      "2021-10-26 18:11:28,591 — root — INFO — <module>:19 — random other log message not with the same structure 0.10\n",
      "2021-10-26 18:11:28,592 — root — INFO — <module>:16 — gamma_correction: diff: -29.000: gam: 0.199 \n",
      "2021-10-26 18:11:28,593 — root — INFO — <module>:19 — random other log message not with the same structure 0.50\n",
      "2021-10-26 18:11:28,595 — root — INFO — <module>:19 — random other log message not with the same structure 0.81\n",
      "2021-10-26 18:11:28,596 — root — INFO — <module>:19 — random other log message not with the same structure 0.74\n",
      "2021-10-26 18:11:28,597 — root — INFO — <module>:12 — ml_detection: needle_tip: False\n",
      "2021-10-26 18:11:28,598 — root — INFO — <module>:19 — random other log message not with the same structure 0.45\n",
      "2021-10-26 18:11:28,599 — root — INFO — <module>:16 — gamma_correction: diff: 18.000: gam: 1.354 \n",
      "2021-10-26 18:11:28,601 — root — INFO — <module>:19 — random other log message not with the same structure 0.51\n",
      "2021-10-26 18:11:28,602 — root — INFO — <module>:19 — random other log message not with the same structure 0.91\n",
      "2021-10-26 18:11:28,603 — root — INFO — <module>:12 — ml_detection: lamella_centre: True\n",
      "2021-10-26 18:11:28,604 — root — INFO — <module>:19 — random other log message not with the same structure 0.72\n",
      "2021-10-26 18:11:28,605 — root — INFO — <module>:19 — random other log message not with the same structure 0.94\n",
      "2021-10-26 18:11:28,606 — root — INFO — <module>:16 — gamma_correction: diff: 61.000: gam: 1.066 \n",
      "2021-10-26 18:11:28,607 — root — INFO — <module>:12 — ml_detection: landing_post: True\n",
      "2021-10-26 18:11:28,608 — root — INFO — <module>:19 — random other log message not with the same structure 0.07\n",
      "2021-10-26 18:11:28,609 — root — INFO — <module>:19 — random other log message not with the same structure 0.96\n",
      "2021-10-26 18:11:28,610 — root — INFO — <module>:16 — gamma_correction: diff: -82.000: gam: 0.347 \n",
      "2021-10-26 18:11:28,611 — root — INFO — <module>:19 — random other log message not with the same structure 0.93\n",
      "2021-10-26 18:11:28,611 — root — INFO — <module>:19 — random other log message not with the same structure 0.81\n",
      "2021-10-26 18:11:28,612 — root — INFO — <module>:19 — random other log message not with the same structure 0.76\n",
      "2021-10-26 18:11:28,612 — root — INFO — <module>:16 — gamma_correction: diff: -43.000: gam: 0.150 \n",
      "2021-10-26 18:11:28,613 — root — INFO — <module>:19 — random other log message not with the same structure 0.74\n",
      "2021-10-26 18:11:28,614 — root — INFO — <module>:19 — random other log message not with the same structure 0.75\n",
      "2021-10-26 18:11:28,614 — root — INFO — <module>:19 — random other log message not with the same structure 0.02\n",
      "2021-10-26 18:11:28,615 — root — INFO — <module>:19 — random other log message not with the same structure 0.07\n",
      "2021-10-26 18:11:28,616 — root — INFO — <module>:19 — random other log message not with the same structure 0.84\n",
      "2021-10-26 18:11:28,617 — root — INFO — <module>:19 — random other log message not with the same structure 0.47\n",
      "2021-10-26 18:11:28,617 — root — INFO — <module>:19 — random other log message not with the same structure 0.80\n",
      "2021-10-26 18:11:28,618 — root — INFO — <module>:19 — random other log message not with the same structure 0.66\n",
      "2021-10-26 18:11:28,619 — root — INFO — <module>:19 — random other log message not with the same structure 0.42\n",
      "2021-10-26 18:11:28,619 — root — INFO — <module>:19 — random other log message not with the same structure 0.78\n",
      "2021-10-26 18:11:28,620 — root — INFO — <module>:19 — random other log message not with the same structure 0.36\n",
      "2021-10-26 18:11:28,621 — root — INFO — <module>:19 — random other log message not with the same structure 0.86\n",
      "2021-10-26 18:11:28,621 — root — INFO — <module>:19 — random other log message not with the same structure 0.45\n",
      "2021-10-26 18:11:28,622 — root — INFO — <module>:19 — random other log message not with the same structure 1.00\n",
      "2021-10-26 18:11:28,623 — root — INFO — <module>:12 — ml_detection: landing_post: False\n",
      "2021-10-26 18:11:28,624 — root — INFO — <module>:19 — random other log message not with the same structure 0.09\n",
      "2021-10-26 18:11:28,625 — root — INFO — <module>:19 — random other log message not with the same structure 0.65\n",
      "2021-10-26 18:11:28,627 — root — INFO — <module>:16 — gamma_correction: diff: -80.000: gam: 0.352 \n",
      "2021-10-26 18:11:28,628 — root — INFO — <module>:19 — random other log message not with the same structure 0.45\n",
      "2021-10-26 18:11:28,629 — root — INFO — <module>:19 — random other log message not with the same structure 0.18\n",
      "2021-10-26 18:11:28,630 — root — INFO — <module>:19 — random other log message not with the same structure 0.75\n",
      "2021-10-26 18:11:28,631 — root — INFO — <module>:19 — random other log message not with the same structure 0.65\n",
      "2021-10-26 18:11:28,632 — root — INFO — <module>:12 — ml_detection: image_centre: False\n",
      "2021-10-26 18:11:28,633 — root — INFO — <module>:19 — random other log message not with the same structure 0.19\n",
      "2021-10-26 18:11:28,634 — root — INFO — <module>:19 — random other log message not with the same structure 0.03\n",
      "2021-10-26 18:11:28,635 — root — INFO — <module>:19 — random other log message not with the same structure 0.92\n",
      "2021-10-26 18:11:28,636 — root — INFO — <module>:12 — ml_detection: landing_post: True\n",
      "2021-10-26 18:11:28,637 — root — INFO — <module>:19 — random other log message not with the same structure 0.83\n",
      "2021-10-26 18:11:28,639 — root — INFO — <module>:19 — random other log message not with the same structure 0.16\n",
      "2021-10-26 18:11:28,639 — root — INFO — <module>:12 — ml_detection: landing_post: True\n",
      "2021-10-26 18:11:28,640 — root — INFO — <module>:12 — ml_detection: needle_tip: True\n",
      "2021-10-26 18:11:28,641 — root — INFO — <module>:12 — ml_detection: lamella_centre: True\n",
      "2021-10-26 18:11:28,642 — root — INFO — <module>:19 — random other log message not with the same structure 0.20\n",
      "2021-10-26 18:11:28,643 — root — INFO — <module>:19 — random other log message not with the same structure 0.35\n",
      "2021-10-26 18:11:28,644 — root — INFO — <module>:19 — random other log message not with the same structure 0.83\n",
      "2021-10-26 18:11:28,645 — root — INFO — <module>:19 — random other log message not with the same structure 0.65\n",
      "2021-10-26 18:11:28,646 — root — INFO — <module>:19 — random other log message not with the same structure 0.85\n",
      "2021-10-26 18:11:28,647 — root — INFO — <module>:12 — ml_detection: image_centre: False\n",
      "2021-10-26 18:11:28,648 — root — INFO — <module>:19 — random other log message not with the same structure 0.17\n"
     ]
    }
   ],
   "source": [
    "import random\n",
    "# generate random log messages\n",
    "supported_feature_types = [\"image_centre\", \"lamella_centre\", \"needle_tip\", \"lamella_edge\", \"landing_post\"]\n",
    "for i in range(100):\n",
    "\n",
    "\n",
    "    RANDOM_NUM = random.randint(0, 5)\n",
    "\n",
    "    if RANDOM_NUM > 4:\n",
    "        feature_type = random.choice(supported_feature_types)\n",
    "        response = random.choice([True, False])\n",
    "        logging.info(f\"ml_detection: {feature_type}: {response}\")\n",
    "    elif RANDOM_NUM > 3:\n",
    "        diff = random.randint(-120, 120)\n",
    "        gam = random.random() * 2.0\n",
    "        logging.info(f\"gamma_correction: diff: {diff:.3f}: gam: {gam:.3f} \")\n",
    "    \n",
    "    else:\n",
    "        logging.info(f\"random other log message not with the same structure {random.random():.2f}\")\n"
   ]
  },
  {
   "cell_type": "markdown",
   "metadata": {},
   "source": [
    "## Log Parser"
   ]
  },
  {
   "cell_type": "code",
   "execution_count": 3,
   "metadata": {},
   "outputs": [
    {
     "name": "stdout",
     "output_type": "stream",
     "text": [
      "{'image_centre': {'False': 2, 'True': 1},\n",
      " 'lamella_centre': {'False': 0, 'True': 2},\n",
      " 'lamella_edge': {'False': 0, 'True': 1},\n",
      " 'landing_post': {'False': 2, 'True': 4},\n",
      " 'needle_tip': {'False': 1, 'True': 1}}\n",
      "{'diff': [81.0,\n",
      "          -65.0,\n",
      "          -85.0,\n",
      "          114.0,\n",
      "          60.0,\n",
      "          -6.0,\n",
      "          -100.0,\n",
      "          -29.0,\n",
      "          18.0,\n",
      "          61.0,\n",
      "          -82.0,\n",
      "          -43.0,\n",
      "          -80.0],\n",
      " 'gamma': [1.47,\n",
      "           1.508,\n",
      "           1.965,\n",
      "           1.784,\n",
      "           1.647,\n",
      "           0.753,\n",
      "           0.427,\n",
      "           0.199,\n",
      "           1.354,\n",
      "           1.066,\n",
      "           0.347,\n",
      "           0.15,\n",
      "           0.352]}\n"
     ]
    }
   ],
   "source": [
    "from LogParser import parse_log_file, plot_ml_data, plot_gamma_data\n",
    "from pprint import pprint\n",
    "\n",
    "score_dict, gamma_dict = parse_log_file(log_path)\n",
    "pprint(score_dict)\n",
    "pprint(gamma_dict)\n"
   ]
  },
  {
   "cell_type": "markdown",
   "metadata": {},
   "source": [
    "## Machine Learning Evaluation"
   ]
  },
  {
   "cell_type": "code",
   "execution_count": 7,
   "metadata": {},
   "outputs": [
    {
     "data": {
      "image/png": "[encoded data removed]",
      "text/plain": [
       "<Figure size 432x288 with 1 Axes>"
      ]
     },
     "metadata": {
      "needs_background": "light"
     },
     "output_type": "display_data"
    }
   ],
   "source": [
    "# eval\n",
    "\n",
    "fig = plot_ml_data(score_dict)\n"
   ]
  },
  {
   "cell_type": "code",
   "execution_count": 9,
   "metadata": {},
   "outputs": [
    {
     "data": {
      "text/plain": [
       "<AxesSubplot:title={'center':'Gamma Correction Distribution'}, ylabel='Frequency'>"
      ]
     },
     "execution_count": 9,
     "metadata": {},
     "output_type": "execute_result"
    },
    {
     "data": {
      "image/png": "[encoded data removed]",
      "text/plain": [
       "<Figure size 432x288 with 1 Axes>"
      ]
     },
     "metadata": {
      "needs_background": "light"
     },
     "output_type": "display_data"
    }
   ],
   "source": [
    "plot_gamma_data(gamma_dict)"
   ]
  },
  {
   "cell_type": "markdown",
   "metadata": {},
   "source": [
    "## Gamma Correction Evaluation\n",
    "evaluate the average gamma correction\n"
   ]
  },
  {
   "cell_type": "code",
   "execution_count": 6,
   "metadata": {},
   "outputs": [
    {
     "ename": "NameError",
     "evalue": "name 'df_gamma' is not defined",
     "output_type": "error",
     "traceback": [
      "\u001b[0;31m---------------------------------------------------------------------------\u001b[0m",
      "\u001b[0;31mNameError\u001b[0m                                 Traceback (most recent call last)",
      "\u001b[0;32m<ipython-input-6-82d2c26ed882>\u001b[0m in \u001b[0;36m<module>\u001b[0;34m\u001b[0m\n\u001b[1;32m      3\u001b[0m \u001b[0;31m# print(df_gamma)\u001b[0m\u001b[0;34m\u001b[0m\u001b[0;34m\u001b[0m\u001b[0;34m\u001b[0m\u001b[0m\n\u001b[1;32m      4\u001b[0m \u001b[0;34m\u001b[0m\u001b[0m\n\u001b[0;32m----> 5\u001b[0;31m \u001b[0mdf_gamma\u001b[0m\u001b[0;34m[\u001b[0m\u001b[0;34m\"gamma\"\u001b[0m\u001b[0;34m]\u001b[0m\u001b[0;34m.\u001b[0m\u001b[0mplot\u001b[0m\u001b[0;34m.\u001b[0m\u001b[0mhist\u001b[0m\u001b[0;34m(\u001b[0m\u001b[0mbins\u001b[0m\u001b[0;34m=\u001b[0m\u001b[0;36m5\u001b[0m\u001b[0;34m,\u001b[0m \u001b[0malpha\u001b[0m\u001b[0;34m=\u001b[0m\u001b[0;36m0.5\u001b[0m\u001b[0;34m,\u001b[0m \u001b[0mtitle\u001b[0m\u001b[0;34m=\u001b[0m\u001b[0;34m\"Gamma Correction Distribution\"\u001b[0m\u001b[0;34m)\u001b[0m\u001b[0;34m\u001b[0m\u001b[0;34m\u001b[0m\u001b[0m\n\u001b[0m",
      "\u001b[0;31mNameError\u001b[0m: name 'df_gamma' is not defined"
     ]
    }
   ],
   "source": [
    "\n",
    "# pprint(gamma_dict)\n",
    "# df_gamma = pd.DataFrame(gamma_dict)\n",
    "# print(df_gamma)\n",
    "\n",
    "# df_gamma[\"gamma\"].plot.hist(bins=5, alpha=0.5, title=\"Gamma Correction Distribution\")"
   ]
  },
  {
   "cell_type": "code",
   "execution_count": null,
   "metadata": {},
   "outputs": [],
   "source": []
  }
 ],
 "metadata": {
  "interpreter": {
   "hash": "80d3c5160377edce05faa4296a2895bfa812f63b1849e1d79e316b2e2d68124d"
  },
  "kernelspec": {
   "display_name": "Python 3.8.8 64-bit ('liftout': conda)",
   "name": "python3"
  },
  "language_info": {
   "codemirror_mode": {
    "name": "ipython",
    "version": 3
   },
   "file_extension": ".py",
   "mimetype": "text/x-python",
   "name": "python",
   "nbconvert_exporter": "python",
   "pygments_lexer": "ipython3",
   "version": "3.8.8"
  },
  "orig_nbformat": 4
 },
 "nbformat": 4,
 "nbformat_minor": 2
}
