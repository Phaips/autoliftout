{
 "cells": [
  {
   "cell_type": "markdown",
   "metadata": {},
   "source": [
    "# Log Parser Notebook\n",
    "Exploratory notebook for testing out parsing the logs for workflow statistics\n"
   ]
  },
  {
   "cell_type": "code",
   "execution_count": 3,
   "metadata": {},
   "outputs": [],
   "source": [
    "import logging\n",
    "import datetime\n",
    "import time\n",
    "\n",
    "# TODO: better logs: https://www.toptal.com/python/in-depth-python-logging\n",
    "def configure_logging(save_path='', log_filename='logfile', log_level=logging.INFO):\n",
    "    \"\"\"Log to the terminal and to file simultaneously.\"\"\"\n",
    "    timestamp = datetime.datetime.fromtimestamp(time.time()).strftime(\n",
    "        '%Y%m%d.%H%M%S')  # datetime.now().strftime(\"_%Y-%m-%d_%H-%M-%S\")\n",
    "    logging.basicConfig(\n",
    "        format=\"%(asctime)s — %(name)s — %(levelname)s — %(funcName)s:%(lineno)d — %(message)s\", #\"%(asctime)s %(levelname)s %(message)s\",\n",
    "        level=log_level,\n",
    "        # Multiple handlers can be added to your logging configuration.\n",
    "        # By default log messages are appended to the file if it exists already\n",
    "        handlers=[\n",
    "            logging.FileHandler(save_path+'/'+log_filename+timestamp+'.log'),\n",
    "            logging.StreamHandler(),\n",
    "        ])\n",
    "    return save_path+'/'+log_filename+timestamp+'.log'\n",
    "\n",
    "\n",
    "import os\n",
    "log_path = configure_logging(os.path.join(os.path.dirname(os.getcwd()), \"log/run/123456.789\"))"
   ]
  },
  {
   "cell_type": "markdown",
   "metadata": {},
   "source": [
    "### Fake Log Generator"
   ]
  },
  {
   "cell_type": "code",
   "execution_count": 4,
   "metadata": {},
   "outputs": [
    {
     "name": "stderr",
     "output_type": "stream",
     "text": [
      "2021-10-26 18:01:48,998 — root — INFO — <module>:19 — random other log message not with the same structure 0.80\n",
      "2021-10-26 18:01:48,999 — root — INFO — <module>:16 — gamma_correction: diff: -50.000: gam: 0.254 \n",
      "2021-10-26 18:01:49,000 — root — INFO — <module>:19 — random other log message not with the same structure 0.25\n",
      "2021-10-26 18:01:49,001 — root — INFO — <module>:19 — random other log message not with the same structure 0.81\n",
      "2021-10-26 18:01:49,002 — root — INFO — <module>:19 — random other log message not with the same structure 0.33\n",
      "2021-10-26 18:01:49,003 — root — INFO — <module>:19 — random other log message not with the same structure 0.03\n",
      "2021-10-26 18:01:49,004 — root — INFO — <module>:16 — gamma_correction: diff: -80.000: gam: 1.145 \n",
      "2021-10-26 18:01:49,004 — root — INFO — <module>:19 — random other log message not with the same structure 0.86\n",
      "2021-10-26 18:01:49,005 — root — INFO — <module>:19 — random other log message not with the same structure 0.73\n",
      "2021-10-26 18:01:49,006 — root — INFO — <module>:19 — random other log message not with the same structure 0.08\n",
      "2021-10-26 18:01:49,007 — root — INFO — <module>:16 — gamma_correction: diff: -94.000: gam: 1.919 \n",
      "2021-10-26 18:01:49,007 — root — INFO — <module>:16 — gamma_correction: diff: 52.000: gam: 0.873 \n",
      "2021-10-26 18:01:49,008 — root — INFO — <module>:19 — random other log message not with the same structure 0.52\n",
      "2021-10-26 18:01:49,009 — root — INFO — <module>:19 — random other log message not with the same structure 0.99\n",
      "2021-10-26 18:01:49,010 — root — INFO — <module>:19 — random other log message not with the same structure 0.34\n",
      "2021-10-26 18:01:49,011 — root — INFO — <module>:16 — gamma_correction: diff: 28.000: gam: 1.961 \n",
      "2021-10-26 18:01:49,011 — root — INFO — <module>:16 — gamma_correction: diff: 39.000: gam: 0.734 \n",
      "2021-10-26 18:01:49,012 — root — INFO — <module>:19 — random other log message not with the same structure 0.63\n",
      "2021-10-26 18:01:49,013 — root — INFO — <module>:12 — ml_detection: lamella_edge: True\n",
      "2021-10-26 18:01:49,014 — root — INFO — <module>:12 — ml_detection: needle_tip: True\n",
      "2021-10-26 18:01:49,015 — root — INFO — <module>:19 — random other log message not with the same structure 0.93\n",
      "2021-10-26 18:01:49,016 — root — INFO — <module>:16 — gamma_correction: diff: 41.000: gam: 0.872 \n",
      "2021-10-26 18:01:49,017 — root — INFO — <module>:19 — random other log message not with the same structure 0.56\n",
      "2021-10-26 18:01:49,018 — root — INFO — <module>:16 — gamma_correction: diff: -37.000: gam: 0.409 \n",
      "2021-10-26 18:01:49,020 — root — INFO — <module>:19 — random other log message not with the same structure 0.11\n",
      "2021-10-26 18:01:49,021 — root — INFO — <module>:12 — ml_detection: image_centre: True\n",
      "2021-10-26 18:01:49,022 — root — INFO — <module>:19 — random other log message not with the same structure 0.16\n",
      "2021-10-26 18:01:49,023 — root — INFO — <module>:19 — random other log message not with the same structure 0.52\n",
      "2021-10-26 18:01:49,024 — root — INFO — <module>:12 — ml_detection: landing_post: False\n",
      "2021-10-26 18:01:49,026 — root — INFO — <module>:19 — random other log message not with the same structure 0.42\n",
      "2021-10-26 18:01:49,027 — root — INFO — <module>:19 — random other log message not with the same structure 0.91\n",
      "2021-10-26 18:01:49,028 — root — INFO — <module>:19 — random other log message not with the same structure 0.23\n",
      "2021-10-26 18:01:49,028 — root — INFO — <module>:19 — random other log message not with the same structure 0.43\n",
      "2021-10-26 18:01:49,029 — root — INFO — <module>:19 — random other log message not with the same structure 0.17\n",
      "2021-10-26 18:01:49,029 — root — INFO — <module>:12 — ml_detection: landing_post: True\n",
      "2021-10-26 18:01:49,030 — root — INFO — <module>:19 — random other log message not with the same structure 0.62\n",
      "2021-10-26 18:01:49,031 — root — INFO — <module>:16 — gamma_correction: diff: 68.000: gam: 0.115 \n",
      "2021-10-26 18:01:49,032 — root — INFO — <module>:19 — random other log message not with the same structure 0.22\n",
      "2021-10-26 18:01:49,033 — root — INFO — <module>:12 — ml_detection: needle_tip: True\n",
      "2021-10-26 18:01:49,034 — root — INFO — <module>:16 — gamma_correction: diff: 106.000: gam: 0.625 \n",
      "2021-10-26 18:01:49,035 — root — INFO — <module>:19 — random other log message not with the same structure 0.90\n",
      "2021-10-26 18:01:49,036 — root — INFO — <module>:12 — ml_detection: landing_post: False\n",
      "2021-10-26 18:01:49,037 — root — INFO — <module>:19 — random other log message not with the same structure 0.67\n",
      "2021-10-26 18:01:49,039 — root — INFO — <module>:16 — gamma_correction: diff: 110.000: gam: 1.164 \n",
      "2021-10-26 18:01:49,040 — root — INFO — <module>:16 — gamma_correction: diff: 79.000: gam: 1.918 \n",
      "2021-10-26 18:01:49,042 — root — INFO — <module>:19 — random other log message not with the same structure 0.07\n",
      "2021-10-26 18:01:49,043 — root — INFO — <module>:19 — random other log message not with the same structure 0.00\n",
      "2021-10-26 18:01:49,044 — root — INFO — <module>:19 — random other log message not with the same structure 0.11\n",
      "2021-10-26 18:01:49,045 — root — INFO — <module>:12 — ml_detection: lamella_centre: False\n",
      "2021-10-26 18:01:49,045 — root — INFO — <module>:19 — random other log message not with the same structure 0.42\n",
      "2021-10-26 18:01:49,046 — root — INFO — <module>:19 — random other log message not with the same structure 0.34\n",
      "2021-10-26 18:01:49,047 — root — INFO — <module>:19 — random other log message not with the same structure 0.91\n",
      "2021-10-26 18:01:49,048 — root — INFO — <module>:16 — gamma_correction: diff: -42.000: gam: 1.842 \n",
      "2021-10-26 18:01:49,048 — root — INFO — <module>:19 — random other log message not with the same structure 0.32\n",
      "2021-10-26 18:01:49,049 — root — INFO — <module>:19 — random other log message not with the same structure 0.20\n",
      "2021-10-26 18:01:49,050 — root — INFO — <module>:19 — random other log message not with the same structure 0.46\n",
      "2021-10-26 18:01:49,051 — root — INFO — <module>:19 — random other log message not with the same structure 0.58\n",
      "2021-10-26 18:01:49,052 — root — INFO — <module>:19 — random other log message not with the same structure 0.86\n",
      "2021-10-26 18:01:49,052 — root — INFO — <module>:19 — random other log message not with the same structure 0.03\n",
      "2021-10-26 18:01:49,053 — root — INFO — <module>:19 — random other log message not with the same structure 0.76\n",
      "2021-10-26 18:01:49,055 — root — INFO — <module>:16 — gamma_correction: diff: -69.000: gam: 1.353 \n",
      "2021-10-26 18:01:49,055 — root — INFO — <module>:19 — random other log message not with the same structure 0.79\n",
      "2021-10-26 18:01:49,056 — root — INFO — <module>:19 — random other log message not with the same structure 0.96\n",
      "2021-10-26 18:01:49,057 — root — INFO — <module>:12 — ml_detection: needle_tip: True\n",
      "2021-10-26 18:01:49,058 — root — INFO — <module>:19 — random other log message not with the same structure 0.75\n",
      "2021-10-26 18:01:49,059 — root — INFO — <module>:19 — random other log message not with the same structure 0.63\n",
      "2021-10-26 18:01:49,060 — root — INFO — <module>:19 — random other log message not with the same structure 0.67\n",
      "2021-10-26 18:01:49,060 — root — INFO — <module>:19 — random other log message not with the same structure 0.56\n",
      "2021-10-26 18:01:49,061 — root — INFO — <module>:12 — ml_detection: image_centre: True\n",
      "2021-10-26 18:01:49,062 — root — INFO — <module>:16 — gamma_correction: diff: 56.000: gam: 1.780 \n",
      "2021-10-26 18:01:49,063 — root — INFO — <module>:19 — random other log message not with the same structure 0.51\n",
      "2021-10-26 18:01:49,064 — root — INFO — <module>:19 — random other log message not with the same structure 0.87\n",
      "2021-10-26 18:01:49,064 — root — INFO — <module>:16 — gamma_correction: diff: -61.000: gam: 0.910 \n",
      "2021-10-26 18:01:49,065 — root — INFO — <module>:19 — random other log message not with the same structure 0.81\n",
      "2021-10-26 18:01:49,066 — root — INFO — <module>:19 — random other log message not with the same structure 0.44\n",
      "2021-10-26 18:01:49,067 — root — INFO — <module>:16 — gamma_correction: diff: -28.000: gam: 1.296 \n",
      "2021-10-26 18:01:49,069 — root — INFO — <module>:19 — random other log message not with the same structure 0.75\n",
      "2021-10-26 18:01:49,070 — root — INFO — <module>:16 — gamma_correction: diff: -28.000: gam: 1.269 \n",
      "2021-10-26 18:01:49,070 — root — INFO — <module>:12 — ml_detection: lamella_centre: False\n",
      "2021-10-26 18:01:49,071 — root — INFO — <module>:12 — ml_detection: needle_tip: False\n",
      "2021-10-26 18:01:49,072 — root — INFO — <module>:16 — gamma_correction: diff: 3.000: gam: 0.674 \n",
      "2021-10-26 18:01:49,072 — root — INFO — <module>:19 — random other log message not with the same structure 0.32\n",
      "2021-10-26 18:01:49,073 — root — INFO — <module>:19 — random other log message not with the same structure 0.32\n",
      "2021-10-26 18:01:49,074 — root — INFO — <module>:12 — ml_detection: needle_tip: True\n",
      "2021-10-26 18:01:49,075 — root — INFO — <module>:19 — random other log message not with the same structure 0.75\n",
      "2021-10-26 18:01:49,076 — root — INFO — <module>:19 — random other log message not with the same structure 0.70\n",
      "2021-10-26 18:01:49,077 — root — INFO — <module>:19 — random other log message not with the same structure 0.03\n",
      "2021-10-26 18:01:49,077 — root — INFO — <module>:19 — random other log message not with the same structure 0.03\n",
      "2021-10-26 18:01:49,078 — root — INFO — <module>:19 — random other log message not with the same structure 0.84\n",
      "2021-10-26 18:01:49,079 — root — INFO — <module>:19 — random other log message not with the same structure 0.77\n",
      "2021-10-26 18:01:49,079 — root — INFO — <module>:12 — ml_detection: lamella_centre: False\n",
      "2021-10-26 18:01:49,080 — root — INFO — <module>:19 — random other log message not with the same structure 0.36\n",
      "2021-10-26 18:01:49,081 — root — INFO — <module>:19 — random other log message not with the same structure 0.68\n",
      "2021-10-26 18:01:49,082 — root — INFO — <module>:16 — gamma_correction: diff: 83.000: gam: 0.474 \n",
      "2021-10-26 18:01:49,082 — root — INFO — <module>:19 — random other log message not with the same structure 0.21\n",
      "2021-10-26 18:01:49,083 — root — INFO — <module>:16 — gamma_correction: diff: -23.000: gam: 2.000 \n",
      "2021-10-26 18:01:49,084 — root — INFO — <module>:16 — gamma_correction: diff: 5.000: gam: 1.842 \n",
      "2021-10-26 18:01:49,085 — root — INFO — <module>:19 — random other log message not with the same structure 0.72\n",
      "2021-10-26 18:01:49,086 — root — INFO — <module>:19 — random other log message not with the same structure 0.57\n",
      "2021-10-26 18:01:49,086 — root — INFO — <module>:19 — random other log message not with the same structure 0.40\n"
     ]
    }
   ],
   "source": [
    "import random\n",
    "\n",
    "supported_feature_types = [\"image_centre\", \"lamella_centre\", \"needle_tip\", \"lamella_edge\", \"landing_post\"]\n",
    "for i in range(100):\n",
    "\n",
    "\n",
    "    RANDOM_NUM = random.randint(0, 5)\n",
    "\n",
    "    if RANDOM_NUM > 4:\n",
    "        feature_type = random.choice(supported_feature_types)\n",
    "        response = random.choice([True, False])\n",
    "        logging.info(f\"ml_detection: {feature_type}: {response}\")\n",
    "    elif RANDOM_NUM > 3:\n",
    "        diff = random.randint(-120, 120)\n",
    "        gam = random.random() * 2.0\n",
    "        logging.info(f\"gamma_correction: diff: {diff:.3f}: gam: {gam:.3f} \")\n",
    "    \n",
    "    else:\n",
    "        logging.info(f\"random other log message not with the same structure {random.random():.2f}\")\n"
   ]
  },
  {
   "cell_type": "markdown",
   "metadata": {},
   "source": [
    "## Log Parser"
   ]
  },
  {
   "cell_type": "code",
   "execution_count": 5,
   "metadata": {},
   "outputs": [
    {
     "name": "stdout",
     "output_type": "stream",
     "text": [
      "{'image_centre': {'False': 0, 'True': 2},\n",
      " 'lamella_centre': {'False': 3, 'True': 0},\n",
      " 'lamella_edge': {'False': 0, 'True': 1},\n",
      " 'landing_post': {'False': 2, 'True': 1},\n",
      " 'needle_tip': {'False': 1, 'True': 4}}\n",
      "{'diff': [-50.0,\n",
      "          -80.0,\n",
      "          -94.0,\n",
      "          52.0,\n",
      "          28.0,\n",
      "          39.0,\n",
      "          41.0,\n",
      "          -37.0,\n",
      "          68.0,\n",
      "          106.0,\n",
      "          110.0,\n",
      "          79.0,\n",
      "          -42.0,\n",
      "          -69.0,\n",
      "          56.0,\n",
      "          -61.0,\n",
      "          -28.0,\n",
      "          -28.0,\n",
      "          3.0,\n",
      "          83.0,\n",
      "          -23.0,\n",
      "          5.0],\n",
      " 'gamma': [0.254,\n",
      "           1.145,\n",
      "           1.919,\n",
      "           0.873,\n",
      "           1.961,\n",
      "           0.734,\n",
      "           0.872,\n",
      "           0.409,\n",
      "           0.115,\n",
      "           0.625,\n",
      "           1.164,\n",
      "           1.918,\n",
      "           1.842,\n",
      "           1.353,\n",
      "           1.78,\n",
      "           0.91,\n",
      "           1.296,\n",
      "           1.269,\n",
      "           0.674,\n",
      "           0.474,\n",
      "           2.0,\n",
      "           1.842]}\n"
     ]
    }
   ],
   "source": [
    "score_dict = dict.fromkeys(supported_feature_types, {})\n",
    "\n",
    "for feature_type in score_dict.keys():\n",
    "    score_dict[feature_type] = {\"True\": 0, \"False\": 0}\n",
    "\n",
    "gamma_dict = {\"gamma\": [], \"diff\": []}\n",
    "\n",
    "\n",
    "# add a better logging identifier rather than doing this wierd parsing...\n",
    "\n",
    "with open(log_path) as f:\n",
    "    lines = f.read().splitlines()\n",
    "    for i, line in enumerate(lines):\n",
    "        msg = line.split(\"—\")[-1].strip()  # should just be the message # TODO: need to check the delimeter character...\n",
    "        res = msg.split(\":\")[0].strip()\n",
    "        \n",
    "        if res == \"ml_detection\":\n",
    "            key = msg.split(\":\")[1].strip()\n",
    "            val = msg.split(\":\")[-1].strip()\n",
    "\n",
    "            if key in score_dict.keys():\n",
    "                score_dict[key][val] +=1\n",
    "        if res == \"gamma_correction\":\n",
    "            gamma_dict[\"diff\"].append(float(msg.split(\":\")[2].strip()))\n",
    "            gamma_dict[\"gamma\"].append(float(msg.split(\":\")[4].strip()))\n",
    "\n",
    "from pprint import pprint\n",
    "pprint(score_dict)\n",
    "pprint(gamma_dict)\n"
   ]
  },
  {
   "cell_type": "markdown",
   "metadata": {},
   "source": [
    "## Machine Learning Evaluation"
   ]
  },
  {
   "cell_type": "code",
   "execution_count": 6,
   "metadata": {},
   "outputs": [
    {
     "data": {
      "text/plain": [
       "<AxesSubplot:title={'center':'Machine Learning Evaluation'}>"
      ]
     },
     "execution_count": 6,
     "metadata": {},
     "output_type": "execute_result"
    },
    {
     "data": {
      "image/png": "[encoded data removed]",
      "text/plain": [
       "<Figure size 432x288 with 1 Axes>"
      ]
     },
     "metadata": {
      "needs_background": "light"
     },
     "output_type": "display_data"
    }
   ],
   "source": [
    "# eval\n",
    "import pandas as pd\n",
    "\n",
    "df = pd.DataFrame(score_dict)\n",
    "\n",
    "# plotting\n",
    "df.T.plot.bar(title=\"Machine Learning Evaluation\")\n",
    "#### TODO: change df structure?\n",
    "# # feature_type #  success ###  ### count\n",
    "# would make it easier to analyse... "
   ]
  },
  {
   "cell_type": "code",
   "execution_count": null,
   "metadata": {},
   "outputs": [],
   "source": []
  },
  {
   "cell_type": "markdown",
   "metadata": {},
   "source": [
    "## Gamma Correction Evaluation\n",
    "evaluate the average gamma correction\n"
   ]
  },
  {
   "cell_type": "code",
   "execution_count": 7,
   "metadata": {},
   "outputs": [
    {
     "name": "stdout",
     "output_type": "stream",
     "text": [
      "    gamma   diff\n",
      "0   0.254  -50.0\n",
      "1   1.145  -80.0\n",
      "2   1.919  -94.0\n",
      "3   0.873   52.0\n",
      "4   1.961   28.0\n",
      "5   0.734   39.0\n",
      "6   0.872   41.0\n",
      "7   0.409  -37.0\n",
      "8   0.115   68.0\n",
      "9   0.625  106.0\n",
      "10  1.164  110.0\n",
      "11  1.918   79.0\n",
      "12  1.842  -42.0\n",
      "13  1.353  -69.0\n",
      "14  1.780   56.0\n",
      "15  0.910  -61.0\n",
      "16  1.296  -28.0\n",
      "17  1.269  -28.0\n",
      "18  0.674    3.0\n",
      "19  0.474   83.0\n",
      "20  2.000  -23.0\n",
      "21  1.842    5.0\n"
     ]
    },
    {
     "data": {
      "text/plain": [
       "<AxesSubplot:title={'center':'Gamma Correction Distribution'}, ylabel='Frequency'>"
      ]
     },
     "execution_count": 7,
     "metadata": {},
     "output_type": "execute_result"
    },
    {
     "data": {
      "image/png": "[encoded data removed]",
      "text/plain": [
       "<Figure size 432x288 with 1 Axes>"
      ]
     },
     "metadata": {
      "needs_background": "light"
     },
     "output_type": "display_data"
    }
   ],
   "source": [
    "\n",
    "# pprint(gamma_dict)\n",
    "df_gamma = pd.DataFrame(gamma_dict)\n",
    "print(df_gamma)\n",
    "\n",
    "df_gamma[\"gamma\"].plot.hist(bins=5, alpha=0.5, title=\"Gamma Correction Distribution\")"
   ]
  },
  {
   "cell_type": "code",
   "execution_count": null,
   "metadata": {},
   "outputs": [],
   "source": []
  }
 ],
 "metadata": {
  "interpreter": {
   "hash": "80d3c5160377edce05faa4296a2895bfa812f63b1849e1d79e316b2e2d68124d"
  },
  "kernelspec": {
   "display_name": "Python 3.8.8 64-bit ('liftout': conda)",
   "name": "python3"
  },
  "language_info": {
   "codemirror_mode": {
    "name": "ipython",
    "version": 3
   },
   "file_extension": ".py",
   "mimetype": "text/x-python",
   "name": "python",
   "nbconvert_exporter": "python",
   "pygments_lexer": "ipython3",
   "version": "3.8.8"
  },
  "orig_nbformat": 4
 },
 "nbformat": 4,
 "nbformat_minor": 2
}
