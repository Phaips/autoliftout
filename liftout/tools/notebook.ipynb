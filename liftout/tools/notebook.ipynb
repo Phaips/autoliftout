{
 "cells": [
  {
   "cell_type": "markdown",
   "metadata": {},
   "source": [
    "# Log Parser Notebook\n",
    "Exploratory notebook for testing out parsing the logs for workflow statistics\n"
   ]
  },
  {
   "cell_type": "code",
   "execution_count": 12,
   "metadata": {},
   "outputs": [
    {
     "name": "stdout",
     "output_type": "stream",
     "text": [
      "The autoreload extension is already loaded. To reload it, use:\n",
      "  %reload_ext autoreload\n"
     ]
    }
   ],
   "source": [
    "%load_ext autoreload\n",
    "%autoreload 2\n",
    "import logging\n",
    "import datetime\n",
    "import time\n",
    "import glob\n",
    "\n",
    "import os\n",
    "filenames = sorted(glob.glob(os.path.join(os.path.dirname(os.getcwd()), \"log/run/**/*.log\")))\n",
    "\n",
    "# log_path = configure_logging(os.path.join(os.path.dirname(os.getcwd()), \"log/run/123456.789\"))"
   ]
  },
  {
   "cell_type": "code",
   "execution_count": null,
   "metadata": {},
   "outputs": [],
   "source": [
    "# TODO: better logs: https://www.toptal.com/python/in-depth-python-logging\n",
    "def configure_logging(save_path='', log_filename='logfile', log_level=logging.INFO):\n",
    "    \"\"\"Log to the terminal and to file simultaneously.\"\"\"\n",
    "    timestamp = datetime.datetime.fromtimestamp(time.time()).strftime(\n",
    "        '%Y%m%d.%H%M%S')  # datetime.now().strftime(\"_%Y-%m-%d_%H-%M-%S\")\n",
    "    logging.basicConfig(\n",
    "        format=\"%(asctime)s — %(name)s — %(levelname)s — %(funcName)s:%(lineno)d — %(message)s\", #\"%(asctime)s %(levelname)s %(message)s\",\n",
    "        level=log_level,\n",
    "        # Multiple handlers can be added to your logging configuration.\n",
    "        # By default log messages are appended to the file if it exists already\n",
    "        handlers=[\n",
    "            logging.FileHandler(save_path+'/'+log_filename+timestamp+'.log'),\n",
    "            logging.StreamHandler(),\n",
    "        ])\n",
    "    return save_path+'/'+log_filename+timestamp+'.log'\n"
   ]
  },
  {
   "cell_type": "markdown",
   "metadata": {},
   "source": [
    "### Fake Log Generator"
   ]
  },
  {
   "cell_type": "code",
   "execution_count": null,
   "metadata": {},
   "outputs": [],
   "source": [
    "import random\n",
    "# generate random log messages\n",
    "supported_feature_types = [\"image_centre\", \"lamella_centre\", \"needle_tip\", \"lamella_edge\", \"landing_post\"]\n",
    "for i in range(100):\n",
    "\n",
    "\n",
    "    RANDOM_NUM = random.randint(0, 5)\n",
    "\n",
    "    if RANDOM_NUM > 4:\n",
    "        feature_type = random.choice(supported_feature_types)\n",
    "        response = random.choice([True, False])\n",
    "        logging.info(f\"ml_detection: {feature_type}: {response}\")\n",
    "    elif RANDOM_NUM > 3:\n",
    "        diff = random.randint(-120, 120)\n",
    "        gam = random.random() * 2.0\n",
    "        logging.info(f\"gamma_correction: diff: {diff:.3f}: gam: {gam:.3f} \")\n",
    "    \n",
    "    else:\n",
    "        logging.info(f\"random other log message not with the same structure {random.random():.2f}\")\n"
   ]
  },
  {
   "cell_type": "markdown",
   "metadata": {},
   "source": [
    "## Log Parser"
   ]
  },
  {
   "cell_type": "code",
   "execution_count": 18,
   "metadata": {
    "scrolled": false
   },
   "outputs": [
    {
     "name": "stdout",
     "output_type": "stream",
     "text": [
      "C:\\Users\\Admin\\Github\\autoliftout\\liftout\\log\\run\\20211206.152855/logfile_20211206.152855.log\n",
      "Initialisation STARTED Initialisation STARTED\n",
      "Initialisation FINISHED Initialisation FINISHED\n",
      "Setup STARTED Setup STARTED\n",
      "Setup FINISHED Setup FINISHED\n",
      "Milling STARTED Milling STARTED\n",
      "Milling FINISHED Milling FINISHED\n",
      "Liftout STARTED Liftout STARTED\n",
      "Liftout FINISHED Liftout FINISHED\n",
      "Landing STARTED Landing STARTED\n",
      "Landing FINISHED Landing FINISHED\n",
      "Reset STARTED Reset STARTED\n",
      "Reset FINISHED Reset FINISHED\n",
      "Thinning STARTED Thinning STARTED\n",
      "Thinning FINISHED Thinning FINISHED\n",
      "{'image_centre': {'False': 0, 'True': 12},\n",
      " 'lamella_centre': {'False': 3, 'True': 12},\n",
      " 'lamella_edge': {'False': 1, 'True': 3},\n",
      " 'landing_post': {'False': 1, 'True': 3},\n",
      " 'needle_tip': {'False': 0, 'True': 6}}\n"
     ]
    }
   ],
   "source": [
    "\n",
    "from LogParser import parse_log_file, plot_ml_data, plot_gamma_data, plot_state_dict\n",
    "from pprint import pprint\n",
    "\n",
    "filenames = sorted(glob.glob(os.path.join(os.path.dirname(os.getcwd()), \"log/run/**/*.log\")))\n",
    "log_path = filenames[-1]\n",
    "# log_path = r\"C:\\Users\\Admin\\Github\\autoliftout\\liftout\\log\\run\\20211020.155258\\logfile_20211020.155258.log\"\n",
    "log_path = r\"C:\\Users\\Admin\\Github\\autoliftout\\liftout\\log\\run\\20211027.160458/logfile_20211027.160458.log\"\n",
    "# log_path = r\"C:\\Users\\Admin\\Github\\autoliftout\\liftout\\log\\run\\20211027.165108/logfile_20211027.165108.log\"\n",
    "\n",
    "log_path = r\"C:\\Users\\Admin\\Github\\autoliftout\\liftout\\log\\run\\20211206.152855/logfile_20211206.152855.log\"\n",
    "print(log_path)\n",
    "score_dict, gamma_dict, stage_dict = parse_log_file(log_path)\n",
    "pprint(score_dict)\n",
    "# pprint(gamma_dict)\n",
    "# pprint(stage_dict)"
   ]
  },
  {
   "cell_type": "markdown",
   "metadata": {},
   "source": [
    "## Machine Learning Evaluation"
   ]
  },
  {
   "cell_type": "code",
   "execution_count": 4,
   "metadata": {},
   "outputs": [
    {
     "data": {
      "image/png": "[encoded data removed]",
      "text/plain": [
       "<Figure size 432x288 with 1 Axes>"
      ]
     },
     "metadata": {
      "needs_background": "light"
     },
     "output_type": "display_data"
    }
   ],
   "source": [
    "# eval\n",
    "import matplotlib.pyplot as plt\n",
    "%matplotlib inline\n",
    "\n",
    "# TODO: better plots and analysis\n",
    "\n",
    "ax, df_ml=plot_ml_data(score_dict)\n",
    "# plt.savefig('ml_statistics.png')\n"
   ]
  },
  {
   "cell_type": "code",
   "execution_count": 19,
   "metadata": {},
   "outputs": [
    {
     "name": "stdout",
     "output_type": "stream",
     "text": [
      "     gamma    diff\n",
      "0    1.000  13.841\n",
      "1    1.000 -40.642\n",
      "2    0.459 -54.052\n",
      "3    0.490 -51.037\n",
      "4    0.463 -53.654\n",
      "..     ...     ...\n",
      "244  1.000   8.936\n",
      "245  1.000 -41.594\n",
      "246  1.000   5.437\n",
      "247  1.000 -37.043\n",
      "248  1.000   8.640\n",
      "\n",
      "[249 rows x 2 columns]\n"
     ]
    },
    {
     "data": {
      "image/png": "[encoded data removed]",
      "text/plain": [
       "<Figure size 432x288 with 1 Axes>"
      ]
     },
     "metadata": {
      "needs_background": "light"
     },
     "output_type": "display_data"
    }
   ],
   "source": [
    "_, df_gamma = plot_gamma_data(gamma_dict)\n",
    "print(df_gamma)"
   ]
  },
  {
   "cell_type": "markdown",
   "metadata": {},
   "source": [
    "## Gamma Correction Evaluation\n",
    "evaluate the average gamma correction\n"
   ]
  },
  {
   "cell_type": "code",
   "execution_count": 18,
   "metadata": {},
   "outputs": [],
   "source": [
    "\n",
    "# pprint(gamma_dict)\n",
    "# df_gamma = pd.DataFrame(gamma_dict)\n",
    "# print(df_gamma)\n",
    "\n",
    "# df_gamma[\"gamma\"].plot.hist(bins=5, alpha=0.5, title=\"Gamma Correction Distribution\")"
   ]
  },
  {
   "cell_type": "markdown",
   "metadata": {},
   "source": [
    "### Status Evaluation"
   ]
  },
  {
   "cell_type": "code",
   "execution_count": 20,
   "metadata": {},
   "outputs": [
    {
     "name": "stdout",
     "output_type": "stream",
     "text": [
      "   Initialisation  Setup  Milling  Liftout  Landing  Reset  Thinning\n",
      "0             1.0  516.0    738.0    350.0    717.0  363.0    1200.0\n",
      "0    64.75\n",
      "dtype: float64\n"
     ]
    },
    {
     "data": {
      "image/png": "[encoded data removed]",
      "text/plain": [
       "<Figure size 432x288 with 1 Axes>"
      ]
     },
     "metadata": {
      "needs_background": "light"
     },
     "output_type": "display_data"
    }
   ],
   "source": [
    "# pprint(stage_dict)\n",
    "_, df = plot_state_dict(stage_dict)\n",
    "print(df)\n",
    "print(df.T.sum() / 60)\n"
   ]
  },
  {
   "cell_type": "code",
   "execution_count": null,
   "metadata": {},
   "outputs": [],
   "source": [
    "\n"
   ]
  },
  {
   "cell_type": "code",
   "execution_count": null,
   "metadata": {},
   "outputs": [],
   "source": []
  },
  {
   "cell_type": "code",
   "execution_count": null,
   "metadata": {},
   "outputs": [],
   "source": []
  },
  {
   "cell_type": "code",
   "execution_count": null,
   "metadata": {},
   "outputs": [],
   "source": []
  },
  {
   "cell_type": "code",
   "execution_count": 37,
   "metadata": {},
   "outputs": [
    {
     "name": "stdout",
     "output_type": "stream",
     "text": [
      "/Users/patrickcleeve/Documents/university/bio/demarco/autoliftout/liftout/log/run/123456.789/sample.yaml\n"
     ]
    },
    {
     "ename": "FileNotFoundError",
     "evalue": "[Errno 2] No such file or directory: '/Users/patrickcleeve/Documents/university/bio/demarco/autoliftout/liftout/log/run/123456.789/sample.yaml'",
     "output_type": "error",
     "traceback": [
      "\u001b[0;31m---------------------------------------------------------------------------\u001b[0m",
      "\u001b[0;31mFileNotFoundError\u001b[0m                         Traceback (most recent call last)",
      "\u001b[0;32m<ipython-input-37-cbf777a199da>\u001b[0m in \u001b[0;36m<module>\u001b[0;34m\u001b[0m\n\u001b[1;32m      5\u001b[0m \u001b[0mget_ipython\u001b[0m\u001b[0;34m(\u001b[0m\u001b[0;34m)\u001b[0m\u001b[0;34m.\u001b[0m\u001b[0mrun_line_magic\u001b[0m\u001b[0;34m(\u001b[0m\u001b[0;34m'matplotlib'\u001b[0m\u001b[0;34m,\u001b[0m \u001b[0;34m'inline'\u001b[0m\u001b[0;34m)\u001b[0m\u001b[0;34m\u001b[0m\u001b[0;34m\u001b[0m\u001b[0m\n\u001b[1;32m      6\u001b[0m \u001b[0;32mimport\u001b[0m \u001b[0myaml\u001b[0m\u001b[0;34m\u001b[0m\u001b[0;34m\u001b[0m\u001b[0m\n\u001b[0;32m----> 7\u001b[0;31m \u001b[0;32mwith\u001b[0m \u001b[0mopen\u001b[0m\u001b[0;34m(\u001b[0m\u001b[0myaml_file\u001b[0m\u001b[0;34m,\u001b[0m \u001b[0;34m'r'\u001b[0m\u001b[0;34m)\u001b[0m \u001b[0;32mas\u001b[0m \u001b[0mf\u001b[0m\u001b[0;34m:\u001b[0m\u001b[0;34m\u001b[0m\u001b[0;34m\u001b[0m\u001b[0m\n\u001b[0m\u001b[1;32m      8\u001b[0m     \u001b[0msample_yaml\u001b[0m \u001b[0;34m=\u001b[0m \u001b[0myaml\u001b[0m\u001b[0;34m.\u001b[0m\u001b[0msafe_load\u001b[0m\u001b[0;34m(\u001b[0m\u001b[0mf\u001b[0m\u001b[0;34m)\u001b[0m\u001b[0;34m\u001b[0m\u001b[0;34m\u001b[0m\u001b[0m\n\u001b[1;32m      9\u001b[0m \u001b[0;34m\u001b[0m\u001b[0m\n",
      "\u001b[0;31mFileNotFoundError\u001b[0m: [Errno 2] No such file or directory: '/Users/patrickcleeve/Documents/university/bio/demarco/autoliftout/liftout/log/run/123456.789/sample.yaml'"
     ]
    }
   ],
   "source": [
    "logdir = os.path.dirname(logfile)\n",
    "yaml_file = os.path.join(logdir, \"sample.yaml\")\n",
    "print(yaml_file)\n",
    "\n",
    "%matplotlib inline\n",
    "import yaml\n",
    "with open(yaml_file, 'r') as f:\n",
    "    sample_yaml = yaml.safe_load(f)\n",
    "\n",
    "x_coords = []\n",
    "y_coords = []\n",
    "for sample_no in sample_yaml[\"sample\"].keys():\n",
    "    lamella_coords = sample_yaml[\"sample\"][sample_no][\"lamella_coordinates\"]\n",
    "    x, y = lamella_coords[\"x\"], lamella_coords[\"y\"]\n",
    "    print(x, y)\n",
    "    x_coords.append(x)\n",
    "    y_coords.append(y)\n",
    "    plt.scatter(x, y, label=f\"Lamella Sample {sample_no}\")\n",
    "min_x, max_x = min(x_coords), max(x_coords)\n",
    "min_y, max_y = min(y_coords), max(y_coords)\n",
    "margin = 0.0005\n",
    "plt.title(\"Sample Grid Coordinates\")\n",
    "plt.legend(loc=\"best\")\n",
    "plt.ylim(min_y-margin, max_y+margin)\n",
    "plt.xlim(min_x-margin, max_x+margin)\n",
    "plt.show()"
   ]
  },
  {
   "cell_type": "markdown",
   "metadata": {},
   "source": [
    "# Extract data for labelling\n"
   ]
  },
  {
   "cell_type": "code",
   "execution_count": null,
   "metadata": {},
   "outputs": [],
   "source": [
    "from liftout.detection import utils"
   ]
  },
  {
   "cell_type": "code",
   "execution_count": null,
   "metadata": {},
   "outputs": [],
   "source": [
    "%matplotlib inline\n",
    "log_dir = os.path.dirname(os.path.dirname(log_path))\n",
    "utils.extract_img_for_labelling(log_dir)"
   ]
  },
  {
   "cell_type": "code",
   "execution_count": null,
   "metadata": {},
   "outputs": [],
   "source": []
  },
  {
   "cell_type": "markdown",
   "metadata": {},
   "source": [
    "# Report Generation\n",
    "Automatically generate a report summarising the liftout run\n"
   ]
  },
  {
   "cell_type": "code",
   "execution_count": 45,
   "metadata": {},
   "outputs": [
    {
     "name": "stdout",
     "output_type": "stream",
     "text": [
      "C:\\\\Users\\\\Admin\\\\Github\\\\autoliftout\\\\liftout\\\\log/run\\\\20211027.160458\\\\logfile_20211027.160458.log\n",
      "Initialisation: 0:00:01\n",
      "Setup: 0:11:04\n",
      "Milling: 0:13:01\n",
      "Liftout: 0:06:25\n",
      "{'Initialisation': 1.0, 'Setup': 664.0, 'Milling': 781.0, 'Liftout': 385.0}\n"
     ]
    },
    {
     "data": {
      "image/png": "[encoded data removed]",
      "text/plain": [
       "<Figure size 432x288 with 1 Axes>"
      ]
     },
     "metadata": {
      "needs_background": "light"
     },
     "output_type": "display_data"
    },
    {
     "data": {
      "image/png": "[encoded data removed]",
      "text/plain": [
       "<Figure size 432x288 with 1 Axes>"
      ]
     },
     "metadata": {
      "needs_background": "light"
     },
     "output_type": "display_data"
    },
    {
     "data": {
      "image/png": "[encoded data removed]",
      "text/plain": [
       "<Figure size 432x288 with 1 Axes>"
      ]
     },
     "metadata": {
      "needs_background": "light"
     },
     "output_type": "display_data"
    }
   ],
   "source": [
    "\n",
    "\n"
   ]
  },
  {
   "cell_type": "code",
   "execution_count": null,
   "metadata": {},
   "outputs": [],
   "source": [
    "# TODO:\n",
    "# more than one lamella stats\n",
    "# count how many lamellas\n",
    "# summary: stages completed, total duration, summary stats etc\n",
    "# show all images?\n",
    "# show failed images?\n",
    "# show reference images from each stage? as a summary\n"
   ]
  },
  {
   "cell_type": "code",
   "execution_count": null,
   "metadata": {
    "scrolled": false
   },
   "outputs": [
    {
     "name": "stdout",
     "output_type": "stream",
     "text": [
      "The autoreload extension is already loaded. To reload it, use:\n",
      "  %reload_ext autoreload\n",
      "C:\\Users\\Admin\\Github\\autoliftout\\liftout\\log\\run\\20211206.152855/logfile_20211206.152855.log\n",
      "Total Images: 114\n",
      "Processing 6 images for sharpen\n",
      "Processing 16 images for liftout\n"
     ]
    }
   ],
   "source": [
    "\n",
    "\n",
    "# https://www.justintodata.com/generate-reports-with-python/\n",
    "# https://www.xlwings.org/blog/reporting-with-python\n",
    "\n",
    "# CSS\n",
    "# https://pythonhow.com/python-tutorial/flask/Adding-CSS-styling-to-your-website/\n",
    "%load_ext autoreload\n",
    "%autoreload 2\n",
    "import logging\n",
    "import datetime\n",
    "import time\n",
    "import glob\n",
    "\n",
    "import os\n",
    "import matplotlib.pyplot as plt\n",
    "\n",
    "import numpy as np\n",
    "import pandas as pd\n",
    "from random import shuffle\n",
    "\n",
    "from PIL import Image\n",
    "\n",
    "import os\n",
    "import glob\n",
    "from liftout.tools.LogParser import parse_log_file, plot_gamma_data, plot_ml_data, plot_state_dict\n",
    "filenames = sorted(glob.glob(os.path.join(os.path.dirname(os.getcwd()), \"log/run/**/*.log\")))\n",
    "\n",
    "# print(filenames[-2:])\n",
    "\n",
    "# logfile = \"/Users/patrickcleeve/Documents/university/bio/demarco/autoliftout/liftout/log/run/20211027.160458/logfile_20211027.160458.log\"\n",
    "# logfile = r\"C:\\\\Users\\\\Admin\\\\Github\\\\autoliftout\\\\liftout\\\\log/run\\\\20211027.160458\\\\logfile_20211027.160458.log\"\n",
    "# logfile = r\"C:\\\\Users\\\\Admin\\\\Github\\\\autoliftout\\\\liftout\\\\log/run\\\\20211027.165108\\\\logfile_20211027.165108.log\"\n",
    "logfile = r\"C:\\Users\\Admin\\Github\\autoliftout\\liftout\\log\\run\\20211206.152855/logfile_20211206.152855.log\"\n",
    "\n",
    "print(logfile)\n",
    "\n",
    "log_path = os.path.dirname(logfile)\n",
    "ml_dict, gamma_dict, state_dict = parse_log_file(logfile)\n",
    "\n",
    "\n",
    "\n",
    "# gamma plot overwrite if it isnt first?\n",
    "ax, df_gamma = plot_gamma_data(gamma_dict)\n",
    "plt.savefig(os.path.join(log_path, \"gamma_statistics.png\"))\n",
    "\n",
    "ax, df_ml = plot_ml_data(ml_dict)\n",
    "plt.savefig(os.path.join(log_path, \"ml_statistics.png\"))\n",
    "\n",
    "\n",
    "ax, df_state_duration = plot_state_dict(state_dict)\n",
    "plt.savefig(os.path.join(log_path, \"state_duration_statistics.png\"))\n",
    "\n",
    "def generate_html_report(logfile):\n",
    "    \n",
    "    log_path = os.path.dirname(logfile)\n",
    "    img_path = os.path.join(log_path, \"img\")\n",
    "    filenames = glob.glob(os.path.join(img_path ,\"*.tif\")) # images\n",
    "\n",
    "    page_title_text='AutoLiftout Report'\n",
    "    title_text = 'AutoLiftout Report'\n",
    "    text = f\"AutoLiftout report for run: {log_path}\"\n",
    "    gamma_text = \"Gamma Correction Statistics\"\n",
    "    ml_stats_text = \"Machine Learning Statistics\"\n",
    "    state_duration_text = \"State Duration Statistics\"\n",
    "    \n",
    "    print(f\"Total Images: {len(filenames)}\")\n",
    "    seen_filenames = []\n",
    "    \n",
    "    img_text = f\"{len(filenames)} images taken during run. \"\n",
    "    \n",
    "    \n",
    "    for filt_exp in [\"sharpen\", \"liftout\", \"landing\", \"drift_correction\", \"jcut\", \"thinning\"]:\n",
    "        \n",
    "        \n",
    "        # filter to images we want.. e.g. sharpen only\n",
    "        filt_filenames = list(filter(lambda x: filt_exp in os.path.basename(x), filenames))\n",
    "        print(f\"Processing {len(filt_filenames)} images for {filt_exp}\")\n",
    "    \n",
    "        # need to convert tif images to png to display in html...\n",
    "        NO_IMAGES_TO_DISPLAY = 10\n",
    "        images = [np.asarray(Image.open(fname).convert(\"RGB\")) for fname in filt_filenames[:NO_IMAGES_TO_DISPLAY]]\n",
    "        if len(images) > 0:\n",
    "            base_img = images[0]\n",
    "            for img in images[1:]:\n",
    "                base_img = np.hstack((base_img, img))\n",
    "\n",
    "\n",
    "            img = Image.fromarray(base_img)\n",
    "            img.save(os.path.join(log_path, f\"{filt_exp}.png\"))\n",
    "            \n",
    "            seen_filenames.append(filt_filenames)\n",
    "        \n",
    "    seen_filenames = [x for sublist in seen_filenames for x in sublist]\n",
    "\n",
    "    \n",
    "    unseen = [fname for fname in filenames if fname not in seen_filenames]\n",
    "    \n",
    "    print(f\"Seen: {len(seen_filenames)}, Unseen: {len(unseen)}\")\n",
    "    # TODO: need some logic to decide which images to show, but just assume all are there for now\n",
    "    \n",
    "\n",
    "    # 2. Combine them together using a long f-string\n",
    "    html = f'''\n",
    "        <html>\n",
    "            <head>\n",
    "                <title>{page_title_text}</title>\n",
    "                <link rel=\"stylesheet\" href=\"../../../tools/style.css\">\n",
    "\n",
    "            </head>\n",
    "            <body>\n",
    "                <h1 style=\"text-align:center\">{title_text}</h1>\n",
    "                <p style=\"text-align:center\">{text}</p>\n",
    "                \n",
    "                <div id=\"stats\">\n",
    "                    \n",
    "                    <h2>{gamma_text}</h2>\n",
    "                    <div id=\"gamma\">\n",
    "                        {df_gamma.describe().to_html()}\n",
    "                        <img src='{os.path.join(log_path, \"gamma_statistics.png\")}' width=\"700\">\n",
    "                    </div>\n",
    "        \n",
    "                    <h2>{ml_stats_text}</h2>\n",
    "                    <div id=\"ml\">\n",
    "\n",
    "                        {df_ml.to_html()}\n",
    "                        <img src='{os.path.join(log_path, \"ml_statistics.png\")}' width=\"700\">\n",
    "                    </div>\n",
    "\n",
    "                    <h2>{state_duration_text}</h2>\n",
    "                    <div id=\"state\">\n",
    "                    \n",
    "                        {df_state_duration.to_html()}\n",
    "                        <img src='{os.path.join(log_path, \"state_duration_statistics.png\")}' width=\"700\">\n",
    "                    </div>\n",
    "                </div>\n",
    "                \n",
    "                <h2>Liftout Images</h2>\n",
    "                <p>{img_text}</p>\n",
    "                \n",
    "                <h3>Liftout</h3>\n",
    "                <div style=\"text-align:center;\"><img src='{os.path.join(log_path, \"liftout.png\")}' width=\"1500\"></div>\n",
    "                \n",
    "                <h3>J-Cut</h3>\n",
    "                <div style=\"text-align:center;\"\"><img src='{os.path.join(log_path, \"jcut.png\")}' width=\"1500\"></div>\n",
    "                \n",
    "                <h3>Drift Correction</h3>\n",
    "                <div style=\"text-align:center;\"><img src='{os.path.join(log_path, \"drift_correction.png\")}' width=\"1500\"></div>\n",
    "                \n",
    "                <h3>Landing</h3>\n",
    "                <div style=\"text-align:center;\"><img src='{os.path.join(log_path, \"landing.png\")}' width=\"1500\"></div>\n",
    "                \n",
    "                <h3>Sharpen Needle</h3>\n",
    "                <div style=\"text-align:center;\">\n",
    "                <img src='{os.path.join(log_path, \"sharpen.png\")}' width=\"1500\">\n",
    "                </div>\n",
    "                \n",
    "                <h3>Thinning</h3>\n",
    "                <div style=\"text-align:center;\">\n",
    "                <img src='{os.path.join(log_path, \"thinning.png\")}' width=\"1500\">               \n",
    "                </div>\n",
    "                \n",
    "            </body>\n",
    "        </html>\n",
    "        '''\n",
    "    # 3. Write the html string as an HTML file\n",
    "    with open(os.path.join(log_path, \"html_report.html\"), \"w\") as f:\n",
    "        f.write(html)\n",
    "        \n",
    "    print(\"HTML Report Generated\")\n",
    "\n",
    "generate_html_report(logfile)"
   ]
  },
  {
   "cell_type": "code",
   "execution_count": null,
   "metadata": {},
   "outputs": [],
   "source": []
  },
  {
   "cell_type": "code",
   "execution_count": null,
   "metadata": {},
   "outputs": [],
   "source": []
  }
 ],
 "metadata": {
  "interpreter": {
   "hash": "80d3c5160377edce05faa4296a2895bfa812f63b1849e1d79e316b2e2d68124d"
  },
  "kernelspec": {
   "display_name": "Python 3",
   "language": "python",
   "name": "python3"
  },
  "language_info": {
   "codemirror_mode": {
    "name": "ipython",
    "version": 3
   },
   "file_extension": ".py",
   "mimetype": "text/x-python",
   "name": "python",
   "nbconvert_exporter": "python",
   "pygments_lexer": "ipython3",
   "version": "3.6.7"
  }
 },
 "nbformat": 4,
 "nbformat_minor": 2
}
