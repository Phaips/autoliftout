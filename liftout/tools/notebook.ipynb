{
 "cells": [
  {
   "cell_type": "markdown",
   "metadata": {},
   "source": [
    "# Log Parser Notebook\n",
    "Exploratory notebook for testing out parsing the logs for workflow statistics\n"
   ]
  },
  {
   "cell_type": "code",
   "execution_count": 1,
   "metadata": {},
   "outputs": [],
   "source": [
    "%load_ext autoreload\n",
    "%autoreload 2\n",
    "import logging\n",
    "import datetime\n",
    "import time\n",
    "import glob\n",
    "\n",
    "import os\n",
    "filenames = sorted(glob.glob(os.path.join(os.path.dirname(os.getcwd()), \"log/run/**/*.log\")))\n",
    "\n",
    "# log_path = configure_logging(os.path.join(os.path.dirname(os.getcwd()), \"log/run/123456.789\"))"
   ]
  },
  {
   "cell_type": "code",
   "execution_count": null,
   "metadata": {},
   "outputs": [],
   "source": [
    "# TODO: better logs: https://www.toptal.com/python/in-depth-python-logging\n",
    "def configure_logging(save_path='', log_filename='logfile', log_level=logging.INFO):\n",
    "    \"\"\"Log to the terminal and to file simultaneously.\"\"\"\n",
    "    timestamp = datetime.datetime.fromtimestamp(time.time()).strftime(\n",
    "        '%Y%m%d.%H%M%S')  # datetime.now().strftime(\"_%Y-%m-%d_%H-%M-%S\")\n",
    "    logging.basicConfig(\n",
    "        format=\"%(asctime)s — %(name)s — %(levelname)s — %(funcName)s:%(lineno)d — %(message)s\", #\"%(asctime)s %(levelname)s %(message)s\",\n",
    "        level=log_level,\n",
    "        # Multiple handlers can be added to your logging configuration.\n",
    "        # By default log messages are appended to the file if it exists already\n",
    "        handlers=[\n",
    "            logging.FileHandler(save_path+'/'+log_filename+timestamp+'.log'),\n",
    "            logging.StreamHandler(),\n",
    "        ])\n",
    "    return save_path+'/'+log_filename+timestamp+'.log'\n"
   ]
  },
  {
   "cell_type": "markdown",
   "metadata": {},
   "source": [
    "### Fake Log Generator"
   ]
  },
  {
   "cell_type": "code",
   "execution_count": null,
   "metadata": {},
   "outputs": [],
   "source": [
    "import random\n",
    "# generate random log messages\n",
    "supported_feature_types = [\"image_centre\", \"lamella_centre\", \"needle_tip\", \"lamella_edge\", \"landing_post\"]\n",
    "for i in range(100):\n",
    "\n",
    "\n",
    "    RANDOM_NUM = random.randint(0, 5)\n",
    "\n",
    "    if RANDOM_NUM > 4:\n",
    "        feature_type = random.choice(supported_feature_types)\n",
    "        response = random.choice([True, False])\n",
    "        logging.info(f\"ml_detection: {feature_type}: {response}\")\n",
    "    elif RANDOM_NUM > 3:\n",
    "        diff = random.randint(-120, 120)\n",
    "        gam = random.random() * 2.0\n",
    "        logging.info(f\"gamma_correction: diff: {diff:.3f}: gam: {gam:.3f} \")\n",
    "    \n",
    "    else:\n",
    "        logging.info(f\"random other log message not with the same structure {random.random():.2f}\")\n"
   ]
  },
  {
   "cell_type": "markdown",
   "metadata": {},
   "source": [
    "## Log Parser"
   ]
  },
  {
   "cell_type": "code",
   "execution_count": 2,
   "metadata": {},
   "outputs": [
    {
     "name": "stdout",
     "output_type": "stream",
     "text": [
      "C:\\Users\\Admin\\Github\\autoliftout\\liftout\\log\\run\\20211027.165108/logfile_20211027.165108.log\n",
      "2021-10-27 16:51:08,693 — root — INFO — __init__:81 — Initialisation STARTED\n",
      "2021-10-27 16:51:08,694 — root — INFO — __init__:82 — gui: starting in online mode\n",
      "2021-10-27 16:51:09,152 — root — INFO — setup_connections:1468 — gui: setup connections started\n",
      "2021-10-27 16:51:09,152 — root — INFO — setup_connections:1494 — gui: setup connections finished\n",
      "2021-10-27 16:51:09,153 — root — INFO — pre_run_validation:176 — Running pre run validation\n",
      "2021-10-27 16:51:09,153 — root — WARNING — pre_run_validation:192 — validation_errors=['link_and_focus']\n",
      "2021-10-27 16:51:09,153 — root — INFO — pre_run_validation:193 — Finished pre run validation: 1 issues identified.\n",
      "2021-10-27 16:51:09,153 — root — INFO — __init__:173 — Initialisation FINISHED\n",
      "2021-10-27 16:51:46,439 — root — INFO — load_coordinates:437 — LOAD COORDINATES STARTED\n",
      "{'image_centre': {'False': 0, 'True': 0},\n",
      " 'lamella_centre': {'False': 0, 'True': 0},\n",
      " 'lamella_edge': {'False': 0, 'True': 0},\n",
      " 'landing_post': {'False': 0, 'True': 0},\n",
      " 'needle_tip': {'False': 0, 'True': 0}}\n"
     ]
    }
   ],
   "source": [
    "\n",
    "from LogParser import parse_log_file, plot_ml_data, plot_gamma_data\n",
    "from pprint import pprint\n",
    "\n",
    "filenames = sorted(glob.glob(os.path.join(os.path.dirname(os.getcwd()), \"log/run/**/*.log\")))\n",
    "log_path = filenames[-1]\n",
    "# log_path = r\"C:\\Users\\Admin\\Github\\autoliftout\\liftout\\log\\run\\20211020.155258\\logfile_20211020.155258.log\"\n",
    "# log_path = r\"C:\\Users\\Admin\\Github\\autoliftout\\liftout\\log\\run\\20211027.160458/logfile_20211027.160458.log\"\n",
    "log_path = r\"C:\\Users\\Admin\\Github\\autoliftout\\liftout\\log\\run\\20211027.165108/logfile_20211027.165108.log\"\n",
    "print(log_path)\n",
    "score_dict, gamma_dict, stage_dict = parse_log_file(log_path)\n",
    "pprint(score_dict)\n",
    "# pprint(gamma_dict)\n",
    "# pprint(stage_dict)"
   ]
  },
  {
   "cell_type": "markdown",
   "metadata": {},
   "source": [
    "## Machine Learning Evaluation"
   ]
  },
  {
   "cell_type": "code",
   "execution_count": 141,
   "metadata": {},
   "outputs": [
    {
     "data": {
      "text/plain": [
       "<matplotlib.axes._subplots.AxesSubplot at 0x259977d9dd8>"
      ]
     },
     "execution_count": 141,
     "metadata": {},
     "output_type": "execute_result"
    },
    {
     "data": {
      "image/png": "[encoded data removed]",
      "text/plain": [
       "<Figure size 432x288 with 1 Axes>"
      ]
     },
     "metadata": {
      "needs_background": "light"
     },
     "output_type": "display_data"
    }
   ],
   "source": [
    "# eval\n",
    "import matplotlib.pyplot as plt\n",
    "%matplotlib inline\n",
    "\n",
    "# TODO: better plots and analysis\n",
    "\n",
    "plot_ml_data(score_dict)\n"
   ]
  },
  {
   "cell_type": "code",
   "execution_count": 133,
   "metadata": {},
   "outputs": [
    {
     "data": {
      "text/plain": [
       "<matplotlib.axes._subplots.AxesSubplot at 0x25998acbb70>"
      ]
     },
     "execution_count": 133,
     "metadata": {},
     "output_type": "execute_result"
    },
    {
     "data": {
      "image/png": "[encoded data removed]",
      "text/plain": [
       "<Figure size 432x288 with 1 Axes>"
      ]
     },
     "metadata": {
      "needs_background": "light"
     },
     "output_type": "display_data"
    }
   ],
   "source": [
    "plot_gamma_data(gamma_dict)"
   ]
  },
  {
   "cell_type": "markdown",
   "metadata": {},
   "source": [
    "## Gamma Correction Evaluation\n",
    "evaluate the average gamma correction\n"
   ]
  },
  {
   "cell_type": "code",
   "execution_count": 134,
   "metadata": {},
   "outputs": [],
   "source": [
    "\n",
    "# pprint(gamma_dict)\n",
    "# df_gamma = pd.DataFrame(gamma_dict)\n",
    "# print(df_gamma)\n",
    "\n",
    "# df_gamma[\"gamma\"].plot.hist(bins=5, alpha=0.5, title=\"Gamma Correction Distribution\")"
   ]
  },
  {
   "cell_type": "markdown",
   "metadata": {},
   "source": [
    "### Status Evaluation"
   ]
  },
  {
   "cell_type": "code",
   "execution_count": 135,
   "metadata": {},
   "outputs": [
    {
     "name": "stdout",
     "output_type": "stream",
     "text": [
      "{'STARTED': datetime.datetime(2021, 10, 27, 16, 51, 8), 'FINISHED': datetime.datetime(2021, 10, 27, 16, 51, 9)}\n",
      "Initialisation: 0:00:01\n",
      "{'STARTED': None, 'FINISHED': None}\n",
      "{'STARTED': None, 'FINISHED': None}\n",
      "{'STARTED': None, 'FINISHED': None}\n",
      "{'STARTED': None, 'FINISHED': None}\n",
      "{'STARTED': None, 'FINISHED': None}\n",
      "{'STARTED': None, 'FINISHED': None}\n",
      "{'STARTED': None, 'FINISHED': None}\n"
     ]
    }
   ],
   "source": [
    "# pprint(stage_dict)\n",
    "\n",
    "for state in stage_dict.keys():\n",
    "    print(stage_dict[state])\n",
    "    if stage_dict[state][\"FINISHED\"] and stage_dict[state][\"STARTED\"]:\n",
    "        state_duration = stage_dict[state][\"FINISHED\"] - stage_dict[state][\"STARTED\"]\n",
    "        print(f\"{state}: {state_duration}\") "
   ]
  },
  {
   "cell_type": "code",
   "execution_count": null,
   "metadata": {},
   "outputs": [],
   "source": [
    "\n"
   ]
  },
  {
   "cell_type": "code",
   "execution_count": null,
   "metadata": {},
   "outputs": [],
   "source": []
  },
  {
   "cell_type": "code",
   "execution_count": null,
   "metadata": {},
   "outputs": [],
   "source": []
  },
  {
   "cell_type": "code",
   "execution_count": null,
   "metadata": {},
   "outputs": [],
   "source": []
  },
  {
   "cell_type": "code",
   "execution_count": 115,
   "metadata": {},
   "outputs": [
    {
     "name": "stdout",
     "output_type": "stream",
     "text": [
      "C:\\Users\\Admin\\Github\\autoliftout\\liftout\\log\\run\\20211027.160458\\sample.yaml\n",
      "0.0029498878238866295 -0.003316875\n",
      "0.0031833044916999495 -0.0032977916666666668\n"
     ]
    },
    {
     "data": {
      "image/png": "[encoded data removed]",
      "text/plain": [
       "<Figure size 432x288 with 1 Axes>"
      ]
     },
     "metadata": {
      "needs_background": "light"
     },
     "output_type": "display_data"
    }
   ],
   "source": [
    "# TODO: read sample.yaml and plot the coordinates\n",
    "log_dir = r\"C:\\Users\\Admin\\Github\\autoliftout\\liftout\\log\\run\\20211027.160458\"\n",
    "yaml_file = os.path.join(log_dir, \"sample.yaml\")\n",
    "print(yaml_file)\n",
    "\n",
    "%matplotlib inline\n",
    "import yaml\n",
    "with open(yaml_file, 'r') as f:\n",
    "    sample_yaml = yaml.safe_load(f)\n",
    "\n",
    "\n",
    "for sample_no in sample_yaml[\"sample\"].keys():\n",
    "    lamella_coords = sample_yaml[\"sample\"][sample_no][\"lamella_coordinates\"]\n",
    "    x, y = lamella_coords[\"x\"], lamella_coords[\"y\"]\n",
    "    print(x, y)\n",
    "    plt.scatter(x, y, label=sample_no)\n",
    "\n",
    "plt.legend(loc=\"best\")\n",
    "plt.ylim(-0.005, 0)\n",
    "plt.xlim(0.002, 0.005)\n",
    "# plt.scatter(plot_coords_x, plot_coords_y, label=\"hello\")\n",
    "plt.show()"
   ]
  },
  {
   "cell_type": "markdown",
   "metadata": {},
   "source": [
    "# Extract data for labelling\n"
   ]
  },
  {
   "cell_type": "code",
   "execution_count": 49,
   "metadata": {},
   "outputs": [],
   "source": [
    "from liftout.detection import utils"
   ]
  },
  {
   "cell_type": "code",
   "execution_count": 55,
   "metadata": {},
   "outputs": [
    {
     "name": "stdout",
     "output_type": "stream",
     "text": [
      "c:\\users\\admin\\github\\autoliftout\\liftout\\data\\retrain\n",
      "510 images found for relabelling\n",
      "C:/Users\\Admin\\Github\\autoliftout\\liftout\\log\\run\\20211027.082641\\img\\20211027.082641_label.tif 20211027.082641_label.tif\n",
      "C:/Users\\Admin\\Github\\autoliftout\\liftout\\log\\run\\20211027.082828\\img\\20211027.082829_label.tif 20211027.082829_label.tif\n",
      "C:/Users\\Admin\\Github\\autoliftout\\liftout\\log\\run\\20211027.083124\\img\\20211027.083125_label.tif 20211027.083125_label.tif\n",
      "C:/Users\\Admin\\Github\\autoliftout\\liftout\\log\\run\\20211027.083957\\img\\20211027.083957_label.tif 20211027.083957_label.tif\n",
      "C:/Users\\Admin\\Github\\autoliftout\\liftout\\log\\run\\20211027.084317\\img\\20211027.084317_label.tif 20211027.084317_label.tif\n",
      "C:/Users\\Admin\\Github\\autoliftout\\liftout\\log\\run\\20211027.085023\\img\\20211027.085023_label.tif 20211027.085023_label.tif\n",
      "C:/Users\\Admin\\Github\\autoliftout\\liftout\\log\\run\\20211027.090326\\img\\20211027.090326_label.tif 20211027.090326_label.tif\n",
      "C:/Users\\Admin\\Github\\autoliftout\\liftout\\log\\run\\20211027.090633\\img\\20211027.090633_label.tif 20211027.090633_label.tif\n",
      "C:/Users\\Admin\\Github\\autoliftout\\liftout\\log\\run\\20211027.094647\\img\\20211027.094647_label.tif 20211027.094647_label.tif\n",
      "C:/Users\\Admin\\Github\\autoliftout\\liftout\\log\\run\\20211027.103546\\img\\20211027.103546_label.tif 20211027.103546_label.tif\n"
     ]
    }
   ],
   "source": [
    "log_dir = os.path.dirname(os.path.dirname(log_path))\n",
    "utils.extract_img_for_labelling(log_dir)"
   ]
  },
  {
   "cell_type": "code",
   "execution_count": null,
   "metadata": {},
   "outputs": [],
   "source": []
  }
 ],
 "metadata": {
  "interpreter": {
   "hash": "80d3c5160377edce05faa4296a2895bfa812f63b1849e1d79e316b2e2d68124d"
  },
  "kernelspec": {
   "display_name": "Python 3",
   "language": "python",
   "name": "python3"
  },
  "language_info": {
   "codemirror_mode": {
    "name": "ipython",
    "version": 3
   },
   "file_extension": ".py",
   "mimetype": "text/x-python",
   "name": "python",
   "nbconvert_exporter": "python",
   "pygments_lexer": "ipython3",
   "version": "3.6.7"
  }
 },
 "nbformat": 4,
 "nbformat_minor": 2
}
