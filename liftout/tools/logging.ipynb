{
 "cells": [
  {
   "cell_type": "code",
   "execution_count": 1,
   "metadata": {},
   "outputs": [],
   "source": [
    "%load_ext autoreload\n",
    "%autoreload 2\n",
    "\n",
    "import os\n",
    "import glob\n",
    "\n",
    "from LogParser import parse_log_file\n",
    "from pprint import pprint\n",
    "\n",
    "import LogParser\n"
   ]
  },
  {
   "cell_type": "code",
   "execution_count": 2,
   "metadata": {
    "scrolled": false
   },
   "outputs": [],
   "source": [
    "log_dir = r\"C:\\Users\\Admin\\Github\\autoliftout\\liftout\\log\\logging_2022-02-17.151141\"\n",
    "\n",
    "statistics = parse_log_file(log_dir)"
   ]
  },
  {
   "cell_type": "code",
   "execution_count": 3,
   "metadata": {
    "scrolled": false
   },
   "outputs": [
    {
     "name": "stdout",
     "output_type": "stream",
     "text": [
      "{'Finished': 0,\n",
      " 'Initialisation': 0,\n",
      " 'Landing': 8,\n",
      " 'Liftout': 15,\n",
      " 'MillJCut': 6,\n",
      " 'MillTrench': 2,\n",
      " 'Polishing': 0,\n",
      " 'Reset': 0,\n",
      " 'Setup': 21,\n",
      " 'Thinning': 17}\n",
      "--------------------\n",
      "{'image_centre': [9, 9],\n",
      " 'lamella_centre': [3, 21],\n",
      " 'lamella_edge': [0, 8],\n",
      " 'landing_post': [8, 8],\n",
      " 'needle_tip': [10, 12]}\n",
      "--------------------\n",
      "--------------------\n",
      "{'42fc6b5d-4436-4b44-a8fd-0217af918811': {'Finished': [0,\n",
      "                                                       datetime.datetime(2022, 2, 17, 17, 22, 53)],\n",
      "                                          'Initialisation': [datetime.datetime(2022, 2, 17, 15, 37, 10),\n",
      "                                                             datetime.datetime(2022, 2, 17, 15, 37, 10)],\n",
      "                                          'Landing': [datetime.datetime(2022, 2, 17, 15, 52, 34),\n",
      "                                                      datetime.datetime(2022, 2, 17, 16, 1, 55)],\n",
      "                                          'Liftout': [datetime.datetime(2022, 2, 17, 15, 44, 51),\n",
      "                                                      datetime.datetime(2022, 2, 17, 15, 52, 19)],\n",
      "                                          'MillJCut': [datetime.datetime(2022, 2, 17, 15, 37, 30),\n",
      "                                                       datetime.datetime(2022, 2, 17, 15, 44, 43)],\n",
      "                                          'MillTrench': [datetime.datetime(2022, 2, 17, 15, 21, 22),\n",
      "                                                         datetime.datetime(2022, 2, 17, 15, 31, 5)],\n",
      "                                          'Polishing': [datetime.datetime(2022, 2, 17, 17, 16, 44),\n",
      "                                                        datetime.datetime(2022, 2, 17, 17, 19, 44)],\n",
      "                                          'Reset': [datetime.datetime(2022, 2, 17, 16, 2, 3),\n",
      "                                                    datetime.datetime(2022, 2, 17, 16, 8, 5)],\n",
      "                                          'Setup': [datetime.datetime(2022, 2, 17, 15, 11, 45),\n",
      "                                                    datetime.datetime(2022, 2, 17, 15, 19, 44)],\n",
      "                                          'Thinning': [datetime.datetime(2022, 2, 17, 16, 55, 40),\n",
      "                                                       0]},\n",
      " '85a188d6-82e0-4601-b419-48e6bbba9fb6': {'Finished': [0,\n",
      "                                                       datetime.datetime(2022, 2, 17, 17, 22, 54)],\n",
      "                                          'Initialisation': [datetime.datetime(2022, 2, 17, 15, 37, 10),\n",
      "                                                             datetime.datetime(2022, 2, 17, 15, 37, 10)],\n",
      "                                          'Landing': [datetime.datetime(2022, 2, 17, 16, 35, 7),\n",
      "                                                      datetime.datetime(2022, 2, 17, 16, 46, 14)],\n",
      "                                          'Liftout': [datetime.datetime(2022, 2, 17, 16, 27, 2),\n",
      "                                                      datetime.datetime(2022, 2, 17, 16, 34, 59)],\n",
      "                                          'MillJCut': [datetime.datetime(2022, 2, 17, 16, 19, 22),\n",
      "                                                       datetime.datetime(2022, 2, 17, 16, 26, 53)],\n",
      "                                          'MillTrench': [datetime.datetime(2022, 2, 17, 16, 8, 20),\n",
      "                                                         datetime.datetime(2022, 2, 17, 16, 19, 6)],\n",
      "                                          'Polishing': [datetime.datetime(2022, 2, 17, 17, 19, 51),\n",
      "                                                        datetime.datetime(2022, 2, 17, 17, 22, 53)],\n",
      "                                          'Reset': [datetime.datetime(2022, 2, 17, 16, 46, 21),\n",
      "                                                    datetime.datetime(2022, 2, 17, 16, 52, 14)],\n",
      "                                          'Setup': [datetime.datetime(2022, 2, 17, 15, 11, 45),\n",
      "                                                    datetime.datetime(2022, 2, 17, 15, 19, 44)],\n",
      "                                          'Thinning': [datetime.datetime(2022, 2, 17, 17, 7, 52),\n",
      "                                                       datetime.datetime(2022, 2, 17, 17, 16, 38)]}}\n"
     ]
    }
   ],
   "source": [
    "pprint(dict(statistics[\"click\"]))\n",
    "\n",
    "print(\"-\"*20)\n",
    "pprint(dict(statistics[\"ml\"]))\n",
    "\n",
    "print(\"-\"*20)\n",
    "\n",
    "# pprint(dict(statistics[\"gamma\"]))\n",
    "\n",
    "print(\"-\"*20)\n",
    "pprint(dict(statistics[\"stage\"]))"
   ]
  },
  {
   "cell_type": "code",
   "execution_count": 4,
   "metadata": {},
   "outputs": [],
   "source": [
    "import numpy as np\n",
    "\n",
    "gam_mean = np.mean(statistics[\"gamma\"][\"gamma\"])\n",
    "gam_std = np.std(statistics[\"gamma\"][\"gamma\"])"
   ]
  },
  {
   "cell_type": "code",
   "execution_count": null,
   "metadata": {},
   "outputs": [],
   "source": []
  },
  {
   "cell_type": "code",
   "execution_count": 5,
   "metadata": {
    "scrolled": false
   },
   "outputs": [
    {
     "name": "stdout",
     "output_type": "stream",
     "text": [
      "Generating Run Statistics and Plots\n"
     ]
    },
    {
     "data": {
      "image/png": "[encoded data removed]",
      "text/plain": [
       "<Figure size 432x288 with 1 Axes>"
      ]
     },
     "metadata": {
      "needs_background": "light"
     },
     "output_type": "display_data"
    },
    {
     "name": "stdout",
     "output_type": "stream",
     "text": [
      "                true  total  false  percentage\n",
      "image_centre       9      9      0    1.000000\n",
      "lamella_centre     3     21     18    0.142857\n",
      "needle_tip        10     12      2    0.833333\n",
      "lamella_edge       0      8      8    0.000000\n",
      "landing_post       8      8      0    1.000000\n",
      "42fc6b5d-4436-4b44-a8fd-0217af918811\n",
      "85a188d6-82e0-4601-b419-48e6bbba9fb6\n"
     ]
    },
    {
     "data": {
      "text/plain": [
       "<Figure size 432x288 with 0 Axes>"
      ]
     },
     "metadata": {},
     "output_type": "display_data"
    },
    {
     "data": {
      "image/png": "[encoded data removed]",
      "text/plain": [
       "<Figure size 432x288 with 1 Axes>"
      ]
     },
     "metadata": {
      "needs_background": "light"
     },
     "output_type": "display_data"
    },
    {
     "data": {
      "text/plain": [
       "<Figure size 432x288 with 0 Axes>"
      ]
     },
     "metadata": {},
     "output_type": "display_data"
    },
    {
     "data": {
      "image/png": "[encoded data removed]",
      "text/plain": [
       "<Figure size 432x288 with 1 Axes>"
      ]
     },
     "metadata": {
      "needs_background": "light"
     },
     "output_type": "display_data"
    },
    {
     "data": {
      "image/png": "[encoded data removed]",
      "text/plain": [
       "<Figure size 432x288 with 1 Axes>"
      ]
     },
     "metadata": {
      "needs_background": "light"
     },
     "output_type": "display_data"
    },
    {
     "data": {
      "image/png": "[encoded data removed]",
      "text/plain": [
       "<Figure size 432x288 with 1 Axes>"
      ]
     },
     "metadata": {
      "needs_background": "light"
     },
     "output_type": "display_data"
    },
    {
     "data": {
      "image/png": "[encoded data removed]",
      "text/plain": [
       "<Figure size 432x288 with 1 Axes>"
      ]
     },
     "metadata": {
      "needs_background": "light"
     },
     "output_type": "display_data"
    }
   ],
   "source": [
    "report_statistics = LogParser.generate_report_data(statistics, log_dir)"
   ]
  },
  {
   "cell_type": "code",
   "execution_count": 6,
   "metadata": {},
   "outputs": [
    {
     "name": "stdout",
     "output_type": "stream",
     "text": [
      "['C:\\\\Users\\\\Admin\\\\Github\\\\autoliftout\\\\liftout\\\\log\\\\logging_2022-02-17.151141\\\\report\\\\42fc6b5d-4436-4b44-a8fd-0217af918811_duration.png',\n",
      " 'C:\\\\Users\\\\Admin\\\\Github\\\\autoliftout\\\\liftout\\\\log\\\\logging_2022-02-17.151141\\\\report\\\\85a188d6-82e0-4601-b419-48e6bbba9fb6_duration.png',\n",
      " 'C:\\\\Users\\\\Admin\\\\Github\\\\autoliftout\\\\liftout\\\\log\\\\logging_2022-02-17.151141\\\\report\\\\clicks.png',\n",
      " 'C:\\\\Users\\\\Admin\\\\Github\\\\autoliftout\\\\liftout\\\\log\\\\logging_2022-02-17.151141\\\\report\\\\gamma_statistics.png',\n",
      " 'C:\\\\Users\\\\Admin\\\\Github\\\\autoliftout\\\\liftout\\\\log\\\\logging_2022-02-17.151141\\\\report\\\\ml_accuracy.png',\n",
      " 'C:\\\\Users\\\\Admin\\\\Github\\\\autoliftout\\\\liftout\\\\log\\\\logging_2022-02-17.151141\\\\report\\\\ml_statistics.png']\n"
     ]
    }
   ],
   "source": [
    "imgs = glob.glob(os.path.join(log_dir, \"report\", \"*.png\"))\n",
    "pprint(imgs)"
   ]
  },
  {
   "cell_type": "code",
   "execution_count": 22,
   "metadata": {
    "scrolled": false
   },
   "outputs": [
    {
     "name": "stdout",
     "output_type": "stream",
     "text": [
      "{'42fc6b5d-4436-4b44-a8fd-0217af918811': ['C:\\\\Users\\\\Admin\\\\Github\\\\autoliftout\\\\liftout\\\\log\\\\logging_2022-02-17.151141\\\\42fc6b5d-4436-4b44-a8fd-0217af918811\\\\ref_lamella_low_res_eb.png',\n",
      "                                          'C:\\\\Users\\\\Admin\\\\Github\\\\autoliftout\\\\liftout\\\\log\\\\logging_2022-02-17.151141\\\\42fc6b5d-4436-4b44-a8fd-0217af918811\\\\ref_trench_high_res_ib.png',\n",
      "                                          'C:\\\\Users\\\\Admin\\\\Github\\\\autoliftout\\\\liftout\\\\log\\\\logging_2022-02-17.151141\\\\42fc6b5d-4436-4b44-a8fd-0217af918811\\\\jcut_highres_ib.png',\n",
      "                                          'C:\\\\Users\\\\Admin\\\\Github\\\\autoliftout\\\\liftout\\\\log\\\\logging_2022-02-17.151141\\\\42fc6b5d-4436-4b44-a8fd-0217af918811\\\\needle_liftout_landed_highres_ib.png',\n",
      "                                          'C:\\\\Users\\\\Admin\\\\Github\\\\autoliftout\\\\liftout\\\\log\\\\logging_2022-02-17.151141\\\\42fc6b5d-4436-4b44-a8fd-0217af918811\\\\landing_lamella_final_cut_highres_ib.png',\n",
      "                                          'C:\\\\Users\\\\Admin\\\\Github\\\\autoliftout\\\\liftout\\\\log\\\\logging_2022-02-17.151141\\\\42fc6b5d-4436-4b44-a8fd-0217af918811\\\\sharpen_needle_final_ib.png',\n",
      "                                          'C:\\\\Users\\\\Admin\\\\Github\\\\autoliftout\\\\liftout\\\\log\\\\logging_2022-02-17.151141\\\\42fc6b5d-4436-4b44-a8fd-0217af918811\\\\thin_lamella_stage_2_ib.png',\n",
      "                                          'C:\\\\Users\\\\Admin\\\\Github\\\\autoliftout\\\\liftout\\\\log\\\\logging_2022-02-17.151141\\\\42fc6b5d-4436-4b44-a8fd-0217af918811\\\\polish_lamella_final_ib.png',\n",
      "                                          'C:\\\\Users\\\\Admin\\\\Github\\\\autoliftout\\\\liftout\\\\log\\\\logging_2022-02-17.151141\\\\85a188d6-82e0-4601-b419-48e6bbba9fb6\\\\ref_lamella_low_res_eb.png',\n",
      "                                          'C:\\\\Users\\\\Admin\\\\Github\\\\autoliftout\\\\liftout\\\\log\\\\logging_2022-02-17.151141\\\\85a188d6-82e0-4601-b419-48e6bbba9fb6\\\\ref_trench_high_res_ib.png',\n",
      "                                          'C:\\\\Users\\\\Admin\\\\Github\\\\autoliftout\\\\liftout\\\\log\\\\logging_2022-02-17.151141\\\\85a188d6-82e0-4601-b419-48e6bbba9fb6\\\\jcut_highres_ib.png',\n",
      "                                          'C:\\\\Users\\\\Admin\\\\Github\\\\autoliftout\\\\liftout\\\\log\\\\logging_2022-02-17.151141\\\\85a188d6-82e0-4601-b419-48e6bbba9fb6\\\\needle_liftout_landed_highres_ib.png',\n",
      "                                          'C:\\\\Users\\\\Admin\\\\Github\\\\autoliftout\\\\liftout\\\\log\\\\logging_2022-02-17.151141\\\\85a188d6-82e0-4601-b419-48e6bbba9fb6\\\\landing_lamella_final_cut_highres_ib.png',\n",
      "                                          'C:\\\\Users\\\\Admin\\\\Github\\\\autoliftout\\\\liftout\\\\log\\\\logging_2022-02-17.151141\\\\85a188d6-82e0-4601-b419-48e6bbba9fb6\\\\sharpen_needle_final_ib.png',\n",
      "                                          'C:\\\\Users\\\\Admin\\\\Github\\\\autoliftout\\\\liftout\\\\log\\\\logging_2022-02-17.151141\\\\85a188d6-82e0-4601-b419-48e6bbba9fb6\\\\thin_lamella_stage_2_ib.png',\n",
      "                                          'C:\\\\Users\\\\Admin\\\\Github\\\\autoliftout\\\\liftout\\\\log\\\\logging_2022-02-17.151141\\\\85a188d6-82e0-4601-b419-48e6bbba9fb6\\\\polish_lamella_final_ib.png'],\n",
      " '85a188d6-82e0-4601-b419-48e6bbba9fb6': ['C:\\\\Users\\\\Admin\\\\Github\\\\autoliftout\\\\liftout\\\\log\\\\logging_2022-02-17.151141\\\\42fc6b5d-4436-4b44-a8fd-0217af918811\\\\ref_lamella_low_res_eb.png',\n",
      "                                          'C:\\\\Users\\\\Admin\\\\Github\\\\autoliftout\\\\liftout\\\\log\\\\logging_2022-02-17.151141\\\\42fc6b5d-4436-4b44-a8fd-0217af918811\\\\ref_trench_high_res_ib.png',\n",
      "                                          'C:\\\\Users\\\\Admin\\\\Github\\\\autoliftout\\\\liftout\\\\log\\\\logging_2022-02-17.151141\\\\42fc6b5d-4436-4b44-a8fd-0217af918811\\\\jcut_highres_ib.png',\n",
      "                                          'C:\\\\Users\\\\Admin\\\\Github\\\\autoliftout\\\\liftout\\\\log\\\\logging_2022-02-17.151141\\\\42fc6b5d-4436-4b44-a8fd-0217af918811\\\\needle_liftout_landed_highres_ib.png',\n",
      "                                          'C:\\\\Users\\\\Admin\\\\Github\\\\autoliftout\\\\liftout\\\\log\\\\logging_2022-02-17.151141\\\\42fc6b5d-4436-4b44-a8fd-0217af918811\\\\landing_lamella_final_cut_highres_ib.png',\n",
      "                                          'C:\\\\Users\\\\Admin\\\\Github\\\\autoliftout\\\\liftout\\\\log\\\\logging_2022-02-17.151141\\\\42fc6b5d-4436-4b44-a8fd-0217af918811\\\\sharpen_needle_final_ib.png',\n",
      "                                          'C:\\\\Users\\\\Admin\\\\Github\\\\autoliftout\\\\liftout\\\\log\\\\logging_2022-02-17.151141\\\\42fc6b5d-4436-4b44-a8fd-0217af918811\\\\thin_lamella_stage_2_ib.png',\n",
      "                                          'C:\\\\Users\\\\Admin\\\\Github\\\\autoliftout\\\\liftout\\\\log\\\\logging_2022-02-17.151141\\\\42fc6b5d-4436-4b44-a8fd-0217af918811\\\\polish_lamella_final_ib.png',\n",
      "                                          'C:\\\\Users\\\\Admin\\\\Github\\\\autoliftout\\\\liftout\\\\log\\\\logging_2022-02-17.151141\\\\85a188d6-82e0-4601-b419-48e6bbba9fb6\\\\ref_lamella_low_res_eb.png',\n",
      "                                          'C:\\\\Users\\\\Admin\\\\Github\\\\autoliftout\\\\liftout\\\\log\\\\logging_2022-02-17.151141\\\\85a188d6-82e0-4601-b419-48e6bbba9fb6\\\\ref_trench_high_res_ib.png',\n",
      "                                          'C:\\\\Users\\\\Admin\\\\Github\\\\autoliftout\\\\liftout\\\\log\\\\logging_2022-02-17.151141\\\\85a188d6-82e0-4601-b419-48e6bbba9fb6\\\\jcut_highres_ib.png',\n",
      "                                          'C:\\\\Users\\\\Admin\\\\Github\\\\autoliftout\\\\liftout\\\\log\\\\logging_2022-02-17.151141\\\\85a188d6-82e0-4601-b419-48e6bbba9fb6\\\\needle_liftout_landed_highres_ib.png',\n",
      "                                          'C:\\\\Users\\\\Admin\\\\Github\\\\autoliftout\\\\liftout\\\\log\\\\logging_2022-02-17.151141\\\\85a188d6-82e0-4601-b419-48e6bbba9fb6\\\\landing_lamella_final_cut_highres_ib.png',\n",
      "                                          'C:\\\\Users\\\\Admin\\\\Github\\\\autoliftout\\\\liftout\\\\log\\\\logging_2022-02-17.151141\\\\85a188d6-82e0-4601-b419-48e6bbba9fb6\\\\sharpen_needle_final_ib.png',\n",
      "                                          'C:\\\\Users\\\\Admin\\\\Github\\\\autoliftout\\\\liftout\\\\log\\\\logging_2022-02-17.151141\\\\85a188d6-82e0-4601-b419-48e6bbba9fb6\\\\thin_lamella_stage_2_ib.png',\n",
      "                                          'C:\\\\Users\\\\Admin\\\\Github\\\\autoliftout\\\\liftout\\\\log\\\\logging_2022-02-17.151141\\\\85a188d6-82e0-4601-b419-48e6bbba9fb6\\\\polish_lamella_final_ib.png']}\n"
     ]
    }
   ],
   "source": [
    "exemplar_filenames = [\"ref_lamella_low_res_eb\", \"ref_trench_high_res_ib\", \"jcut_highres_ib\",\n",
    "                          \"needle_liftout_landed_highres_ib\", \"landing_lamella_final_cut_highres_ib\", \"sharpen_needle_final_ib\",\n",
    "                          \"thin_lamella_stage_2_ib\", \"polish_lamella_final_ib\"]\n",
    "from autoscript_sdb_microscope_client.structures import AdornedImage\n",
    "import matplotlib.pyplot as plt\n",
    "\n",
    "from PIL import Image\n",
    "\n",
    "exem_imgs = dict.fromkeys(statistics[\"stage\"], [])\n",
    "\n",
    "for sp_id in statistics[\"stage\"]:\n",
    "    \n",
    "    \n",
    "    for img_basename in exemplar_filenames:\n",
    "        fname = os.path.join(log_dir, sp_id, f\"{img_basename}.tif\")\n",
    "        fname_png = os.path.join(log_dir, sp_id, f\"{img_basename}.png\")\n",
    "        \n",
    "        adorned_img = AdornedImage.load(fname)\n",
    "        img = Image.fromarray(adorned_img.data)\n",
    "        img.save(fname_png)\n",
    "        \n",
    "        del img\n",
    "        img = Image.open(fname_png)\n",
    "    \n",
    "        exem_imgs[sp_id].append(fname_png)\n",
    "\n",
    "#         plt.title(img_basename)\n",
    "#         plt.imshow(img, cmap=\"gray\")\n",
    "#         plt.show()\n",
    "        \n",
    "\n",
    "pprint(exem_imgs)\n",
    "\n"
   ]
  },
  {
   "cell_type": "code",
   "execution_count": 26,
   "metadata": {},
   "outputs": [
    {
     "name": "stdout",
     "output_type": "stream",
     "text": [
      "HTML Report Generated\n"
     ]
    }
   ],
   "source": [
    "from liftout import tools \n",
    "\n",
    "# TODO: sample exemplar images from gui\n",
    "\n",
    "\n",
    "report_dir = os.path.join(log_dir, \"report\")\n",
    "page_title_text='AutoLiftout Report'\n",
    "title_text = f\"AutoLiftout Report\"\n",
    "text = f\"AutoLiftout report for run: {log_dir}\"\n",
    "gamma_text = \"Gamma Correction Statistics\"\n",
    "ml_stats_text = \"Machine Learning Statistics\"\n",
    "stage_duration_text = \"Stage Duration Statistics\"\n",
    "clicks_text = \"User Clicks\"\n",
    "\n",
    "duration_imgs = glob.glob(os.path.join(report_dir, \"*duration.png\"))\n",
    "\n",
    "\n",
    "html = f\"\"\"\n",
    "        <html>\n",
    "            <head>\n",
    "                <title>{page_title_text}</title>\n",
    "                <link rel=\"stylesheet\" href='{os.path.join(os.path.dirname(tools.__file__), \"style.css\")}'>\n",
    "\n",
    "            </head>\n",
    "            <body>\n",
    "                <h1 style=\"text-align:center\">{title_text}</h1>\n",
    "                <p style=\"text-align:center\">{text}</p>\n",
    "                \n",
    "                <div id=\"stats\">\n",
    "                    \n",
    "                    <h2>{clicks_text}</h2>\n",
    "                    <div id=\"click\">\n",
    "                        <img src='{os.path.join(report_dir, \"clicks.png\")}' width=\"700\">\n",
    "                    </div>\n",
    "                    \n",
    "                    <h2>{gamma_text}</h2>\n",
    "                    <div id=\"gamma\">\n",
    "                        <img src='{os.path.join(report_dir, \"gamma_statistics.png\")}' width=\"700\">\n",
    "                    </div>\n",
    "        \n",
    "                    <h2>{ml_stats_text}</h2>\n",
    "                    <div id=\"ml\">\n",
    "                        <img src='{os.path.join(report_dir, \"ml_statistics.png\")}' width=\"700\">\n",
    "                        <img src='{os.path.join(report_dir, \"ml_accuracy.png\")}' width=\"700\">\n",
    "                    </div>\n",
    "                    \n",
    "                    <h2>{stage_duration_text}</h2>\n",
    "                    <div id=\"stage_duration\">\n",
    "                        <img src='{os.path.join(report_dir, duration_imgs[0])}' width=\"700\">\n",
    "                        <img src='{exem_imgs[\"42fc6b5d-4436-4b44-a8fd-0217af918811\"][0]}' width=\"150\">\n",
    "                        <img src='{exem_imgs[\"42fc6b5d-4436-4b44-a8fd-0217af918811\"][1]}' width=\"150\">\n",
    "                        <img src='{exem_imgs[\"42fc6b5d-4436-4b44-a8fd-0217af918811\"][2]}' width=\"150\">\n",
    "                        <img src='{exem_imgs[\"42fc6b5d-4436-4b44-a8fd-0217af918811\"][3]}' width=\"150\">\n",
    "                        <img src='{exem_imgs[\"42fc6b5d-4436-4b44-a8fd-0217af918811\"][4]}' width=\"150\">\n",
    "                        <img src='{exem_imgs[\"42fc6b5d-4436-4b44-a8fd-0217af918811\"][5]}' width=\"150\">\n",
    "                        <img src='{exem_imgs[\"42fc6b5d-4436-4b44-a8fd-0217af918811\"][6]}' width=\"150\">\n",
    "                        <img src='{exem_imgs[\"42fc6b5d-4436-4b44-a8fd-0217af918811\"][7]}' width=\"150\">\n",
    "                    </div>       \n",
    "                    \n",
    "                    <h2>{stage_duration_text}</h2>\n",
    "                    <div id=\"stage_duration\">\n",
    "                        <img src='{os.path.join(report_dir, duration_imgs[0])}' width=\"700\">\n",
    "                        <img src='{exem_imgs[\"85a188d6-82e0-4601-b419-48e6bbba9fb6\"][0]}' width=\"150\">\n",
    "                        <img src='{exem_imgs[\"85a188d6-82e0-4601-b419-48e6bbba9fb6\"][1]}' width=\"150\">\n",
    "                        <img src='{exem_imgs[\"85a188d6-82e0-4601-b419-48e6bbba9fb6\"][2]}' width=\"150\">\n",
    "                        <img src='{exem_imgs[\"85a188d6-82e0-4601-b419-48e6bbba9fb6\"][3]}' width=\"150\">\n",
    "                        <img src='{exem_imgs[\"85a188d6-82e0-4601-b419-48e6bbba9fb6\"][4]}' width=\"150\">\n",
    "                        <img src='{exem_imgs[\"85a188d6-82e0-4601-b419-48e6bbba9fb6\"][5]}' width=\"150\">\n",
    "                        <img src='{exem_imgs[\"85a188d6-82e0-4601-b419-48e6bbba9fb6\"][6]}' width=\"150\">\n",
    "                        <img src='{exem_imgs[\"85a188d6-82e0-4601-b419-48e6bbba9fb6\"][7]}' width=\"150\">\n",
    "\n",
    "                    </div>  \n",
    "                    \n",
    "                </div>\n",
    "                                \n",
    "            </body>\n",
    "        </html>\n",
    "        \"\"\"\n",
    "# 3. Write the html string as an HTML file\n",
    "with open(os.path.join(log_dir, \"html_report.html\"), \"w\") as f:\n",
    "    f.write(html)\n",
    "\n",
    "print(\"HTML Report Generated\")"
   ]
  },
  {
   "cell_type": "code",
   "execution_count": null,
   "metadata": {},
   "outputs": [],
   "source": []
  },
  {
   "cell_type": "code",
   "execution_count": null,
   "metadata": {},
   "outputs": [],
   "source": []
  },
  {
   "cell_type": "code",
   "execution_count": null,
   "metadata": {},
   "outputs": [],
   "source": []
  },
  {
   "cell_type": "code",
   "execution_count": null,
   "metadata": {},
   "outputs": [],
   "source": []
  },
  {
   "cell_type": "code",
   "execution_count": null,
   "metadata": {},
   "outputs": [],
   "source": []
  },
  {
   "cell_type": "code",
   "execution_count": null,
   "metadata": {},
   "outputs": [],
   "source": []
  },
  {
   "cell_type": "code",
   "execution_count": null,
   "metadata": {},
   "outputs": [],
   "source": []
  },
  {
   "cell_type": "code",
   "execution_count": null,
   "metadata": {},
   "outputs": [],
   "source": []
  },
  {
   "cell_type": "code",
   "execution_count": 335,
   "metadata": {},
   "outputs": [
    {
     "name": "stdout",
     "output_type": "stream",
     "text": [
      "The autoreload extension is already loaded. To reload it, use:\n",
      "  %reload_ext autoreload\n"
     ]
    },
    {
     "ename": "ImportError",
     "evalue": "cannot import name 'plot_gamma_data'",
     "output_type": "error",
     "traceback": [
      "\u001b[1;31m---------------------------------------------------------------------------\u001b[0m",
      "\u001b[1;31mImportError\u001b[0m                               Traceback (most recent call last)",
      "\u001b[1;32m<ipython-input-335-65063a99b467>\u001b[0m in \u001b[0;36m<module>\u001b[1;34m\u001b[0m\n\u001b[0;32m     22\u001b[0m \u001b[1;32mimport\u001b[0m \u001b[0mos\u001b[0m\u001b[1;33m\u001b[0m\u001b[1;33m\u001b[0m\u001b[0m\n\u001b[0;32m     23\u001b[0m \u001b[1;32mimport\u001b[0m \u001b[0mglob\u001b[0m\u001b[1;33m\u001b[0m\u001b[1;33m\u001b[0m\u001b[0m\n\u001b[1;32m---> 24\u001b[1;33m \u001b[1;32mfrom\u001b[0m \u001b[0mliftout\u001b[0m\u001b[1;33m.\u001b[0m\u001b[0mtools\u001b[0m\u001b[1;33m.\u001b[0m\u001b[0mLogParser\u001b[0m \u001b[1;32mimport\u001b[0m \u001b[0mparse_log_file\u001b[0m\u001b[1;33m,\u001b[0m \u001b[0mplot_gamma_data\u001b[0m\u001b[1;33m,\u001b[0m \u001b[0mplot_ml_data\u001b[0m\u001b[1;33m,\u001b[0m \u001b[0mplot_state_dict\u001b[0m\u001b[1;33m\u001b[0m\u001b[1;33m\u001b[0m\u001b[0m\n\u001b[0m\u001b[0;32m     25\u001b[0m \u001b[0mfilenames\u001b[0m \u001b[1;33m=\u001b[0m \u001b[0msorted\u001b[0m\u001b[1;33m(\u001b[0m\u001b[0mglob\u001b[0m\u001b[1;33m.\u001b[0m\u001b[0mglob\u001b[0m\u001b[1;33m(\u001b[0m\u001b[0mos\u001b[0m\u001b[1;33m.\u001b[0m\u001b[0mpath\u001b[0m\u001b[1;33m.\u001b[0m\u001b[0mjoin\u001b[0m\u001b[1;33m(\u001b[0m\u001b[0mos\u001b[0m\u001b[1;33m.\u001b[0m\u001b[0mpath\u001b[0m\u001b[1;33m.\u001b[0m\u001b[0mdirname\u001b[0m\u001b[1;33m(\u001b[0m\u001b[0mos\u001b[0m\u001b[1;33m.\u001b[0m\u001b[0mgetcwd\u001b[0m\u001b[1;33m(\u001b[0m\u001b[1;33m)\u001b[0m\u001b[1;33m)\u001b[0m\u001b[1;33m,\u001b[0m \u001b[1;34m\"log/run/**/*.log\"\u001b[0m\u001b[1;33m)\u001b[0m\u001b[1;33m)\u001b[0m\u001b[1;33m)\u001b[0m\u001b[1;33m\u001b[0m\u001b[1;33m\u001b[0m\u001b[0m\n\u001b[0;32m     26\u001b[0m \u001b[1;33m\u001b[0m\u001b[0m\n",
      "\u001b[1;31mImportError\u001b[0m: cannot import name 'plot_gamma_data'"
     ]
    }
   ],
   "source": [
    "\n",
    "\n",
    "# https://www.justintodata.com/generate-reports-with-python/\n",
    "# https://www.xlwings.org/blog/reporting-with-python\n",
    "\n",
    "# CSS\n",
    "# https://pythonhow.com/python-tutorial/flask/Adding-CSS-styling-to-your-website/\n",
    "%load_ext autoreload\n",
    "%autoreload 2\n",
    "import logging\n",
    "import datetime\n",
    "import time\n",
    "import glob\n",
    "\n",
    "import os\n",
    "import matplotlib.pyplot as plt\n",
    "\n",
    "import numpy as np\n",
    "import pandas as pd\n",
    "from random import shuffle\n",
    "\n",
    "from PIL import Image\n",
    "\n",
    "import os\n",
    "import glob\n",
    "from liftout.tools.LogParser import parse_log_file, plot_gamma_data, plot_ml_data, plot_state_dict\n",
    "filenames = sorted(glob.glob(os.path.join(os.path.dirname(os.getcwd()), \"log/run/**/*.log\")))\n",
    "\n",
    "\n",
    "def generate_html_report(logfile):\n",
    "    \n",
    "    log_path = os.path.dirname(logfile)\n",
    "    img_path = os.path.join(log_path, \"img\")\n",
    "    filenames = glob.glob(os.path.join(img_path ,\"*.tif\")) # images\n",
    "\n",
    "    page_title_text='AutoLiftout Report'\n",
    "    title_text = 'AutoLiftout Report'\n",
    "    text = f\"AutoLiftout report for run: {log_path}\"\n",
    "    gamma_text = \"Gamma Correction Statistics\"\n",
    "    ml_stats_text = \"Machine Learning Statistics\"\n",
    "    state_duration_text = \"State Duration Statistics\"\n",
    "    \n",
    "    print(f\"Total Images: {len(filenames)}\")\n",
    "    seen_filenames = []\n",
    "    \n",
    "    img_text = f\"{len(filenames)} images taken during run. \"\n",
    "    \n",
    "    \n",
    "    for filt_exp in [\"sharpen\", \"liftout\", \"landing\", \"drift_correction\", \"jcut\", \"thinning\"]:\n",
    "        \n",
    "        \n",
    "        # filter to images we want.. e.g. sharpen only\n",
    "        filt_filenames = list(filter(lambda x: filt_exp in os.path.basename(x), filenames))\n",
    "        print(f\"Processing {len(filt_filenames)} images for {filt_exp}\")\n",
    "    \n",
    "        # need to convert tif images to png to display in html...\n",
    "        NO_IMAGES_TO_DISPLAY = 10\n",
    "        images = [np.asarray(Image.open(fname).convert(\"RGB\")) for fname in filt_filenames[:NO_IMAGES_TO_DISPLAY]]\n",
    "        if len(images) > 0:\n",
    "            base_img = images[0]\n",
    "            for img in images[1:]:\n",
    "                base_img = np.hstack((base_img, img))\n",
    "\n",
    "\n",
    "            img = Image.fromarray(base_img)\n",
    "            img.save(os.path.join(log_path, f\"{filt_exp}.png\"))\n",
    "            \n",
    "            seen_filenames.append(filt_filenames)\n",
    "        \n",
    "    seen_filenames = [x for sublist in seen_filenames for x in sublist]\n",
    "\n",
    "    \n",
    "    unseen = [fname for fname in filenames if fname not in seen_filenames]\n",
    "    \n",
    "    print(f\"Seen: {len(seen_filenames)}, Unseen: {len(unseen)}\")\n",
    "    # TODO: need some logic to decide which images to show, but just assume all are there for now\n",
    "    \n",
    "\n",
    "    # 2. Combine them together using a long f-string\n",
    "    html = f'''\n",
    "        <html>\n",
    "            <head>\n",
    "                <title>{page_title_text}</title>\n",
    "                <link rel=\"stylesheet\" href=\"../../../tools/style.css\">\n",
    "\n",
    "            </head>\n",
    "            <body>\n",
    "                <h1 style=\"text-align:center\">{title_text}</h1>\n",
    "                <p style=\"text-align:center\">{text}</p>\n",
    "                \n",
    "                <div id=\"stats\">\n",
    "                    \n",
    "                    <h2>{gamma_text}</h2>\n",
    "                    <div id=\"gamma\">\n",
    "                        {df_gamma.describe().to_html()}\n",
    "                        <img src='{os.path.join(log_path, \"gamma_statistics.png\")}' width=\"700\">\n",
    "                    </div>\n",
    "        \n",
    "                    <h2>{ml_stats_text}</h2>\n",
    "                    <div id=\"ml\">\n",
    "\n",
    "                        {df_ml.to_html()}\n",
    "                        <img src='{os.path.join(log_path, \"ml_statistics.png\")}' width=\"700\">\n",
    "                    </div>\n",
    "\n",
    "                    <h2>{state_duration_text}</h2>\n",
    "                    <div id=\"state\">\n",
    "                    \n",
    "                        {df_state_duration.to_html()}\n",
    "                        <img src='{os.path.join(log_path, \"state_duration_statistics.png\")}' width=\"700\">\n",
    "                    </div>\n",
    "                </div>\n",
    "                \n",
    "                <h2>Liftout Images</h2>\n",
    "                <p>{img_text}</p>\n",
    "                \n",
    "                <h3>Liftout</h3>\n",
    "                <div style=\"text-align:center;\"><img src='{os.path.join(log_path, \"liftout.png\")}' width=\"1500\"></div>\n",
    "                \n",
    "                <h3>J-Cut</h3>\n",
    "                <div style=\"text-align:center;\"\"><img src='{os.path.join(log_path, \"jcut.png\")}' width=\"1500\"></div>\n",
    "                \n",
    "                <h3>Drift Correction</h3>\n",
    "                <div style=\"text-align:center;\"><img src='{os.path.join(log_path, \"drift_correction.png\")}' width=\"1500\"></div>\n",
    "                \n",
    "                <h3>Landing</h3>\n",
    "                <div style=\"text-align:center;\"><img src='{os.path.join(log_path, \"landing.png\")}' width=\"1500\"></div>\n",
    "                \n",
    "                <h3>Sharpen Needle</h3>\n",
    "                <div style=\"text-align:center;\">\n",
    "                <img src='{os.path.join(log_path, \"sharpen.png\")}' width=\"1500\">\n",
    "                </div>\n",
    "                \n",
    "                <h3>Thinning</h3>\n",
    "                <div style=\"text-align:center;\">\n",
    "                <img src='{os.path.join(log_path, \"thinning.png\")}' width=\"1500\">               \n",
    "                </div>\n",
    "                \n",
    "            </body>\n",
    "        </html>\n",
    "        '''\n",
    "    # 3. Write the html string as an HTML file\n",
    "    with open(os.path.join(log_path, \"html_report.html\"), \"w\") as f:\n",
    "        f.write(html)\n",
    "        \n",
    "    print(\"HTML Report Generated\")\n",
    "\n",
    "generate_html_report(logfile)"
   ]
  },
  {
   "cell_type": "code",
   "execution_count": null,
   "metadata": {},
   "outputs": [],
   "source": []
  },
  {
   "cell_type": "code",
   "execution_count": null,
   "metadata": {},
   "outputs": [],
   "source": []
  },
  {
   "cell_type": "code",
   "execution_count": null,
   "metadata": {},
   "outputs": [],
   "source": []
  },
  {
   "cell_type": "code",
   "execution_count": null,
   "metadata": {},
   "outputs": [],
   "source": []
  },
  {
   "cell_type": "code",
   "execution_count": null,
   "metadata": {},
   "outputs": [],
   "source": []
  }
 ],
 "metadata": {
  "kernelspec": {
   "display_name": "Python 3",
   "language": "python",
   "name": "python3"
  },
  "language_info": {
   "codemirror_mode": {
    "name": "ipython",
    "version": 3
   },
   "file_extension": ".py",
   "mimetype": "text/x-python",
   "name": "python",
   "nbconvert_exporter": "python",
   "pygments_lexer": "ipython3",
   "version": "3.6.7"
  }
 },
 "nbformat": 4,
 "nbformat_minor": 2
}
