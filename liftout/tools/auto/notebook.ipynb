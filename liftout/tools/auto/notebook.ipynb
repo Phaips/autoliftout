{
 "cells": [
  {
   "cell_type": "code",
   "execution_count": null,
   "metadata": {},
   "outputs": [],
   "source": [
    "%pip install windows-curses"
   ]
  },
  {
   "cell_type": "code",
   "execution_count": null,
   "metadata": {},
   "outputs": [],
   "source": [
    "%load_ext autoreload\n",
    "%autoreload 2\n",
    "import logging\n",
    "import sys\n",
    "import time\n",
    "from dataclasses import dataclass\n",
    "from enum import Enum\n",
    "\n",
    "from autoscript_sdb_microscope_client.structures import AdornedImage, StagePosition, ManipulatorPosition\n",
    "from liftout.fibsem.sample import Sample, Lamella, AutoLiftoutState\n",
    "\n"
   ]
  },
  {
   "cell_type": "markdown",
   "metadata": {},
   "source": [
    "### New Protocol\n",
    "- Splitting the protocol into separate files. \n",
    "    - load into a single settings, dictionary\n",
    "    - save protocol into individual files \n",
    "    - load protocol individually\n",
    "    - possibly change to loading experiments"
   ]
  },
  {
   "cell_type": "code",
   "execution_count": null,
   "metadata": {},
   "outputs": [],
   "source": []
  },
  {
   "cell_type": "markdown",
   "metadata": {},
   "source": [
    "### New Sample Data Structure\n",
    "Prototyping for the new sample dataclass, and filesystem structures\n"
   ]
  },
  {
   "cell_type": "code",
   "execution_count": 34,
   "metadata": {},
   "outputs": [
    {
     "name": "stdout",
     "output_type": "stream",
     "text": [
      "{1: \n",
      "        Lamella 1 (01-alive-lamb). \n",
      "        Lamella Coordinates: StagePosition(x=1, y=2, z=3, t=5, r=4), \n",
      "        Landing Coordinates: StagePosition(x=5, y=4, z=3, t=1, r=2), \n",
      "        Current Stage: AutoLiftoutStage.Initialisation,\n",
      "        Last Completed: None\n",
      "        History: 0 stages completed.\n",
      "        ,\n",
      " 2: \n",
      "        Lamella 2 (02-guided-weasel). \n",
      "        Lamella Coordinates: StagePosition(x=1, y=2, z=3, t=5, r=4), \n",
      "        Landing Coordinates: StagePosition(x=5, y=4, z=3, t=1, r=2), \n",
      "        Current Stage: AutoLiftoutStage.Initialisation,\n",
      "        Last Completed: None\n",
      "        History: 0 stages completed.\n",
      "        ,\n",
      " 3: \n",
      "        Lamella 3 (03-heroic-wolf). \n",
      "        Lamella Coordinates: StagePosition(x=1, y=2, z=3, t=5, r=4), \n",
      "        Landing Coordinates: StagePosition(x=5, y=4, z=3, t=1, r=2), \n",
      "        Current Stage: AutoLiftoutStage.Initialisation,\n",
      "        Last Completed: None\n",
      "        History: 0 stages completed.\n",
      "        ,\n",
      " 4: \n",
      "        Lamella 4 (04-fresh-urchin). \n",
      "        Lamella Coordinates: StagePosition(x=1, y=2, z=3, t=5, r=4), \n",
      "        Landing Coordinates: StagePosition(x=5, y=4, z=3, t=1, r=2), \n",
      "        Current Stage: AutoLiftoutStage.Initialisation,\n",
      "        Last Completed: None\n",
      "        History: 0 stages completed.\n",
      "        ,\n",
      " 5: \n",
      "        Lamella 5 (05-in-joey). \n",
      "        Lamella Coordinates: StagePosition(x=1, y=2, z=3, t=5, r=4), \n",
      "        Landing Coordinates: StagePosition(x=5, y=4, z=3, t=1, r=2), \n",
      "        Current Stage: AutoLiftoutStage.Initialisation,\n",
      "        Last Completed: None\n",
      "        History: 0 stages completed.\n",
      "        }\n"
     ]
    }
   ],
   "source": [
    "\n",
    "import os\n",
    "from pprint import pprint\n",
    "os.makedirs(\"test_sample\", exist_ok=True)\n",
    "\n",
    "sample = Sample(path=\"test_sample\")\n",
    "\n",
    "for i in range(1, 6):\n",
    "\n",
    "    lamella = Lamella(number=i)\n",
    "    lamella.lamella_coordinates = StagePosition(1, 2, 3, 4, 5)\n",
    "    lamella.landing_coordinates = StagePosition(5, 4, 3, 2, 1)\n",
    "\n",
    "    sample.positions[lamella._number] = lamella\n",
    "\n",
    "# fname should be 0lamella_no-petname\n",
    "\n",
    "pprint(sample.positions)\n",
    "\n",
    "\n",
    "# TODO: does lamella need to know data path?\n",
    "\n",
    "# save to file\n",
    "\n",
    "# load from file\n",
    "\n",
    "# manipulate\n"
   ]
  },
  {
   "cell_type": "code",
   "execution_count": 36,
   "metadata": {},
   "outputs": [
    {
     "data": {
      "text/plain": [
       "{'path': 'test_sample',\n",
       " 'positions': {1: \n",
       "          Lamella 1 (01-alive-lamb). \n",
       "          Lamella Coordinates: StagePosition(x=1, y=2, z=3, t=5, r=4), \n",
       "          Landing Coordinates: StagePosition(x=5, y=4, z=3, t=1, r=2), \n",
       "          Current Stage: AutoLiftoutStage.Initialisation,\n",
       "          Last Completed: None\n",
       "          History: 0 stages completed.\n",
       "          ,\n",
       "  2: \n",
       "          Lamella 2 (02-guided-weasel). \n",
       "          Lamella Coordinates: StagePosition(x=1, y=2, z=3, t=5, r=4), \n",
       "          Landing Coordinates: StagePosition(x=5, y=4, z=3, t=1, r=2), \n",
       "          Current Stage: AutoLiftoutStage.Initialisation,\n",
       "          Last Completed: None\n",
       "          History: 0 stages completed.\n",
       "          ,\n",
       "  3: \n",
       "          Lamella 3 (03-heroic-wolf). \n",
       "          Lamella Coordinates: StagePosition(x=1, y=2, z=3, t=5, r=4), \n",
       "          Landing Coordinates: StagePosition(x=5, y=4, z=3, t=1, r=2), \n",
       "          Current Stage: AutoLiftoutStage.Initialisation,\n",
       "          Last Completed: None\n",
       "          History: 0 stages completed.\n",
       "          ,\n",
       "  4: \n",
       "          Lamella 4 (04-fresh-urchin). \n",
       "          Lamella Coordinates: StagePosition(x=1, y=2, z=3, t=5, r=4), \n",
       "          Landing Coordinates: StagePosition(x=5, y=4, z=3, t=1, r=2), \n",
       "          Current Stage: AutoLiftoutStage.Initialisation,\n",
       "          Last Completed: None\n",
       "          History: 0 stages completed.\n",
       "          ,\n",
       "  5: \n",
       "          Lamella 5 (05-in-joey). \n",
       "          Lamella Coordinates: StagePosition(x=1, y=2, z=3, t=5, r=4), \n",
       "          Landing Coordinates: StagePosition(x=5, y=4, z=3, t=1, r=2), \n",
       "          Current Stage: AutoLiftoutStage.Initialisation,\n",
       "          Last Completed: None\n",
       "          History: 0 stages completed.\n",
       "          }}"
      ]
     },
     "execution_count": 36,
     "metadata": {},
     "output_type": "execute_result"
    }
   ],
   "source": [
    "sample.__to_dict__()"
   ]
  },
  {
   "cell_type": "code",
   "execution_count": 56,
   "metadata": {},
   "outputs": [
    {
     "ename": "InvalidOperationException",
     "evalue": "StagePosition structure item 1 initialization cannot proceed because the given value of dict type is not eligible for this optional item of Double type.",
     "output_type": "error",
     "traceback": [
      "\u001b[1;31m---------------------------------------------------------------------------\u001b[0m",
      "\u001b[1;31mInvalidOperationException\u001b[0m                 Traceback (most recent call last)",
      "\u001b[1;32m~\\AppData\\Local\\Temp\\ipykernel_13224\\2565228747.py\u001b[0m in \u001b[0;36m<module>\u001b[1;34m\u001b[0m\n\u001b[0;32m      4\u001b[0m \u001b[1;33m\u001b[0m\u001b[0m\n\u001b[0;32m      5\u001b[0m \u001b[1;33m\u001b[0m\u001b[0m\n\u001b[1;32m----> 6\u001b[1;33m \u001b[0mstage_pos\u001b[0m \u001b[1;33m=\u001b[0m \u001b[0mStagePosition\u001b[0m\u001b[1;33m(\u001b[0m\u001b[1;33m{\u001b[0m\u001b[1;34m\"x\"\u001b[0m\u001b[1;33m:\u001b[0m \u001b[1;36m1\u001b[0m\u001b[1;33m,\u001b[0m \u001b[1;34m\"y\"\u001b[0m\u001b[1;33m:\u001b[0m \u001b[1;36m2\u001b[0m\u001b[1;33m}\u001b[0m\u001b[1;33m)\u001b[0m\u001b[1;33m\u001b[0m\u001b[1;33m\u001b[0m\u001b[0m\n\u001b[0m\u001b[0;32m      7\u001b[0m \u001b[1;33m\u001b[0m\u001b[0m\n\u001b[0;32m      8\u001b[0m \u001b[1;33m\u001b[0m\u001b[0m\n",
      "\u001b[1;32mc:\\Users\\pcle0002\\Miniconda3\\envs\\fibsem\\lib\\site-packages\\autoscript_sdb_microscope_client\\_structures_shell.py\u001b[0m in \u001b[0;36m__init__\u001b[1;34m(self, x, y, z, r, t, coordinate_system)\u001b[0m\n\u001b[0;32m   1562\u001b[0m         \u001b[0msuper\u001b[0m\u001b[1;33m(\u001b[0m\u001b[0mStagePosition\u001b[0m\u001b[1;33m,\u001b[0m \u001b[0mself\u001b[0m\u001b[1;33m)\u001b[0m\u001b[1;33m.\u001b[0m\u001b[0m__init__\u001b[0m\u001b[1;33m(\u001b[0m\u001b[1;34m\"StagePosition\"\u001b[0m\u001b[1;33m)\u001b[0m\u001b[1;33m\u001b[0m\u001b[1;33m\u001b[0m\u001b[0m\n\u001b[0;32m   1563\u001b[0m \u001b[1;33m\u001b[0m\u001b[0m\n\u001b[1;32m-> 1564\u001b[1;33m         \u001b[0mself\u001b[0m\u001b[1;33m.\u001b[0m\u001b[0m_init_item\u001b[0m\u001b[1;33m(\u001b[0m\u001b[1;36m1\u001b[0m\u001b[1;33m,\u001b[0m \u001b[0mDataType\u001b[0m\u001b[1;33m.\u001b[0m\u001b[0mDOUBLE\u001b[0m\u001b[1;33m,\u001b[0m \u001b[0mx\u001b[0m\u001b[1;33m,\u001b[0m \u001b[1;32mTrue\u001b[0m\u001b[1;33m)\u001b[0m\u001b[1;33m\u001b[0m\u001b[1;33m\u001b[0m\u001b[0m\n\u001b[0m\u001b[0;32m   1565\u001b[0m         \u001b[0mself\u001b[0m\u001b[1;33m.\u001b[0m\u001b[0m_init_item\u001b[0m\u001b[1;33m(\u001b[0m\u001b[1;36m2\u001b[0m\u001b[1;33m,\u001b[0m \u001b[0mDataType\u001b[0m\u001b[1;33m.\u001b[0m\u001b[0mDOUBLE\u001b[0m\u001b[1;33m,\u001b[0m \u001b[0my\u001b[0m\u001b[1;33m,\u001b[0m \u001b[1;32mTrue\u001b[0m\u001b[1;33m)\u001b[0m\u001b[1;33m\u001b[0m\u001b[1;33m\u001b[0m\u001b[0m\n\u001b[0;32m   1566\u001b[0m         \u001b[0mself\u001b[0m\u001b[1;33m.\u001b[0m\u001b[0m_init_item\u001b[0m\u001b[1;33m(\u001b[0m\u001b[1;36m3\u001b[0m\u001b[1;33m,\u001b[0m \u001b[0mDataType\u001b[0m\u001b[1;33m.\u001b[0m\u001b[0mDOUBLE\u001b[0m\u001b[1;33m,\u001b[0m \u001b[0mz\u001b[0m\u001b[1;33m,\u001b[0m \u001b[1;32mTrue\u001b[0m\u001b[1;33m)\u001b[0m\u001b[1;33m\u001b[0m\u001b[1;33m\u001b[0m\u001b[0m\n",
      "\u001b[1;32mc:\\Users\\pcle0002\\Miniconda3\\envs\\fibsem\\lib\\site-packages\\autoscript_core\\serialization.py\u001b[0m in \u001b[0;36m_init_item\u001b[1;34m(self, uid, dtd, value, is_optional)\u001b[0m\n\u001b[0;32m    105\u001b[0m \u001b[1;33m\u001b[0m\u001b[0m\n\u001b[0;32m    106\u001b[0m         \u001b[1;32mif\u001b[0m \u001b[1;32mnot\u001b[0m \u001b[0mself\u001b[0m\u001b[1;33m.\u001b[0m\u001b[0m_is_value_eligible\u001b[0m\u001b[1;33m(\u001b[0m\u001b[0mvalue\u001b[0m\u001b[1;33m,\u001b[0m \u001b[0mdtd\u001b[0m\u001b[1;33m,\u001b[0m \u001b[0mis_optional\u001b[0m\u001b[1;33m)\u001b[0m\u001b[1;33m:\u001b[0m\u001b[1;33m\u001b[0m\u001b[1;33m\u001b[0m\u001b[0m\n\u001b[1;32m--> 107\u001b[1;33m             \u001b[1;32mraise\u001b[0m \u001b[0mInvalidOperationException\u001b[0m\u001b[1;33m(\u001b[0m\u001b[0mself\u001b[0m\u001b[1;33m.\u001b[0m\u001b[0m_construct_ineligible_value_error_message\u001b[0m\u001b[1;33m(\u001b[0m\u001b[1;34m\"initialization\"\u001b[0m\u001b[1;33m,\u001b[0m \u001b[0muid\u001b[0m\u001b[1;33m,\u001b[0m \u001b[0mdtd\u001b[0m\u001b[1;33m,\u001b[0m \u001b[0mis_optional\u001b[0m\u001b[1;33m,\u001b[0m \u001b[0mvalue\u001b[0m\u001b[1;33m)\u001b[0m\u001b[1;33m)\u001b[0m\u001b[1;33m\u001b[0m\u001b[1;33m\u001b[0m\u001b[0m\n\u001b[0m\u001b[0;32m    108\u001b[0m \u001b[1;33m\u001b[0m\u001b[0m\n\u001b[0;32m    109\u001b[0m         \u001b[0mself\u001b[0m\u001b[1;33m.\u001b[0m\u001b[0m_items\u001b[0m\u001b[1;33m[\u001b[0m\u001b[0muid\u001b[0m\u001b[1;33m]\u001b[0m \u001b[1;33m=\u001b[0m \u001b[0mStructureItem\u001b[0m\u001b[1;33m(\u001b[0m\u001b[0muid\u001b[0m\u001b[1;33m,\u001b[0m \u001b[0mdtd\u001b[0m\u001b[1;33m,\u001b[0m \u001b[0mvalue\u001b[0m\u001b[1;33m,\u001b[0m \u001b[0mis_optional\u001b[0m\u001b[1;33m)\u001b[0m\u001b[1;33m\u001b[0m\u001b[1;33m\u001b[0m\u001b[0m\n",
      "\u001b[1;31mInvalidOperationException\u001b[0m: StagePosition structure item 1 initialization cannot proceed because the given value of dict type is not eligible for this optional item of Double type."
     ]
    }
   ],
   "source": [
    "# sample.save()\n",
    "# test  = sample.__to_dict__()\n",
    "# pprint(test)\n",
    "\n",
    "\n",
    "\n"
   ]
  },
  {
   "cell_type": "code",
   "execution_count": 64,
   "metadata": {},
   "outputs": [
    {
     "name": "stdout",
     "output_type": "stream",
     "text": [
      "{'end_timestamp': None,\n",
      " 'microscope_state': {'absolute_position': {'coordinate_system': None,\n",
      "                                            'r': None,\n",
      "                                            't': None,\n",
      "                                            'x': None,\n",
      "                                            'y': None,\n",
      "                                            'z': None},\n",
      "                      'eb_settings': {'beam_current': None,\n",
      "                                      'beam_type': 'ELECTRON',\n",
      "                                      'dwell_time': None,\n",
      "                                      'hfw': None,\n",
      "                                      'resolution': None,\n",
      "                                      'stigmation': None,\n",
      "                                      'working_distance': None},\n",
      "                      'ib_settings': {'beam_current': None,\n",
      "                                      'beam_type': 'ION',\n",
      "                                      'dwell_time': None,\n",
      "                                      'hfw': None,\n",
      "                                      'resolution': None,\n",
      "                                      'stigmation': None,\n",
      "                                      'working_distance': None},\n",
      "                      'last_completed_stage': 'None',\n",
      "                      'timestamp': None},\n",
      " 'stage': 'Initialisation',\n",
      " 'start_timestamp': None}\n"
     ]
    },
    {
     "ename": "KeyError",
     "evalue": "'None'",
     "output_type": "error",
     "traceback": [
      "\u001b[1;31m---------------------------------------------------------------------------\u001b[0m",
      "\u001b[1;31mKeyError\u001b[0m                                  Traceback (most recent call last)",
      "\u001b[1;32m~\\AppData\\Local\\Temp\\ipykernel_13224\\2615287710.py\u001b[0m in \u001b[0;36m<module>\u001b[1;34m\u001b[0m\n\u001b[0;32m     29\u001b[0m \u001b[1;33m\u001b[0m\u001b[0m\n\u001b[0;32m     30\u001b[0m \u001b[1;33m\u001b[0m\u001b[0m\n\u001b[1;32m---> 31\u001b[1;33m \u001b[0msample2\u001b[0m \u001b[1;33m=\u001b[0m \u001b[0mload_sample\u001b[0m\u001b[1;33m(\u001b[0m\u001b[1;34m\"test_sample/sample.yaml\"\u001b[0m\u001b[1;33m)\u001b[0m\u001b[1;33m\u001b[0m\u001b[1;33m\u001b[0m\u001b[0m\n\u001b[0m\u001b[0;32m     32\u001b[0m \u001b[1;33m\u001b[0m\u001b[0m\n\u001b[0;32m     33\u001b[0m \u001b[1;32massert\u001b[0m \u001b[0msample\u001b[0m \u001b[1;33m==\u001b[0m \u001b[0msample2\u001b[0m\u001b[1;33m\u001b[0m\u001b[1;33m\u001b[0m\u001b[0m\n",
      "\u001b[1;32m~\\AppData\\Local\\Temp\\ipykernel_13224\\2615287710.py\u001b[0m in \u001b[0;36mload_sample\u001b[1;34m(fname)\u001b[0m\n\u001b[0;32m     20\u001b[0m         \u001b[0mpprint\u001b[0m\u001b[1;33m(\u001b[0m\u001b[0mlamella_dict\u001b[0m\u001b[1;33m[\u001b[0m\u001b[1;34m\"current_state\"\u001b[0m\u001b[1;33m]\u001b[0m\u001b[1;33m)\u001b[0m\u001b[1;33m\u001b[0m\u001b[1;33m\u001b[0m\u001b[0m\n\u001b[0;32m     21\u001b[0m \u001b[1;33m\u001b[0m\u001b[0m\n\u001b[1;32m---> 22\u001b[1;33m         \u001b[0mlamella\u001b[0m \u001b[1;33m=\u001b[0m \u001b[0mlamella_from_dict\u001b[0m\u001b[1;33m(\u001b[0m\u001b[0mlamella_dict\u001b[0m\u001b[1;33m)\u001b[0m\u001b[1;33m\u001b[0m\u001b[1;33m\u001b[0m\u001b[0m\n\u001b[0m\u001b[0;32m     23\u001b[0m \u001b[1;33m\u001b[0m\u001b[0m\n\u001b[0;32m     24\u001b[0m         \u001b[0mpprint\u001b[0m\u001b[1;33m(\u001b[0m\u001b[0mlamella\u001b[0m\u001b[1;33m)\u001b[0m\u001b[1;33m\u001b[0m\u001b[1;33m\u001b[0m\u001b[0m\n",
      "\u001b[1;32mc:\\users\\pcle0002\\documents\\repos\\autoliftout\\liftout\\fibsem\\sample.py\u001b[0m in \u001b[0;36mlamella_from_dict\u001b[1;34m(lamella_dict)\u001b[0m\n\u001b[0;32m    122\u001b[0m \u001b[1;33m\u001b[0m\u001b[0m\n\u001b[0;32m    123\u001b[0m     \u001b[1;31m# load current state\u001b[0m\u001b[1;33m\u001b[0m\u001b[1;33m\u001b[0m\u001b[1;33m\u001b[0m\u001b[0m\n\u001b[1;32m--> 124\u001b[1;33m     \u001b[0mlamella\u001b[0m\u001b[1;33m.\u001b[0m\u001b[0mcurrent_state\u001b[0m \u001b[1;33m=\u001b[0m \u001b[0mautoliftout_state_from_dict\u001b[0m\u001b[1;33m(\u001b[0m\u001b[0mlamella_dict\u001b[0m\u001b[1;33m[\u001b[0m\u001b[1;34m\"current_state\"\u001b[0m\u001b[1;33m]\u001b[0m\u001b[1;33m)\u001b[0m\u001b[1;33m\u001b[0m\u001b[1;33m\u001b[0m\u001b[0m\n\u001b[0m\u001b[0;32m    125\u001b[0m \u001b[1;33m\u001b[0m\u001b[0m\n\u001b[0;32m    126\u001b[0m     \u001b[1;31m# load history\u001b[0m\u001b[1;33m\u001b[0m\u001b[1;33m\u001b[0m\u001b[1;33m\u001b[0m\u001b[0m\n",
      "\u001b[1;32mc:\\users\\pcle0002\\documents\\repos\\autoliftout\\liftout\\fibsem\\sample.py\u001b[0m in \u001b[0;36mautoliftout_state_from_dict\u001b[1;34m(state_dict)\u001b[0m\n\u001b[0;32m    235\u001b[0m     autoliftout_state = AutoLiftoutState(\n\u001b[0;32m    236\u001b[0m         \u001b[0mstage\u001b[0m \u001b[1;33m=\u001b[0m \u001b[0mAutoLiftoutStage\u001b[0m\u001b[1;33m[\u001b[0m\u001b[0mstate_dict\u001b[0m\u001b[1;33m[\u001b[0m\u001b[1;34m\"stage\"\u001b[0m\u001b[1;33m]\u001b[0m\u001b[1;33m]\u001b[0m\u001b[1;33m,\u001b[0m\u001b[1;33m\u001b[0m\u001b[1;33m\u001b[0m\u001b[0m\n\u001b[1;32m--> 237\u001b[1;33m         \u001b[0mmicroscope_state\u001b[0m\u001b[1;33m=\u001b[0m\u001b[0mmicroscope_state_from_dict\u001b[0m\u001b[1;33m(\u001b[0m\u001b[0mstate_dict\u001b[0m\u001b[1;33m[\u001b[0m\u001b[1;34m\"microscope_state\"\u001b[0m\u001b[1;33m]\u001b[0m\u001b[1;33m)\u001b[0m\u001b[1;33m,\u001b[0m\u001b[1;33m\u001b[0m\u001b[1;33m\u001b[0m\u001b[0m\n\u001b[0m\u001b[0;32m    238\u001b[0m         \u001b[0mstart_timestamp\u001b[0m\u001b[1;33m=\u001b[0m\u001b[0mstate_dict\u001b[0m\u001b[1;33m[\u001b[0m\u001b[1;34m\"start_timestamp\"\u001b[0m\u001b[1;33m]\u001b[0m\u001b[1;33m,\u001b[0m\u001b[1;33m\u001b[0m\u001b[1;33m\u001b[0m\u001b[0m\n\u001b[0;32m    239\u001b[0m         \u001b[0mend_timestamp\u001b[0m\u001b[1;33m=\u001b[0m\u001b[0mstate_dict\u001b[0m\u001b[1;33m[\u001b[0m\u001b[1;34m\"end_timestamp\"\u001b[0m\u001b[1;33m]\u001b[0m\u001b[1;33m\u001b[0m\u001b[1;33m\u001b[0m\u001b[0m\n",
      "\u001b[1;32mc:\\users\\pcle0002\\documents\\repos\\autoliftout\\liftout\\fibsem\\sample.py\u001b[0m in \u001b[0;36mmicroscope_state_from_dict\u001b[1;34m(state_dict)\u001b[0m\n\u001b[0;32m    205\u001b[0m             \u001b[0mcoordinate_system\u001b[0m\u001b[1;33m=\u001b[0m\u001b[0mstate_dict\u001b[0m\u001b[1;33m[\u001b[0m\u001b[1;34m\"absolute_position\"\u001b[0m\u001b[1;33m]\u001b[0m\u001b[1;33m[\u001b[0m\u001b[1;34m\"coordinate_system\"\u001b[0m\u001b[1;33m]\u001b[0m\u001b[1;33m\u001b[0m\u001b[1;33m\u001b[0m\u001b[0m\n\u001b[0;32m    206\u001b[0m         ),\n\u001b[1;32m--> 207\u001b[1;33m         \u001b[0mlast_completed_stage\u001b[0m\u001b[1;33m=\u001b[0m\u001b[0mAutoLiftoutStage\u001b[0m\u001b[1;33m[\u001b[0m\u001b[0mstate_dict\u001b[0m\u001b[1;33m[\u001b[0m\u001b[1;34m\"last_completed_stage\"\u001b[0m\u001b[1;33m]\u001b[0m\u001b[1;33m]\u001b[0m\u001b[1;33m,\u001b[0m\u001b[1;33m\u001b[0m\u001b[1;33m\u001b[0m\u001b[0m\n\u001b[0m\u001b[0;32m    208\u001b[0m         \u001b[0meb_settings\u001b[0m\u001b[1;33m=\u001b[0m\u001b[0mbeam_settings_from_dict\u001b[0m\u001b[1;33m(\u001b[0m\u001b[0mstate_dict\u001b[0m\u001b[1;33m[\u001b[0m\u001b[1;34m\"eb_settings\"\u001b[0m\u001b[1;33m]\u001b[0m\u001b[1;33m)\u001b[0m\u001b[1;33m,\u001b[0m\u001b[1;33m\u001b[0m\u001b[1;33m\u001b[0m\u001b[0m\n\u001b[0;32m    209\u001b[0m         \u001b[0mib_settings\u001b[0m\u001b[1;33m=\u001b[0m\u001b[0mbeam_settings_from_dict\u001b[0m\u001b[1;33m(\u001b[0m\u001b[0mstate_dict\u001b[0m\u001b[1;33m[\u001b[0m\u001b[1;34m\"ib_settings\"\u001b[0m\u001b[1;33m]\u001b[0m\u001b[1;33m)\u001b[0m\u001b[1;33m\u001b[0m\u001b[1;33m\u001b[0m\u001b[0m\n",
      "\u001b[1;32mc:\\Users\\pcle0002\\Miniconda3\\envs\\fibsem\\lib\\enum.py\u001b[0m in \u001b[0;36m__getitem__\u001b[1;34m(cls, name)\u001b[0m\n\u001b[0;32m    355\u001b[0m \u001b[1;33m\u001b[0m\u001b[0m\n\u001b[0;32m    356\u001b[0m     \u001b[1;32mdef\u001b[0m \u001b[0m__getitem__\u001b[0m\u001b[1;33m(\u001b[0m\u001b[0mcls\u001b[0m\u001b[1;33m,\u001b[0m \u001b[0mname\u001b[0m\u001b[1;33m)\u001b[0m\u001b[1;33m:\u001b[0m\u001b[1;33m\u001b[0m\u001b[1;33m\u001b[0m\u001b[0m\n\u001b[1;32m--> 357\u001b[1;33m         \u001b[1;32mreturn\u001b[0m \u001b[0mcls\u001b[0m\u001b[1;33m.\u001b[0m\u001b[0m_member_map_\u001b[0m\u001b[1;33m[\u001b[0m\u001b[0mname\u001b[0m\u001b[1;33m]\u001b[0m\u001b[1;33m\u001b[0m\u001b[1;33m\u001b[0m\u001b[0m\n\u001b[0m\u001b[0;32m    358\u001b[0m \u001b[1;33m\u001b[0m\u001b[0m\n\u001b[0;32m    359\u001b[0m     \u001b[1;32mdef\u001b[0m \u001b[0m__iter__\u001b[0m\u001b[1;33m(\u001b[0m\u001b[0mcls\u001b[0m\u001b[1;33m)\u001b[0m\u001b[1;33m:\u001b[0m\u001b[1;33m\u001b[0m\u001b[1;33m\u001b[0m\u001b[0m\n",
      "\u001b[1;31mKeyError\u001b[0m: 'None'"
     ]
    }
   ],
   "source": [
    "import yaml\n",
    "\n",
    "from liftout.fibsem.sample import lamella_from_dict\n",
    "\n",
    "def load_sample(fname) -> Sample:\n",
    "\n",
    "    # read and open existing yaml file\n",
    "    if os.path.exists(fname):\n",
    "        with open(fname, \"r\") as f:\n",
    "            sample_dict = yaml.safe_load(f)\n",
    "\n",
    "    # pprint(sample_dict)\n",
    "\n",
    "\n",
    "    sample = Sample(path=sample_dict[\"path\"])\n",
    "    \n",
    "    # lamella from_dict\n",
    "    for lamella_dict in sample_dict[\"positions\"]:\n",
    "\n",
    "        pprint(lamella_dict[\"current_state\"])\n",
    "\n",
    "        lamella = lamella_from_dict(lamella_dict)\n",
    "\n",
    "        pprint(lamella)\n",
    "\n",
    "        break\n",
    "\n",
    "    return sample\n",
    "\n",
    "\n",
    "sample2 = load_sample(\"test_sample/sample.yaml\")\n",
    "\n",
    "assert sample == sample2"
   ]
  },
  {
   "cell_type": "code",
   "execution_count": null,
   "metadata": {},
   "outputs": [],
   "source": []
  }
 ],
 "metadata": {
  "kernelspec": {
   "display_name": "Python 3.7.13 ('fibsem')",
   "language": "python",
   "name": "python3"
  },
  "language_info": {
   "codemirror_mode": {
    "name": "ipython",
    "version": 3
   },
   "file_extension": ".py",
   "mimetype": "text/x-python",
   "name": "python",
   "nbconvert_exporter": "python",
   "pygments_lexer": "ipython3",
   "version": "3.7.13"
  },
  "vscode": {
   "interpreter": {
    "hash": "49d7015a1008ee1d744555914b33df40a7178caeb0cd4e4b9649dfa8aaeca7b8"
   }
  }
 },
 "nbformat": 4,
 "nbformat_minor": 2
}
