{
 "cells": [
  {
   "cell_type": "code",
   "execution_count": 13,
   "metadata": {},
   "outputs": [
    {
     "name": "stdout",
     "output_type": "stream",
     "text": [
      "The autoreload extension is already loaded. To reload it, use:\n",
      "  %reload_ext autoreload\n"
     ]
    }
   ],
   "source": [
    "%load_ext autoreload\n",
    "%autoreload 2\n",
    "\n",
    "from liftout import structures, utils\n",
    "from pprint import pprint\n",
    "from fibsem.structures import ImageSettings, SystemSettings, StageSettings, CalibrationSettings, stage_position_from_dict, BeamSettings, MicroscopeState\n",
    "\n",
    "from liftout.structures import AutoLiftoutSettings, AutoLiftoutOptions\n",
    "from pathlib import Path\n"
   ]
  },
  {
   "cell_type": "code",
   "execution_count": 23,
   "metadata": {},
   "outputs": [],
   "source": [
    "settings = utils.load_settings_from_config(fname= \"../../config/config.yaml\", protocol_filename=\"../../protocol/protocol.yaml\")\n",
    "# TODO: remove milling_current or incorporate "
   ]
  },
  {
   "cell_type": "code",
   "execution_count": 24,
   "metadata": {},
   "outputs": [
    {
     "name": "stdout",
     "output_type": "stream",
     "text": [
      "AutoLiftoutSettings:\n",
      "System: SystemSettings(ip_address='10.0.0.1', application_file='autolamella', plasma_gas='Argon', high_voltage=30000),\n",
      "Options: AutoLiftoutOptions(high_throughput=False, piescope=False, autolamella=False),\n",
      "Stage: StageSettings(rotation_flat_to_electron=50, rotation_flat_to_ion=230, tilt_flat_to_electron=27, tilt_flat_to_ion=52),\n",
      "Calibration: CalibrationSettings(imaging_current=2e-11, milling_current=2e-09, max_hfw_eb=0.0027, max_hfw_ib=0.0009, eucentric_height_eb=0.004, eucentric_height_ib=0.0165, eucentric_height_tolerance=0.0005, needle_stage_height_limit=0.0037, max_working_distance_eb=0.006),\n",
      "Imaging: ImageSettings(resolution='1536x1024', dwell_time=1e-06, hfw=0.00015, autocontrast=True, beam_type=<BeamType.ELECTRON: 1>, save=False, label='', gamma=GammaSettings(enabled=True, min_gamma=0.15, max_gamma=1.8, scale_factor=0.01, threshold=46), save_path=''),\n",
      "Grid: StagePosition(x=-0.0032375, y=0.0039354, z=0.03095, r=0.872665, coordinate_system=Raw), \n",
      "Landing: StagePosition(x=0.00276265, y=0.0039354, z=0.031379, r=0.872665, coordinate_system=Raw),\n",
      "Protocol: 12 stages (['cut', 'fiducial', 'flatten_landing', 'jcut', 'lamella', 'platinum', 'polish_lamella', 'reduced_area', 'sever', 'sharpen', 'thin_lamella', 'weld']         \n",
      "\n"
     ]
    }
   ],
   "source": [
    "pprint(settings)"
   ]
  },
  {
   "cell_type": "code",
   "execution_count": 21,
   "metadata": {},
   "outputs": [
    {
     "name": "stdout",
     "output_type": "stream",
     "text": [
      "{'cut': {'cleaning_cross_section': False,\n",
      "         'depth': 2.5e-05,\n",
      "         'height': 5e-07,\n",
      "         'milling_current': 2e-09,\n",
      "         'rotation': 0,\n",
      "         'scan_direction': 'TopToBottom',\n",
      "         'width': 1e-05},\n",
      " 'fiducial': {'cleaning_cross_section': False,\n",
      "              'depth': 5e-06,\n",
      "              'height': 1.4999999999999999e-05,\n",
      "              'milling_current': 7.6e-09,\n",
      "              'rotation': 0.0,\n",
      "              'scan_direction': 'TopToBottom',\n",
      "              'width': 2.5e-07},\n",
      " 'flatten_landing': {'cleaning_cross_section': True,\n",
      "                     'depth': 1e-05,\n",
      "                     'height': 2.5e-05,\n",
      "                     'milling_current': 7.6e-09,\n",
      "                     'scan_direction': 'LeftToRight',\n",
      "                     'width': 2e-06},\n",
      " 'jcut': {'depth': 3e-06,\n",
      "          'jcut_angle': 6.0,\n",
      "          'lamella_height': 5e-06,\n",
      "          'lhs_height': 1.2e-05,\n",
      "          'milling_current': 2e-09,\n",
      "          'rhs_height': 5e-06,\n",
      "          'trench_thickness': 1e-06,\n",
      "          'width': 1.2e-05},\n",
      " 'lamella': {'cleaning_cross_section': 0.0,\n",
      "             'lamella_height': 6e-06,\n",
      "             'lamella_width': 1.2e-05,\n",
      "             'milling_current': 7.6e-09,\n",
      "             'milling_depth': 1e-06,\n",
      "             'offset': 2e-06,\n",
      "             'protocol_stages': [{'cleaning_cross_section': 0.0,\n",
      "                                  'lamella_height': 6e-06,\n",
      "                                  'lamella_width': 1.2e-05,\n",
      "                                  'milling_current': 7.6e-09,\n",
      "                                  'milling_depth': 1e-06,\n",
      "                                  'offset': 2e-06,\n",
      "                                  'rotation': 0.0,\n",
      "                                  'scan_direction': 'TopToBottom',\n",
      "                                  'size_ratio': 1.0,\n",
      "                                  'trench_height': 1e-05},\n",
      "                                 {'cleaning_cross_section': 0.0,\n",
      "                                  'lamella_height': 6e-06,\n",
      "                                  'lamella_width': 1.2e-05,\n",
      "                                  'milling_current': 7.6e-09,\n",
      "                                  'milling_depth': 1.5e-05,\n",
      "                                  'offset': 0.0,\n",
      "                                  'rotation': 0.0,\n",
      "                                  'scan_direction': 'TopToBottom',\n",
      "                                  'size_ratio': 1.0,\n",
      "                                  'trench_height': 3e-06}],\n",
      "             'rotation': 0.0,\n",
      "             'scan_direction': 'TopToBottom',\n",
      "             'size_ratio': 1.0,\n",
      "             'trench_height': 1e-05},\n",
      " 'platinum': {'application_file': 'cryo_Pt_dep',\n",
      "              'gas': 'Pt cryo',\n",
      "              'position': 'cryo',\n",
      "              'weld': {'hfw': '100e-6', 'length': '15e-6', 'time': 60},\n",
      "              'whole_grid': {'hfw': '30e-6', 'length': '7e-6', 'time': 20}},\n",
      " 'polish_lamella': {'dwell_time': 2e-07,\n",
      "                    'hfw': 5e-05,\n",
      "                    'lamella_height': 4.5e-07,\n",
      "                    'lamella_width': 6e-06,\n",
      "                    'milling_current': 2e-11,\n",
      "                    'milling_depth': 4e-07,\n",
      "                    'offset': 0.0,\n",
      "                    'resolution': '3072x2048',\n",
      "                    'rotation_angle': 50,\n",
      "                    'size_ratio': 1.0,\n",
      "                    'tilt_angle': 12,\n",
      "                    'tilt_offset': 1,\n",
      "                    'trench_height': 2e-07},\n",
      " 'reduced_area': {'dx': 1, 'dy': 1, 'x': 0, 'y': 0},\n",
      " 'sever': {'cleaning_cross_section': True,\n",
      "           'depth': 3e-06,\n",
      "           'height': 5e-06,\n",
      "           'rotation': 0.0,\n",
      "           'scan_direction': 'LeftToRight',\n",
      "           'width': 1e-06},\n",
      " 'sharpen': {'bias': 2.5e-07,\n",
      "             'depth': 8e-06,\n",
      "             'height': 2.5e-06,\n",
      "             'hfw': 0.00015,\n",
      "             'milling_current': 7.6e-09,\n",
      "             'needle_angle': 40,\n",
      "             'tip_angle': 25,\n",
      "             'width': 2e-05},\n",
      " 'thin_lamella': {'dwell_time': 2e-07,\n",
      "                  'hfw': 5e-05,\n",
      "                  'lamella_height': 1e-06,\n",
      "                  'lamella_width': 6e-06,\n",
      "                  'milling_current': 2e-10,\n",
      "                  'milling_depth': 4e-07,\n",
      "                  'offset': 1e-06,\n",
      "                  'protocol_stages': [{'offset': 1e-06,\n",
      "                                       'trench_height': 1.5e-06},\n",
      "                                      {'lamella_height': 1e-06,\n",
      "                                       'offset': 5e-07,\n",
      "                                       'trench_height': 1e-06}],\n",
      "                  'resolution': '3072x2048',\n",
      "                  'rotation_angle': 50,\n",
      "                  'size_ratio': 1.0,\n",
      "                  'tilt_angle': 12,\n",
      "                  'trench_height': 2e-06},\n",
      " 'weld': {'cleaning_cross_section': False,\n",
      "          'depth': 2e-07,\n",
      "          'height': 5e-06,\n",
      "          'milling_current': 2e-09,\n",
      "          'rotation': 0.0,\n",
      "          'scan_direction': 'TopToBottom',\n",
      "          'width': 3e-06}}\n"
     ]
    }
   ],
   "source": [
    "pprint(settings.protocol)"
   ]
  },
  {
   "cell_type": "code",
   "execution_count": null,
   "metadata": {},
   "outputs": [],
   "source": []
  }
 ],
 "metadata": {
  "kernelspec": {
   "display_name": "Python 3.9.12 ('autoliftout')",
   "language": "python",
   "name": "python3"
  },
  "language_info": {
   "codemirror_mode": {
    "name": "ipython",
    "version": 3
   },
   "file_extension": ".py",
   "mimetype": "text/x-python",
   "name": "python",
   "nbconvert_exporter": "python",
   "pygments_lexer": "ipython3",
   "version": "3.9.12"
  },
  "orig_nbformat": 4,
  "vscode": {
   "interpreter": {
    "hash": "0ae5a722a47a2a43262ee6d419b08874066f95ae58929cb636099b0410b63756"
   }
  }
 },
 "nbformat": 4,
 "nbformat_minor": 2
}
