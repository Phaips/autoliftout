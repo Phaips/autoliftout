{
 "cells": [
  {
   "cell_type": "code",
   "execution_count": null,
   "metadata": {},
   "outputs": [],
   "source": [
    "%load_ext autoreload\n",
    "%autoreload 2\n",
    "\n",
    "from liftout import structures, utils\n",
    "from pprint import pprint\n",
    "\n",
    "from pathlib import Path\n"
   ]
  },
  {
   "cell_type": "code",
   "execution_count": 7,
   "metadata": {},
   "outputs": [
    {
     "ename": "SyntaxError",
     "evalue": "invalid syntax (1162710998.py, line 53)",
     "output_type": "error",
     "traceback": [
      "\u001b[1;36m  Input \u001b[1;32mIn [7]\u001b[1;36m\u001b[0m\n\u001b[1;33m    **d\u001b[0m\n\u001b[1;37m    ^\u001b[0m\n\u001b[1;31mSyntaxError\u001b[0m\u001b[1;31m:\u001b[0m invalid syntax\n"
     ]
    }
   ],
   "source": [
    "from dataclasses import dataclass\n",
    "\n",
    "@dataclass\n",
    "class AutoLiftoutAutoModes:\n",
    "    trench: bool = False\n",
    "    jcut: bool = False\n",
    "    liftout: bool = False\n",
    "    landing: bool = False\n",
    "    reset: bool = False\n",
    "    thin: bool = False\n",
    "    polish: bool = False\n",
    "\n",
    "@dataclass\n",
    "class AutoLiftoutOptions:\n",
    "\n",
    "    batch_mode: bool = False\n",
    "    confirm_advance: bool = True\n",
    "    liftout_joining_method: str = None\n",
    "    liftout_contact_direction: str = \"Horizontal\"\n",
    "    landing_surface: str = \"Half-Moon Grid\"\n",
    "    landing_joining_method: str = \"Weld\"\n",
    "    landing_contact_direction: str = \"Horizontal\"\n",
    "    landing_removal_method: str = \"Cut\"\n",
    "    auto: AutoLiftoutAutoModes = AutoLiftoutAutoModes()\n",
    "\n",
    "    def __to_dict__(self) -> dict:\n",
    "        return {\"batch_mode\": self.batch_mode,\n",
    "                \"confirm_advance\": self.confirm_advance,\n",
    "                \"liftout_joining_method\": self.liftout_joining_method,\n",
    "                \"liftout_contact_direction\": self.liftout_contact_direction,\n",
    "                \"landing_surface\": self.landing_surface,\n",
    "                \"landing_joining_method\": self.landing_joining_method,\n",
    "                \"landing_contact_direction\": self.landing_contact_direction,\n",
    "                \"landing_removal_method\": self.landing_removal_method,\n",
    "                \"auto\": self.auto.__to_dict__()}\n",
    "\n",
    "    @staticmethod\n",
    "    def __from_dict__(d: dict) -> 'AutoLiftoutOptions':\n",
    "        return AutoLiftoutOptions(\n",
    "            batch_mode=d[\"batch_mode\"],\n",
    "            confirm_advance=d[\"confirm_advance\"],\n",
    "            liftout_joining_method=d[\"liftout_joining_method\"],\n",
    "            liftout_contact_direction=d[\"liftout_contact_direction\"],\n",
    "            landing_surface=d[\"landing_surface\"],\n",
    "            landing_joining_method=d[\"landing_joining_method\"],\n",
    "            landing_contact_direction=d[\"landing_contact_direction\"],\n",
    "            landing_removal_method=d[\"landing_removal_method\"],\n",
    "            auto=AutoLiftoutAutoModes.__from_dict__(d[\"auto\"])\n",
    "        )\n",
    "\n",
    "\n"
   ]
  },
  {
   "cell_type": "code",
   "execution_count": null,
   "metadata": {},
   "outputs": [],
   "source": []
  },
  {
   "cell_type": "code",
   "execution_count": null,
   "metadata": {},
   "outputs": [],
   "source": []
  },
  {
   "cell_type": "code",
   "execution_count": null,
   "metadata": {},
   "outputs": [],
   "source": []
  }
 ],
 "metadata": {
  "kernelspec": {
   "display_name": "Python 3.9.12 ('liftout')",
   "language": "python",
   "name": "python3"
  },
  "language_info": {
   "codemirror_mode": {
    "name": "ipython",
    "version": 3
   },
   "file_extension": ".py",
   "mimetype": "text/x-python",
   "name": "python",
   "nbconvert_exporter": "python",
   "pygments_lexer": "ipython3",
   "version": "3.9.12"
  },
  "orig_nbformat": 4,
  "vscode": {
   "interpreter": {
    "hash": "5cb17a689ea48522a268bdcd61b0f399058cec9c1acbad013779623d1fd2c02a"
   }
  }
 },
 "nbformat": 4,
 "nbformat_minor": 2
}
