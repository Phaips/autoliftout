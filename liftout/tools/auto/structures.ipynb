{
 "cells": [
  {
   "cell_type": "code",
   "execution_count": 18,
   "metadata": {},
   "outputs": [
    {
     "name": "stdout",
     "output_type": "stream",
     "text": [
      "The autoreload extension is already loaded. To reload it, use:\n",
      "  %reload_ext autoreload\n"
     ]
    }
   ],
   "source": [
    "%load_ext autoreload\n",
    "%autoreload 2\n",
    "\n",
    "from liftout import structures, utils\n",
    "from pprint import pprint\n",
    "from fibsem.structures import ImageSettings, SystemSettings, StageSettings, CalibrationSettings, stage_position_from_dict, BeamSettings, MicroscopeState\n",
    "\n",
    "from liftout.structures import AutoLiftoutSettings, AutoLiftoutOptions\n",
    "from pathlib import Path\n"
   ]
  },
  {
   "cell_type": "code",
   "execution_count": 9,
   "metadata": {},
   "outputs": [],
   "source": [
    "settings = utils.load_settings_from_config(fname= \"../../config/config.yaml\")\n",
    "# TODO: remove milling_current or incorporate "
   ]
  },
  {
   "cell_type": "code",
   "execution_count": 10,
   "metadata": {},
   "outputs": [
    {
     "name": "stdout",
     "output_type": "stream",
     "text": [
      "AutoLiftoutSettings:\n",
      "System: SystemSettings(ip_address='10.0.0.1', application_file='autolamella', plasma_gas='Argon', high_voltage=30000),\n",
      "Options: AutoLiftoutOptions(high_throughput=False, piescope=False, autolamella=False),\n",
      "Stage: StageSettings(rotation_flat_to_electron=50, rotation_flat_to_ion=230, tilt_flat_to_electron=27, tilt_flat_to_ion=52),\n",
      "Calibration: CalibrationSettings(max_hfw_eb=0.0027, max_hfw_ib=0.0009, eucentric_height_eb=0.004, eucentric_height_ib=0.0165, eucentric_height_tolerance=0.0005, needle_stage_height_limit=0.0037, max_working_distance_eb=0.006),\n",
      "ReferenceHFW: ReferenceHFW(wide=0.00275, low=0.0009, medium=0.0004, high=0.00015, super=8e-05, ultra=5e-05),\n",
      "Imaging: ImageSettings(resolution='1536x1024', dwell_time=1e-06, hfw=0.00015, autocontrast=True, beam_type=<BeamType.ELECTRON: 1>, save=False, label='', gamma=GammaSettings(enabled=True, min_gamma=0.15, max_gamma=1.8, scale_factor=0.01, threshold=46), save_path=''),\n",
      "Grid: StagePosition(x=-0.0032375, y=0.0039354, z=0.03095, r=0.872665, coordinate_system=Raw), \n",
      "Landing: StagePosition(x=0.00276265, y=0.0039354, z=0.031379, r=0.872665, coordinate_system=Raw)        \n",
      "\n"
     ]
    }
   ],
   "source": [
    "pprint(settings)"
   ]
  },
  {
   "cell_type": "code",
   "execution_count": 19,
   "metadata": {},
   "outputs": [
    {
     "ename": "TypeError",
     "evalue": "__init__() missing 1 required positional argument: 'beam_type'",
     "output_type": "error",
     "traceback": [
      "\u001b[1;31m---------------------------------------------------------------------------\u001b[0m",
      "\u001b[1;31mTypeError\u001b[0m                                 Traceback (most recent call last)",
      "\u001b[1;32mc:\\Users\\pcle0002\\Documents\\repos\\autoliftout\\liftout\\tools\\auto\\structures.ipynb Cell 4\u001b[0m in \u001b[0;36m<cell line: 1>\u001b[1;34m()\u001b[0m\n\u001b[0;32m      <a href='vscode-notebook-cell:/c%3A/Users/pcle0002/Documents/repos/autoliftout/liftout/tools/auto/structures.ipynb#W4sZmlsZQ%3D%3D?line=0'>1</a>\u001b[0m initial_microscope_state \u001b[39m=\u001b[39m MicroscopeState(\n\u001b[1;32m----> <a href='vscode-notebook-cell:/c%3A/Users/pcle0002/Documents/repos/autoliftout/liftout/tools/auto/structures.ipynb#W4sZmlsZQ%3D%3D?line=1'>2</a>\u001b[0m     eb_settings \u001b[39m=\u001b[39m BeamSettings()\n\u001b[0;32m      <a href='vscode-notebook-cell:/c%3A/Users/pcle0002/Documents/repos/autoliftout/liftout/tools/auto/structures.ipynb#W4sZmlsZQ%3D%3D?line=2'>3</a>\u001b[0m )\n\u001b[0;32m      <a href='vscode-notebook-cell:/c%3A/Users/pcle0002/Documents/repos/autoliftout/liftout/tools/auto/structures.ipynb#W4sZmlsZQ%3D%3D?line=4'>5</a>\u001b[0m pprint(initial_microscope_state)\n",
      "\u001b[1;31mTypeError\u001b[0m: __init__() missing 1 required positional argument: 'beam_type'"
     ]
    }
   ],
   "source": [
    "from fibsem.structures import BeamType\n",
    "\n",
    "initial_microscope_state = MicroscopeState(\n",
    "    eb_settings = BeamSettings(\n",
    "        beam_type = BeamType.ELECTRON,\n",
    "        working_distance =\n",
    "        beam_current = )\n",
    ")\n",
    "\n",
    "# for eahc beam..\n",
    "# beam_current\n",
    "# working_distance\n",
    "# resolution\n",
    "# dwell_time\n",
    "# hfw\n",
    "\n",
    "\n",
    "pprint(initial_microscope_state)\n"
   ]
  },
  {
   "cell_type": "code",
   "execution_count": 41,
   "metadata": {},
   "outputs": [
    {
     "name": "stdout",
     "output_type": "stream",
     "text": [
      "AutoLiftoutSettings(system=SystemSettings(ip_address='10.0.0.1', application_file='autolamella', plasma_gas='Argon', high_voltage=30000), options=AutoLiftoutOptions(high_throughput=True, piescope=False, autolamella=False), stage=StageSettings(rotation_flat_to_electron=50, rotation_flat_to_ion=230, tilt_flat_to_electron=27, tilt_flat_to_ion=52), calibration=CalibrationSettings(max_hfw_eb=0.0027, max_hfw_ib=0.0009, eucentric_height_eb=0.004, eucentric_height_ib=0.0165, eucentric_height_tolerance=0.0005, needle_stage_height_limit=0.0037, max_working_distance_eb=0.006), image_settings=ImageSettings(resolution='1536x1024', dwell_time=1e-06, hfw=0.00015, autocontrast=True, beam_type=<BeamType.ELECTRON: 1>, save=False, label='', gamma=GammaSettings(enabled=True, min_gamma=0.15, max_gamma=1.8, scale_factor=0.01, threshold=46), save_path=''), grid=StagePosition(x=-0.0032375, y=0.0039354, z=0.03095, r=0.872665, coordinate_system=Raw), landing=StagePosition(x=0.00276265, y=0.0039354, z=0.031379, r=0.872665, coordinate_system=Raw))\n"
     ]
    }
   ],
   "source": []
  },
  {
   "cell_type": "code",
   "execution_count": null,
   "metadata": {},
   "outputs": [],
   "source": []
  }
 ],
 "metadata": {
  "kernelspec": {
   "display_name": "Python 3.9.12 ('autoliftout')",
   "language": "python",
   "name": "python3"
  },
  "language_info": {
   "codemirror_mode": {
    "name": "ipython",
    "version": 3
   },
   "file_extension": ".py",
   "mimetype": "text/x-python",
   "name": "python",
   "nbconvert_exporter": "python",
   "pygments_lexer": "ipython3",
   "version": "3.9.12"
  },
  "orig_nbformat": 4,
  "vscode": {
   "interpreter": {
    "hash": "0ae5a722a47a2a43262ee6d419b08874066f95ae58929cb636099b0410b63756"
   }
  }
 },
 "nbformat": 4,
 "nbformat_minor": 2
}
