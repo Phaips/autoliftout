{
 "cells": [
  {
   "cell_type": "markdown",
   "metadata": {},
   "source": [
    "### Testing Notebook\n",
    "\n",
    "This notebook contains the test plan for the autoliftout automation refactor"
   ]
  },
  {
   "cell_type": "code",
   "execution_count": null,
   "metadata": {},
   "outputs": [],
   "source": [
    "%load_ext autoreload \n",
    "%autoreload 2\n",
    "from liftout import utils\n",
    "from liftout.fibsem import acquire, calibration, milling, movement, validation\n",
    "from liftout.fibsem import utils as fibsem_utils\n",
    "from liftout.detection import detection\n",
    "from liftout.detection import utils as det_utils\n",
    "from liftout.fibsem.sample import Sample, Lamella, AutoLiftoutStage, AutoLiftoutState, MicroscopeState\n",
    "from liftout.fibsem.structures import Point\n",
    "from liftout.fibsem.acquire import BeamType\n",
    "from liftout.detection.detection import DetectionType\n",
    "\n",
    "from liftout import autoliftout\n",
    "\n",
    "\n",
    "from autoscript_sdb_microscope_client.structures import AdornedImage, MoveSettings, StagePosition, ManipulatorPosition, Rectangle\n",
    "\n",
    "\n",
    "import numpy as np\n",
    "import os\n",
    "import matplotlib.pyplot as plt\n",
    "import glob\n",
    "from pprint import pprint"
   ]
  },
  {
   "cell_type": "markdown",
   "metadata": {},
   "source": [
    "##### Questions\n",
    "1. What does link_zy do?\n",
    "2. What does tilt_compucentric do?\n",
    "3. How do we define eucentricity?\n",
    "4. What should we do when the system fails?\n",
    "5. "
   ]
  },
  {
   "cell_type": "code",
   "execution_count": null,
   "metadata": {},
   "outputs": [],
   "source": [
    "def take_reference_images_and_plot(microscope, image_settings):\n",
    "    eb_image, ib_image = acquire.take_reference_images(microscope, image_settings)\n",
    "    utils.plot_two_images(eb_image, ib_image)\n",
    "    pprint(f\"Stage Position: {microscope.specimen.stage.current_position}\")\n",
    "\n",
    "    return eb_image, ib_image"
   ]
  },
  {
   "cell_type": "code",
   "execution_count": 24,
   "metadata": {},
   "outputs": [
    {
     "name": "stdout",
     "output_type": "stream",
     "text": [
      "ImageSettings(resolution='1536x1024', dwell_time=1e-06, hfw=0.00015, autocontrast=1.0, beam_type=<BeamType.ELECTRON: 1>, save=False, label='2022-08-04.03-46-47PM', gamma=GammaSettings(enabled=1.0, min_gamma=0.15, max_gamma=1.8, scale_factor=0.01, threshold=46.0), save_path='c:\\\\Users\\\\pcle0002\\\\Documents\\\\repos\\\\autoliftout\\\\liftout\\\\tools\\\\auto\\\\tools/test')\n",
      "\n",
      "        Lamella 999 (999-test-mule). \n",
      "        Lamella Coordinates: StagePosition(), \n",
      "        Landing Coordinates: StagePosition(), \n",
      "        Current Stage: AutoLiftoutStage.Setup,\n",
      "        Last Completed: AutoLiftoutStage.Setup\n",
      "        History: 0 stages completed ([]).\n",
      "        \n",
      "Sample: \n",
      "        Path: c:\\Users\\pcle0002\\Documents\\repos\\autoliftout\\liftout\\tools\\auto\\tools\\test\n",
      "        State: None\n",
      "        Lamella: 1\n",
      "        \n"
     ]
    }
   ],
   "source": [
    "# common\n",
    "microscope, settings, image_settings, sample, lamella = fibsem_utils.full_setup()\n",
    "\n",
    "pprint(image_settings)\n",
    "pprint(lamella)\n",
    "pprint(sample)"
   ]
  },
  {
   "cell_type": "markdown",
   "metadata": {},
   "source": [
    "##### 1. Mill Trench\n",
    "1. Mill a trench so we have a feature to work with"
   ]
  },
  {
   "cell_type": "code",
   "execution_count": null,
   "metadata": {},
   "outputs": [],
   "source": [
    "milling_settings = milling.get_milling_protocol_stage_settings(settings, milling.MillingPattern.Trench)\n",
    "for stage_settings in milling_settings:\n",
    "    patterns = milling.mill_trench_patterns(microscope, stage_settings)"
   ]
  },
  {
   "cell_type": "markdown",
   "metadata": {},
   "source": [
    "##### 2. Get State\n",
    "1. Move to trench\n",
    "2. Get the microscope state"
   ]
  },
  {
   "cell_type": "code",
   "execution_count": null,
   "metadata": {},
   "outputs": [],
   "source": [
    "# move manually.\n",
    "\n",
    "microscope_state: MicroscopeState = calibration.get_current_microscope_state(microscope, AutoLiftoutStage.MillTrench)\n",
    "pprint(microscope_state)\n",
    "\n",
    "# show images\n",
    "take_reference_images_and_plot(microscope, image_settings)"
   ]
  },
  {
   "cell_type": "markdown",
   "metadata": {},
   "source": [
    "##### 3. Set State\n",
    "\n",
    "1. Move the stage away from the trench state\n",
    "2. Restore the microscope state "
   ]
  },
  {
   "cell_type": "code",
   "execution_count": null,
   "metadata": {},
   "outputs": [],
   "source": [
    "# move away manually\n",
    "calibration.set_microscope_state(microscope, microscope_state)\n",
    "\n",
    "# show images\n",
    "take_reference_images_and_plot(microscope, image_settings)"
   ]
  },
  {
   "cell_type": "markdown",
   "metadata": {},
   "source": [
    "#### 4. Stage Movement\n",
    "\n",
    "Test the accuracy of the new stage movement function\n",
    "\n",
    "Stage movement\n",
    "1. Move to trench\n",
    "2. Take reference images\n",
    "3. Move away from trench\n",
    "4. Test stage movement with link_zy (eucentricity should be maintained) move back to trench\n",
    "5. Compare accuracy, and drift in both beams \n"
   ]
  },
  {
   "cell_type": "code",
   "execution_count": null,
   "metadata": {},
   "outputs": [],
   "source": [
    "# move to trench manually\n",
    "\n",
    "# take reference images\n",
    "ref_eb, ref_ib = take_reference_images_and_plot(microscope, image_settings)\n"
   ]
  },
  {
   "cell_type": "code",
   "execution_count": null,
   "metadata": {},
   "outputs": [],
   "source": [
    "# move away manually\n",
    "\n",
    "# take reference images\n",
    "pre_eb, pre_ib = take_reference_images_and_plot(microscope, image_settings)\n",
    "\n",
    "dx = 10.e-6\n",
    "dy = 10.e-6\n",
    "\n",
    "movement.move_stage_relative_with_corrected_movement(\n",
    "    microscope, settings, dx=dx, dy=dy, beam_type=BeamType.Electron\n",
    ")\n",
    "\n",
    "utils.plot_two_images(ref_eb, ref_ib)\n",
    "post_eb, post_ib = take_reference_images_and_plot(microscope, image_settings)\n",
    "\n"
   ]
  },
  {
   "cell_type": "markdown",
   "metadata": {},
   "source": [
    "Tilt Stability\n",
    "1. Move to trench\n",
    "2. Take refernece images\n",
    "3. Tilt the stage with tilt_compucentric option\n",
    "4. take reference images\n",
    "5. Compare central position after tilt"
   ]
  },
  {
   "cell_type": "code",
   "execution_count": null,
   "metadata": {},
   "outputs": [],
   "source": [
    "# move to trench manually\n",
    "\n",
    "# take reference images\n",
    "ref_eb, ref_ib = take_reference_images_and_plot(microscope, image_settings)\n",
    "\n",
    "# tilt +6\n",
    "move_settings = MoveSettings(rotate_compucentric=True, tilt_compucentric=True, link_z_y=True)\n",
    "microscope.specimen.stage.relative_move(StagePosition(t=np.deg2rad(6)))\n",
    "tilt_eb, tilt_ib = take_reference_images_and_plot(microscope, image_settings)\n",
    "\n",
    "# tilt -6\n",
    "move_settings = MoveSettings(rotate_compucentric=True, tilt_compucentric=True, link_z_y=True)\n",
    "microscope.specimen.stage.relative_move(StagePosition(t=-np.deg2rad(6)))\n",
    "flat_eb, flat_ib = take_reference_images_and_plot(microscope, image_settings)"
   ]
  },
  {
   "cell_type": "markdown",
   "metadata": {},
   "source": [
    "##### 5. Needle Movement\n",
    "\n",
    "Test the accuracy of the new needle movement function\n",
    "\n",
    "Insertion stability\n",
    "1. Insert Needle\n",
    "2. Change the needle insertion position to be lower in EB.\n",
    "2. Repeat needle insertion to check stability\n"
   ]
  },
  {
   "cell_type": "code",
   "execution_count": null,
   "metadata": {},
   "outputs": [],
   "source": [
    "# move stage out manually\n",
    "\n",
    "# take reference images\n",
    "ref_eb, ref_ib = take_reference_images_and_plot(microscope, image_settings)\n",
    "\n",
    "# insert needle\n",
    "park_position = movement.insert_needle(microscope)\n",
    "\n",
    "# take reference images\n",
    "print(f\"insert to park position\")\n",
    "ref_eb, ref_ib = take_reference_images_and_plot(microscope, image_settings)\n",
    "\n",
    "# retract\n",
    "movement.retract_needle(microscope)\n",
    "\n",
    "for i in range(3):\n",
    "    print(f\"insert to liftout position\")\n",
    "    park_position = movement.insert_needle(microscope)\n",
    "    movement.move_needle_closer(microscope, x_shift=-20e-6, z_shift=-160e-6, y_shift=0.0e-6) \n",
    "    ref_eb, ref_ib = take_reference_images_and_plot(microscope, image_settings)\n",
    "    movement.retract_needle(microscope)\n"
   ]
  },
  {
   "cell_type": "markdown",
   "metadata": {},
   "source": [
    "Needle Movement\n",
    "1. Insert Needle \n",
    "2. Move needle to centre of EB image with new needle movement function\n",
    "3. Compare accuracy"
   ]
  },
  {
   "cell_type": "code",
   "execution_count": null,
   "metadata": {},
   "outputs": [],
   "source": [
    "# move stage out manually\n",
    "\n",
    "print(\"before insert\")\n",
    "ref_eb, ref_ib = take_reference_images_and_plot(microscope, image_settings)\n",
    "\n",
    "print(\"after insert\")\n",
    "movement.move_needle_to_liftout_position(microscope)\n",
    "\n",
    "ref_eb, ref_ib = take_reference_images_and_plot(microscope, image_settings)\n",
    "\n",
    "print(\"y-movement\")\n",
    "# TODO: calculate the move properly?\n",
    "dx = 20e-6\n",
    "dy = 0.0e-6\n",
    "\n",
    "movement.move_needle_relative_with_corrected_movement(microscope, settings, \n",
    "        dx=dx, \n",
    "        dy=dy, \n",
    "        beam_type=BeamType.ELECTRON)\n",
    "\n",
    "ref_eb, ref_ib = take_reference_images_and_plot(microscope, image_settings)\n",
    "\n",
    "# vertical movement\n",
    "print(\"z-movement\")\n",
    "# TODO: calculate the move properly?\n",
    "dx = 0.0e-6\n",
    "dy = -20.0e-6\n",
    "movement.move_needle_relative_with_corrected_movement(microscope, settings, \n",
    "        dx=dx, \n",
    "        dy=dy, \n",
    "        beam_type=BeamType.ION)\n",
    "\n",
    "ref_eb, ref_ib = take_reference_images_and_plot(microscope, image_settings)\n",
    "\n"
   ]
  },
  {
   "cell_type": "markdown",
   "metadata": {},
   "source": [
    "##### 6. CrossCorrelation\n",
    "\n",
    "Flat Cross Correlation\n",
    "1. Move to trench (flat IB)\n",
    "2. Take reference images\n",
    "3. Move flat to EB\n",
    "4. Cross correlate (rotated ref_ib)\n",
    "5. Measure accuracy, how far away is the lamella centre\n",
    "6. Try masking reference image to improve accuracy\n"
   ]
  },
  {
   "cell_type": "code",
   "execution_count": null,
   "metadata": {},
   "outputs": [],
   "source": [
    "# manually move to trench\n",
    "\n",
    "# TODO: do this for low res and high res??\n",
    "# image_settings.hfw = 400.e-6\n",
    "# image_settings.hfw = 150.e-6\n",
    "# image_settings.hfw = 80.e-6\n",
    "\n",
    "# move flat to ib\n",
    "movement.flat_to_beam(microscope, settings, beam_type=BeamType.ION)\n",
    "\n",
    "ref_eb, ref_ib = take_reference_images_and_plot(microscope, image_settings)\n",
    "\n",
    "# move flat to eb\n",
    "movement.flat_to_beam(microscope, settings, beam_type=BeamType.ELECTRON)\n",
    "\n",
    "new_eb, new_ib = take_reference_images_and_plot(microscope, image_settings)\n",
    "\n",
    "lp_px = int(max(new_eb.data.shape) * 0.66)\n",
    "hp_px = int(max(new_eb.data.shape) / 64)\n",
    "sigma = 6\n",
    "\n",
    "# cross correlate and plot\n",
    "utils.crosscorrelate_and_plot(ref_ib, new_eb, rotate=True, lp=lp_px, hp=hp_px, sigma=sigma)\n",
    "\n",
    "# align and move...\n",
    "# calibration.align_using_reference_images(microscope, settings, ref_ib, new_eb)\n"
   ]
  },
  {
   "cell_type": "markdown",
   "metadata": {},
   "source": [
    "Tilt Cross Correlation\n",
    "1. Move to trench (flat to EB)\n",
    "2. Take reference images\n",
    "3. Tilt +6 degrees\n",
    "4. Take reference images\n",
    "5. Cross correlate (eb - eb)\n",
    "6. Measure accuracy\n",
    "7. Try masking reference, cosine stretch"
   ]
  },
  {
   "cell_type": "code",
   "execution_count": null,
   "metadata": {},
   "outputs": [],
   "source": [
    "# manually move to trench\n",
    "\n",
    "# TODO: do this for low res and high res??\n",
    "\n",
    "# image_settings.hfw = 400.e-6\n",
    "# image_settings.hfw = 150.e-6\n",
    "# image_settings.hfw = 80.e-6\n",
    "\n",
    "# move flat to ib\n",
    "movement.flat_to_beam(microscope, settings, beam_type=BeamType.ELECTRON)\n",
    "ref_eb, ref_ib = take_reference_images_and_plot(microscope, image_settings)\n",
    "\n",
    "# titlt to jcut angle\n",
    "move_settings = MoveSettings(rotate_compucentric=True, tilt_compucentric=True, link_z_y=True)\n",
    "microscope.specimen.stage.relative_move(StagePosition(t=np.deg2rad(6)))\n",
    "new_eb, new_ib = take_reference_images_and_plot(microscope, image_settings)\n",
    "\n",
    "lp_px = int(max(new_eb.data.shape) * 0.66)\n",
    "hp_px = int(max(new_eb.data.shape) / 64)\n",
    "sigma = 6\n",
    "\n",
    "# cross correlate and plot\n",
    "utils.crosscorrelate_and_plot(ref_ib, new_ib, rotate=False, lp=lp_px, hp=hp_px, sigma=sigma)\n",
    "\n",
    "# align and move...\n",
    "# calibration.align_using_reference_images(microscope, settings, ref_ib, new_ib)"
   ]
  },
  {
   "cell_type": "markdown",
   "metadata": {},
   "source": [
    "##### 7. Eucentric Correction\n",
    "\n",
    "Cross Correlation eucentric correction\n",
    "1. Move to trench\n",
    "2. make eucentricity bad\n",
    "3. test eucentric correction function (CC)\n",
    "\n",
    "\n",
    "N.B. Need to test this in other conditions for robustness\n"
   ]
  },
  {
   "cell_type": "code",
   "execution_count": null,
   "metadata": {},
   "outputs": [],
   "source": [
    "# move stage eucentric"
   ]
  },
  {
   "cell_type": "code",
   "execution_count": null,
   "metadata": {},
   "outputs": [],
   "source": [
    "# manually move to trench\n",
    "\n",
    "# manually make eucentricy bad\n",
    "\n",
    "# take reference\n",
    "print(\"before correction\")\n",
    "ref_eb, ref_ib = take_reference_images_and_plot(microscope, image_settings)\n",
    "\n",
    "# test eucentric stage movement\n",
    "dy = 0.5e-6\n",
    "movement.move_stage_eucentric_correction(\n",
    "    microscope, settings, dy=dy, beam_type=BeamType.ION\n",
    ")\n",
    "\n",
    "print(\"after correction\")\n",
    "new_eb, new_ib = take_reference_images_and_plot(microscope, image_settings)\n"
   ]
  },
  {
   "cell_type": "code",
   "execution_count": null,
   "metadata": {},
   "outputs": [],
   "source": [
    "# test the automated version\n",
    "calibration.automatic_eucentric_correction_v2(microscope, settings, image_settings,)"
   ]
  },
  {
   "cell_type": "markdown",
   "metadata": {},
   "source": [
    "Cross Correlation Focus correction\n",
    "1. Move to trench\n",
    "2. make eucentricity bad\n",
    "3. test eucentric correction function (focus)"
   ]
  },
  {
   "cell_type": "code",
   "execution_count": null,
   "metadata": {},
   "outputs": [],
   "source": [
    "# TODO"
   ]
  },
  {
   "cell_type": "markdown",
   "metadata": {},
   "source": [
    "##### 8. Detection\n",
    "\n",
    "\n",
    "Liftout Detection\n",
    "1. Move to Trench\n",
    "2. Take Reference Images\n",
    "3. Insert Needle\n",
    "4. Take reference images\n",
    "5. Detect initial needle position\n",
    "\n",
    "\n",
    "\n",
    "\n",
    "\n",
    "\n"
   ]
  },
  {
   "cell_type": "code",
   "execution_count": null,
   "metadata": {},
   "outputs": [],
   "source": [
    "# manually move to trench\n",
    "\n",
    "# ref images\n",
    "ref_eb, ref_ib = take_reference_images_and_plot(microscope, image_settings)\n",
    "\n",
    "# insert needle to liftout position\n",
    "movement.move_needle_to_liftout_position(microscope)\n",
    "\n",
    "# new images\n",
    "new_eb, new_ib = take_reference_images_and_plot(microscope, image_settings)\n",
    "\n",
    "# detect needle tip  \n",
    "det = detection.locate_shift_between_features_v2(\n",
    "        adorned_img=new_eb, \n",
    "        ref_image=ref_eb, \n",
    "        shift_type=(DetectionType.NeedleTip, DetectionType.ImageCentre), \n",
    "        settings=settings)\n",
    "\n",
    "fig = det_utils.plot_detection_result(det)\n",
    "plt.show()\n",
    "plt.close(fig)\n",
    "\n",
    "# try for multiple positions\n"
   ]
  },
  {
   "cell_type": "markdown",
   "metadata": {},
   "source": [
    "Needle Movement Following\n",
    "1. Do Liftout Detection\n",
    "2. Plan Needle movement (move to image centre)\n",
    "3. Predict next needle position\n",
    "4. Detect needle position using predicted position\n",
    "\n"
   ]
  },
  {
   "cell_type": "code",
   "execution_count": null,
   "metadata": {},
   "outputs": [],
   "source": [
    "# new needle position should be the final position of previous step?\n",
    "# TODO\n",
    "# use the initial reference and see the difference?"
   ]
  },
  {
   "cell_type": "markdown",
   "metadata": {},
   "source": [
    "\n",
    "Brightness Detection\n",
    "1. Insert Needle\n",
    "2. Move vertically above trench\n",
    "3. Move needle verticall down\n",
    "4. measure brightness\n",
    "5. Plot brightness over time\n",
    "6. Compare images, and brightness values"
   ]
  },
  {
   "cell_type": "code",
   "execution_count": null,
   "metadata": {},
   "outputs": [],
   "source": [
    "# manually move to trench\n",
    "\n",
    "# ref images\n",
    "ref_eb, ref_ib = take_reference_images_and_plot(microscope, image_settings)\n",
    "\n",
    "# insert needle to liftout position\n",
    "movement.move_needle_to_liftout_position(microscope)\n",
    "\n",
    "\n",
    "# manually move needle above trench\n",
    "\n",
    "\n",
    "\n",
    "\n",
    "# take image\n",
    "eb_image, ib_image = acquire.take_reference_images(microscope, image_settings) \n",
    "\n",
    "# measure brightness\n",
    "BRIGHTNESS_FACTOR  = 1.2\n",
    "CROP_SIZE = 250\n",
    "previous_brightness = calibration.measure_brightness(ib_image, crop_size=CROP_SIZE)\n",
    "\n",
    "image_settings.hfw = settings[\"calibration\"][\"reference_images\"][\n",
    "    \"hfw_super_res\"\n",
    "]\n",
    "image_settings.label = f\"needle_liftout_post_z_half_movement_highres\"\n",
    "\n",
    "brightness_history = []\n",
    "\n",
    "while True:\n",
    "    last_image = ib_image\n",
    "\n",
    "    # move needle down 1um\n",
    "    movement.move_needle_relative_with_corrected_movement(\n",
    "        microscope, settings, dx=0, dy=-1.e-6, beam_type=BeamType.ION\n",
    "    )\n",
    "\n",
    "    # take image\n",
    "    reduced_area = Rectangle(0.4, 0.4, 0.2, 0.2)     # TODO: use reduced area? faster?\n",
    "    ib_image = acquire.new_image(microscope, image_settings)\n",
    "    brightness = calibration.measure_brightness(ib_image, crop_size=CROP_SIZE)\n",
    "\n",
    "    print(f\"previous: {previous_brightness}, current: {brightness}\")\n",
    "    print(f\"difference: {brightness-previous_brightness}, {(brightness / previous_brightness)}x \")\n",
    "    print(\"---------------------------\")\n",
    "\n",
    "    if brightness > previous_brightness * BRIGHTNESS_FACTOR:\n",
    "        # needle has landed...\n",
    "\n",
    "        response = input(\"Press enter to continue...\")\n",
    "        \n",
    "        if response != \"\":\n",
    "            break\n",
    "        \n",
    "    previous_brightness = brightness\n",
    "    brightness_history.append(brightness)\n",
    "\n",
    "    # plot data\n",
    "    fig, ax = plt.subplots(1, 3, figsize=(30, 30))\n",
    "    ax[0].imshow(last_image.data, cmap=\"gray\")\n",
    "    ax[1].imshow(ib_image.data, cmap=\"gray\")\n",
    "    ax[2].plot(brightness_history)\n",
    "    plt.show()\n",
    "\n",
    "    response = input(\"Press enter to continue...\")\n",
    "\n",
    "# take final reference images\n",
    "image_settings.hfw = settings[\"calibration\"][\"reference_images\"][\"hfw_high_res\"]\n",
    "image_settings.save = True\n",
    "image_settings.label = f\"needle_liftout_landed_lowres\"\n",
    "acquire.take_reference_images(microscope, image_settings)\n",
    "\n",
    "image_settings.hfw = settings[\"calibration\"][\"reference_images\"][\"hfw_super_res\"]\n",
    "image_settings.label = f\"needle_liftout_landed_highres\"\n",
    "acquire.take_reference_images(microscope, image_settings)\n",
    "\n",
    "\n"
   ]
  },
  {
   "cell_type": "code",
   "execution_count": 18,
   "metadata": {},
   "outputs": [
    {
     "data": {
      "text/plain": [
       "''"
      ]
     },
     "execution_count": 18,
     "metadata": {},
     "output_type": "execute_result"
    }
   ],
   "source": []
  },
  {
   "cell_type": "markdown",
   "metadata": {},
   "source": [
    "##### 9. Landing\n",
    "\n",
    "Landing Detection\n",
    "1. Move to Landing Post\n",
    "2. Insert Needle\n",
    "3. Detect lamella edge\n",
    "4. Align Y in EB with post\n",
    "5. Align XZ in IB with post\n",
    "6. Move needle to make contact with post..."
   ]
  },
  {
   "cell_type": "code",
   "execution_count": null,
   "metadata": {},
   "outputs": [],
   "source": [
    "# manually move to landing post\n",
    "\n",
    "movement.move_needle_to_landing_position(microscope)\n",
    "\n",
    "# take image\n",
    "eb_image, ib_image = acquire.take_reference_images(microscope, image_settings) \n",
    "\n",
    "############################################################################################################\n",
    "# eb alignment\n",
    "det = detection.locate_shift_between_features_v2(eb_image, None, shift_type=(DetectionType.LamellaEdge, DetectionType.LandingPost), \n",
    "    settings=settings)\n",
    "\n",
    "fig = det_utils.plot_detection_result(det)\n",
    "plt.show()\n",
    "plt.close(fig)\n",
    "\n",
    "print(f\"distance: {det.distance_metres}m\")\n",
    "\n",
    "dx = det.distance_metres.x\n",
    "dy = det.distance_metres.y\n",
    "\n",
    "movement.move_needle_relative_with_corrected_movement(\n",
    "    microscope, settings, dx=0, dy=dy, beam_type=BeamType.ELECTRON\n",
    ")\n",
    "\n",
    "############################################################################################################\n",
    "# ib alignment\n",
    "eb_image, ib_image = acquire.take_reference_images(microscope, image_settings) \n",
    "\n",
    "det = detection.locate_shift_between_features_v2(ib_image, None, shift_type=(DetectionType.LamellaEdge, DetectionType.LandingPost), \n",
    "    settings=settings)\n",
    "\n",
    "fig = det_utils.plot_detection_result(det)\n",
    "plt.show()\n",
    "plt.close(fig)\n",
    "\n",
    "print(f\"distance: {det.distance_metres}m\")\n",
    "\n",
    "# up is down\n",
    "dx = det.distance_metres.x\n",
    "dy = det.distance_metres.y\n",
    "\n",
    "movement.move_needle_relative_with_corrected_movement(\n",
    "    microscope, settings, dx=dx, dy=-dy, beam_type=BeamType.ION\n",
    ")\n",
    "\n",
    "# TODO:\n",
    "# repeat while dx > tolerance?\n",
    "# reduce hfw"
   ]
  },
  {
   "cell_type": "markdown",
   "metadata": {},
   "source": [
    "##### 10. Reset\n",
    "\n",
    "Sharpen Needle\n",
    "1. Move Stage Out\n",
    "2. Insert Needle\n",
    "3. Move Needle to Centre\n",
    "4. Mill Sharpen Needle Pattern"
   ]
  },
  {
   "cell_type": "code",
   "execution_count": 25,
   "metadata": {},
   "outputs": [
    {
     "name": "stdout",
     "output_type": "stream",
     "text": [
      "Point(x=0.0, y=0.0)\n"
     ]
    }
   ],
   "source": [
    "# manually move to landing post\n",
    "\n",
    "movement.move_sample_stage_out(microscope)\n",
    "\n",
    "# move needle in\n",
    "park_position = movement.insert_needle(microscope)\n",
    "z_move_in = movement.z_corrected_needle_movement(-180e-6, microscope.specimen.stage.current_position.t)\n",
    "microscope.specimen.manipulator.relative_move(z_move_in)\n",
    "\n",
    "# take image\n",
    "eb_image, ib_image = acquire.take_reference_images(microscope, image_settings) \n",
    "\n",
    "############################################################################################################\n",
    "# ib alignment\n",
    "eb_image, ib_image = acquire.take_reference_images(microscope, image_settings) \n",
    "\n",
    "det = detection.locate_shift_between_features_v2(ib_image, None, shift_type=(DetectionType.NeedleTip, DetectionType.ImageCentre), \n",
    "    settings=settings)\n",
    "\n",
    "fig = det_utils.plot_detection_result(det)\n",
    "plt.show()\n",
    "plt.close(fig)\n",
    "\n",
    "print(f\"distance: {det.distance_metres}m\")\n",
    "\n",
    "# up is down\n",
    "dx = det.distance_metres.x\n",
    "dy = det.distance_metres.y\n",
    "\n",
    "movement.move_needle_relative_with_corrected_movement(\n",
    "    microscope, settings, dx=dx, dy=-dy, beam_type=BeamType.ION\n",
    ")\n",
    "\n",
    "# run sharpen needle\n",
    "patterns = milling.create_sharpen_needle_patterns(microscope, settings)"
   ]
  },
  {
   "cell_type": "code",
   "execution_count": null,
   "metadata": {},
   "outputs": [],
   "source": []
  },
  {
   "cell_type": "markdown",
   "metadata": {},
   "source": [
    "12. Thin Lamella\n",
    "\n",
    "Align Thin Lamella\n",
    "1. Move to Landing Position\n",
    "2. Take reference images\n",
    "3. Rotate and tilt to thinning angle\n",
    "4. Take reference images\n",
    "5. Align to reference images\n",
    "6. Run Milling"
   ]
  },
  {
   "cell_type": "code",
   "execution_count": null,
   "metadata": {},
   "outputs": [],
   "source": [
    "# manually move to landing position\n",
    "\n",
    "# take reference images\n",
    "eb_image, ib_image = acquire.take_reference_images(microscope, image_settings) \n",
    "\n",
    "# rotate and tilt to thinning angle\n",
    "movement.move_to_thinning_angle(microscope, settings)\n",
    "\n",
    "calibration.correct_stage_drift(microscope, settings, image_settings, alignment=(BeamType.ELECTRON, BeamType.ION), rotate=True)\n",
    "\n"
   ]
  },
  {
   "cell_type": "markdown",
   "metadata": {},
   "source": [
    "13. Polish Lamella\n",
    "\n",
    "Align Polish Lamella\n",
    "1. Move to thinning position\n",
    "2. Take reference images\n",
    "5. Align to reference images\n",
    "6. Run Milling"
   ]
  },
  {
   "cell_type": "code",
   "execution_count": null,
   "metadata": {},
   "outputs": [],
   "source": []
  },
  {
   "cell_type": "code",
   "execution_count": null,
   "metadata": {},
   "outputs": [],
   "source": []
  },
  {
   "cell_type": "code",
   "execution_count": null,
   "metadata": {},
   "outputs": [],
   "source": []
  }
 ],
 "metadata": {
  "kernelspec": {
   "display_name": "Python 3.9.12 ('autoliftout')",
   "language": "python",
   "name": "python3"
  },
  "language_info": {
   "codemirror_mode": {
    "name": "ipython",
    "version": 3
   },
   "file_extension": ".py",
   "mimetype": "text/x-python",
   "name": "python",
   "nbconvert_exporter": "python",
   "pygments_lexer": "ipython3",
   "version": "3.9.12"
  },
  "orig_nbformat": 4,
  "vscode": {
   "interpreter": {
    "hash": "0ae5a722a47a2a43262ee6d419b08874066f95ae58929cb636099b0410b63756"
   }
  }
 },
 "nbformat": 4,
 "nbformat_minor": 2
}
