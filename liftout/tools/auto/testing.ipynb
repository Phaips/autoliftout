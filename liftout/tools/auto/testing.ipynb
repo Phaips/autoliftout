{
 "cells": [
  {
   "cell_type": "markdown",
   "metadata": {},
   "source": [
    "### Testing Notebook\n",
    "\n",
    "This notebook contains the test plan for the autoliftout automation refactor"
   ]
  },
  {
   "cell_type": "code",
   "execution_count": 1,
   "metadata": {},
   "outputs": [
    {
     "name": "stderr",
     "output_type": "stream",
     "text": [
      "c:\\Users\\Admin\\.conda\\envs\\liftout\\lib\\site-packages\\tqdm\\auto.py:22: TqdmWarning: IProgress not found. Please update jupyter and ipywidgets. See https://ipywidgets.readthedocs.io/en/stable/user_install.html\n",
      "  from .autonotebook import tqdm as notebook_tqdm\n"
     ]
    }
   ],
   "source": [
    "%load_ext autoreload \n",
    "%autoreload 2\n",
    "from liftout import utils, patterning, actions\n",
    "from fibsem import acquire, calibration, movement, validation, milling, alignment\n",
    "from fibsem import utils as fibsem_utils\n",
    "from liftout.detection import detection\n",
    "from liftout.detection import utils as det_utils\n",
    "from liftout.sample import Sample, Lamella, AutoLiftoutStage, AutoLiftoutState, MicroscopeState\n",
    "from fibsem.structures import Point, BeamType, ImageSettings\n",
    "from liftout.detection.detection import DetectionType, DetectionFeature\n",
    "from liftout.structures import ReferenceHFW\n",
    "\n",
    "from liftout import autoliftout\n",
    "from liftout.utils import take_reference_images_and_plot\n",
    "from autoscript_sdb_microscope_client.structures import AdornedImage, MoveSettings, StagePosition, ManipulatorPosition, Rectangle\n",
    "from autoscript_sdb_microscope_client import SdbMicroscopeClient\n",
    "\n",
    "import numpy as np\n",
    "import os\n",
    "import matplotlib.pyplot as plt\n",
    "import glob\n",
    "from pprint import pprint"
   ]
  },
  {
   "cell_type": "markdown",
   "metadata": {},
   "source": [
    "### Notes\n",
    "\n",
    "Needle needs a warm up to insert to the correct position\n",
    "\n",
    "needle position is off by 5um,\n",
    "\n",
    "eucentric to park\n",
    "\n",
    "\n"
   ]
  },
  {
   "cell_type": "code",
   "execution_count": null,
   "metadata": {},
   "outputs": [],
   "source": []
  },
  {
   "cell_type": "code",
   "execution_count": null,
   "metadata": {},
   "outputs": [],
   "source": []
  },
  {
   "cell_type": "code",
   "execution_count": 4,
   "metadata": {},
   "outputs": [
    {
     "name": "stderr",
     "output_type": "stream",
     "text": [
      "2022-08-16 18:31:13,546 — root — INFO — connect_to_microscope:19 — Microscope client connecting to [10.0.0.1]\n",
      "2022-08-16 18:31:13,550 — root — INFO — connect_to_microscope:22 — Microscope client connected to [10.0.0.1]\n"
     ]
    },
    {
     "name": "stdout",
     "output_type": "stream",
     "text": [
      "Client connecting to [10.0.0.1:7520]...\n",
      "Client connected to [10.0.0.1:7520]\n",
      "ImageSettings(resolution='1536x1024', dwell_time=1e-06, hfw=0.00015, autocontrast=1.0, beam_type=<BeamType.ELECTRON: 1>, save=False, label='2022-08-16.06-31-13PM', gamma=GammaSettings(enabled=1.0, min_gamma=0.15, max_gamma=1.8, scale_factor=0.01, threshold=46.0), save_path='c:\\\\Users\\\\Admin\\\\Github\\\\autoliftout\\\\liftout\\\\tools\\\\auto\\\\tools/test')\n",
      "\n",
      "        Lamella 999 (999-test-mule). \n",
      "        Lamella Coordinates: StagePosition(), \n",
      "        Landing Coordinates: StagePosition(), \n",
      "        Current Stage: AutoLiftoutStage.Setup,\n",
      "        History: 0 stages completed ([]).\n",
      "        \n",
      "Sample: \n",
      "        Path: c:\\Users\\Admin\\Github\\autoliftout\\liftout\\tools\\auto\\tools\\test\n",
      "        State: None\n",
      "        Lamella: 1\n",
      "        \n"
     ]
    }
   ],
   "source": [
    "# common\n",
    "microscope, settings, image_settings, sample, lamella = utils.full_setup()\n",
    "\n",
    "pprint(image_settings)\n",
    "pprint(lamella)\n",
    "pprint(sample)"
   ]
  },
  {
   "cell_type": "code",
   "execution_count": null,
   "metadata": {},
   "outputs": [],
   "source": [
    "\n",
    "def check_rotation_is_close(r1: float, r2: float, atol: float = 90) -> bool:\n",
    "    \"\"\"_summary_\n",
    "\n",
    "    Args:\n",
    "        r1 (float): rotation 1 (degrees)\n",
    "        r2 (float): rotation 2 (degrees)\n",
    "        atol (float, optional): tolerance between rotations (degrees). Defaults to 90.\n",
    "\n",
    "    Returns:\n",
    "        bool: rotations are close\n",
    "    \"\"\"\n",
    "    r1_rad = np.deg2rad(r1) % (2 * np.pi)\n",
    "    r2_rad = np.deg2rad(r2) % (2 * np.pi)\n",
    "\n",
    "    # works for multiples of 2pi\n",
    "    # doesnt work for crossing over 0\n",
    "\n",
    "    return np.isclose(r1_rad, r2_rad, atol=np.deg2rad(atol))\n",
    "\n",
    "assert check_rotation_is_close(50, 50, 90) ==  True, \"Rotation is close\"\n",
    "assert check_rotation_is_close(50, 230, 90) ==  False, \"Rotation is not close\"\n",
    "assert check_rotation_is_close(50, -360+50, 90) ==  True, \"Rotation is close\"\n",
    "assert check_rotation_is_close(2, 358, 90) ==  True, \"Rotation is close\"\n",
    "\n",
    "# TODO: add this...\n"
   ]
  },
  {
   "cell_type": "code",
   "execution_count": 29,
   "metadata": {},
   "outputs": [
    {
     "name": "stdout",
     "output_type": "stream",
     "text": [
      "close: False, da: 100.0000, a1: 0.8727, a2: -0.8727\n"
     ]
    },
    {
     "ename": "AssertionError",
     "evalue": "",
     "output_type": "error",
     "traceback": [
      "\u001b[1;31m---------------------------------------------------------------------------\u001b[0m",
      "\u001b[1;31mAssertionError\u001b[0m                            Traceback (most recent call last)",
      "\u001b[1;32mc:\\Users\\Admin\\Github\\autoliftout\\liftout\\tools\\auto\\testing.ipynb Cell 8\u001b[0m in \u001b[0;36m<cell line: 27>\u001b[1;34m()\u001b[0m\n\u001b[0;32m     <a href='vscode-notebook-cell:/c%3A/Users/Admin/Github/autoliftout/liftout/tools/auto/testing.ipynb#Y103sZmlsZQ%3D%3D?line=22'>23</a>\u001b[0m     \u001b[39massert\u001b[39;00m movement\u001b[39m.\u001b[39mrotation_angle_is_larger(np\u001b[39m.\u001b[39mdeg2rad(\u001b[39m-\u001b[39m\u001b[39m90\u001b[39m), np\u001b[39m.\u001b[39mdeg2rad(\u001b[39m90\u001b[39m)) \u001b[39m==\u001b[39m \u001b[39mTrue\u001b[39;00m\n\u001b[0;32m     <a href='vscode-notebook-cell:/c%3A/Users/Admin/Github/autoliftout/liftout/tools/auto/testing.ipynb#Y103sZmlsZQ%3D%3D?line=25'>26</a>\u001b[0m test_angle_difference()\n\u001b[1;32m---> <a href='vscode-notebook-cell:/c%3A/Users/Admin/Github/autoliftout/liftout/tools/auto/testing.ipynb#Y103sZmlsZQ%3D%3D?line=26'>27</a>\u001b[0m test_rotation_angle_is_larger()\n",
      "\u001b[1;32mc:\\Users\\Admin\\Github\\autoliftout\\liftout\\tools\\auto\\testing.ipynb Cell 8\u001b[0m in \u001b[0;36mtest_rotation_angle_is_larger\u001b[1;34m()\u001b[0m\n\u001b[0;32m     <a href='vscode-notebook-cell:/c%3A/Users/Admin/Github/autoliftout/liftout/tools/auto/testing.ipynb#Y103sZmlsZQ%3D%3D?line=20'>21</a>\u001b[0m \u001b[39massert\u001b[39;00m movement\u001b[39m.\u001b[39mrotation_angle_is_larger(np\u001b[39m.\u001b[39mdeg2rad(\u001b[39m-\u001b[39m\u001b[39m45\u001b[39m), np\u001b[39m.\u001b[39mdeg2rad(\u001b[39m45\u001b[39m)) \u001b[39m==\u001b[39m \u001b[39mTrue\u001b[39;00m\n\u001b[0;32m     <a href='vscode-notebook-cell:/c%3A/Users/Admin/Github/autoliftout/liftout/tools/auto/testing.ipynb#Y103sZmlsZQ%3D%3D?line=21'>22</a>\u001b[0m \u001b[39massert\u001b[39;00m movement\u001b[39m.\u001b[39mrotation_angle_is_larger(np\u001b[39m.\u001b[39mdeg2rad(\u001b[39m0\u001b[39m), np\u001b[39m.\u001b[39mdeg2rad(\u001b[39m180\u001b[39m)) \u001b[39m==\u001b[39m \u001b[39mFalse\u001b[39;00m\n\u001b[1;32m---> <a href='vscode-notebook-cell:/c%3A/Users/Admin/Github/autoliftout/liftout/tools/auto/testing.ipynb#Y103sZmlsZQ%3D%3D?line=22'>23</a>\u001b[0m \u001b[39massert\u001b[39;00m movement\u001b[39m.\u001b[39mrotation_angle_is_larger(np\u001b[39m.\u001b[39mdeg2rad(\u001b[39m-\u001b[39m\u001b[39m90\u001b[39m), np\u001b[39m.\u001b[39mdeg2rad(\u001b[39m90\u001b[39m)) \u001b[39m==\u001b[39m \u001b[39mTrue\u001b[39;00m\n",
      "\u001b[1;31mAssertionError\u001b[0m: "
     ]
    }
   ],
   "source": [
    "a1 = np.deg2rad(50)\n",
    "a2 = np.deg2rad(-50)\n",
    "\n",
    "da = movement.angle_difference(a1, a2)\n",
    "close = movement.rotation_angle_is_larger(a1, a2)\n",
    "\n",
    "print(f\"close: {close}, da: {np.rad2deg(da):.4f}, a1: {a1:.4f}, a2: {a2:.4f}\")\n",
    "\n"
   ]
  },
  {
   "cell_type": "code",
   "execution_count": null,
   "metadata": {},
   "outputs": [],
   "source": []
  },
  {
   "cell_type": "markdown",
   "metadata": {},
   "source": [
    "##### EUCENTRIC CORRECTION"
   ]
  },
  {
   "cell_type": "code",
   "execution_count": null,
   "metadata": {},
   "outputs": [],
   "source": [
    "# EUCENTRIC HEIGHT ADJUSTMENT FROM IMAGE COORDINATES\n",
    "dy = -5.5e-6\n",
    "movement.move_stage_eucentric_correction(microscope, dy)\n",
    "\n",
    "take_reference_images_and_plot(microscope, image_settings)"
   ]
  },
  {
   "cell_type": "code",
   "execution_count": null,
   "metadata": {},
   "outputs": [],
   "source": [
    "# coarse eucentric alignment\n",
    "EUCENTRIC_HEIGHT = 3.91e-3\n",
    "alignment.coarse_eucentric_alignment(microscope, settings, hfw=30e-6, eucentric_height=EUCENTRIC_HEIGHT)"
   ]
  },
  {
   "cell_type": "code",
   "execution_count": null,
   "metadata": {},
   "outputs": [],
   "source": [
    "# fine alignment\n",
    "alignment.correct_stage_eucentric_alignment(microscope, settings, image_settings)"
   ]
  },
  {
   "cell_type": "markdown",
   "metadata": {},
   "source": [
    "#### STATE MANAGEMENT"
   ]
  },
  {
   "cell_type": "code",
   "execution_count": 8,
   "metadata": {},
   "outputs": [],
   "source": [
    "lamella.lamella_state = calibration.get_current_microscope_state(microscope)"
   ]
  },
  {
   "cell_type": "code",
   "execution_count": 9,
   "metadata": {},
   "outputs": [
    {
     "name": "stdout",
     "output_type": "stream",
     "text": [
      "\n",
      "        Lamella 999 (999-test-mule). \n",
      "        Lamella Coordinates: StagePosition(x=-0.0038545, y=0.0033651667, z=0.023157697, t=-1.56101e-06, r=0.8553286, coordinate_system=Raw), \n",
      "        Landing Coordinates: StagePosition(x=-0.0038545, y=0.0033651667, z=0.023157697, t=-1.56101e-06, r=0.8553286, coordinate_system=Raw), \n",
      "        Current Stage: AutoLiftoutStage.Setup,\n",
      "        History: 0 stages completed ([]).\n",
      "        \n"
     ]
    }
   ],
   "source": [
    "pprint(lamella)"
   ]
  },
  {
   "cell_type": "code",
   "execution_count": 10,
   "metadata": {},
   "outputs": [],
   "source": [
    "\n",
    "sample = autoliftout.update_sample_lamella_data(sample, lamella)\n"
   ]
  },
  {
   "cell_type": "code",
   "execution_count": null,
   "metadata": {},
   "outputs": [],
   "source": [
    "# calibration.set_microscope_state(microscope, landing_state)\n",
    "take_reference_images_and_plot(microscope, image_settings)"
   ]
  },
  {
   "cell_type": "code",
   "execution_count": null,
   "metadata": {},
   "outputs": [],
   "source": []
  },
  {
   "cell_type": "code",
   "execution_count": null,
   "metadata": {},
   "outputs": [],
   "source": []
  },
  {
   "cell_type": "code",
   "execution_count": null,
   "metadata": {},
   "outputs": [],
   "source": [
    "\n",
    "\n"
   ]
  },
  {
   "cell_type": "markdown",
   "metadata": {},
   "source": [
    "##### 1. Mill Trench\n",
    "1. Mill a trench so we have a feature to work with"
   ]
  },
  {
   "cell_type": "code",
   "execution_count": null,
   "metadata": {},
   "outputs": [],
   "source": [
    "movement.move_flat_to_beam(microscope, settings, BeamType.ION)"
   ]
  },
  {
   "cell_type": "code",
   "execution_count": null,
   "metadata": {},
   "outputs": [],
   "source": [
    "# actions.move_to_sample_grid(microscope, settings)\n",
    "\n",
    "microscope.patterning.clear_patterns()\n",
    "milling_settings = patterning.get_milling_protocol_stage_settings(settings, patterning.MillingPattern.Trench)\n",
    "milling_stage_patterns = []\n",
    "for stage_settings in milling_settings:\n",
    "    patterns = patterning.mill_trench_patterns(microscope, stage_settings)\n",
    "    milling_stage_patterns.append(patterns)"
   ]
  },
  {
   "cell_type": "code",
   "execution_count": null,
   "metadata": {},
   "outputs": [],
   "source": [
    "milling.run_milling(microscope, milling_current=28.0e-9)\n",
    "milling.finish_milling(microscope)"
   ]
  },
  {
   "cell_type": "code",
   "execution_count": null,
   "metadata": {},
   "outputs": [],
   "source": [
    "\n",
    "import datetime\n",
    "total_time_seconds = milling.estimate_milling_time_in_seconds(milling_stage_patterns)\n",
    "time_str = str(datetime.timedelta(seconds=total_time_seconds)).split(\".\")[0]\n",
    "print(time_str)"
   ]
  },
  {
   "cell_type": "markdown",
   "metadata": {},
   "source": [
    "##### 6. CrossCorrelation\n",
    "\n",
    "Flat Cross Correlation\n",
    "1. Move to trench (flat IB)\n",
    "2. Take reference images\n",
    "3. Move flat to EB\n",
    "4. Cross correlate (rotated ref_ib)\n",
    "5. Measure accuracy, how far away is the lamella centre\n",
    "6. Try masking reference image to improve accuracy\n"
   ]
  },
  {
   "cell_type": "markdown",
   "metadata": {},
   "source": [
    "NOTE: need to retest the align_with_reference_image functions because there was inconsistency between how the references were passed...\n",
    "might be effectign some thing\n",
    "\n",
    "\n",
    "To Test:\n",
    "- Reference / New image order is correct\n",
    "- Movement directions are correct\n",
    "- X/Y pixelsize is the same (I think this is a bug)"
   ]
  },
  {
   "cell_type": "code",
   "execution_count": null,
   "metadata": {},
   "outputs": [],
   "source": [
    "# manually move to trench\n",
    "\n",
    "# TODO: do this for low res and high res??\n",
    "# image_settings.hfw = ReferenceHFW.Low.value\n",
    "image_settings.hfw = ReferenceHFW.High.value\n",
    "# image_settings.hfw = ReferenceHFW.Super.value\n",
    "image_settings.save = True\n",
    "image_settings.label = \"ref_\" + fibsem_utils.current_timestamp()\n",
    "\n",
    "# move flat to ib\n",
    "# movement.move_flat_to_beam(microscope, settings, beam_type=BeamType.ION)\n",
    "\n",
    "ref_eb, ref_ib = take_reference_images_and_plot(microscope, image_settings)\n",
    "\n",
    "# move flat to eb\n",
    "movement.move_flat_to_beam(microscope, settings, beam_type=BeamType.ELECTRON)\n",
    "\n",
    "new_eb, new_ib = take_reference_images_and_plot(microscope, image_settings)\n",
    "image_settings.label = \"new_\" + fibsem_utils.current_timestamp()\n",
    "\n",
    "\n",
    "# lp_px = 128 #int(max(new_eb.data.shape) * 0.66)\n",
    "# hp_px = 6 #int(max(new_eb.data.shape) / 64)\n",
    "# sigma = 6\n",
    "\n",
    "# # cross correlate and plot\n",
    "# utils.crosscorrelate_and_plot(ref_ib, new_eb, rotate=True, lp=lp_px, hp=hp_px, sigma=sigma)\n",
    "\n",
    "# align and move...\n",
    "ref_mask = calibration.create_lamella_mask(ref_ib, settings, factor=4, circ=False)\n",
    "\n",
    "calibration.align_using_reference_images(microscope, settings, calibration.rotate_AdornedImage(ref_ib), new_eb, ref_mask=ref_mask)\n",
    "\n",
    "after_eb, after_ib = take_reference_images_and_plot(microscope, image_settings)\n",
    "image_settings.label = \"after\" + fibsem_utils.current_timestamp()\n",
    "\n",
    "utils.plot_two_images(calibration.rotate_AdornedImage(ref_ib), after_eb)\n"
   ]
  },
  {
   "cell_type": "code",
   "execution_count": null,
   "metadata": {},
   "outputs": [],
   "source": []
  },
  {
   "cell_type": "code",
   "execution_count": null,
   "metadata": {},
   "outputs": [],
   "source": []
  },
  {
   "cell_type": "markdown",
   "metadata": {},
   "source": [
    "#### Correct Stage Drift ()"
   ]
  },
  {
   "cell_type": "code",
   "execution_count": null,
   "metadata": {},
   "outputs": [],
   "source": [
    "movement.move_flat_to_beam(microscope, settings, BeamType.ION)"
   ]
  },
  {
   "cell_type": "code",
   "execution_count": null,
   "metadata": {},
   "outputs": [],
   "source": [
    "# TODO: do this for low res and high res??\n",
    "# image_settings.hfw = ReferenceHFW.Low.value\n",
    "image_settings.hfw = ReferenceHFW.High.value\n",
    "# image_settings.hfw = ReferenceHFW.Super.value\n",
    "image_settings.save = True\n",
    "image_settings.label = \"ref_\" + fibsem_utils.current_timestamp()\n",
    "\n",
    "\n",
    "# move flat to ib\n",
    "# movement.move_flat_to_beam(microscope, settings, beam_type=BeamType.ION)\n",
    "\n",
    "ref_low_eb, ref_low_ib = take_reference_images_and_plot(microscope, image_settings)\n",
    "image_settings.hfw = ReferenceHFW.Super.value\n",
    "image_settings.label = \"ref_high\" + fibsem_utils.current_timestamp()\n",
    "ref_high_eb, ref_high_ib = take_reference_images_and_plot(microscope, image_settings)\n",
    "\n",
    "from fibsem.structures import ReferenceImages\n",
    "reference_images = ReferenceImages(\n",
    "    ref_low_eb, ref_high_eb, ref_low_ib, ref_high_ib\n",
    ")\n",
    "\n",
    "\n",
    "# move flat to eb\n",
    "movement.move_flat_to_beam(microscope, settings, beam_type=BeamType.ELECTRON)\n",
    "calibration.correct_stage_drift(\n",
    "    microscope, settings, image_settings, reference_images=reference_images,\n",
    "    alignment=(BeamType.ION, BeamType.ELECTRON), rotate=True\n",
    ")\n",
    "\n",
    "\n",
    "after_eb, after_ib = take_reference_images_and_plot(microscope, image_settings)\n",
    "image_settings.label = \"after_high\" + fibsem_utils.current_timestamp()\n",
    "\n",
    "utils.plot_two_images(calibration.rotate_AdornedImage(ref_high_ib), after_eb)"
   ]
  },
  {
   "cell_type": "markdown",
   "metadata": {},
   "source": [
    "Tilt Cross Correlation\n",
    "1. Move to trench (flat to EB)\n",
    "2. Take reference images\n",
    "3. Tilt +6 degrees\n",
    "4. Take reference images\n",
    "5. Cross correlate (eb - eb)\n",
    "6. Measure accuracy\n",
    "7. Try masking reference, cosine stretch"
   ]
  },
  {
   "cell_type": "code",
   "execution_count": null,
   "metadata": {},
   "outputs": [],
   "source": [
    "movement.move_flat_to_beam(microscope, settings, beam_type=BeamType.ELECTRON)\n",
    "image_settings.hfw = 80e-6\n",
    "take_reference_images_and_plot(microscope, image_settings)"
   ]
  },
  {
   "cell_type": "code",
   "execution_count": null,
   "metadata": {},
   "outputs": [],
   "source": [
    "# manually move to trench\n",
    "\n",
    "# TODO: do this for low res and high res??\n",
    "# TODO: do this for eb/ib pairs\n",
    "\n",
    "# image_settings.hfw = ReferenceHFW.Low.value\n",
    "# image_settings.hfw = ReferenceHFW.High.value\n",
    "image_settings.hfw = ReferenceHFW.Super.value\n",
    "image_settings.save = True\n",
    "image_settings.label = \"ref_tilt\" + fibsem_utils.current_timestamp()\n",
    "\n",
    "# move flat to ib\n",
    "movement.move_flat_to_beam(microscope, settings, beam_type=BeamType.ELECTRON)\n",
    "\n",
    "ref_eb, ref_ib = take_reference_images_and_plot(microscope, image_settings)\n",
    "\n",
    "for i in range(1):\n",
    "\n",
    "\n",
    "    # titlt to jcut angle\n",
    "    TILT_DEGREES = 6\n",
    "    microscope.specimen.stage.relative_move(StagePosition(t=np.deg2rad(TILT_DEGREES)))\n",
    "    image_settings.label = f\"new_tilt_{i}_\" + fibsem_utils.current_timestamp()\n",
    "    new_eb, new_ib = take_reference_images_and_plot(microscope, image_settings)\n",
    "\n",
    "    lp_px = int(max(new_eb.data.shape) * 0.66)\n",
    "    hp_px = int(max(new_eb.data.shape) / 64)\n",
    "    sigma = 6\n",
    "\n",
    "    mask = calibration.create_lamella_mask(ref_ib, settings, factor=2.5, circ=False)\n",
    "\n",
    "    # cross correlate and plot\n",
    "    utils.crosscorrelate_and_plot(ref_ib, new_ib, rotate=False, lp=lp_px, hp=hp_px, sigma=sigma, ref_mask=mask)\n",
    "    utils.plot_two_images(ref_ib, calibration.apply_image_mask(ref_ib, mask))\n",
    "    \n",
    "    # align and move...\n",
    "    calibration.align_using_reference_images(microscope, settings, calibration.cosine_stretch(ref_ib, i*TILT_DEGREES), new_ib, ref_mask = mask)\n",
    "\n",
    "    after_eb, after_ib = take_reference_images_and_plot(microscope, image_settings)\n",
    "    image_settings.label = f\"after_{i}_\" + fibsem_utils.current_timestamp()\n",
    "\n",
    "    utils.plot_two_images(ref_ib, after_ib)"
   ]
  },
  {
   "cell_type": "code",
   "execution_count": null,
   "metadata": {},
   "outputs": [],
   "source": [
    "mask = calibration.create_lamella_mask(ref_ib, settings, factor=2.5, circ=False)\n",
    "\n",
    "utils.plot_two_images(ref_ib, calibration.apply_image_mask(ref_ib, mask))"
   ]
  },
  {
   "cell_type": "markdown",
   "metadata": {},
   "source": [
    "##### 7. Eucentric Correction\n",
    "\n",
    "Cross Correlation eucentric correction\n",
    "1. Move to trench\n",
    "2. make eucentricity bad\n",
    "3. test eucentric correction function (CC)\n",
    "\n",
    "\n",
    "N.B. Need to test this in other conditions for robustness\n"
   ]
  },
  {
   "cell_type": "code",
   "execution_count": null,
   "metadata": {},
   "outputs": [],
   "source": []
  },
  {
   "cell_type": "markdown",
   "metadata": {},
   "source": [
    "12. Thin Lamella\n",
    "\n",
    "Align Thin Lamella\n",
    "1. Move to Landing Position\n",
    "2. Take reference images\n",
    "3. Rotate and tilt to thinning angle\n",
    "4. Take reference images\n",
    "5. Align to reference images\n",
    "6. Run Milling"
   ]
  },
  {
   "cell_type": "code",
   "execution_count": null,
   "metadata": {},
   "outputs": [],
   "source": [
    "# manually move to landing position\n",
    "\n",
    "# # take reference images\n",
    "# eb_image, ib_image = acquire.take_reference_images(microscope, image_settings) \n",
    "\n",
    "# # rotate and tilt to thinning angle\n",
    "# actions.move_to_thinning_angle(microscope, settings)\n",
    "\n",
    "# calibration.correct_stage_drift(microscope, settings, image_settings, alignment=(BeamType.ELECTRON, BeamType.ION), rotate=True)\n",
    "\n"
   ]
  },
  {
   "cell_type": "markdown",
   "metadata": {},
   "source": [
    "13. Polish Lamella\n",
    "\n",
    "Align Polish Lamella\n",
    "1. Move to thinning position\n",
    "2. Take reference images\n",
    "5. Align to reference images\n",
    "6. Run Milling"
   ]
  },
  {
   "cell_type": "code",
   "execution_count": null,
   "metadata": {},
   "outputs": [],
   "source": []
  },
  {
   "cell_type": "code",
   "execution_count": null,
   "metadata": {},
   "outputs": [],
   "source": []
  },
  {
   "cell_type": "code",
   "execution_count": null,
   "metadata": {},
   "outputs": [],
   "source": [
    "#### liftout lamella\n",
    "\n",
    "from liftout.sample import load_experiment\n",
    "path = r\"C:\\Users\\Admin\\Github\\autoliftout\\liftout\\log\\test-run-room-temp_2022-08-15.12-07-57PM\"\n",
    "sample = load_experiment(path)\n",
    "\n",
    "lamella_no = list(sample.positions.keys())[0]\n",
    "lamella: Lamella = sample.positions[lamella_no]\n",
    "\n",
    "movement.safe_absolute_stage_movement(\n",
    "    microscope=microscope,\n",
    "    stage_position=lamella.landing_state.absolute_position,\n",
    ")\n",
    "\n",
    "movement.safe_absolute_stage_movement(microscope, lamella.lamella_state.absolute_position)\n",
    "# actions.move_to_liftout_angle(microscope, settings)\n",
    "\n",
    "take_reference_images_and_plot(microscope, image_settings)\n"
   ]
  },
  {
   "cell_type": "code",
   "execution_count": null,
   "metadata": {},
   "outputs": [],
   "source": [
    "movement.move_flat_to_beam(microscope, settings, BeamType.ELECTRON)"
   ]
  },
  {
   "cell_type": "code",
   "execution_count": null,
   "metadata": {},
   "outputs": [],
   "source": [
    "if microscope.specimen.manipulator.state == \"Inserted\":\n",
    "    print(\"retracting\")\n",
    "    movement.retract_needle(microscope)\n",
    "\n",
    "image_settings.hfw = ReferenceHFW.High.value\n",
    "# # take_reference_images_and_plot(microscope, image_settings)\n",
    "# actions.move_needle_to_liftout_position(microscope)\n",
    "# actions.move_needle_to_landing_position_v2(microscope)\n",
    "# autoliftout.land_needle_on_milled_lamella_v2(microscope, settings, image_settings, lamella)\n",
    "take_reference_images_and_plot(microscope, image_settings)"
   ]
  },
  {
   "cell_type": "markdown",
   "metadata": {},
   "source": [
    "#### Brightness GIF"
   ]
  },
  {
   "cell_type": "code",
   "execution_count": null,
   "metadata": {},
   "outputs": [],
   "source": [
    "\n",
    "path = r\"C:\\Users\\Admin\\Github\\autoliftout\\liftout\\tools\\auto\\data\\brightness\"\n",
    "search = \"bright_*.tif\"\n",
    "gif_fname = \"brightness\"\n",
    "from PIL import Image\n",
    "from pathlib  import Path\n",
    "\n",
    "\n",
    "\n",
    "fibsem_utils.create_gif(path, search, gif_fname, loop=1)"
   ]
  },
  {
   "cell_type": "code",
   "execution_count": null,
   "metadata": {},
   "outputs": [],
   "source": [
    "path = r\"C:\\Users\\Admin\\Github\\autoliftout\\liftout\\log\\test-run-room-temp_2022-08-15.12-07-57PM\\01-finer-parrot\"\n",
    "search = \"ref_*_low_res_ib.tif\"\n",
    "gif_fname = \"low_res_ib\"\n",
    "\n",
    "fibsem_utils.create_gif(path, search, gif_fname)"
   ]
  },
  {
   "cell_type": "code",
   "execution_count": null,
   "metadata": {},
   "outputs": [],
   "source": []
  }
 ],
 "metadata": {
  "kernelspec": {
   "display_name": "Python 3.9.12 ('liftout')",
   "language": "python",
   "name": "python3"
  },
  "language_info": {
   "codemirror_mode": {
    "name": "ipython",
    "version": 3
   },
   "file_extension": ".py",
   "mimetype": "text/x-python",
   "name": "python",
   "nbconvert_exporter": "python",
   "pygments_lexer": "ipython3",
   "version": "3.9.12"
  },
  "orig_nbformat": 4,
  "vscode": {
   "interpreter": {
    "hash": "5cb17a689ea48522a268bdcd61b0f399058cec9c1acbad013779623d1fd2c02a"
   }
  }
 },
 "nbformat": 4,
 "nbformat_minor": 2
}
