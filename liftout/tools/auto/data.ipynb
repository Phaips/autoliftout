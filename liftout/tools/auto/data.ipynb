{
 "cells": [
  {
   "cell_type": "code",
   "execution_count": 13,
   "metadata": {},
   "outputs": [
    {
     "name": "stdout",
     "output_type": "stream",
     "text": [
      "The autoreload extension is already loaded. To reload it, use:\n",
      "  %reload_ext autoreload\n",
      "1549\n"
     ]
    }
   ],
   "source": [
    "%load_ext autoreload\n",
    "%autoreload 2\n",
    "\n",
    "import glob\n",
    "import os\n",
    "\n",
    "\n",
    "path = r\"C:\\Users\\pcle0002\\Documents\\data\\autoliftout_data\"\n",
    "filenames = glob.glob(os.path.join(path, \"**/*.tif*\"), recursive=True)\n",
    "\n",
    "print(len(filenames))\n",
    "for i, fname in enumerate(filenames):\n",
    "    dest = os.path.join(path, f\"{i:05d}.tif\")\n",
    "    os.rename(fname, dest)"
   ]
  },
  {
   "cell_type": "code",
   "execution_count": null,
   "metadata": {},
   "outputs": [],
   "source": []
  }
 ],
 "metadata": {
  "kernelspec": {
   "display_name": "Python 3.9.12 ('autoliftout')",
   "language": "python",
   "name": "python3"
  },
  "language_info": {
   "codemirror_mode": {
    "name": "ipython",
    "version": 3
   },
   "file_extension": ".py",
   "mimetype": "text/x-python",
   "name": "python",
   "nbconvert_exporter": "python",
   "pygments_lexer": "ipython3",
   "version": "3.9.12"
  },
  "orig_nbformat": 4,
  "vscode": {
   "interpreter": {
    "hash": "0ae5a722a47a2a43262ee6d419b08874066f95ae58929cb636099b0410b63756"
   }
  }
 },
 "nbformat": 4,
 "nbformat_minor": 2
}
