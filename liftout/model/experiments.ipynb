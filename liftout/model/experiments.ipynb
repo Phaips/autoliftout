{
 "cells": [
  {
   "cell_type": "code",
   "execution_count": 1,
   "source": [
    "print(\"Hello World\")"
   ],
   "outputs": [
    {
     "output_type": "stream",
     "name": "stdout",
     "text": [
      "Hello World\n"
     ]
    }
   ],
   "metadata": {}
  },
  {
   "cell_type": "code",
   "execution_count": 3,
   "source": [
    "import glob\r\n",
    "import os\r\n",
    "\r\n",
    "from liftout.model.utils import *\r\n",
    "from liftout import model\r\n",
    "from liftout.detection.detection import *\r\n",
    "from liftout.detection.DetectionModel import *\r\n",
    "from liftout.detection.utils import *\r\n",
    "\r\n",
    "import matplotlib.pyplot as plt\r\n",
    "import numpy as np\r\n",
    "\r\n",
    "from PIL import Image\r\n",
    "from random import shuffle\r\n",
    "\r\n",
    "# print(os.path.dirname(model.__file__))\r\n",
    "\r\n",
    "model_path = os.path.dirname(model.__file__)\r\n",
    "model_filenames = glob.glob(\r\n",
    "    os.path.join(model_path, \"models\", \"*.pt\")\r\n",
    ")\r\n",
    "\r\n",
    "\r\n",
    "image_fnames = glob.glob(\r\n",
    "    os.path.join(model_path, \"data/data/train/raw/000001*.tif\")\r\n",
    ")\r\n",
    "\r\n",
    "shuffle(image_fnames)\r\n",
    "model_filenames = sorted([fname for fname in model_filenames if any(match in fname for match in [\"boost_n05\", \"n10\", \"baseline\"])])\r\n",
    "# any(x in a_string for x in matches)(\"boost\" in fname) or (\"n10\" in fname)])\r\n",
    "\r\n",
    "# there is a smarter way to do this (just order them correctly)\r\n",
    "model_filenames.insert(1, model_filenames[-2])\r\n",
    "model_filenames.insert(2, model_filenames[-1])\r\n",
    "model_filenames.pop()\r\n",
    "model_filenames.pop()\r\n",
    "model_filenames.pop()\r\n",
    "print(model_filenames)\r\n"
   ],
   "outputs": [
    {
     "output_type": "stream",
     "name": "stdout",
     "text": [
      "['\\\\\\\\ad.monash.edu\\\\home\\\\user007\\\\prcle2\\\\documents\\\\demarco\\\\autoliftout\\\\liftout\\\\model\\\\models\\\\baseline_model.pt', '\\\\\\\\ad.monash.edu\\\\home\\\\user007\\\\prcle2\\\\documents\\\\demarco\\\\autoliftout\\\\liftout\\\\model\\\\models\\\\fresh_full_n10.pt', '\\\\\\\\ad.monash.edu\\\\home\\\\user007\\\\prcle2\\\\documents\\\\demarco\\\\autoliftout\\\\liftout\\\\model\\\\models\\\\n10_model.pt', '\\\\\\\\ad.monash.edu\\\\home\\\\user007\\\\prcle2\\\\documents\\\\demarco\\\\autoliftout\\\\liftout\\\\model\\\\models\\\\boost_n05_model.pt']\n"
     ]
    }
   ],
   "metadata": {}
  },
  {
   "cell_type": "code",
   "execution_count": 4,
   "source": [
    "\r\n",
    "\r\n",
    "\r\n",
    "N_IMAGES = 20\r\n",
    "EXP_NAME = input(\"Enter a name for the experiment\")\r\n",
    "EXP_PATH = os.path.join(\"eval\", EXP_NAME)\r\n",
    "os.makedirs(\r\n",
    "    EXP_PATH, exist_ok=True)\r\n",
    "    \r\n",
    "image_fnames = image_fnames[:N_IMAGES]\r\n",
    "\r\n",
    "exp_array = None\r\n",
    "for weights_file in model_filenames:\r\n",
    "    # load detector\r\n",
    "    detector = Detector(weights_file=weights_file)\r\n",
    "    detector.detection_model.model.eval()\r\n",
    "\r\n",
    "    img_array = None\r\n",
    "\r\n",
    "    for fname in image_fnames:\r\n",
    "        # load image from file\r\n",
    "        img = load_image_from_file(fname)\r\n",
    "    \r\n",
    "        # model inference\r\n",
    "        mask = detector.detection_model.model_inference(img)\r\n",
    "\r\n",
    "        # individual detection modes\r\n",
    "        lamella_mask, lamella_idx = extract_class_pixels(mask, color=(255, 0, 0)) # red\r\n",
    "        needle_mask, needle_idx = extract_class_pixels(mask, color=(0, 255, 0)) # green\r\n",
    "\r\n",
    "        feature_1_px, lamella_centre_detection = detect_lamella_centre(img, mask) # lamella_centre\r\n",
    "        feature_2_px, needle_tip_detection = detect_needle_tip(img, mask)\r\n",
    "        feature_3_px, lamella_edge_detection = detect_lamella_edge(img, mask)\r\n",
    "\r\n",
    "        mask_combined = draw_two_features(mask, feature_1_px, feature_2_px)\r\n",
    "        img_blend = draw_overlay(img, mask_combined, show=False)\r\n",
    "        \r\n",
    "        if img_array is None:\r\n",
    "            img_array = np.array(img_blend)\r\n",
    "\r\n",
    "        else:\r\n",
    "            img_array = np.hstack((img_array, np.array(img_blend)))\r\n",
    "\r\n",
    "    print(f\"saving: {os.path.basename(weights_file)}\")\r\n",
    "    img_pil = Image.fromarray(img_array)\r\n",
    "    img_pil.save(os.path.join(EXP_PATH, f\"{os.path.basename(weights_file)}.png\"))\r\n",
    "\r\n",
    "    if exp_array is None:\r\n",
    "        exp_array = img_array\r\n",
    "    else:\r\n",
    "        exp_array = np.vstack((exp_array, img_array))\r\n",
    "\r\n",
    "exp_img_pil = Image.fromarray(exp_array)\r\n",
    "exp_img_pil.save(os.path.join(EXP_PATH,f\"experiment.png\"))\r\n",
    "print(\"Finished.\")"
   ],
   "outputs": [
    {
     "output_type": "stream",
     "name": "stdout",
     "text": [
      "saving: baseline_model.pt\n",
      "saving: fresh_full_n10.pt\n",
      "saving: n10_model.pt\n",
      "saving: boost_n05_model.pt\n",
      "Finished.\n"
     ]
    }
   ],
   "metadata": {}
  },
  {
   "cell_type": "code",
   "execution_count": null,
   "source": [],
   "outputs": [],
   "metadata": {}
  }
 ],
 "metadata": {
  "orig_nbformat": 4,
  "language_info": {
   "name": "python",
   "version": "3.8.5",
   "mimetype": "text/x-python",
   "codemirror_mode": {
    "name": "ipython",
    "version": 3
   },
   "pygments_lexer": "ipython3",
   "nbconvert_exporter": "python",
   "file_extension": ".py"
  },
  "kernelspec": {
   "name": "python3",
   "display_name": "Python 3.8.5 64-bit ('base': conda)"
  },
  "interpreter": {
   "hash": "9b33737b1f758ada5d3d8c5f057adce70040e01798d7d541457e265d7d82dbbb"
  }
 },
 "nbformat": 4,
 "nbformat_minor": 2
}