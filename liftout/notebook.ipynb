{
 "cells": [
  {
   "cell_type": "markdown",
   "metadata": {},
   "source": [
    "# Log Parser Notebook\n",
    "Exploratory notebook for testing out parsing the logs for workflow statistics\n"
   ]
  },
  {
   "cell_type": "code",
   "execution_count": 9,
   "metadata": {},
   "outputs": [],
   "source": [
    "import logging\n",
    "import datetime\n",
    "import time\n",
    "\n",
    "# TODO: better logs: https://www.toptal.com/python/in-depth-python-logging\n",
    "def configure_logging(save_path='', log_filename='logfile', log_level=logging.INFO):\n",
    "    \"\"\"Log to the terminal and to file simultaneously.\"\"\"\n",
    "    timestamp = datetime.datetime.fromtimestamp(time.time()).strftime(\n",
    "        '%Y%m%d.%H%M%S')  # datetime.now().strftime(\"_%Y-%m-%d_%H-%M-%S\")\n",
    "    logging.basicConfig(\n",
    "        format=\"%(asctime)s — %(name)s — %(levelname)s — %(funcName)s:%(lineno)d — %(message)s\", #\"%(asctime)s %(levelname)s %(message)s\",\n",
    "        level=log_level,\n",
    "        # Multiple handlers can be added to your logging configuration.\n",
    "        # By default log messages are appended to the file if it exists already\n",
    "        handlers=[\n",
    "            logging.FileHandler(save_path+'/'+log_filename+timestamp+'.log'),\n",
    "            logging.StreamHandler(),\n",
    "        ])\n",
    "    return save_path+'/'+log_filename+timestamp+'.log'\n",
    "\n",
    "\n",
    "import os\n",
    "log_path = configure_logging(os.path.join(os.getcwd(), \"log/run/123456.789\"))"
   ]
  },
  {
   "cell_type": "markdown",
   "metadata": {},
   "source": [
    "### Fake Log Generator"
   ]
  },
  {
   "cell_type": "code",
   "execution_count": 137,
   "metadata": {},
   "outputs": [
    {
     "name": "stderr",
     "output_type": "stream",
     "text": [
      "2021-10-26 16:46:27,318 — root — INFO — <module>:12 — ml_detection: lamella_centre: False\n",
      "2021-10-26 16:46:27,320 — root — INFO — <module>:19 — random other log message not with the same structure 0.66\n",
      "2021-10-26 16:46:27,320 — root — INFO — <module>:16 — gamma_correction: diff: 88.000: gam: 0.997 \n",
      "2021-10-26 16:46:27,321 — root — INFO — <module>:16 — gamma_correction: diff: 79.000: gam: 1.037 \n",
      "2021-10-26 16:46:27,322 — root — INFO — <module>:16 — gamma_correction: diff: 81.000: gam: 0.845 \n",
      "2021-10-26 16:46:27,323 — root — INFO — <module>:16 — gamma_correction: diff: 33.000: gam: 0.072 \n",
      "2021-10-26 16:46:27,323 — root — INFO — <module>:19 — random other log message not with the same structure 0.01\n",
      "2021-10-26 16:46:27,324 — root — INFO — <module>:19 — random other log message not with the same structure 0.97\n",
      "2021-10-26 16:46:27,325 — root — INFO — <module>:19 — random other log message not with the same structure 0.94\n",
      "2021-10-26 16:46:27,326 — root — INFO — <module>:19 — random other log message not with the same structure 0.33\n"
     ]
    }
   ],
   "source": [
    "import random\n",
    "\n",
    "supported_feature_types = [\"image_centre\", \"lamella_centre\", \"needle_tip\", \"lamella_edge\", \"landing_post\"]\n",
    "for i in range(10):\n",
    "\n",
    "\n",
    "    RANDOM_NUM = random.randint(0, 5)\n",
    "\n",
    "    if RANDOM_NUM > 4:\n",
    "        feature_type = random.choice(supported_feature_types)\n",
    "        response = random.choice([True, False])\n",
    "        logging.info(f\"ml_detection: {feature_type}: {response}\")\n",
    "    elif RANDOM_NUM > 3:\n",
    "        diff = random.randint(-120, 120)\n",
    "        gam = random.random() * 2.0\n",
    "        logging.info(f\"gamma_correction: diff: {diff:.3f}: gam: {gam:.3f} \")\n",
    "    \n",
    "    else:\n",
    "        logging.info(f\"random other log message not with the same structure {random.random():.2f}\")\n"
   ]
  },
  {
   "cell_type": "markdown",
   "metadata": {},
   "source": [
    "## Log Parser"
   ]
  },
  {
   "cell_type": "code",
   "execution_count": 138,
   "metadata": {},
   "outputs": [
    {
     "name": "stdout",
     "output_type": "stream",
     "text": [
      "{'image_centre': {'False': 0, 'True': 2},\n",
      " 'lamella_centre': {'False': 1, 'True': 2},\n",
      " 'lamella_edge': {'False': 0, 'True': 1},\n",
      " 'landing_post': {'False': 0, 'True': 1},\n",
      " 'needle_tip': {'False': 1, 'True': 2}}\n",
      "{'diff': [46.0,\n",
      "          110.0,\n",
      "          -34.0,\n",
      "          94.0,\n",
      "          43.0,\n",
      "          103.0,\n",
      "          107.0,\n",
      "          94.0,\n",
      "          -91.0,\n",
      "          88.0,\n",
      "          79.0,\n",
      "          81.0,\n",
      "          33.0],\n",
      " 'gamma': [1.474,\n",
      "           1.894,\n",
      "           0.218,\n",
      "           0.701,\n",
      "           1.203,\n",
      "           1.151,\n",
      "           1.292,\n",
      "           0.402,\n",
      "           0.786,\n",
      "           0.997,\n",
      "           1.037,\n",
      "           0.845,\n",
      "           0.072]}\n"
     ]
    }
   ],
   "source": [
    "score_dict = dict.fromkeys(supported_feature_types, {})\n",
    "\n",
    "for feature_type in score_dict.keys():\n",
    "    score_dict[feature_type] = {\"True\": 0, \"False\": 0}\n",
    "\n",
    "gamma_dict = {\"gamma\": [], \"diff\": []}\n",
    "\n",
    "\n",
    "# add a better logging identifier rather than doing this wierd parsing...\n",
    "\n",
    "with open(log_path) as f:\n",
    "    lines = f.read().splitlines()\n",
    "    for i, line in enumerate(lines):\n",
    "        msg = line.split(\"—\")[-1].strip()  # should just be the message # TODO: need to check the delimeter character...\n",
    "        res = msg.split(\":\")[0].strip()\n",
    "        \n",
    "        if res == \"ml_detection\":\n",
    "            key = msg.split(\":\")[1].strip()\n",
    "            val = msg.split(\":\")[-1].strip()\n",
    "\n",
    "            if key in score_dict.keys():\n",
    "                score_dict[key][val] +=1\n",
    "        if res == \"gamma_correction\":\n",
    "            gamma_dict[\"diff\"].append(float(msg.split(\":\")[2].strip()))\n",
    "            gamma_dict[\"gamma\"].append(float(msg.split(\":\")[4].strip()))\n",
    "\n",
    "from pprint import pprint\n",
    "pprint(score_dict)\n",
    "pprint(gamma_dict)\n"
   ]
  },
  {
   "cell_type": "markdown",
   "metadata": {},
   "source": [
    "## Machine Learning Evaluation"
   ]
  },
  {
   "cell_type": "code",
   "execution_count": 139,
   "metadata": {},
   "outputs": [
    {
     "data": {
      "text/plain": [
       "<AxesSubplot:title={'center':'Machine Learning Evaluation'}>"
      ]
     },
     "execution_count": 139,
     "metadata": {},
     "output_type": "execute_result"
    },
    {
     "data": {
      "image/png": "[encoded data removed]",
      "text/plain": [
       "<Figure size 432x288 with 1 Axes>"
      ]
     },
     "metadata": {
      "needs_background": "light"
     },
     "output_type": "display_data"
    }
   ],
   "source": [
    "# eval\n",
    "import pandas as pd\n",
    "\n",
    "df = pd.DataFrame(score_dict)\n",
    "\n",
    "# plotting\n",
    "df.T.plot.bar(title=\"Machine Learning Evaluation\")\n",
    "#### TODO: change df structure?\n",
    "# # feature_type #  success ###  ### count\n",
    "# would make it easier to analyse... "
   ]
  },
  {
   "cell_type": "code",
   "execution_count": null,
   "metadata": {},
   "outputs": [],
   "source": []
  },
  {
   "cell_type": "markdown",
   "metadata": {},
   "source": [
    "## Gamma Correction Evaluation\n",
    "evaluate the average gamma correction\n"
   ]
  },
  {
   "cell_type": "code",
   "execution_count": 140,
   "metadata": {},
   "outputs": [
    {
     "name": "stdout",
     "output_type": "stream",
     "text": [
      "    gamma   diff\n",
      "0   1.474   46.0\n",
      "1   1.894  110.0\n",
      "2   0.218  -34.0\n",
      "3   0.701   94.0\n",
      "4   1.203   43.0\n",
      "5   1.151  103.0\n",
      "6   1.292  107.0\n",
      "7   0.402   94.0\n",
      "8   0.786  -91.0\n",
      "9   0.997   88.0\n",
      "10  1.037   79.0\n",
      "11  0.845   81.0\n",
      "12  0.072   33.0\n"
     ]
    },
    {
     "data": {
      "text/plain": [
       "<AxesSubplot:title={'center':'Gamma Correction Distribution'}, ylabel='Frequency'>"
      ]
     },
     "execution_count": 140,
     "metadata": {},
     "output_type": "execute_result"
    },
    {
     "data": {
      "image/png": "[encoded data removed]",
      "text/plain": [
       "<Figure size 432x288 with 1 Axes>"
      ]
     },
     "metadata": {
      "needs_background": "light"
     },
     "output_type": "display_data"
    }
   ],
   "source": [
    "\n",
    "# pprint(gamma_dict)\n",
    "df_gamma = pd.DataFrame(gamma_dict)\n",
    "print(df_gamma)\n",
    "\n",
    "df_gamma[\"gamma\"].plot.hist(bins=5, alpha=0.5, title=\"Gamma Correction Distribution\")"
   ]
  },
  {
   "cell_type": "code",
   "execution_count": null,
   "metadata": {},
   "outputs": [],
   "source": []
  }
 ],
 "metadata": {
  "interpreter": {
   "hash": "80d3c5160377edce05faa4296a2895bfa812f63b1849e1d79e316b2e2d68124d"
  },
  "kernelspec": {
   "display_name": "Python 3.8.8 64-bit ('liftout': conda)",
   "name": "python3"
  },
  "language_info": {
   "codemirror_mode": {
    "name": "ipython",
    "version": 3
   },
   "file_extension": ".py",
   "mimetype": "text/x-python",
   "name": "python",
   "nbconvert_exporter": "python",
   "pygments_lexer": "ipython3",
   "version": "3.8.8"
  },
  "orig_nbformat": 4
 },
 "nbformat": 4,
 "nbformat_minor": 2
}
