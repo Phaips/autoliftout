{
 "cells": [
  {
   "cell_type": "code",
   "execution_count": 4,
   "metadata": {},
   "outputs": [],
   "source": [
    "import glob\n",
    "import os\n",
    "import PIL.Image\n",
    "\n",
    "\n",
    "\n",
    "filenames = sorted(glob.glob(\"*.tif\"))\n",
    "\n",
    "os.makedirs(\"png\", exist_ok=True)\n",
    "\n",
    "for fname in filenames:\n",
    "\n",
    "    im = PIL.Image.open(fname)\n",
    "    basename = os.path.basename(fname)\n",
    "    im.save(os.path.join(\"png\", basename.replace(\".tif\", \".png\")))"
   ]
  },
  {
   "cell_type": "code",
   "execution_count": null,
   "metadata": {},
   "outputs": [],
   "source": []
  }
 ],
 "metadata": {
  "kernelspec": {
   "display_name": "autoliftout",
   "language": "python",
   "name": "python3"
  },
  "language_info": {
   "codemirror_mode": {
    "name": "ipython",
    "version": 3
   },
   "file_extension": ".py",
   "mimetype": "text/x-python",
   "name": "python",
   "nbconvert_exporter": "python",
   "pygments_lexer": "ipython3",
   "version": "3.9.13"
  },
  "orig_nbformat": 4,
  "vscode": {
   "interpreter": {
    "hash": "ea78b76b2c840a5577de64ec81812954f7a3177bd4e73b9895b7933ce81940d2"
   }
  }
 },
 "nbformat": 4,
 "nbformat_minor": 2
}
